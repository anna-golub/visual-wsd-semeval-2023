{
  "nbformat": 4,
  "nbformat_minor": 0,
  "metadata": {
    "colab": {
      "provenance": [],
      "toc_visible": true
    },
    "kernelspec": {
      "name": "python3",
      "display_name": "Python 3"
    },
    "language_info": {
      "name": "python"
    }
  },
  "cells": [
    {
      "cell_type": "markdown",
      "source": [
        "# Read text data"
      ],
      "metadata": {
        "id": "4o_79sGcvQEf"
      }
    },
    {
      "cell_type": "code",
      "source": [
        "import pandas as pd"
      ],
      "metadata": {
        "id": "e2ncW5g3tNXZ"
      },
      "execution_count": null,
      "outputs": []
    },
    {
      "cell_type": "code",
      "source": [
        "train_df = pd.read_csv('/content/drive/MyDrive/UR/NLE Seminar/code/data/preprocessed/train_df.csv', \n",
        "                       sep='\\t', index_col=0)\n",
        "train_df.head()"
      ],
      "metadata": {
        "colab": {
          "base_uri": "https://localhost:8080/",
          "height": 357
        },
        "id": "dOnXXxEctjls",
        "outputId": "82131c7b-5538-4969-c45c-5854bfcd9402"
      },
      "execution_count": null,
      "outputs": [
        {
          "output_type": "execute_result",
          "data": {
            "text/plain": [
              "  target_word              phrase target_preprocessed context_preprocessed  \\\n",
              "0     moorhen    moorhen swamphen             moorhen             swamphen   \n",
              "1     serinus       serinus genus             serinus                genus   \n",
              "2   pegmatite   pegmatite igneous           pegmatite              igneous   \n",
              "3  bangalores  bangalores torpedo          bangalores              torpedo   \n",
              "4      bonxie         bonxie skua              bonxie                 skua   \n",
              "\n",
              "          img_0         img_1         img_2         img_3         img_4  \\\n",
              "0   image.3.jpg   image.8.jpg   image.4.jpg   image.1.jpg   image.2.jpg   \n",
              "1   image.3.jpg  image.23.jpg   image.4.jpg   image.1.jpg   image.2.jpg   \n",
              "2  image.41.jpg  image.39.jpg  image.42.jpg  image.43.jpg  image.40.jpg   \n",
              "3  image.58.jpg  image.59.jpg  image.64.jpg  image.57.jpg  image.55.jpg   \n",
              "4   image.3.jpg  image.77.jpg  image.78.jpg   image.4.jpg   image.1.jpg   \n",
              "\n",
              "          img_5         img_6         img_7         img_8         img_9  \\\n",
              "0   image.0.jpg   image.5.jpg   image.6.jpg   image.7.jpg   image.9.jpg   \n",
              "1  image.20.jpg   image.5.jpg  image.24.jpg  image.22.jpg  image.21.jpg   \n",
              "2  image.44.jpg  image.37.jpg  image.38.jpg  image.36.jpg  image.35.jpg   \n",
              "3  image.56.jpg  image.62.jpg  image.63.jpg  image.61.jpg  image.60.jpg   \n",
              "4   image.2.jpg   image.5.jpg  image.79.jpg  image.76.jpg  image.75.jpg   \n",
              "\n",
              "   non_eng  \n",
              "0        0  \n",
              "1        0  \n",
              "2        0  \n",
              "3        0  \n",
              "4        0  "
            ],
            "text/html": [
              "\n",
              "  <div id=\"df-e490f073-8053-46bd-a975-16a2eb12be80\">\n",
              "    <div class=\"colab-df-container\">\n",
              "      <div>\n",
              "<style scoped>\n",
              "    .dataframe tbody tr th:only-of-type {\n",
              "        vertical-align: middle;\n",
              "    }\n",
              "\n",
              "    .dataframe tbody tr th {\n",
              "        vertical-align: top;\n",
              "    }\n",
              "\n",
              "    .dataframe thead th {\n",
              "        text-align: right;\n",
              "    }\n",
              "</style>\n",
              "<table border=\"1\" class=\"dataframe\">\n",
              "  <thead>\n",
              "    <tr style=\"text-align: right;\">\n",
              "      <th></th>\n",
              "      <th>target_word</th>\n",
              "      <th>phrase</th>\n",
              "      <th>target_preprocessed</th>\n",
              "      <th>context_preprocessed</th>\n",
              "      <th>img_0</th>\n",
              "      <th>img_1</th>\n",
              "      <th>img_2</th>\n",
              "      <th>img_3</th>\n",
              "      <th>img_4</th>\n",
              "      <th>img_5</th>\n",
              "      <th>img_6</th>\n",
              "      <th>img_7</th>\n",
              "      <th>img_8</th>\n",
              "      <th>img_9</th>\n",
              "      <th>non_eng</th>\n",
              "    </tr>\n",
              "  </thead>\n",
              "  <tbody>\n",
              "    <tr>\n",
              "      <th>0</th>\n",
              "      <td>moorhen</td>\n",
              "      <td>moorhen swamphen</td>\n",
              "      <td>moorhen</td>\n",
              "      <td>swamphen</td>\n",
              "      <td>image.3.jpg</td>\n",
              "      <td>image.8.jpg</td>\n",
              "      <td>image.4.jpg</td>\n",
              "      <td>image.1.jpg</td>\n",
              "      <td>image.2.jpg</td>\n",
              "      <td>image.0.jpg</td>\n",
              "      <td>image.5.jpg</td>\n",
              "      <td>image.6.jpg</td>\n",
              "      <td>image.7.jpg</td>\n",
              "      <td>image.9.jpg</td>\n",
              "      <td>0</td>\n",
              "    </tr>\n",
              "    <tr>\n",
              "      <th>1</th>\n",
              "      <td>serinus</td>\n",
              "      <td>serinus genus</td>\n",
              "      <td>serinus</td>\n",
              "      <td>genus</td>\n",
              "      <td>image.3.jpg</td>\n",
              "      <td>image.23.jpg</td>\n",
              "      <td>image.4.jpg</td>\n",
              "      <td>image.1.jpg</td>\n",
              "      <td>image.2.jpg</td>\n",
              "      <td>image.20.jpg</td>\n",
              "      <td>image.5.jpg</td>\n",
              "      <td>image.24.jpg</td>\n",
              "      <td>image.22.jpg</td>\n",
              "      <td>image.21.jpg</td>\n",
              "      <td>0</td>\n",
              "    </tr>\n",
              "    <tr>\n",
              "      <th>2</th>\n",
              "      <td>pegmatite</td>\n",
              "      <td>pegmatite igneous</td>\n",
              "      <td>pegmatite</td>\n",
              "      <td>igneous</td>\n",
              "      <td>image.41.jpg</td>\n",
              "      <td>image.39.jpg</td>\n",
              "      <td>image.42.jpg</td>\n",
              "      <td>image.43.jpg</td>\n",
              "      <td>image.40.jpg</td>\n",
              "      <td>image.44.jpg</td>\n",
              "      <td>image.37.jpg</td>\n",
              "      <td>image.38.jpg</td>\n",
              "      <td>image.36.jpg</td>\n",
              "      <td>image.35.jpg</td>\n",
              "      <td>0</td>\n",
              "    </tr>\n",
              "    <tr>\n",
              "      <th>3</th>\n",
              "      <td>bangalores</td>\n",
              "      <td>bangalores torpedo</td>\n",
              "      <td>bangalores</td>\n",
              "      <td>torpedo</td>\n",
              "      <td>image.58.jpg</td>\n",
              "      <td>image.59.jpg</td>\n",
              "      <td>image.64.jpg</td>\n",
              "      <td>image.57.jpg</td>\n",
              "      <td>image.55.jpg</td>\n",
              "      <td>image.56.jpg</td>\n",
              "      <td>image.62.jpg</td>\n",
              "      <td>image.63.jpg</td>\n",
              "      <td>image.61.jpg</td>\n",
              "      <td>image.60.jpg</td>\n",
              "      <td>0</td>\n",
              "    </tr>\n",
              "    <tr>\n",
              "      <th>4</th>\n",
              "      <td>bonxie</td>\n",
              "      <td>bonxie skua</td>\n",
              "      <td>bonxie</td>\n",
              "      <td>skua</td>\n",
              "      <td>image.3.jpg</td>\n",
              "      <td>image.77.jpg</td>\n",
              "      <td>image.78.jpg</td>\n",
              "      <td>image.4.jpg</td>\n",
              "      <td>image.1.jpg</td>\n",
              "      <td>image.2.jpg</td>\n",
              "      <td>image.5.jpg</td>\n",
              "      <td>image.79.jpg</td>\n",
              "      <td>image.76.jpg</td>\n",
              "      <td>image.75.jpg</td>\n",
              "      <td>0</td>\n",
              "    </tr>\n",
              "  </tbody>\n",
              "</table>\n",
              "</div>\n",
              "      <button class=\"colab-df-convert\" onclick=\"convertToInteractive('df-e490f073-8053-46bd-a975-16a2eb12be80')\"\n",
              "              title=\"Convert this dataframe to an interactive table.\"\n",
              "              style=\"display:none;\">\n",
              "        \n",
              "  <svg xmlns=\"http://www.w3.org/2000/svg\" height=\"24px\"viewBox=\"0 0 24 24\"\n",
              "       width=\"24px\">\n",
              "    <path d=\"M0 0h24v24H0V0z\" fill=\"none\"/>\n",
              "    <path d=\"M18.56 5.44l.94 2.06.94-2.06 2.06-.94-2.06-.94-.94-2.06-.94 2.06-2.06.94zm-11 1L8.5 8.5l.94-2.06 2.06-.94-2.06-.94L8.5 2.5l-.94 2.06-2.06.94zm10 10l.94 2.06.94-2.06 2.06-.94-2.06-.94-.94-2.06-.94 2.06-2.06.94z\"/><path d=\"M17.41 7.96l-1.37-1.37c-.4-.4-.92-.59-1.43-.59-.52 0-1.04.2-1.43.59L10.3 9.45l-7.72 7.72c-.78.78-.78 2.05 0 2.83L4 21.41c.39.39.9.59 1.41.59.51 0 1.02-.2 1.41-.59l7.78-7.78 2.81-2.81c.8-.78.8-2.07 0-2.86zM5.41 20L4 18.59l7.72-7.72 1.47 1.35L5.41 20z\"/>\n",
              "  </svg>\n",
              "      </button>\n",
              "      \n",
              "  <style>\n",
              "    .colab-df-container {\n",
              "      display:flex;\n",
              "      flex-wrap:wrap;\n",
              "      gap: 12px;\n",
              "    }\n",
              "\n",
              "    .colab-df-convert {\n",
              "      background-color: #E8F0FE;\n",
              "      border: none;\n",
              "      border-radius: 50%;\n",
              "      cursor: pointer;\n",
              "      display: none;\n",
              "      fill: #1967D2;\n",
              "      height: 32px;\n",
              "      padding: 0 0 0 0;\n",
              "      width: 32px;\n",
              "    }\n",
              "\n",
              "    .colab-df-convert:hover {\n",
              "      background-color: #E2EBFA;\n",
              "      box-shadow: 0px 1px 2px rgba(60, 64, 67, 0.3), 0px 1px 3px 1px rgba(60, 64, 67, 0.15);\n",
              "      fill: #174EA6;\n",
              "    }\n",
              "\n",
              "    [theme=dark] .colab-df-convert {\n",
              "      background-color: #3B4455;\n",
              "      fill: #D2E3FC;\n",
              "    }\n",
              "\n",
              "    [theme=dark] .colab-df-convert:hover {\n",
              "      background-color: #434B5C;\n",
              "      box-shadow: 0px 1px 3px 1px rgba(0, 0, 0, 0.15);\n",
              "      filter: drop-shadow(0px 1px 2px rgba(0, 0, 0, 0.3));\n",
              "      fill: #FFFFFF;\n",
              "    }\n",
              "  </style>\n",
              "\n",
              "      <script>\n",
              "        const buttonEl =\n",
              "          document.querySelector('#df-e490f073-8053-46bd-a975-16a2eb12be80 button.colab-df-convert');\n",
              "        buttonEl.style.display =\n",
              "          google.colab.kernel.accessAllowed ? 'block' : 'none';\n",
              "\n",
              "        async function convertToInteractive(key) {\n",
              "          const element = document.querySelector('#df-e490f073-8053-46bd-a975-16a2eb12be80');\n",
              "          const dataTable =\n",
              "            await google.colab.kernel.invokeFunction('convertToInteractive',\n",
              "                                                     [key], {});\n",
              "          if (!dataTable) return;\n",
              "\n",
              "          const docLinkHtml = 'Like what you see? Visit the ' +\n",
              "            '<a target=\"_blank\" href=https://colab.research.google.com/notebooks/data_table.ipynb>data table notebook</a>'\n",
              "            + ' to learn more about interactive tables.';\n",
              "          element.innerHTML = '';\n",
              "          dataTable['output_type'] = 'display_data';\n",
              "          await google.colab.output.renderOutput(dataTable, element);\n",
              "          const docLink = document.createElement('div');\n",
              "          docLink.innerHTML = docLinkHtml;\n",
              "          element.appendChild(docLink);\n",
              "        }\n",
              "      </script>\n",
              "    </div>\n",
              "  </div>\n",
              "  "
            ]
          },
          "metadata": {},
          "execution_count": 2
        }
      ]
    },
    {
      "cell_type": "code",
      "source": [
        "train_df.shape"
      ],
      "metadata": {
        "colab": {
          "base_uri": "https://localhost:8080/"
        },
        "id": "f8wEpEVSut1l",
        "outputId": "f2119f1d-9721-4c64-e452-0c8f8131d7e6"
      },
      "execution_count": null,
      "outputs": [
        {
          "output_type": "execute_result",
          "data": {
            "text/plain": [
              "(12869, 15)"
            ]
          },
          "metadata": {},
          "execution_count": 6
        }
      ]
    },
    {
      "cell_type": "markdown",
      "source": [
        "How long are the phrases? ***--- two words except for one case***"
      ],
      "metadata": {
        "id": "Q3S7FowjvWc1"
      }
    },
    {
      "cell_type": "code",
      "source": [
        "train_df['phrase_length'] = train_df['phrase'].apply(lambda x: len(x.split()))\n",
        "train_df['phrase_length'].mean()"
      ],
      "metadata": {
        "colab": {
          "base_uri": "https://localhost:8080/"
        },
        "id": "3lBvET8BvaaH",
        "outputId": "7965b99c-f6e7-4d31-e1d6-f5f7ed6702f7"
      },
      "execution_count": null,
      "outputs": [
        {
          "output_type": "execute_result",
          "data": {
            "text/plain": [
              "2.000077706115471"
            ]
          },
          "metadata": {},
          "execution_count": 20
        }
      ]
    },
    {
      "cell_type": "code",
      "source": [
        "train_df['phrase_length'].min(), train_df['phrase_length'].max()"
      ],
      "metadata": {
        "colab": {
          "base_uri": "https://localhost:8080/"
        },
        "id": "7RuY16nKv71z",
        "outputId": "b86ab686-d53a-4c33-e863-5727dba32ab8"
      },
      "execution_count": null,
      "outputs": [
        {
          "output_type": "execute_result",
          "data": {
            "text/plain": [
              "(2, 3)"
            ]
          },
          "metadata": {},
          "execution_count": 22
        }
      ]
    },
    {
      "cell_type": "code",
      "source": [
        "train_df[train_df['phrase_length'] == 3]"
      ],
      "metadata": {
        "colab": {
          "base_uri": "https://localhost:8080/",
          "height": 197
        },
        "id": "9cg6bXg9wATu",
        "outputId": "0e60fea8-14e8-4bc0-f20f-3996d40829ac"
      },
      "execution_count": null,
      "outputs": [
        {
          "output_type": "execute_result",
          "data": {
            "text/plain": [
              "         target_word                phrase        img_0        img_1  \\\n",
              "3829  areca-nut palm  areca-nut palm areca  image.3.jpg  image.4.jpg   \n",
              "\n",
              "            img_2        img_3           img_4           img_5        img_6  \\\n",
              "3829  image.1.jpg  image.2.jpg  image.6372.jpg  image.5869.jpg  image.5.jpg   \n",
              "\n",
              "               img_7           img_8            img_9        img_truth  \\\n",
              "3829  image.5634.jpg  image.1501.jpg  image.10807.jpg  image.10807.jpg   \n",
              "\n",
              "      phrase_length  \n",
              "3829              3  "
            ],
            "text/html": [
              "\n",
              "  <div id=\"df-f2e85733-8179-483c-af87-f1c4c7f40fb9\">\n",
              "    <div class=\"colab-df-container\">\n",
              "      <div>\n",
              "<style scoped>\n",
              "    .dataframe tbody tr th:only-of-type {\n",
              "        vertical-align: middle;\n",
              "    }\n",
              "\n",
              "    .dataframe tbody tr th {\n",
              "        vertical-align: top;\n",
              "    }\n",
              "\n",
              "    .dataframe thead th {\n",
              "        text-align: right;\n",
              "    }\n",
              "</style>\n",
              "<table border=\"1\" class=\"dataframe\">\n",
              "  <thead>\n",
              "    <tr style=\"text-align: right;\">\n",
              "      <th></th>\n",
              "      <th>target_word</th>\n",
              "      <th>phrase</th>\n",
              "      <th>img_0</th>\n",
              "      <th>img_1</th>\n",
              "      <th>img_2</th>\n",
              "      <th>img_3</th>\n",
              "      <th>img_4</th>\n",
              "      <th>img_5</th>\n",
              "      <th>img_6</th>\n",
              "      <th>img_7</th>\n",
              "      <th>img_8</th>\n",
              "      <th>img_9</th>\n",
              "      <th>img_truth</th>\n",
              "      <th>phrase_length</th>\n",
              "    </tr>\n",
              "  </thead>\n",
              "  <tbody>\n",
              "    <tr>\n",
              "      <th>3829</th>\n",
              "      <td>areca-nut palm</td>\n",
              "      <td>areca-nut palm areca</td>\n",
              "      <td>image.3.jpg</td>\n",
              "      <td>image.4.jpg</td>\n",
              "      <td>image.1.jpg</td>\n",
              "      <td>image.2.jpg</td>\n",
              "      <td>image.6372.jpg</td>\n",
              "      <td>image.5869.jpg</td>\n",
              "      <td>image.5.jpg</td>\n",
              "      <td>image.5634.jpg</td>\n",
              "      <td>image.1501.jpg</td>\n",
              "      <td>image.10807.jpg</td>\n",
              "      <td>image.10807.jpg</td>\n",
              "      <td>3</td>\n",
              "    </tr>\n",
              "  </tbody>\n",
              "</table>\n",
              "</div>\n",
              "      <button class=\"colab-df-convert\" onclick=\"convertToInteractive('df-f2e85733-8179-483c-af87-f1c4c7f40fb9')\"\n",
              "              title=\"Convert this dataframe to an interactive table.\"\n",
              "              style=\"display:none;\">\n",
              "        \n",
              "  <svg xmlns=\"http://www.w3.org/2000/svg\" height=\"24px\"viewBox=\"0 0 24 24\"\n",
              "       width=\"24px\">\n",
              "    <path d=\"M0 0h24v24H0V0z\" fill=\"none\"/>\n",
              "    <path d=\"M18.56 5.44l.94 2.06.94-2.06 2.06-.94-2.06-.94-.94-2.06-.94 2.06-2.06.94zm-11 1L8.5 8.5l.94-2.06 2.06-.94-2.06-.94L8.5 2.5l-.94 2.06-2.06.94zm10 10l.94 2.06.94-2.06 2.06-.94-2.06-.94-.94-2.06-.94 2.06-2.06.94z\"/><path d=\"M17.41 7.96l-1.37-1.37c-.4-.4-.92-.59-1.43-.59-.52 0-1.04.2-1.43.59L10.3 9.45l-7.72 7.72c-.78.78-.78 2.05 0 2.83L4 21.41c.39.39.9.59 1.41.59.51 0 1.02-.2 1.41-.59l7.78-7.78 2.81-2.81c.8-.78.8-2.07 0-2.86zM5.41 20L4 18.59l7.72-7.72 1.47 1.35L5.41 20z\"/>\n",
              "  </svg>\n",
              "      </button>\n",
              "      \n",
              "  <style>\n",
              "    .colab-df-container {\n",
              "      display:flex;\n",
              "      flex-wrap:wrap;\n",
              "      gap: 12px;\n",
              "    }\n",
              "\n",
              "    .colab-df-convert {\n",
              "      background-color: #E8F0FE;\n",
              "      border: none;\n",
              "      border-radius: 50%;\n",
              "      cursor: pointer;\n",
              "      display: none;\n",
              "      fill: #1967D2;\n",
              "      height: 32px;\n",
              "      padding: 0 0 0 0;\n",
              "      width: 32px;\n",
              "    }\n",
              "\n",
              "    .colab-df-convert:hover {\n",
              "      background-color: #E2EBFA;\n",
              "      box-shadow: 0px 1px 2px rgba(60, 64, 67, 0.3), 0px 1px 3px 1px rgba(60, 64, 67, 0.15);\n",
              "      fill: #174EA6;\n",
              "    }\n",
              "\n",
              "    [theme=dark] .colab-df-convert {\n",
              "      background-color: #3B4455;\n",
              "      fill: #D2E3FC;\n",
              "    }\n",
              "\n",
              "    [theme=dark] .colab-df-convert:hover {\n",
              "      background-color: #434B5C;\n",
              "      box-shadow: 0px 1px 3px 1px rgba(0, 0, 0, 0.15);\n",
              "      filter: drop-shadow(0px 1px 2px rgba(0, 0, 0, 0.3));\n",
              "      fill: #FFFFFF;\n",
              "    }\n",
              "  </style>\n",
              "\n",
              "      <script>\n",
              "        const buttonEl =\n",
              "          document.querySelector('#df-f2e85733-8179-483c-af87-f1c4c7f40fb9 button.colab-df-convert');\n",
              "        buttonEl.style.display =\n",
              "          google.colab.kernel.accessAllowed ? 'block' : 'none';\n",
              "\n",
              "        async function convertToInteractive(key) {\n",
              "          const element = document.querySelector('#df-f2e85733-8179-483c-af87-f1c4c7f40fb9');\n",
              "          const dataTable =\n",
              "            await google.colab.kernel.invokeFunction('convertToInteractive',\n",
              "                                                     [key], {});\n",
              "          if (!dataTable) return;\n",
              "\n",
              "          const docLinkHtml = 'Like what you see? Visit the ' +\n",
              "            '<a target=\"_blank\" href=https://colab.research.google.com/notebooks/data_table.ipynb>data table notebook</a>'\n",
              "            + ' to learn more about interactive tables.';\n",
              "          element.innerHTML = '';\n",
              "          dataTable['output_type'] = 'display_data';\n",
              "          await google.colab.output.renderOutput(dataTable, element);\n",
              "          const docLink = document.createElement('div');\n",
              "          docLink.innerHTML = docLinkHtml;\n",
              "          element.appendChild(docLink);\n",
              "        }\n",
              "      </script>\n",
              "    </div>\n",
              "  </div>\n",
              "  "
            ]
          },
          "metadata": {},
          "execution_count": 23
        }
      ]
    },
    {
      "cell_type": "markdown",
      "source": [
        "# Wikipedia summaries\n",
        "\n",
        "To enrich the text data, let's add a description to each phrase. As descriptions we will use snippets from Wikipedia articles"
      ],
      "metadata": {
        "id": "8UfGOFWK0HMO"
      }
    },
    {
      "cell_type": "markdown",
      "source": [
        "## Algorithm\n",
        "\n",
        "* search for target phrase with `wikipedia.search`\n",
        "* set the first result as `wiki_title`\n",
        "* get summary of the article by this title with `wikipedia.summary`\n",
        "\n",
        "* if there are no search results or summary request failed, do the same for context phrase instead of target\n",
        "* save wiki title source (target / context)\n"
      ],
      "metadata": {
        "id": "VZqtHprQKUJb"
      }
    },
    {
      "cell_type": "code",
      "source": [
        "def get_wiki_title(s):\n",
        "  query_results = wikipedia.search(s)\n",
        "  if query_results:\n",
        "    return query_results[0]\n",
        "  return None"
      ],
      "metadata": {
        "id": "Zs0pUx8JK4gt"
      },
      "execution_count": null,
      "outputs": []
    },
    {
      "cell_type": "code",
      "source": [
        "def get_wiki_summary(s):\n",
        "  try:\n",
        "    return wikipedia.summary(s)\n",
        "  except:\n",
        "    return None"
      ],
      "metadata": {
        "id": "SP6gxDeyLLmK"
      },
      "execution_count": null,
      "outputs": []
    },
    {
      "cell_type": "code",
      "source": [
        "import numpy as np"
      ],
      "metadata": {
        "id": "tkDddBHWG_y-"
      },
      "execution_count": null,
      "outputs": []
    },
    {
      "cell_type": "code",
      "source": [
        "def get_summary_col(row):\n",
        "  target = row['target_preprocessed']\n",
        "  context = row['context_preprocessed']\n",
        "\n",
        "  wiki_title = get_wiki_title(target)\n",
        "  if wiki_title is not None:\n",
        "    summary = get_wiki_summary(wiki_title)\n",
        "    if summary is not None:\n",
        "      return 'target', wiki_title, summary\n",
        "\n",
        "  wiki_title = get_wiki_title(context)\n",
        "  if wiki_title is not None:\n",
        "    summary = get_wiki_summary(wiki_title)\n",
        "    if summary is not None:\n",
        "      return 'context', wiki_title, summary\n",
        "\n",
        "  return np.nan, np.nan, np.nan"
      ],
      "metadata": {
        "id": "vu4Yi9njLcD6"
      },
      "execution_count": null,
      "outputs": []
    },
    {
      "cell_type": "markdown",
      "source": [
        "## Get summaries for training data"
      ],
      "metadata": {
        "id": "sZ5yZZ9_3vka"
      }
    },
    {
      "cell_type": "code",
      "source": [
        "train_df['wiki_summary'] = train_df.progress_apply(get_summary_col, axis=1)"
      ],
      "metadata": {
        "colab": {
          "base_uri": "https://localhost:8080/"
        },
        "id": "BxftDdpBMOHL",
        "outputId": "97d27dbe-3032-4a7c-9fc9-9d38357ede5d"
      },
      "execution_count": null,
      "outputs": [
        {
          "output_type": "stream",
          "name": "stderr",
          "text": [
            "100%|██████████| 12869/12869 [2:57:26<00:00,  1.21it/s]\n"
          ]
        }
      ]
    },
    {
      "cell_type": "markdown",
      "source": [
        "Separate columns"
      ],
      "metadata": {
        "id": "cdGKWcgE31xB"
      }
    },
    {
      "cell_type": "code",
      "source": [
        "train_df['summary_source'] = train_df['wiki_summary'].apply(\n",
        "    lambda x: x[0]\n",
        ")\n",
        "train_df['wiki_title'] = train_df['wiki_summary'].apply(\n",
        "    lambda x: x[1]\n",
        ")\n",
        "train_df['summary_content'] = train_df['wiki_summary'].apply(\n",
        "    lambda x: x[2]\n",
        ")"
      ],
      "metadata": {
        "id": "tX1AZnzD28OW"
      },
      "execution_count": null,
      "outputs": []
    },
    {
      "cell_type": "code",
      "source": [
        "train_df = train_df.drop('wiki_summary', axis=1)"
      ],
      "metadata": {
        "id": "dG7IzgoD3Woe"
      },
      "execution_count": null,
      "outputs": []
    },
    {
      "cell_type": "code",
      "source": [
        "train_df.head()"
      ],
      "metadata": {
        "colab": {
          "base_uri": "https://localhost:8080/",
          "height": 496
        },
        "id": "nTejY6Ok25gK",
        "outputId": "5de9bd11-e693-439b-e112-5d342eed88c6"
      },
      "execution_count": null,
      "outputs": [
        {
          "output_type": "execute_result",
          "data": {
            "text/plain": [
              "  target_word              phrase target_preprocessed context_preprocessed  \\\n",
              "0     moorhen    moorhen swamphen             moorhen             swamphen   \n",
              "1     serinus       serinus genus             serinus                genus   \n",
              "2   pegmatite   pegmatite igneous           pegmatite              igneous   \n",
              "3  bangalores  bangalores torpedo          bangalores              torpedo   \n",
              "4      bonxie         bonxie skua              bonxie                 skua   \n",
              "\n",
              "          img_0         img_1         img_2         img_3         img_4  \\\n",
              "0   image.3.jpg   image.8.jpg   image.4.jpg   image.1.jpg   image.2.jpg   \n",
              "1   image.3.jpg  image.23.jpg   image.4.jpg   image.1.jpg   image.2.jpg   \n",
              "2  image.41.jpg  image.39.jpg  image.42.jpg  image.43.jpg  image.40.jpg   \n",
              "3  image.58.jpg  image.59.jpg  image.64.jpg  image.57.jpg  image.55.jpg   \n",
              "4   image.3.jpg  image.77.jpg  image.78.jpg   image.4.jpg   image.1.jpg   \n",
              "\n",
              "          img_5         img_6         img_7         img_8         img_9  \\\n",
              "0   image.0.jpg   image.5.jpg   image.6.jpg   image.7.jpg   image.9.jpg   \n",
              "1  image.20.jpg   image.5.jpg  image.24.jpg  image.22.jpg  image.21.jpg   \n",
              "2  image.44.jpg  image.37.jpg  image.38.jpg  image.36.jpg  image.35.jpg   \n",
              "3  image.56.jpg  image.62.jpg  image.63.jpg  image.61.jpg  image.60.jpg   \n",
              "4   image.2.jpg   image.5.jpg  image.79.jpg  image.76.jpg  image.75.jpg   \n",
              "\n",
              "   non_eng summary_source         wiki_title  \\\n",
              "0        0         target            Moorhen   \n",
              "1        0         target            Serinus   \n",
              "2        0         target          Pegmatite   \n",
              "3        0         target  Bangalore torpedo   \n",
              "4        0         target         Great skua   \n",
              "\n",
              "                                     summary_content  \n",
              "0  Moorhens—sometimes called marsh hens—are mediu...  \n",
              "1  Serinus is a genus of small birds in the finch...  \n",
              "2  A pegmatite is an igneous rock showing a very ...  \n",
              "3  A Bangalore torpedo is an explosive charge pla...  \n",
              "4  The great skua (Stercorarius skua), sometimes ...  "
            ],
            "text/html": [
              "\n",
              "  <div id=\"df-9664eafc-71dd-4244-9a21-dae462d98c40\">\n",
              "    <div class=\"colab-df-container\">\n",
              "      <div>\n",
              "<style scoped>\n",
              "    .dataframe tbody tr th:only-of-type {\n",
              "        vertical-align: middle;\n",
              "    }\n",
              "\n",
              "    .dataframe tbody tr th {\n",
              "        vertical-align: top;\n",
              "    }\n",
              "\n",
              "    .dataframe thead th {\n",
              "        text-align: right;\n",
              "    }\n",
              "</style>\n",
              "<table border=\"1\" class=\"dataframe\">\n",
              "  <thead>\n",
              "    <tr style=\"text-align: right;\">\n",
              "      <th></th>\n",
              "      <th>target_word</th>\n",
              "      <th>phrase</th>\n",
              "      <th>target_preprocessed</th>\n",
              "      <th>context_preprocessed</th>\n",
              "      <th>img_0</th>\n",
              "      <th>img_1</th>\n",
              "      <th>img_2</th>\n",
              "      <th>img_3</th>\n",
              "      <th>img_4</th>\n",
              "      <th>img_5</th>\n",
              "      <th>img_6</th>\n",
              "      <th>img_7</th>\n",
              "      <th>img_8</th>\n",
              "      <th>img_9</th>\n",
              "      <th>non_eng</th>\n",
              "      <th>summary_source</th>\n",
              "      <th>wiki_title</th>\n",
              "      <th>summary_content</th>\n",
              "    </tr>\n",
              "  </thead>\n",
              "  <tbody>\n",
              "    <tr>\n",
              "      <th>0</th>\n",
              "      <td>moorhen</td>\n",
              "      <td>moorhen swamphen</td>\n",
              "      <td>moorhen</td>\n",
              "      <td>swamphen</td>\n",
              "      <td>image.3.jpg</td>\n",
              "      <td>image.8.jpg</td>\n",
              "      <td>image.4.jpg</td>\n",
              "      <td>image.1.jpg</td>\n",
              "      <td>image.2.jpg</td>\n",
              "      <td>image.0.jpg</td>\n",
              "      <td>image.5.jpg</td>\n",
              "      <td>image.6.jpg</td>\n",
              "      <td>image.7.jpg</td>\n",
              "      <td>image.9.jpg</td>\n",
              "      <td>0</td>\n",
              "      <td>target</td>\n",
              "      <td>Moorhen</td>\n",
              "      <td>Moorhens—sometimes called marsh hens—are mediu...</td>\n",
              "    </tr>\n",
              "    <tr>\n",
              "      <th>1</th>\n",
              "      <td>serinus</td>\n",
              "      <td>serinus genus</td>\n",
              "      <td>serinus</td>\n",
              "      <td>genus</td>\n",
              "      <td>image.3.jpg</td>\n",
              "      <td>image.23.jpg</td>\n",
              "      <td>image.4.jpg</td>\n",
              "      <td>image.1.jpg</td>\n",
              "      <td>image.2.jpg</td>\n",
              "      <td>image.20.jpg</td>\n",
              "      <td>image.5.jpg</td>\n",
              "      <td>image.24.jpg</td>\n",
              "      <td>image.22.jpg</td>\n",
              "      <td>image.21.jpg</td>\n",
              "      <td>0</td>\n",
              "      <td>target</td>\n",
              "      <td>Serinus</td>\n",
              "      <td>Serinus is a genus of small birds in the finch...</td>\n",
              "    </tr>\n",
              "    <tr>\n",
              "      <th>2</th>\n",
              "      <td>pegmatite</td>\n",
              "      <td>pegmatite igneous</td>\n",
              "      <td>pegmatite</td>\n",
              "      <td>igneous</td>\n",
              "      <td>image.41.jpg</td>\n",
              "      <td>image.39.jpg</td>\n",
              "      <td>image.42.jpg</td>\n",
              "      <td>image.43.jpg</td>\n",
              "      <td>image.40.jpg</td>\n",
              "      <td>image.44.jpg</td>\n",
              "      <td>image.37.jpg</td>\n",
              "      <td>image.38.jpg</td>\n",
              "      <td>image.36.jpg</td>\n",
              "      <td>image.35.jpg</td>\n",
              "      <td>0</td>\n",
              "      <td>target</td>\n",
              "      <td>Pegmatite</td>\n",
              "      <td>A pegmatite is an igneous rock showing a very ...</td>\n",
              "    </tr>\n",
              "    <tr>\n",
              "      <th>3</th>\n",
              "      <td>bangalores</td>\n",
              "      <td>bangalores torpedo</td>\n",
              "      <td>bangalores</td>\n",
              "      <td>torpedo</td>\n",
              "      <td>image.58.jpg</td>\n",
              "      <td>image.59.jpg</td>\n",
              "      <td>image.64.jpg</td>\n",
              "      <td>image.57.jpg</td>\n",
              "      <td>image.55.jpg</td>\n",
              "      <td>image.56.jpg</td>\n",
              "      <td>image.62.jpg</td>\n",
              "      <td>image.63.jpg</td>\n",
              "      <td>image.61.jpg</td>\n",
              "      <td>image.60.jpg</td>\n",
              "      <td>0</td>\n",
              "      <td>target</td>\n",
              "      <td>Bangalore torpedo</td>\n",
              "      <td>A Bangalore torpedo is an explosive charge pla...</td>\n",
              "    </tr>\n",
              "    <tr>\n",
              "      <th>4</th>\n",
              "      <td>bonxie</td>\n",
              "      <td>bonxie skua</td>\n",
              "      <td>bonxie</td>\n",
              "      <td>skua</td>\n",
              "      <td>image.3.jpg</td>\n",
              "      <td>image.77.jpg</td>\n",
              "      <td>image.78.jpg</td>\n",
              "      <td>image.4.jpg</td>\n",
              "      <td>image.1.jpg</td>\n",
              "      <td>image.2.jpg</td>\n",
              "      <td>image.5.jpg</td>\n",
              "      <td>image.79.jpg</td>\n",
              "      <td>image.76.jpg</td>\n",
              "      <td>image.75.jpg</td>\n",
              "      <td>0</td>\n",
              "      <td>target</td>\n",
              "      <td>Great skua</td>\n",
              "      <td>The great skua (Stercorarius skua), sometimes ...</td>\n",
              "    </tr>\n",
              "  </tbody>\n",
              "</table>\n",
              "</div>\n",
              "      <button class=\"colab-df-convert\" onclick=\"convertToInteractive('df-9664eafc-71dd-4244-9a21-dae462d98c40')\"\n",
              "              title=\"Convert this dataframe to an interactive table.\"\n",
              "              style=\"display:none;\">\n",
              "        \n",
              "  <svg xmlns=\"http://www.w3.org/2000/svg\" height=\"24px\"viewBox=\"0 0 24 24\"\n",
              "       width=\"24px\">\n",
              "    <path d=\"M0 0h24v24H0V0z\" fill=\"none\"/>\n",
              "    <path d=\"M18.56 5.44l.94 2.06.94-2.06 2.06-.94-2.06-.94-.94-2.06-.94 2.06-2.06.94zm-11 1L8.5 8.5l.94-2.06 2.06-.94-2.06-.94L8.5 2.5l-.94 2.06-2.06.94zm10 10l.94 2.06.94-2.06 2.06-.94-2.06-.94-.94-2.06-.94 2.06-2.06.94z\"/><path d=\"M17.41 7.96l-1.37-1.37c-.4-.4-.92-.59-1.43-.59-.52 0-1.04.2-1.43.59L10.3 9.45l-7.72 7.72c-.78.78-.78 2.05 0 2.83L4 21.41c.39.39.9.59 1.41.59.51 0 1.02-.2 1.41-.59l7.78-7.78 2.81-2.81c.8-.78.8-2.07 0-2.86zM5.41 20L4 18.59l7.72-7.72 1.47 1.35L5.41 20z\"/>\n",
              "  </svg>\n",
              "      </button>\n",
              "      \n",
              "  <style>\n",
              "    .colab-df-container {\n",
              "      display:flex;\n",
              "      flex-wrap:wrap;\n",
              "      gap: 12px;\n",
              "    }\n",
              "\n",
              "    .colab-df-convert {\n",
              "      background-color: #E8F0FE;\n",
              "      border: none;\n",
              "      border-radius: 50%;\n",
              "      cursor: pointer;\n",
              "      display: none;\n",
              "      fill: #1967D2;\n",
              "      height: 32px;\n",
              "      padding: 0 0 0 0;\n",
              "      width: 32px;\n",
              "    }\n",
              "\n",
              "    .colab-df-convert:hover {\n",
              "      background-color: #E2EBFA;\n",
              "      box-shadow: 0px 1px 2px rgba(60, 64, 67, 0.3), 0px 1px 3px 1px rgba(60, 64, 67, 0.15);\n",
              "      fill: #174EA6;\n",
              "    }\n",
              "\n",
              "    [theme=dark] .colab-df-convert {\n",
              "      background-color: #3B4455;\n",
              "      fill: #D2E3FC;\n",
              "    }\n",
              "\n",
              "    [theme=dark] .colab-df-convert:hover {\n",
              "      background-color: #434B5C;\n",
              "      box-shadow: 0px 1px 3px 1px rgba(0, 0, 0, 0.15);\n",
              "      filter: drop-shadow(0px 1px 2px rgba(0, 0, 0, 0.3));\n",
              "      fill: #FFFFFF;\n",
              "    }\n",
              "  </style>\n",
              "\n",
              "      <script>\n",
              "        const buttonEl =\n",
              "          document.querySelector('#df-9664eafc-71dd-4244-9a21-dae462d98c40 button.colab-df-convert');\n",
              "        buttonEl.style.display =\n",
              "          google.colab.kernel.accessAllowed ? 'block' : 'none';\n",
              "\n",
              "        async function convertToInteractive(key) {\n",
              "          const element = document.querySelector('#df-9664eafc-71dd-4244-9a21-dae462d98c40');\n",
              "          const dataTable =\n",
              "            await google.colab.kernel.invokeFunction('convertToInteractive',\n",
              "                                                     [key], {});\n",
              "          if (!dataTable) return;\n",
              "\n",
              "          const docLinkHtml = 'Like what you see? Visit the ' +\n",
              "            '<a target=\"_blank\" href=https://colab.research.google.com/notebooks/data_table.ipynb>data table notebook</a>'\n",
              "            + ' to learn more about interactive tables.';\n",
              "          element.innerHTML = '';\n",
              "          dataTable['output_type'] = 'display_data';\n",
              "          await google.colab.output.renderOutput(dataTable, element);\n",
              "          const docLink = document.createElement('div');\n",
              "          docLink.innerHTML = docLinkHtml;\n",
              "          element.appendChild(docLink);\n",
              "        }\n",
              "      </script>\n",
              "    </div>\n",
              "  </div>\n",
              "  "
            ]
          },
          "metadata": {},
          "execution_count": 23
        }
      ]
    },
    {
      "cell_type": "markdown",
      "source": [
        "1254 cases require manual preprocessing\n",
        "* wiki article does not exist\n",
        "* or phrase needs disambiguation"
      ],
      "metadata": {
        "id": "BzFChHDn35X2"
      }
    },
    {
      "cell_type": "code",
      "source": [
        "train_df['summary_source'].value_counts(dropna=False)"
      ],
      "metadata": {
        "colab": {
          "base_uri": "https://localhost:8080/"
        },
        "id": "hBGIv7J-NLWe",
        "outputId": "66a7346e-8b35-4eb3-e81b-bc99f9d29f74"
      },
      "execution_count": null,
      "outputs": [
        {
          "output_type": "execute_result",
          "data": {
            "text/plain": [
              "target     9935\n",
              "context    1680\n",
              "NaN        1254\n",
              "Name: summary_source, dtype: int64"
            ]
          },
          "metadata": {},
          "execution_count": 26
        }
      ]
    },
    {
      "cell_type": "markdown",
      "source": [
        "## Assign tasks for manual processing"
      ],
      "metadata": {
        "id": "CnSQ87DQ-Kpw"
      }
    },
    {
      "cell_type": "code",
      "source": [
        "train_df = pd.read_csv('train_df_8.csv', sep='\\t', index_col=0)\n",
        "train_df.head()"
      ],
      "metadata": {
        "colab": {
          "base_uri": "https://localhost:8080/",
          "height": 496
        },
        "id": "N3vg4cxh_Xbo",
        "outputId": "d27b5817-e75c-463f-95d0-7b4762007154"
      },
      "execution_count": null,
      "outputs": [
        {
          "output_type": "execute_result",
          "data": {
            "text/plain": [
              "  target_word              phrase target_preprocessed context_preprocessed  \\\n",
              "0     moorhen    moorhen swamphen             moorhen             swamphen   \n",
              "1     serinus       serinus genus             serinus                genus   \n",
              "2   pegmatite   pegmatite igneous           pegmatite              igneous   \n",
              "3  bangalores  bangalores torpedo          bangalores              torpedo   \n",
              "4      bonxie         bonxie skua              bonxie                 skua   \n",
              "\n",
              "          img_0         img_1         img_2         img_3         img_4  \\\n",
              "0   image.3.jpg   image.8.jpg   image.4.jpg   image.1.jpg   image.2.jpg   \n",
              "1   image.3.jpg  image.23.jpg   image.4.jpg   image.1.jpg   image.2.jpg   \n",
              "2  image.41.jpg  image.39.jpg  image.42.jpg  image.43.jpg  image.40.jpg   \n",
              "3  image.58.jpg  image.59.jpg  image.64.jpg  image.57.jpg  image.55.jpg   \n",
              "4   image.3.jpg  image.77.jpg  image.78.jpg   image.4.jpg   image.1.jpg   \n",
              "\n",
              "          img_5         img_6         img_7         img_8         img_9  \\\n",
              "0   image.0.jpg   image.5.jpg   image.6.jpg   image.7.jpg   image.9.jpg   \n",
              "1  image.20.jpg   image.5.jpg  image.24.jpg  image.22.jpg  image.21.jpg   \n",
              "2  image.44.jpg  image.37.jpg  image.38.jpg  image.36.jpg  image.35.jpg   \n",
              "3  image.56.jpg  image.62.jpg  image.63.jpg  image.61.jpg  image.60.jpg   \n",
              "4   image.2.jpg   image.5.jpg  image.79.jpg  image.76.jpg  image.75.jpg   \n",
              "\n",
              "   non_eng summary_source         wiki_title  \\\n",
              "0        0         target            Moorhen   \n",
              "1        0         target            Serinus   \n",
              "2        0         target          Pegmatite   \n",
              "3        0         target  Bangalore torpedo   \n",
              "4        0         target         Great skua   \n",
              "\n",
              "                                     summary_content  \n",
              "0  Moorhens—sometimes called marsh hens—are mediu...  \n",
              "1  Serinus is a genus of small birds in the finch...  \n",
              "2  A pegmatite is an igneous rock showing a very ...  \n",
              "3  A Bangalore torpedo is an explosive charge pla...  \n",
              "4  The great skua (Stercorarius skua), sometimes ...  "
            ],
            "text/html": [
              "\n",
              "  <div id=\"df-b0aaaf40-e32c-4c6a-b3e5-fe141a87db15\">\n",
              "    <div class=\"colab-df-container\">\n",
              "      <div>\n",
              "<style scoped>\n",
              "    .dataframe tbody tr th:only-of-type {\n",
              "        vertical-align: middle;\n",
              "    }\n",
              "\n",
              "    .dataframe tbody tr th {\n",
              "        vertical-align: top;\n",
              "    }\n",
              "\n",
              "    .dataframe thead th {\n",
              "        text-align: right;\n",
              "    }\n",
              "</style>\n",
              "<table border=\"1\" class=\"dataframe\">\n",
              "  <thead>\n",
              "    <tr style=\"text-align: right;\">\n",
              "      <th></th>\n",
              "      <th>target_word</th>\n",
              "      <th>phrase</th>\n",
              "      <th>target_preprocessed</th>\n",
              "      <th>context_preprocessed</th>\n",
              "      <th>img_0</th>\n",
              "      <th>img_1</th>\n",
              "      <th>img_2</th>\n",
              "      <th>img_3</th>\n",
              "      <th>img_4</th>\n",
              "      <th>img_5</th>\n",
              "      <th>img_6</th>\n",
              "      <th>img_7</th>\n",
              "      <th>img_8</th>\n",
              "      <th>img_9</th>\n",
              "      <th>non_eng</th>\n",
              "      <th>summary_source</th>\n",
              "      <th>wiki_title</th>\n",
              "      <th>summary_content</th>\n",
              "    </tr>\n",
              "  </thead>\n",
              "  <tbody>\n",
              "    <tr>\n",
              "      <th>0</th>\n",
              "      <td>moorhen</td>\n",
              "      <td>moorhen swamphen</td>\n",
              "      <td>moorhen</td>\n",
              "      <td>swamphen</td>\n",
              "      <td>image.3.jpg</td>\n",
              "      <td>image.8.jpg</td>\n",
              "      <td>image.4.jpg</td>\n",
              "      <td>image.1.jpg</td>\n",
              "      <td>image.2.jpg</td>\n",
              "      <td>image.0.jpg</td>\n",
              "      <td>image.5.jpg</td>\n",
              "      <td>image.6.jpg</td>\n",
              "      <td>image.7.jpg</td>\n",
              "      <td>image.9.jpg</td>\n",
              "      <td>0</td>\n",
              "      <td>target</td>\n",
              "      <td>Moorhen</td>\n",
              "      <td>Moorhens—sometimes called marsh hens—are mediu...</td>\n",
              "    </tr>\n",
              "    <tr>\n",
              "      <th>1</th>\n",
              "      <td>serinus</td>\n",
              "      <td>serinus genus</td>\n",
              "      <td>serinus</td>\n",
              "      <td>genus</td>\n",
              "      <td>image.3.jpg</td>\n",
              "      <td>image.23.jpg</td>\n",
              "      <td>image.4.jpg</td>\n",
              "      <td>image.1.jpg</td>\n",
              "      <td>image.2.jpg</td>\n",
              "      <td>image.20.jpg</td>\n",
              "      <td>image.5.jpg</td>\n",
              "      <td>image.24.jpg</td>\n",
              "      <td>image.22.jpg</td>\n",
              "      <td>image.21.jpg</td>\n",
              "      <td>0</td>\n",
              "      <td>target</td>\n",
              "      <td>Serinus</td>\n",
              "      <td>Serinus is a genus of small birds in the finch...</td>\n",
              "    </tr>\n",
              "    <tr>\n",
              "      <th>2</th>\n",
              "      <td>pegmatite</td>\n",
              "      <td>pegmatite igneous</td>\n",
              "      <td>pegmatite</td>\n",
              "      <td>igneous</td>\n",
              "      <td>image.41.jpg</td>\n",
              "      <td>image.39.jpg</td>\n",
              "      <td>image.42.jpg</td>\n",
              "      <td>image.43.jpg</td>\n",
              "      <td>image.40.jpg</td>\n",
              "      <td>image.44.jpg</td>\n",
              "      <td>image.37.jpg</td>\n",
              "      <td>image.38.jpg</td>\n",
              "      <td>image.36.jpg</td>\n",
              "      <td>image.35.jpg</td>\n",
              "      <td>0</td>\n",
              "      <td>target</td>\n",
              "      <td>Pegmatite</td>\n",
              "      <td>A pegmatite is an igneous rock showing a very ...</td>\n",
              "    </tr>\n",
              "    <tr>\n",
              "      <th>3</th>\n",
              "      <td>bangalores</td>\n",
              "      <td>bangalores torpedo</td>\n",
              "      <td>bangalores</td>\n",
              "      <td>torpedo</td>\n",
              "      <td>image.58.jpg</td>\n",
              "      <td>image.59.jpg</td>\n",
              "      <td>image.64.jpg</td>\n",
              "      <td>image.57.jpg</td>\n",
              "      <td>image.55.jpg</td>\n",
              "      <td>image.56.jpg</td>\n",
              "      <td>image.62.jpg</td>\n",
              "      <td>image.63.jpg</td>\n",
              "      <td>image.61.jpg</td>\n",
              "      <td>image.60.jpg</td>\n",
              "      <td>0</td>\n",
              "      <td>target</td>\n",
              "      <td>Bangalore torpedo</td>\n",
              "      <td>A Bangalore torpedo is an explosive charge pla...</td>\n",
              "    </tr>\n",
              "    <tr>\n",
              "      <th>4</th>\n",
              "      <td>bonxie</td>\n",
              "      <td>bonxie skua</td>\n",
              "      <td>bonxie</td>\n",
              "      <td>skua</td>\n",
              "      <td>image.3.jpg</td>\n",
              "      <td>image.77.jpg</td>\n",
              "      <td>image.78.jpg</td>\n",
              "      <td>image.4.jpg</td>\n",
              "      <td>image.1.jpg</td>\n",
              "      <td>image.2.jpg</td>\n",
              "      <td>image.5.jpg</td>\n",
              "      <td>image.79.jpg</td>\n",
              "      <td>image.76.jpg</td>\n",
              "      <td>image.75.jpg</td>\n",
              "      <td>0</td>\n",
              "      <td>target</td>\n",
              "      <td>Great skua</td>\n",
              "      <td>The great skua (Stercorarius skua), sometimes ...</td>\n",
              "    </tr>\n",
              "  </tbody>\n",
              "</table>\n",
              "</div>\n",
              "      <button class=\"colab-df-convert\" onclick=\"convertToInteractive('df-b0aaaf40-e32c-4c6a-b3e5-fe141a87db15')\"\n",
              "              title=\"Convert this dataframe to an interactive table.\"\n",
              "              style=\"display:none;\">\n",
              "        \n",
              "  <svg xmlns=\"http://www.w3.org/2000/svg\" height=\"24px\"viewBox=\"0 0 24 24\"\n",
              "       width=\"24px\">\n",
              "    <path d=\"M0 0h24v24H0V0z\" fill=\"none\"/>\n",
              "    <path d=\"M18.56 5.44l.94 2.06.94-2.06 2.06-.94-2.06-.94-.94-2.06-.94 2.06-2.06.94zm-11 1L8.5 8.5l.94-2.06 2.06-.94-2.06-.94L8.5 2.5l-.94 2.06-2.06.94zm10 10l.94 2.06.94-2.06 2.06-.94-2.06-.94-.94-2.06-.94 2.06-2.06.94z\"/><path d=\"M17.41 7.96l-1.37-1.37c-.4-.4-.92-.59-1.43-.59-.52 0-1.04.2-1.43.59L10.3 9.45l-7.72 7.72c-.78.78-.78 2.05 0 2.83L4 21.41c.39.39.9.59 1.41.59.51 0 1.02-.2 1.41-.59l7.78-7.78 2.81-2.81c.8-.78.8-2.07 0-2.86zM5.41 20L4 18.59l7.72-7.72 1.47 1.35L5.41 20z\"/>\n",
              "  </svg>\n",
              "      </button>\n",
              "      \n",
              "  <style>\n",
              "    .colab-df-container {\n",
              "      display:flex;\n",
              "      flex-wrap:wrap;\n",
              "      gap: 12px;\n",
              "    }\n",
              "\n",
              "    .colab-df-convert {\n",
              "      background-color: #E8F0FE;\n",
              "      border: none;\n",
              "      border-radius: 50%;\n",
              "      cursor: pointer;\n",
              "      display: none;\n",
              "      fill: #1967D2;\n",
              "      height: 32px;\n",
              "      padding: 0 0 0 0;\n",
              "      width: 32px;\n",
              "    }\n",
              "\n",
              "    .colab-df-convert:hover {\n",
              "      background-color: #E2EBFA;\n",
              "      box-shadow: 0px 1px 2px rgba(60, 64, 67, 0.3), 0px 1px 3px 1px rgba(60, 64, 67, 0.15);\n",
              "      fill: #174EA6;\n",
              "    }\n",
              "\n",
              "    [theme=dark] .colab-df-convert {\n",
              "      background-color: #3B4455;\n",
              "      fill: #D2E3FC;\n",
              "    }\n",
              "\n",
              "    [theme=dark] .colab-df-convert:hover {\n",
              "      background-color: #434B5C;\n",
              "      box-shadow: 0px 1px 3px 1px rgba(0, 0, 0, 0.15);\n",
              "      filter: drop-shadow(0px 1px 2px rgba(0, 0, 0, 0.3));\n",
              "      fill: #FFFFFF;\n",
              "    }\n",
              "  </style>\n",
              "\n",
              "      <script>\n",
              "        const buttonEl =\n",
              "          document.querySelector('#df-b0aaaf40-e32c-4c6a-b3e5-fe141a87db15 button.colab-df-convert');\n",
              "        buttonEl.style.display =\n",
              "          google.colab.kernel.accessAllowed ? 'block' : 'none';\n",
              "\n",
              "        async function convertToInteractive(key) {\n",
              "          const element = document.querySelector('#df-b0aaaf40-e32c-4c6a-b3e5-fe141a87db15');\n",
              "          const dataTable =\n",
              "            await google.colab.kernel.invokeFunction('convertToInteractive',\n",
              "                                                     [key], {});\n",
              "          if (!dataTable) return;\n",
              "\n",
              "          const docLinkHtml = 'Like what you see? Visit the ' +\n",
              "            '<a target=\"_blank\" href=https://colab.research.google.com/notebooks/data_table.ipynb>data table notebook</a>'\n",
              "            + ' to learn more about interactive tables.';\n",
              "          element.innerHTML = '';\n",
              "          dataTable['output_type'] = 'display_data';\n",
              "          await google.colab.output.renderOutput(dataTable, element);\n",
              "          const docLink = document.createElement('div');\n",
              "          docLink.innerHTML = docLinkHtml;\n",
              "          element.appendChild(docLink);\n",
              "        }\n",
              "      </script>\n",
              "    </div>\n",
              "  </div>\n",
              "  "
            ]
          },
          "metadata": {},
          "execution_count": 3
        }
      ]
    },
    {
      "cell_type": "code",
      "source": [
        "summary_source_tasks = train_df['summary_source'].to_list()\n",
        "assignee = 'Andreas'\n",
        "counter = 0\n",
        "\n",
        "for ind, row in train_df.iterrows():\n",
        "  if not pd.isna(row['summary_source']):\n",
        "    continue\n",
        "  summary_source_tasks[ind] = assignee\n",
        "  counter += 1\n",
        "  if counter == 1254 // 2:\n",
        "    assignee = 'Kyuhee'\n",
        "\n",
        "train_df['summary_source_tasks'] = pd.Series(summary_source_tasks)\n",
        "train_df['summary_source_tasks'].value_counts()"
      ],
      "metadata": {
        "colab": {
          "base_uri": "https://localhost:8080/"
        },
        "id": "pb6-lVUF-Prd",
        "outputId": "4292794b-da2d-4631-d68a-4f8ac42a4593"
      },
      "execution_count": null,
      "outputs": [
        {
          "output_type": "execute_result",
          "data": {
            "text/plain": [
              "target     9935\n",
              "context    1680\n",
              "Andreas     627\n",
              "Kyuhee      627\n",
              "Name: summary_source_tasks, dtype: int64"
            ]
          },
          "metadata": {},
          "execution_count": 5
        }
      ]
    },
    {
      "cell_type": "code",
      "source": [
        "train_df.to_csv('train_df_9.csv', sep='\\t')"
      ],
      "metadata": {
        "id": "6LWdMDDouiA0"
      },
      "execution_count": null,
      "outputs": []
    },
    {
      "cell_type": "markdown",
      "source": [
        "## Read table with manually added summaries"
      ],
      "metadata": {
        "id": "MBuT3Fzh_DDL"
      }
    },
    {
      "cell_type": "code",
      "source": [
        "train_df = pd.read_csv('/content/Wikipedia summaries - DataFrame.csv')\n",
        "train_df = train_df.rename(columns={'target_word': 'target_original', 'target_word.1': 'target_word'})\n",
        "train_df.head()"
      ],
      "metadata": {
        "colab": {
          "base_uri": "https://localhost:8080/",
          "height": 496
        },
        "id": "lss7_uB-_HcC",
        "outputId": "bb9eaddb-08a3-42ba-c942-7a707464850d"
      },
      "execution_count": null,
      "outputs": [
        {
          "output_type": "execute_result",
          "data": {
            "text/plain": [
              "  target_original              phrase target_word context_word         img_0  \\\n",
              "0         moorhen    moorhen swamphen     moorhen     swamphen   image.3.jpg   \n",
              "1         serinus       serinus genus     serinus        genus   image.3.jpg   \n",
              "2       pegmatite   pegmatite igneous   pegmatite      igneous  image.41.jpg   \n",
              "3      bangalores  bangalores torpedo  bangalores      torpedo  image.58.jpg   \n",
              "4          bonxie         bonxie skua      bonxie         skua   image.3.jpg   \n",
              "\n",
              "          img_1         img_2         img_3         img_4         img_5  \\\n",
              "0   image.8.jpg   image.4.jpg   image.1.jpg   image.2.jpg   image.0.jpg   \n",
              "1  image.23.jpg   image.4.jpg   image.1.jpg   image.2.jpg  image.20.jpg   \n",
              "2  image.39.jpg  image.42.jpg  image.43.jpg  image.40.jpg  image.44.jpg   \n",
              "3  image.59.jpg  image.64.jpg  image.57.jpg  image.55.jpg  image.56.jpg   \n",
              "4  image.77.jpg  image.78.jpg   image.4.jpg   image.1.jpg   image.2.jpg   \n",
              "\n",
              "          img_6         img_7         img_8         img_9  non_eng  \\\n",
              "0   image.5.jpg   image.6.jpg   image.7.jpg   image.9.jpg        0   \n",
              "1   image.5.jpg  image.24.jpg  image.22.jpg  image.21.jpg        0   \n",
              "2  image.37.jpg  image.38.jpg  image.36.jpg  image.35.jpg        0   \n",
              "3  image.62.jpg  image.63.jpg  image.61.jpg  image.60.jpg        0   \n",
              "4   image.5.jpg  image.79.jpg  image.76.jpg  image.75.jpg        0   \n",
              "\n",
              "  summary_source     summary_phrase  \\\n",
              "0         target            Moorhen   \n",
              "1         target            Serinus   \n",
              "2         target          Pegmatite   \n",
              "3         target  Bangalore torpedo   \n",
              "4         target         Great skua   \n",
              "\n",
              "                                     summary_content summary_link notes  \n",
              "0  Moorhens—sometimes called marsh hens—are mediu...          NaN   NaN  \n",
              "1  Serinus is a genus of small birds in the finch...          NaN   NaN  \n",
              "2  A pegmatite is an igneous rock showing a very ...          NaN   NaN  \n",
              "3  A Bangalore torpedo is an explosive charge pla...          NaN   NaN  \n",
              "4  The great skua (Stercorarius skua), sometimes ...          NaN   NaN  "
            ],
            "text/html": [
              "\n",
              "  <div id=\"df-479c24ce-eadb-4558-82f9-74d53d4406dc\">\n",
              "    <div class=\"colab-df-container\">\n",
              "      <div>\n",
              "<style scoped>\n",
              "    .dataframe tbody tr th:only-of-type {\n",
              "        vertical-align: middle;\n",
              "    }\n",
              "\n",
              "    .dataframe tbody tr th {\n",
              "        vertical-align: top;\n",
              "    }\n",
              "\n",
              "    .dataframe thead th {\n",
              "        text-align: right;\n",
              "    }\n",
              "</style>\n",
              "<table border=\"1\" class=\"dataframe\">\n",
              "  <thead>\n",
              "    <tr style=\"text-align: right;\">\n",
              "      <th></th>\n",
              "      <th>target_original</th>\n",
              "      <th>phrase</th>\n",
              "      <th>target_word</th>\n",
              "      <th>context_word</th>\n",
              "      <th>img_0</th>\n",
              "      <th>img_1</th>\n",
              "      <th>img_2</th>\n",
              "      <th>img_3</th>\n",
              "      <th>img_4</th>\n",
              "      <th>img_5</th>\n",
              "      <th>img_6</th>\n",
              "      <th>img_7</th>\n",
              "      <th>img_8</th>\n",
              "      <th>img_9</th>\n",
              "      <th>non_eng</th>\n",
              "      <th>summary_source</th>\n",
              "      <th>summary_phrase</th>\n",
              "      <th>summary_content</th>\n",
              "      <th>summary_link</th>\n",
              "      <th>notes</th>\n",
              "    </tr>\n",
              "  </thead>\n",
              "  <tbody>\n",
              "    <tr>\n",
              "      <th>0</th>\n",
              "      <td>moorhen</td>\n",
              "      <td>moorhen swamphen</td>\n",
              "      <td>moorhen</td>\n",
              "      <td>swamphen</td>\n",
              "      <td>image.3.jpg</td>\n",
              "      <td>image.8.jpg</td>\n",
              "      <td>image.4.jpg</td>\n",
              "      <td>image.1.jpg</td>\n",
              "      <td>image.2.jpg</td>\n",
              "      <td>image.0.jpg</td>\n",
              "      <td>image.5.jpg</td>\n",
              "      <td>image.6.jpg</td>\n",
              "      <td>image.7.jpg</td>\n",
              "      <td>image.9.jpg</td>\n",
              "      <td>0</td>\n",
              "      <td>target</td>\n",
              "      <td>Moorhen</td>\n",
              "      <td>Moorhens—sometimes called marsh hens—are mediu...</td>\n",
              "      <td>NaN</td>\n",
              "      <td>NaN</td>\n",
              "    </tr>\n",
              "    <tr>\n",
              "      <th>1</th>\n",
              "      <td>serinus</td>\n",
              "      <td>serinus genus</td>\n",
              "      <td>serinus</td>\n",
              "      <td>genus</td>\n",
              "      <td>image.3.jpg</td>\n",
              "      <td>image.23.jpg</td>\n",
              "      <td>image.4.jpg</td>\n",
              "      <td>image.1.jpg</td>\n",
              "      <td>image.2.jpg</td>\n",
              "      <td>image.20.jpg</td>\n",
              "      <td>image.5.jpg</td>\n",
              "      <td>image.24.jpg</td>\n",
              "      <td>image.22.jpg</td>\n",
              "      <td>image.21.jpg</td>\n",
              "      <td>0</td>\n",
              "      <td>target</td>\n",
              "      <td>Serinus</td>\n",
              "      <td>Serinus is a genus of small birds in the finch...</td>\n",
              "      <td>NaN</td>\n",
              "      <td>NaN</td>\n",
              "    </tr>\n",
              "    <tr>\n",
              "      <th>2</th>\n",
              "      <td>pegmatite</td>\n",
              "      <td>pegmatite igneous</td>\n",
              "      <td>pegmatite</td>\n",
              "      <td>igneous</td>\n",
              "      <td>image.41.jpg</td>\n",
              "      <td>image.39.jpg</td>\n",
              "      <td>image.42.jpg</td>\n",
              "      <td>image.43.jpg</td>\n",
              "      <td>image.40.jpg</td>\n",
              "      <td>image.44.jpg</td>\n",
              "      <td>image.37.jpg</td>\n",
              "      <td>image.38.jpg</td>\n",
              "      <td>image.36.jpg</td>\n",
              "      <td>image.35.jpg</td>\n",
              "      <td>0</td>\n",
              "      <td>target</td>\n",
              "      <td>Pegmatite</td>\n",
              "      <td>A pegmatite is an igneous rock showing a very ...</td>\n",
              "      <td>NaN</td>\n",
              "      <td>NaN</td>\n",
              "    </tr>\n",
              "    <tr>\n",
              "      <th>3</th>\n",
              "      <td>bangalores</td>\n",
              "      <td>bangalores torpedo</td>\n",
              "      <td>bangalores</td>\n",
              "      <td>torpedo</td>\n",
              "      <td>image.58.jpg</td>\n",
              "      <td>image.59.jpg</td>\n",
              "      <td>image.64.jpg</td>\n",
              "      <td>image.57.jpg</td>\n",
              "      <td>image.55.jpg</td>\n",
              "      <td>image.56.jpg</td>\n",
              "      <td>image.62.jpg</td>\n",
              "      <td>image.63.jpg</td>\n",
              "      <td>image.61.jpg</td>\n",
              "      <td>image.60.jpg</td>\n",
              "      <td>0</td>\n",
              "      <td>target</td>\n",
              "      <td>Bangalore torpedo</td>\n",
              "      <td>A Bangalore torpedo is an explosive charge pla...</td>\n",
              "      <td>NaN</td>\n",
              "      <td>NaN</td>\n",
              "    </tr>\n",
              "    <tr>\n",
              "      <th>4</th>\n",
              "      <td>bonxie</td>\n",
              "      <td>bonxie skua</td>\n",
              "      <td>bonxie</td>\n",
              "      <td>skua</td>\n",
              "      <td>image.3.jpg</td>\n",
              "      <td>image.77.jpg</td>\n",
              "      <td>image.78.jpg</td>\n",
              "      <td>image.4.jpg</td>\n",
              "      <td>image.1.jpg</td>\n",
              "      <td>image.2.jpg</td>\n",
              "      <td>image.5.jpg</td>\n",
              "      <td>image.79.jpg</td>\n",
              "      <td>image.76.jpg</td>\n",
              "      <td>image.75.jpg</td>\n",
              "      <td>0</td>\n",
              "      <td>target</td>\n",
              "      <td>Great skua</td>\n",
              "      <td>The great skua (Stercorarius skua), sometimes ...</td>\n",
              "      <td>NaN</td>\n",
              "      <td>NaN</td>\n",
              "    </tr>\n",
              "  </tbody>\n",
              "</table>\n",
              "</div>\n",
              "      <button class=\"colab-df-convert\" onclick=\"convertToInteractive('df-479c24ce-eadb-4558-82f9-74d53d4406dc')\"\n",
              "              title=\"Convert this dataframe to an interactive table.\"\n",
              "              style=\"display:none;\">\n",
              "        \n",
              "  <svg xmlns=\"http://www.w3.org/2000/svg\" height=\"24px\"viewBox=\"0 0 24 24\"\n",
              "       width=\"24px\">\n",
              "    <path d=\"M0 0h24v24H0V0z\" fill=\"none\"/>\n",
              "    <path d=\"M18.56 5.44l.94 2.06.94-2.06 2.06-.94-2.06-.94-.94-2.06-.94 2.06-2.06.94zm-11 1L8.5 8.5l.94-2.06 2.06-.94-2.06-.94L8.5 2.5l-.94 2.06-2.06.94zm10 10l.94 2.06.94-2.06 2.06-.94-2.06-.94-.94-2.06-.94 2.06-2.06.94z\"/><path d=\"M17.41 7.96l-1.37-1.37c-.4-.4-.92-.59-1.43-.59-.52 0-1.04.2-1.43.59L10.3 9.45l-7.72 7.72c-.78.78-.78 2.05 0 2.83L4 21.41c.39.39.9.59 1.41.59.51 0 1.02-.2 1.41-.59l7.78-7.78 2.81-2.81c.8-.78.8-2.07 0-2.86zM5.41 20L4 18.59l7.72-7.72 1.47 1.35L5.41 20z\"/>\n",
              "  </svg>\n",
              "      </button>\n",
              "      \n",
              "  <style>\n",
              "    .colab-df-container {\n",
              "      display:flex;\n",
              "      flex-wrap:wrap;\n",
              "      gap: 12px;\n",
              "    }\n",
              "\n",
              "    .colab-df-convert {\n",
              "      background-color: #E8F0FE;\n",
              "      border: none;\n",
              "      border-radius: 50%;\n",
              "      cursor: pointer;\n",
              "      display: none;\n",
              "      fill: #1967D2;\n",
              "      height: 32px;\n",
              "      padding: 0 0 0 0;\n",
              "      width: 32px;\n",
              "    }\n",
              "\n",
              "    .colab-df-convert:hover {\n",
              "      background-color: #E2EBFA;\n",
              "      box-shadow: 0px 1px 2px rgba(60, 64, 67, 0.3), 0px 1px 3px 1px rgba(60, 64, 67, 0.15);\n",
              "      fill: #174EA6;\n",
              "    }\n",
              "\n",
              "    [theme=dark] .colab-df-convert {\n",
              "      background-color: #3B4455;\n",
              "      fill: #D2E3FC;\n",
              "    }\n",
              "\n",
              "    [theme=dark] .colab-df-convert:hover {\n",
              "      background-color: #434B5C;\n",
              "      box-shadow: 0px 1px 3px 1px rgba(0, 0, 0, 0.15);\n",
              "      filter: drop-shadow(0px 1px 2px rgba(0, 0, 0, 0.3));\n",
              "      fill: #FFFFFF;\n",
              "    }\n",
              "  </style>\n",
              "\n",
              "      <script>\n",
              "        const buttonEl =\n",
              "          document.querySelector('#df-479c24ce-eadb-4558-82f9-74d53d4406dc button.colab-df-convert');\n",
              "        buttonEl.style.display =\n",
              "          google.colab.kernel.accessAllowed ? 'block' : 'none';\n",
              "\n",
              "        async function convertToInteractive(key) {\n",
              "          const element = document.querySelector('#df-479c24ce-eadb-4558-82f9-74d53d4406dc');\n",
              "          const dataTable =\n",
              "            await google.colab.kernel.invokeFunction('convertToInteractive',\n",
              "                                                     [key], {});\n",
              "          if (!dataTable) return;\n",
              "\n",
              "          const docLinkHtml = 'Like what you see? Visit the ' +\n",
              "            '<a target=\"_blank\" href=https://colab.research.google.com/notebooks/data_table.ipynb>data table notebook</a>'\n",
              "            + ' to learn more about interactive tables.';\n",
              "          element.innerHTML = '';\n",
              "          dataTable['output_type'] = 'display_data';\n",
              "          await google.colab.output.renderOutput(dataTable, element);\n",
              "          const docLink = document.createElement('div');\n",
              "          docLink.innerHTML = docLinkHtml;\n",
              "          element.appendChild(docLink);\n",
              "        }\n",
              "      </script>\n",
              "    </div>\n",
              "  </div>\n",
              "  "
            ]
          },
          "metadata": {},
          "execution_count": 5
        }
      ]
    },
    {
      "cell_type": "code",
      "source": [
        "train_df.shape"
      ],
      "metadata": {
        "colab": {
          "base_uri": "https://localhost:8080/"
        },
        "id": "PIPzfcIxAGEW",
        "outputId": "6d1b66ce-1a11-4b72-809d-6f7c25d4c4bb"
      },
      "execution_count": null,
      "outputs": [
        {
          "output_type": "execute_result",
          "data": {
            "text/plain": [
              "(12869, 20)"
            ]
          },
          "metadata": {},
          "execution_count": 7
        }
      ]
    },
    {
      "cell_type": "code",
      "source": [
        "train_df['summary_content'].isna().sum()"
      ],
      "metadata": {
        "colab": {
          "base_uri": "https://localhost:8080/"
        },
        "id": "fOHpJDVwABd7",
        "outputId": "0cd5a3c0-4483-48c7-d4bd-bc5f394687e2"
      },
      "execution_count": null,
      "outputs": [
        {
          "output_type": "execute_result",
          "data": {
            "text/plain": [
              "976"
            ]
          },
          "metadata": {},
          "execution_count": 6
        }
      ]
    },
    {
      "cell_type": "code",
      "source": [
        "train_df[train_df['summary_content'].isna()]['summary_source'].value_counts()"
      ],
      "metadata": {
        "colab": {
          "base_uri": "https://localhost:8080/"
        },
        "id": "htmqzzw6AKdJ",
        "outputId": "74e31a54-714d-4a0e-ae4a-542e97a6403e"
      },
      "execution_count": null,
      "outputs": [
        {
          "output_type": "execute_result",
          "data": {
            "text/plain": [
              "Kyuhee     485\n",
              "Andreas    472\n",
              "target      13\n",
              "context      6\n",
              "Name: summary_source, dtype: int64"
            ]
          },
          "metadata": {},
          "execution_count": 9
        }
      ]
    },
    {
      "cell_type": "markdown",
      "source": [
        "# Get summaries for test data"
      ],
      "metadata": {
        "id": "XD0IsYquE88z"
      }
    },
    {
      "cell_type": "markdown",
      "source": [
        "## English"
      ],
      "metadata": {
        "id": "N8husM7OJRvX"
      }
    },
    {
      "cell_type": "code",
      "source": [
        "df = pd.read_csv('/content/drive/MyDrive/UR/NLE Seminar/code/data/test.data/preprocessed/test_en.csv',\n",
        "                 sep='\\t', index_col=0)\n",
        "df.head()"
      ],
      "metadata": {
        "colab": {
          "base_uri": "https://localhost:8080/",
          "height": 357
        },
        "id": "VIPQVvWvE_sr",
        "outputId": "3affc929-6541-41f6-a926-2c7db34f11d3"
      },
      "execution_count": null,
      "outputs": [
        {
          "output_type": "execute_result",
          "data": {
            "text/plain": [
              "  target_word             phrase target_preprocessed context_preprocessed  \\\n",
              "0        goal      football goal            football                 goal   \n",
              "1     mustard       mustard seed             mustard                 seed   \n",
              "2        seat        eating seat              eating                 seat   \n",
              "3    navigate   navigate the web            navigate              the web   \n",
              "4  butterball  butterball person          butterball               person   \n",
              "\n",
              "            img_0           img_1           img_2           img_3  \\\n",
              "0  image.4418.jpg  image.4416.jpg  image.4417.jpg  image.4413.jpg   \n",
              "1  image.4429.png  image.4422.jpg  image.4423.jpg  image.4424.jpg   \n",
              "2  image.4435.jpg  image.4436.jpg  image.1166.jpg  image.4430.jpg   \n",
              "3  image.4439.jpg  image.4440.jpg  image.4441.jpg  image.4442.jpg   \n",
              "4  image.4454.jpg  image.4450.jpg  image.4455.jpg  image.4453.jpg   \n",
              "\n",
              "            img_4           img_5           img_6           img_7  \\\n",
              "0  image.4412.jpg  image.4415.jpg  image.4419.jpg  image.4414.jpg   \n",
              "1  image.4421.jpg  image.4427.jpg  image.4426.jpg  image.4420.jpg   \n",
              "2  image.4433.jpg  image.4432.jpg  image.4438.jpg  image.4434.jpg   \n",
              "3  image.4444.jpg  image.4445.jpg  image.1435.jpg  image.4446.png   \n",
              "4  image.4448.jpg  image.1253.jpg  image.4451.jpg  image.4452.jpg   \n",
              "\n",
              "            img_8           img_9  non_eng  \n",
              "0  image.2166.jpg  image.1150.jpg        0  \n",
              "1  image.4425.jpg  image.4428.jpg        0  \n",
              "2  image.4431.jpg  image.4437.jpg        0  \n",
              "3  image.1434.jpg  image.4443.jpg        0  \n",
              "4  image.4447.jpg  image.4449.jpg        0  "
            ],
            "text/html": [
              "\n",
              "  <div id=\"df-5f63fd3e-38af-4955-8929-e97f45e4b8d9\">\n",
              "    <div class=\"colab-df-container\">\n",
              "      <div>\n",
              "<style scoped>\n",
              "    .dataframe tbody tr th:only-of-type {\n",
              "        vertical-align: middle;\n",
              "    }\n",
              "\n",
              "    .dataframe tbody tr th {\n",
              "        vertical-align: top;\n",
              "    }\n",
              "\n",
              "    .dataframe thead th {\n",
              "        text-align: right;\n",
              "    }\n",
              "</style>\n",
              "<table border=\"1\" class=\"dataframe\">\n",
              "  <thead>\n",
              "    <tr style=\"text-align: right;\">\n",
              "      <th></th>\n",
              "      <th>target_word</th>\n",
              "      <th>phrase</th>\n",
              "      <th>target_preprocessed</th>\n",
              "      <th>context_preprocessed</th>\n",
              "      <th>img_0</th>\n",
              "      <th>img_1</th>\n",
              "      <th>img_2</th>\n",
              "      <th>img_3</th>\n",
              "      <th>img_4</th>\n",
              "      <th>img_5</th>\n",
              "      <th>img_6</th>\n",
              "      <th>img_7</th>\n",
              "      <th>img_8</th>\n",
              "      <th>img_9</th>\n",
              "      <th>non_eng</th>\n",
              "    </tr>\n",
              "  </thead>\n",
              "  <tbody>\n",
              "    <tr>\n",
              "      <th>0</th>\n",
              "      <td>goal</td>\n",
              "      <td>football goal</td>\n",
              "      <td>football</td>\n",
              "      <td>goal</td>\n",
              "      <td>image.4418.jpg</td>\n",
              "      <td>image.4416.jpg</td>\n",
              "      <td>image.4417.jpg</td>\n",
              "      <td>image.4413.jpg</td>\n",
              "      <td>image.4412.jpg</td>\n",
              "      <td>image.4415.jpg</td>\n",
              "      <td>image.4419.jpg</td>\n",
              "      <td>image.4414.jpg</td>\n",
              "      <td>image.2166.jpg</td>\n",
              "      <td>image.1150.jpg</td>\n",
              "      <td>0</td>\n",
              "    </tr>\n",
              "    <tr>\n",
              "      <th>1</th>\n",
              "      <td>mustard</td>\n",
              "      <td>mustard seed</td>\n",
              "      <td>mustard</td>\n",
              "      <td>seed</td>\n",
              "      <td>image.4429.png</td>\n",
              "      <td>image.4422.jpg</td>\n",
              "      <td>image.4423.jpg</td>\n",
              "      <td>image.4424.jpg</td>\n",
              "      <td>image.4421.jpg</td>\n",
              "      <td>image.4427.jpg</td>\n",
              "      <td>image.4426.jpg</td>\n",
              "      <td>image.4420.jpg</td>\n",
              "      <td>image.4425.jpg</td>\n",
              "      <td>image.4428.jpg</td>\n",
              "      <td>0</td>\n",
              "    </tr>\n",
              "    <tr>\n",
              "      <th>2</th>\n",
              "      <td>seat</td>\n",
              "      <td>eating seat</td>\n",
              "      <td>eating</td>\n",
              "      <td>seat</td>\n",
              "      <td>image.4435.jpg</td>\n",
              "      <td>image.4436.jpg</td>\n",
              "      <td>image.1166.jpg</td>\n",
              "      <td>image.4430.jpg</td>\n",
              "      <td>image.4433.jpg</td>\n",
              "      <td>image.4432.jpg</td>\n",
              "      <td>image.4438.jpg</td>\n",
              "      <td>image.4434.jpg</td>\n",
              "      <td>image.4431.jpg</td>\n",
              "      <td>image.4437.jpg</td>\n",
              "      <td>0</td>\n",
              "    </tr>\n",
              "    <tr>\n",
              "      <th>3</th>\n",
              "      <td>navigate</td>\n",
              "      <td>navigate the web</td>\n",
              "      <td>navigate</td>\n",
              "      <td>the web</td>\n",
              "      <td>image.4439.jpg</td>\n",
              "      <td>image.4440.jpg</td>\n",
              "      <td>image.4441.jpg</td>\n",
              "      <td>image.4442.jpg</td>\n",
              "      <td>image.4444.jpg</td>\n",
              "      <td>image.4445.jpg</td>\n",
              "      <td>image.1435.jpg</td>\n",
              "      <td>image.4446.png</td>\n",
              "      <td>image.1434.jpg</td>\n",
              "      <td>image.4443.jpg</td>\n",
              "      <td>0</td>\n",
              "    </tr>\n",
              "    <tr>\n",
              "      <th>4</th>\n",
              "      <td>butterball</td>\n",
              "      <td>butterball person</td>\n",
              "      <td>butterball</td>\n",
              "      <td>person</td>\n",
              "      <td>image.4454.jpg</td>\n",
              "      <td>image.4450.jpg</td>\n",
              "      <td>image.4455.jpg</td>\n",
              "      <td>image.4453.jpg</td>\n",
              "      <td>image.4448.jpg</td>\n",
              "      <td>image.1253.jpg</td>\n",
              "      <td>image.4451.jpg</td>\n",
              "      <td>image.4452.jpg</td>\n",
              "      <td>image.4447.jpg</td>\n",
              "      <td>image.4449.jpg</td>\n",
              "      <td>0</td>\n",
              "    </tr>\n",
              "  </tbody>\n",
              "</table>\n",
              "</div>\n",
              "      <button class=\"colab-df-convert\" onclick=\"convertToInteractive('df-5f63fd3e-38af-4955-8929-e97f45e4b8d9')\"\n",
              "              title=\"Convert this dataframe to an interactive table.\"\n",
              "              style=\"display:none;\">\n",
              "        \n",
              "  <svg xmlns=\"http://www.w3.org/2000/svg\" height=\"24px\"viewBox=\"0 0 24 24\"\n",
              "       width=\"24px\">\n",
              "    <path d=\"M0 0h24v24H0V0z\" fill=\"none\"/>\n",
              "    <path d=\"M18.56 5.44l.94 2.06.94-2.06 2.06-.94-2.06-.94-.94-2.06-.94 2.06-2.06.94zm-11 1L8.5 8.5l.94-2.06 2.06-.94-2.06-.94L8.5 2.5l-.94 2.06-2.06.94zm10 10l.94 2.06.94-2.06 2.06-.94-2.06-.94-.94-2.06-.94 2.06-2.06.94z\"/><path d=\"M17.41 7.96l-1.37-1.37c-.4-.4-.92-.59-1.43-.59-.52 0-1.04.2-1.43.59L10.3 9.45l-7.72 7.72c-.78.78-.78 2.05 0 2.83L4 21.41c.39.39.9.59 1.41.59.51 0 1.02-.2 1.41-.59l7.78-7.78 2.81-2.81c.8-.78.8-2.07 0-2.86zM5.41 20L4 18.59l7.72-7.72 1.47 1.35L5.41 20z\"/>\n",
              "  </svg>\n",
              "      </button>\n",
              "      \n",
              "  <style>\n",
              "    .colab-df-container {\n",
              "      display:flex;\n",
              "      flex-wrap:wrap;\n",
              "      gap: 12px;\n",
              "    }\n",
              "\n",
              "    .colab-df-convert {\n",
              "      background-color: #E8F0FE;\n",
              "      border: none;\n",
              "      border-radius: 50%;\n",
              "      cursor: pointer;\n",
              "      display: none;\n",
              "      fill: #1967D2;\n",
              "      height: 32px;\n",
              "      padding: 0 0 0 0;\n",
              "      width: 32px;\n",
              "    }\n",
              "\n",
              "    .colab-df-convert:hover {\n",
              "      background-color: #E2EBFA;\n",
              "      box-shadow: 0px 1px 2px rgba(60, 64, 67, 0.3), 0px 1px 3px 1px rgba(60, 64, 67, 0.15);\n",
              "      fill: #174EA6;\n",
              "    }\n",
              "\n",
              "    [theme=dark] .colab-df-convert {\n",
              "      background-color: #3B4455;\n",
              "      fill: #D2E3FC;\n",
              "    }\n",
              "\n",
              "    [theme=dark] .colab-df-convert:hover {\n",
              "      background-color: #434B5C;\n",
              "      box-shadow: 0px 1px 3px 1px rgba(0, 0, 0, 0.15);\n",
              "      filter: drop-shadow(0px 1px 2px rgba(0, 0, 0, 0.3));\n",
              "      fill: #FFFFFF;\n",
              "    }\n",
              "  </style>\n",
              "\n",
              "      <script>\n",
              "        const buttonEl =\n",
              "          document.querySelector('#df-5f63fd3e-38af-4955-8929-e97f45e4b8d9 button.colab-df-convert');\n",
              "        buttonEl.style.display =\n",
              "          google.colab.kernel.accessAllowed ? 'block' : 'none';\n",
              "\n",
              "        async function convertToInteractive(key) {\n",
              "          const element = document.querySelector('#df-5f63fd3e-38af-4955-8929-e97f45e4b8d9');\n",
              "          const dataTable =\n",
              "            await google.colab.kernel.invokeFunction('convertToInteractive',\n",
              "                                                     [key], {});\n",
              "          if (!dataTable) return;\n",
              "\n",
              "          const docLinkHtml = 'Like what you see? Visit the ' +\n",
              "            '<a target=\"_blank\" href=https://colab.research.google.com/notebooks/data_table.ipynb>data table notebook</a>'\n",
              "            + ' to learn more about interactive tables.';\n",
              "          element.innerHTML = '';\n",
              "          dataTable['output_type'] = 'display_data';\n",
              "          await google.colab.output.renderOutput(dataTable, element);\n",
              "          const docLink = document.createElement('div');\n",
              "          docLink.innerHTML = docLinkHtml;\n",
              "          element.appendChild(docLink);\n",
              "        }\n",
              "      </script>\n",
              "    </div>\n",
              "  </div>\n",
              "  "
            ]
          },
          "metadata": {},
          "execution_count": 46
        }
      ]
    },
    {
      "cell_type": "code",
      "source": [
        "from tqdm import tqdm\n",
        "tqdm.pandas()"
      ],
      "metadata": {
        "id": "--aLWCPRG3qS"
      },
      "execution_count": null,
      "outputs": []
    },
    {
      "cell_type": "code",
      "source": [
        "df['wiki_summary'] = df.progress_apply(get_summary_col, axis=1)"
      ],
      "metadata": {
        "colab": {
          "base_uri": "https://localhost:8080/"
        },
        "id": "Dv7UQ6-KGxJq",
        "outputId": "f473fb8a-6b32-4675-ee75-db40dc5c8e8a"
      },
      "execution_count": null,
      "outputs": [
        {
          "output_type": "stream",
          "name": "stderr",
          "text": [
            "100%|██████████| 463/463 [01:51<00:00,  4.16it/s]\n"
          ]
        }
      ]
    },
    {
      "cell_type": "code",
      "source": [
        "df.at[40, 'target_word'] = 'river'\n",
        "df.at[40, 'target_preprocessed'] = 'river'\n",
        "df.at[40, 'phrase'] = 'river'\n",
        "df.at[40, 'context_preprocessed'] = ''\n",
        "\n",
        "df.at[367, 'target_word'] = 'bread'\n",
        "df.at[367, 'target_preprocessed'] = 'bread'\n",
        "df.at[367, 'phrase'] = 'bread'\n",
        "df.at[367, 'context_preprocessed'] = ''"
      ],
      "metadata": {
        "id": "qMW9xv1WI77L"
      },
      "execution_count": null,
      "outputs": []
    },
    {
      "cell_type": "code",
      "source": [
        "df['summary_source'] = df['wiki_summary'].apply(\n",
        "    lambda x: x[0]\n",
        ")\n",
        "df['wiki_title'] = df['wiki_summary'].apply(\n",
        "    lambda x: x[1]\n",
        ")\n",
        "df['summary_content'] = df['wiki_summary'].apply(\n",
        "    lambda x: x[2]\n",
        ")\n",
        "df = df.drop('wiki_summary', axis=1)"
      ],
      "metadata": {
        "id": "w0ZbM7oOND97"
      },
      "execution_count": null,
      "outputs": []
    },
    {
      "cell_type": "code",
      "source": [
        "df['summary_content'].isna().sum()"
      ],
      "metadata": {
        "colab": {
          "base_uri": "https://localhost:8080/"
        },
        "id": "fGmBwQY9I-Xz",
        "outputId": "b1c14fde-6b32-4e32-e7a3-e4bd9c0e0dc3"
      },
      "execution_count": null,
      "outputs": [
        {
          "output_type": "execute_result",
          "data": {
            "text/plain": [
              "89"
            ]
          },
          "metadata": {},
          "execution_count": 54
        }
      ]
    },
    {
      "cell_type": "code",
      "source": [
        "df.to_csv('test_en_with_summaries.csv', index=False)"
      ],
      "metadata": {
        "id": "XLrSdIMNJDHl"
      },
      "execution_count": null,
      "outputs": []
    },
    {
      "cell_type": "markdown",
      "source": [
        "## Italian"
      ],
      "metadata": {
        "id": "ob58-NMIJTn2"
      }
    },
    {
      "cell_type": "code",
      "source": [
        "df = pd.read_csv('/content/drive/MyDrive/UR/NLE Seminar/code/data/test.data/preprocessed/test_it_translated.csv',\n",
        "                 index_col=0)\n",
        "df.head()"
      ],
      "metadata": {
        "colab": {
          "base_uri": "https://localhost:8080/",
          "height": 357
        },
        "id": "trkEiE0yJUvB",
        "outputId": "6019fcca-c432-465e-b002-ee70090c72aa"
      },
      "execution_count": null,
      "outputs": [
        {
          "output_type": "execute_result",
          "data": {
            "text/plain": [
              "  target_word                phrase         img_0         img_1         img_2  \\\n",
              "0       gomma  gomma per smacchiare   image.3.jpg   image.7.jpg   image.8.jpg   \n",
              "1       asino  asino gioco di carte  image.18.jpg  image.17.jpg  image.11.jpg   \n",
              "2     colonna      colonna missione  image.22.jpg  image.24.jpg  image.28.jpg   \n",
              "3         box       box per infanti  image.33.jpg  image.32.jpg  image.37.jpg   \n",
              "4       bolla  bolla di misurazione  image.48.jpg  image.44.jpg  image.41.jpg   \n",
              "\n",
              "          img_3         img_4         img_5         img_6         img_7  \\\n",
              "0   image.1.jpg   image.9.jpg   image.5.jpg   image.6.jpg   image.4.jpg   \n",
              "1  image.10.jpg  image.15.jpg  image.16.png  image.14.jpg  image.12.jpg   \n",
              "2  image.27.jpg  image.25.jpg  image.26.jpg  image.20.jpg  image.21.jpg   \n",
              "3  image.38.jpg  image.35.jpg  image.34.jpg  image.31.jpg  image.39.jpg   \n",
              "4  image.46.jpg  image.47.jpg  image.42.jpg  image.40.jpg  image.45.jpg   \n",
              "\n",
              "          img_8         img_9 target_eng          phrase_eng  \n",
              "0   image.0.jpg   image.2.jpg     eraser    rubber to remove  \n",
              "1  image.13.jpg  image.19.jpg     donkey    donkey card game  \n",
              "2  image.23.jpg  image.29.jpg    colonna      mission column  \n",
              "3  image.30.jpg  image.36.jpg        box     Box for infants  \n",
              "4  image.43.PNG  image.49.jpg     bubble  measurement bubble  "
            ],
            "text/html": [
              "\n",
              "  <div id=\"df-653b6874-76f7-46a4-a06c-ed46648b453e\">\n",
              "    <div class=\"colab-df-container\">\n",
              "      <div>\n",
              "<style scoped>\n",
              "    .dataframe tbody tr th:only-of-type {\n",
              "        vertical-align: middle;\n",
              "    }\n",
              "\n",
              "    .dataframe tbody tr th {\n",
              "        vertical-align: top;\n",
              "    }\n",
              "\n",
              "    .dataframe thead th {\n",
              "        text-align: right;\n",
              "    }\n",
              "</style>\n",
              "<table border=\"1\" class=\"dataframe\">\n",
              "  <thead>\n",
              "    <tr style=\"text-align: right;\">\n",
              "      <th></th>\n",
              "      <th>target_word</th>\n",
              "      <th>phrase</th>\n",
              "      <th>img_0</th>\n",
              "      <th>img_1</th>\n",
              "      <th>img_2</th>\n",
              "      <th>img_3</th>\n",
              "      <th>img_4</th>\n",
              "      <th>img_5</th>\n",
              "      <th>img_6</th>\n",
              "      <th>img_7</th>\n",
              "      <th>img_8</th>\n",
              "      <th>img_9</th>\n",
              "      <th>target_eng</th>\n",
              "      <th>phrase_eng</th>\n",
              "    </tr>\n",
              "  </thead>\n",
              "  <tbody>\n",
              "    <tr>\n",
              "      <th>0</th>\n",
              "      <td>gomma</td>\n",
              "      <td>gomma per smacchiare</td>\n",
              "      <td>image.3.jpg</td>\n",
              "      <td>image.7.jpg</td>\n",
              "      <td>image.8.jpg</td>\n",
              "      <td>image.1.jpg</td>\n",
              "      <td>image.9.jpg</td>\n",
              "      <td>image.5.jpg</td>\n",
              "      <td>image.6.jpg</td>\n",
              "      <td>image.4.jpg</td>\n",
              "      <td>image.0.jpg</td>\n",
              "      <td>image.2.jpg</td>\n",
              "      <td>eraser</td>\n",
              "      <td>rubber to remove</td>\n",
              "    </tr>\n",
              "    <tr>\n",
              "      <th>1</th>\n",
              "      <td>asino</td>\n",
              "      <td>asino gioco di carte</td>\n",
              "      <td>image.18.jpg</td>\n",
              "      <td>image.17.jpg</td>\n",
              "      <td>image.11.jpg</td>\n",
              "      <td>image.10.jpg</td>\n",
              "      <td>image.15.jpg</td>\n",
              "      <td>image.16.png</td>\n",
              "      <td>image.14.jpg</td>\n",
              "      <td>image.12.jpg</td>\n",
              "      <td>image.13.jpg</td>\n",
              "      <td>image.19.jpg</td>\n",
              "      <td>donkey</td>\n",
              "      <td>donkey card game</td>\n",
              "    </tr>\n",
              "    <tr>\n",
              "      <th>2</th>\n",
              "      <td>colonna</td>\n",
              "      <td>colonna missione</td>\n",
              "      <td>image.22.jpg</td>\n",
              "      <td>image.24.jpg</td>\n",
              "      <td>image.28.jpg</td>\n",
              "      <td>image.27.jpg</td>\n",
              "      <td>image.25.jpg</td>\n",
              "      <td>image.26.jpg</td>\n",
              "      <td>image.20.jpg</td>\n",
              "      <td>image.21.jpg</td>\n",
              "      <td>image.23.jpg</td>\n",
              "      <td>image.29.jpg</td>\n",
              "      <td>colonna</td>\n",
              "      <td>mission column</td>\n",
              "    </tr>\n",
              "    <tr>\n",
              "      <th>3</th>\n",
              "      <td>box</td>\n",
              "      <td>box per infanti</td>\n",
              "      <td>image.33.jpg</td>\n",
              "      <td>image.32.jpg</td>\n",
              "      <td>image.37.jpg</td>\n",
              "      <td>image.38.jpg</td>\n",
              "      <td>image.35.jpg</td>\n",
              "      <td>image.34.jpg</td>\n",
              "      <td>image.31.jpg</td>\n",
              "      <td>image.39.jpg</td>\n",
              "      <td>image.30.jpg</td>\n",
              "      <td>image.36.jpg</td>\n",
              "      <td>box</td>\n",
              "      <td>Box for infants</td>\n",
              "    </tr>\n",
              "    <tr>\n",
              "      <th>4</th>\n",
              "      <td>bolla</td>\n",
              "      <td>bolla di misurazione</td>\n",
              "      <td>image.48.jpg</td>\n",
              "      <td>image.44.jpg</td>\n",
              "      <td>image.41.jpg</td>\n",
              "      <td>image.46.jpg</td>\n",
              "      <td>image.47.jpg</td>\n",
              "      <td>image.42.jpg</td>\n",
              "      <td>image.40.jpg</td>\n",
              "      <td>image.45.jpg</td>\n",
              "      <td>image.43.PNG</td>\n",
              "      <td>image.49.jpg</td>\n",
              "      <td>bubble</td>\n",
              "      <td>measurement bubble</td>\n",
              "    </tr>\n",
              "  </tbody>\n",
              "</table>\n",
              "</div>\n",
              "      <button class=\"colab-df-convert\" onclick=\"convertToInteractive('df-653b6874-76f7-46a4-a06c-ed46648b453e')\"\n",
              "              title=\"Convert this dataframe to an interactive table.\"\n",
              "              style=\"display:none;\">\n",
              "        \n",
              "  <svg xmlns=\"http://www.w3.org/2000/svg\" height=\"24px\"viewBox=\"0 0 24 24\"\n",
              "       width=\"24px\">\n",
              "    <path d=\"M0 0h24v24H0V0z\" fill=\"none\"/>\n",
              "    <path d=\"M18.56 5.44l.94 2.06.94-2.06 2.06-.94-2.06-.94-.94-2.06-.94 2.06-2.06.94zm-11 1L8.5 8.5l.94-2.06 2.06-.94-2.06-.94L8.5 2.5l-.94 2.06-2.06.94zm10 10l.94 2.06.94-2.06 2.06-.94-2.06-.94-.94-2.06-.94 2.06-2.06.94z\"/><path d=\"M17.41 7.96l-1.37-1.37c-.4-.4-.92-.59-1.43-.59-.52 0-1.04.2-1.43.59L10.3 9.45l-7.72 7.72c-.78.78-.78 2.05 0 2.83L4 21.41c.39.39.9.59 1.41.59.51 0 1.02-.2 1.41-.59l7.78-7.78 2.81-2.81c.8-.78.8-2.07 0-2.86zM5.41 20L4 18.59l7.72-7.72 1.47 1.35L5.41 20z\"/>\n",
              "  </svg>\n",
              "      </button>\n",
              "      \n",
              "  <style>\n",
              "    .colab-df-container {\n",
              "      display:flex;\n",
              "      flex-wrap:wrap;\n",
              "      gap: 12px;\n",
              "    }\n",
              "\n",
              "    .colab-df-convert {\n",
              "      background-color: #E8F0FE;\n",
              "      border: none;\n",
              "      border-radius: 50%;\n",
              "      cursor: pointer;\n",
              "      display: none;\n",
              "      fill: #1967D2;\n",
              "      height: 32px;\n",
              "      padding: 0 0 0 0;\n",
              "      width: 32px;\n",
              "    }\n",
              "\n",
              "    .colab-df-convert:hover {\n",
              "      background-color: #E2EBFA;\n",
              "      box-shadow: 0px 1px 2px rgba(60, 64, 67, 0.3), 0px 1px 3px 1px rgba(60, 64, 67, 0.15);\n",
              "      fill: #174EA6;\n",
              "    }\n",
              "\n",
              "    [theme=dark] .colab-df-convert {\n",
              "      background-color: #3B4455;\n",
              "      fill: #D2E3FC;\n",
              "    }\n",
              "\n",
              "    [theme=dark] .colab-df-convert:hover {\n",
              "      background-color: #434B5C;\n",
              "      box-shadow: 0px 1px 3px 1px rgba(0, 0, 0, 0.15);\n",
              "      filter: drop-shadow(0px 1px 2px rgba(0, 0, 0, 0.3));\n",
              "      fill: #FFFFFF;\n",
              "    }\n",
              "  </style>\n",
              "\n",
              "      <script>\n",
              "        const buttonEl =\n",
              "          document.querySelector('#df-653b6874-76f7-46a4-a06c-ed46648b453e button.colab-df-convert');\n",
              "        buttonEl.style.display =\n",
              "          google.colab.kernel.accessAllowed ? 'block' : 'none';\n",
              "\n",
              "        async function convertToInteractive(key) {\n",
              "          const element = document.querySelector('#df-653b6874-76f7-46a4-a06c-ed46648b453e');\n",
              "          const dataTable =\n",
              "            await google.colab.kernel.invokeFunction('convertToInteractive',\n",
              "                                                     [key], {});\n",
              "          if (!dataTable) return;\n",
              "\n",
              "          const docLinkHtml = 'Like what you see? Visit the ' +\n",
              "            '<a target=\"_blank\" href=https://colab.research.google.com/notebooks/data_table.ipynb>data table notebook</a>'\n",
              "            + ' to learn more about interactive tables.';\n",
              "          element.innerHTML = '';\n",
              "          dataTable['output_type'] = 'display_data';\n",
              "          await google.colab.output.renderOutput(dataTable, element);\n",
              "          const docLink = document.createElement('div');\n",
              "          docLink.innerHTML = docLinkHtml;\n",
              "          element.appendChild(docLink);\n",
              "        }\n",
              "      </script>\n",
              "    </div>\n",
              "  </div>\n",
              "  "
            ]
          },
          "metadata": {},
          "execution_count": 26
        }
      ]
    },
    {
      "cell_type": "code",
      "source": [
        "def get_summary_col(row):\n",
        "  target = row['target_eng']\n",
        "  phrase = row['phrase_eng']\n",
        "\n",
        "  wiki_title = get_wiki_title(target)\n",
        "  if wiki_title is not None:\n",
        "    summary = get_wiki_summary(wiki_title)\n",
        "    if summary is not None:\n",
        "      return 'target', wiki_title, summary\n",
        "\n",
        "  wiki_title = get_wiki_title(phrase)\n",
        "  if wiki_title is not None:\n",
        "    summary = get_wiki_summary(wiki_title)\n",
        "    if summary is not None:\n",
        "      return 'phrase', wiki_title, summary\n",
        "\n",
        "  return np.nan, np.nan, np.nan"
      ],
      "metadata": {
        "id": "Y5mIbbc9JlQl"
      },
      "execution_count": null,
      "outputs": []
    },
    {
      "cell_type": "code",
      "source": [
        "df['wiki_summary'] = df.progress_apply(get_summary_col, axis=1)"
      ],
      "metadata": {
        "id": "J2oinrRGPPrW"
      },
      "execution_count": null,
      "outputs": []
    },
    {
      "cell_type": "code",
      "source": [
        "df['summary_source'] = df['wiki_summary'].apply(\n",
        "    lambda x: x[0]\n",
        ")\n",
        "df['wiki_title'] = df['wiki_summary'].apply(\n",
        "    lambda x: x[1]\n",
        ")\n",
        "df['summary_content'] = df['wiki_summary'].apply(\n",
        "    lambda x: x[2]\n",
        ")\n",
        "df = df.drop('wiki_summary', axis=1)"
      ],
      "metadata": {
        "id": "kuH7jVfUK8fH"
      },
      "execution_count": null,
      "outputs": []
    },
    {
      "cell_type": "code",
      "source": [
        "df['summary_content'].isna().sum()"
      ],
      "metadata": {
        "colab": {
          "base_uri": "https://localhost:8080/"
        },
        "id": "aJOXVSEhKtHe",
        "outputId": "2011e66d-8d98-4ac4-d500-36e1cebb9dd7"
      },
      "execution_count": null,
      "outputs": [
        {
          "output_type": "execute_result",
          "data": {
            "text/plain": [
              "34"
            ]
          },
          "metadata": {},
          "execution_count": 32
        }
      ]
    },
    {
      "cell_type": "code",
      "source": [
        "(df['summary_source'] == 'phrase').sum()"
      ],
      "metadata": {
        "colab": {
          "base_uri": "https://localhost:8080/"
        },
        "id": "usme3qzuMvNS",
        "outputId": "1a1cd71a-3e87-4d9f-f797-944dfd37e69a"
      },
      "execution_count": null,
      "outputs": [
        {
          "output_type": "execute_result",
          "data": {
            "text/plain": [
              "91"
            ]
          },
          "metadata": {},
          "execution_count": 41
        }
      ]
    },
    {
      "cell_type": "code",
      "source": [
        "df.to_csv('test_it_with_summaries.csv')"
      ],
      "metadata": {
        "id": "kYeRuTbuM17x"
      },
      "execution_count": null,
      "outputs": []
    },
    {
      "cell_type": "markdown",
      "source": [
        "## Farsi"
      ],
      "metadata": {
        "id": "49ixyD4lPCsd"
      }
    },
    {
      "cell_type": "code",
      "source": [
        "df = pd.read_csv('/content/drive/MyDrive/UR/NLE Seminar/code/data/test.data/preprocessed/test_fa_translated.csv',\n",
        "                 index_col=0)\n",
        "df.head()"
      ],
      "metadata": {
        "colab": {
          "base_uri": "https://localhost:8080/",
          "height": 322
        },
        "outputId": "e012f176-f0d7-4993-b47c-ae3790ed2f0b",
        "id": "odhexncePCs1"
      },
      "execution_count": null,
      "outputs": [
        {
          "output_type": "execute_result",
          "data": {
            "text/plain": [
              "  target_word      phrase           img_0           img_1           img_2  \\\n",
              "0       برنج‎    فلز برنج  image.2732.jpg  image.2734.jpg  image.2727.jpg   \n",
              "1         ملخ    ملخ بادی  image.2743.jpg  image.2741.jpg  image.2740.jpg   \n",
              "2         شام  سرزمین شام  image.2747.jpg  image.2749.jpg  image.2745.jpg   \n",
              "3        عدسی    عدسی نور  image.2761.jpg  image.2300.jpg  image.2758.jpg   \n",
              "4         توپ   توپ نظامی  image.2769.jpg  image.2766.jpg  image.2765.jpg   \n",
              "\n",
              "            img_3           img_4           img_5           img_6  \\\n",
              "0  image.2731.jpg  image.2735.jpg  image.2726.jpg  image.2729.jpg   \n",
              "1   image.921.jpg  image.2736.jpg  image.2744.jpg  image.2737.png   \n",
              "2  image.2753.jpg  image.2748.jpg  image.2754.jpg  image.2751.png   \n",
              "3  image.2762.jpg  image.2760.jpg  image.2756.jpg  image.2759.jpg   \n",
              "4  image.2763.jpg  image.2764.jpg  image.2770.jpg  image.2772.jpg   \n",
              "\n",
              "            img_7           img_8           img_9   target_eng  \\\n",
              "0  image.2733.jpg  image.2730.jpg  image.2728.jpg         Rice   \n",
              "1  image.2742.jpg  image.2738.jpg  image.2739.jpg  Grasshopper   \n",
              "2  image.2746.jpg  image.2750.jpg  image.2752.jpg  the evening   \n",
              "3  image.2755.jpg  image.2757.jpg    image.95.jpg       Lenses   \n",
              "4  image.2767.jpg  image.2768.jpg  image.2771.png         Ball   \n",
              "\n",
              "                phrase_eng  \n",
              "0                    brass  \n",
              "1              Wind locust  \n",
              "2  The land of the evening  \n",
              "3               Light lens  \n",
              "4            Military ball  "
            ],
            "text/html": [
              "\n",
              "  <div id=\"df-769f25d0-1bfa-48a6-b251-efbbc0c03b4b\">\n",
              "    <div class=\"colab-df-container\">\n",
              "      <div>\n",
              "<style scoped>\n",
              "    .dataframe tbody tr th:only-of-type {\n",
              "        vertical-align: middle;\n",
              "    }\n",
              "\n",
              "    .dataframe tbody tr th {\n",
              "        vertical-align: top;\n",
              "    }\n",
              "\n",
              "    .dataframe thead th {\n",
              "        text-align: right;\n",
              "    }\n",
              "</style>\n",
              "<table border=\"1\" class=\"dataframe\">\n",
              "  <thead>\n",
              "    <tr style=\"text-align: right;\">\n",
              "      <th></th>\n",
              "      <th>target_word</th>\n",
              "      <th>phrase</th>\n",
              "      <th>img_0</th>\n",
              "      <th>img_1</th>\n",
              "      <th>img_2</th>\n",
              "      <th>img_3</th>\n",
              "      <th>img_4</th>\n",
              "      <th>img_5</th>\n",
              "      <th>img_6</th>\n",
              "      <th>img_7</th>\n",
              "      <th>img_8</th>\n",
              "      <th>img_9</th>\n",
              "      <th>target_eng</th>\n",
              "      <th>phrase_eng</th>\n",
              "    </tr>\n",
              "  </thead>\n",
              "  <tbody>\n",
              "    <tr>\n",
              "      <th>0</th>\n",
              "      <td>برنج‎</td>\n",
              "      <td>فلز برنج</td>\n",
              "      <td>image.2732.jpg</td>\n",
              "      <td>image.2734.jpg</td>\n",
              "      <td>image.2727.jpg</td>\n",
              "      <td>image.2731.jpg</td>\n",
              "      <td>image.2735.jpg</td>\n",
              "      <td>image.2726.jpg</td>\n",
              "      <td>image.2729.jpg</td>\n",
              "      <td>image.2733.jpg</td>\n",
              "      <td>image.2730.jpg</td>\n",
              "      <td>image.2728.jpg</td>\n",
              "      <td>Rice</td>\n",
              "      <td>brass</td>\n",
              "    </tr>\n",
              "    <tr>\n",
              "      <th>1</th>\n",
              "      <td>ملخ</td>\n",
              "      <td>ملخ بادی</td>\n",
              "      <td>image.2743.jpg</td>\n",
              "      <td>image.2741.jpg</td>\n",
              "      <td>image.2740.jpg</td>\n",
              "      <td>image.921.jpg</td>\n",
              "      <td>image.2736.jpg</td>\n",
              "      <td>image.2744.jpg</td>\n",
              "      <td>image.2737.png</td>\n",
              "      <td>image.2742.jpg</td>\n",
              "      <td>image.2738.jpg</td>\n",
              "      <td>image.2739.jpg</td>\n",
              "      <td>Grasshopper</td>\n",
              "      <td>Wind locust</td>\n",
              "    </tr>\n",
              "    <tr>\n",
              "      <th>2</th>\n",
              "      <td>شام</td>\n",
              "      <td>سرزمین شام</td>\n",
              "      <td>image.2747.jpg</td>\n",
              "      <td>image.2749.jpg</td>\n",
              "      <td>image.2745.jpg</td>\n",
              "      <td>image.2753.jpg</td>\n",
              "      <td>image.2748.jpg</td>\n",
              "      <td>image.2754.jpg</td>\n",
              "      <td>image.2751.png</td>\n",
              "      <td>image.2746.jpg</td>\n",
              "      <td>image.2750.jpg</td>\n",
              "      <td>image.2752.jpg</td>\n",
              "      <td>the evening</td>\n",
              "      <td>The land of the evening</td>\n",
              "    </tr>\n",
              "    <tr>\n",
              "      <th>3</th>\n",
              "      <td>عدسی</td>\n",
              "      <td>عدسی نور</td>\n",
              "      <td>image.2761.jpg</td>\n",
              "      <td>image.2300.jpg</td>\n",
              "      <td>image.2758.jpg</td>\n",
              "      <td>image.2762.jpg</td>\n",
              "      <td>image.2760.jpg</td>\n",
              "      <td>image.2756.jpg</td>\n",
              "      <td>image.2759.jpg</td>\n",
              "      <td>image.2755.jpg</td>\n",
              "      <td>image.2757.jpg</td>\n",
              "      <td>image.95.jpg</td>\n",
              "      <td>Lenses</td>\n",
              "      <td>Light lens</td>\n",
              "    </tr>\n",
              "    <tr>\n",
              "      <th>4</th>\n",
              "      <td>توپ</td>\n",
              "      <td>توپ نظامی</td>\n",
              "      <td>image.2769.jpg</td>\n",
              "      <td>image.2766.jpg</td>\n",
              "      <td>image.2765.jpg</td>\n",
              "      <td>image.2763.jpg</td>\n",
              "      <td>image.2764.jpg</td>\n",
              "      <td>image.2770.jpg</td>\n",
              "      <td>image.2772.jpg</td>\n",
              "      <td>image.2767.jpg</td>\n",
              "      <td>image.2768.jpg</td>\n",
              "      <td>image.2771.png</td>\n",
              "      <td>Ball</td>\n",
              "      <td>Military ball</td>\n",
              "    </tr>\n",
              "  </tbody>\n",
              "</table>\n",
              "</div>\n",
              "      <button class=\"colab-df-convert\" onclick=\"convertToInteractive('df-769f25d0-1bfa-48a6-b251-efbbc0c03b4b')\"\n",
              "              title=\"Convert this dataframe to an interactive table.\"\n",
              "              style=\"display:none;\">\n",
              "        \n",
              "  <svg xmlns=\"http://www.w3.org/2000/svg\" height=\"24px\"viewBox=\"0 0 24 24\"\n",
              "       width=\"24px\">\n",
              "    <path d=\"M0 0h24v24H0V0z\" fill=\"none\"/>\n",
              "    <path d=\"M18.56 5.44l.94 2.06.94-2.06 2.06-.94-2.06-.94-.94-2.06-.94 2.06-2.06.94zm-11 1L8.5 8.5l.94-2.06 2.06-.94-2.06-.94L8.5 2.5l-.94 2.06-2.06.94zm10 10l.94 2.06.94-2.06 2.06-.94-2.06-.94-.94-2.06-.94 2.06-2.06.94z\"/><path d=\"M17.41 7.96l-1.37-1.37c-.4-.4-.92-.59-1.43-.59-.52 0-1.04.2-1.43.59L10.3 9.45l-7.72 7.72c-.78.78-.78 2.05 0 2.83L4 21.41c.39.39.9.59 1.41.59.51 0 1.02-.2 1.41-.59l7.78-7.78 2.81-2.81c.8-.78.8-2.07 0-2.86zM5.41 20L4 18.59l7.72-7.72 1.47 1.35L5.41 20z\"/>\n",
              "  </svg>\n",
              "      </button>\n",
              "      \n",
              "  <style>\n",
              "    .colab-df-container {\n",
              "      display:flex;\n",
              "      flex-wrap:wrap;\n",
              "      gap: 12px;\n",
              "    }\n",
              "\n",
              "    .colab-df-convert {\n",
              "      background-color: #E8F0FE;\n",
              "      border: none;\n",
              "      border-radius: 50%;\n",
              "      cursor: pointer;\n",
              "      display: none;\n",
              "      fill: #1967D2;\n",
              "      height: 32px;\n",
              "      padding: 0 0 0 0;\n",
              "      width: 32px;\n",
              "    }\n",
              "\n",
              "    .colab-df-convert:hover {\n",
              "      background-color: #E2EBFA;\n",
              "      box-shadow: 0px 1px 2px rgba(60, 64, 67, 0.3), 0px 1px 3px 1px rgba(60, 64, 67, 0.15);\n",
              "      fill: #174EA6;\n",
              "    }\n",
              "\n",
              "    [theme=dark] .colab-df-convert {\n",
              "      background-color: #3B4455;\n",
              "      fill: #D2E3FC;\n",
              "    }\n",
              "\n",
              "    [theme=dark] .colab-df-convert:hover {\n",
              "      background-color: #434B5C;\n",
              "      box-shadow: 0px 1px 3px 1px rgba(0, 0, 0, 0.15);\n",
              "      filter: drop-shadow(0px 1px 2px rgba(0, 0, 0, 0.3));\n",
              "      fill: #FFFFFF;\n",
              "    }\n",
              "  </style>\n",
              "\n",
              "      <script>\n",
              "        const buttonEl =\n",
              "          document.querySelector('#df-769f25d0-1bfa-48a6-b251-efbbc0c03b4b button.colab-df-convert');\n",
              "        buttonEl.style.display =\n",
              "          google.colab.kernel.accessAllowed ? 'block' : 'none';\n",
              "\n",
              "        async function convertToInteractive(key) {\n",
              "          const element = document.querySelector('#df-769f25d0-1bfa-48a6-b251-efbbc0c03b4b');\n",
              "          const dataTable =\n",
              "            await google.colab.kernel.invokeFunction('convertToInteractive',\n",
              "                                                     [key], {});\n",
              "          if (!dataTable) return;\n",
              "\n",
              "          const docLinkHtml = 'Like what you see? Visit the ' +\n",
              "            '<a target=\"_blank\" href=https://colab.research.google.com/notebooks/data_table.ipynb>data table notebook</a>'\n",
              "            + ' to learn more about interactive tables.';\n",
              "          element.innerHTML = '';\n",
              "          dataTable['output_type'] = 'display_data';\n",
              "          await google.colab.output.renderOutput(dataTable, element);\n",
              "          const docLink = document.createElement('div');\n",
              "          docLink.innerHTML = docLinkHtml;\n",
              "          element.appendChild(docLink);\n",
              "        }\n",
              "      </script>\n",
              "    </div>\n",
              "  </div>\n",
              "  "
            ]
          },
          "metadata": {},
          "execution_count": 56
        }
      ]
    },
    {
      "cell_type": "code",
      "source": [
        "def get_summary_col(row):\n",
        "  target = row['target_eng']\n",
        "  phrase = row['phrase_eng']\n",
        "\n",
        "  wiki_title = get_wiki_title(target)\n",
        "  if wiki_title is not None:\n",
        "    summary = get_wiki_summary(wiki_title)\n",
        "    if summary is not None:\n",
        "      return 'target', wiki_title, summary\n",
        "\n",
        "  wiki_title = get_wiki_title(phrase)\n",
        "  if wiki_title is not None:\n",
        "    summary = get_wiki_summary(wiki_title)\n",
        "    if summary is not None:\n",
        "      return 'phrase', wiki_title, summary\n",
        "\n",
        "  return np.nan, np.nan, np.nan"
      ],
      "metadata": {
        "id": "5S6iw5D6PCs1"
      },
      "execution_count": null,
      "outputs": []
    },
    {
      "cell_type": "code",
      "source": [
        "df['wiki_summary'] = df.progress_apply(get_summary_col, axis=1)"
      ],
      "metadata": {
        "colab": {
          "base_uri": "https://localhost:8080/"
        },
        "id": "4guIA1vIPSVw",
        "outputId": "c497484c-b7fb-4c25-dbe1-1a4dd91be770"
      },
      "execution_count": null,
      "outputs": [
        {
          "output_type": "stream",
          "name": "stderr",
          "text": [
            "100%|██████████| 200/200 [03:23<00:00,  1.02s/it]\n"
          ]
        }
      ]
    },
    {
      "cell_type": "code",
      "source": [
        "df['summary_source'] = df['wiki_summary'].apply(\n",
        "    lambda x: x[0]\n",
        ")\n",
        "df['wiki_title'] = df['wiki_summary'].apply(\n",
        "    lambda x: x[1]\n",
        ")\n",
        "df['summary_content'] = df['wiki_summary'].apply(\n",
        "    lambda x: x[2]\n",
        ")\n",
        "df = df.drop('wiki_summary', axis=1)"
      ],
      "metadata": {
        "id": "BoaFcqbfPCs2"
      },
      "execution_count": null,
      "outputs": []
    },
    {
      "cell_type": "code",
      "source": [
        "df['summary_content'].isna().sum()"
      ],
      "metadata": {
        "colab": {
          "base_uri": "https://localhost:8080/"
        },
        "outputId": "4fc34f1e-1570-45ac-da70-422270faadaf",
        "id": "Ys3xnnCzPCs2"
      },
      "execution_count": null,
      "outputs": [
        {
          "output_type": "execute_result",
          "data": {
            "text/plain": [
              "40"
            ]
          },
          "metadata": {},
          "execution_count": 60
        }
      ]
    },
    {
      "cell_type": "code",
      "source": [
        "(df['summary_source'] == 'phrase').sum()"
      ],
      "metadata": {
        "colab": {
          "base_uri": "https://localhost:8080/"
        },
        "outputId": "b202ea83-bb40-4cea-ebe4-936c64bf7085",
        "id": "o0d4H0bOPCs2"
      },
      "execution_count": null,
      "outputs": [
        {
          "output_type": "execute_result",
          "data": {
            "text/plain": [
              "71"
            ]
          },
          "metadata": {},
          "execution_count": 61
        }
      ]
    },
    {
      "cell_type": "code",
      "source": [
        "df.to_csv('test_fa_with_summaries.csv')"
      ],
      "metadata": {
        "id": "USVvXQ4PPCs2"
      },
      "execution_count": null,
      "outputs": []
    }
  ]
}