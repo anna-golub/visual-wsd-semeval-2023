{
  "nbformat": 4,
  "nbformat_minor": 0,
  "metadata": {
    "colab": {
      "provenance": [],
      "collapsed_sections": [
        "VQTvJ1vRP7u4",
        "bgjiEYNn5z9p"
      ],
      "toc_visible": true
    },
    "kernelspec": {
      "name": "python3",
      "display_name": "Python 3"
    },
    "gpuClass": "standard",
    "accelerator": "GPU",
    "widgets": {
      "application/vnd.jupyter.widget-state+json": {
        "d643834c41ca490595ab806eeed4454e": {
          "model_module": "@jupyter-widgets/controls",
          "model_name": "HBoxModel",
          "model_module_version": "1.5.0",
          "state": {
            "_dom_classes": [],
            "_model_module": "@jupyter-widgets/controls",
            "_model_module_version": "1.5.0",
            "_model_name": "HBoxModel",
            "_view_count": null,
            "_view_module": "@jupyter-widgets/controls",
            "_view_module_version": "1.5.0",
            "_view_name": "HBoxView",
            "box_style": "",
            "children": [
              "IPY_MODEL_72ffe918a3a8489090ad0d0d09011c66",
              "IPY_MODEL_d417de2eed5e4322a343586d29df865e",
              "IPY_MODEL_467892eb43a74e1d8efb8865607d9c5b"
            ],
            "layout": "IPY_MODEL_198b7a3bd02d40ceb34d4cd381c0fd00"
          }
        },
        "72ffe918a3a8489090ad0d0d09011c66": {
          "model_module": "@jupyter-widgets/controls",
          "model_name": "HTMLModel",
          "model_module_version": "1.5.0",
          "state": {
            "_dom_classes": [],
            "_model_module": "@jupyter-widgets/controls",
            "_model_module_version": "1.5.0",
            "_model_name": "HTMLModel",
            "_view_count": null,
            "_view_module": "@jupyter-widgets/controls",
            "_view_module_version": "1.5.0",
            "_view_name": "HTMLView",
            "description": "",
            "description_tooltip": null,
            "layout": "IPY_MODEL_19457433d9d146cbbc9c9af8c2fcad8f",
            "placeholder": "​",
            "style": "IPY_MODEL_b6686d87f52a4c9facfa1a72c1400679",
            "value": "Downloading (…)solve/main/vocab.txt: 100%"
          }
        },
        "d417de2eed5e4322a343586d29df865e": {
          "model_module": "@jupyter-widgets/controls",
          "model_name": "FloatProgressModel",
          "model_module_version": "1.5.0",
          "state": {
            "_dom_classes": [],
            "_model_module": "@jupyter-widgets/controls",
            "_model_module_version": "1.5.0",
            "_model_name": "FloatProgressModel",
            "_view_count": null,
            "_view_module": "@jupyter-widgets/controls",
            "_view_module_version": "1.5.0",
            "_view_name": "ProgressView",
            "bar_style": "success",
            "description": "",
            "description_tooltip": null,
            "layout": "IPY_MODEL_2d77ae48c0bf469da30795e867203ac9",
            "max": 231508,
            "min": 0,
            "orientation": "horizontal",
            "style": "IPY_MODEL_4846957442eb4a729286da65ecfd9b39",
            "value": 231508
          }
        },
        "467892eb43a74e1d8efb8865607d9c5b": {
          "model_module": "@jupyter-widgets/controls",
          "model_name": "HTMLModel",
          "model_module_version": "1.5.0",
          "state": {
            "_dom_classes": [],
            "_model_module": "@jupyter-widgets/controls",
            "_model_module_version": "1.5.0",
            "_model_name": "HTMLModel",
            "_view_count": null,
            "_view_module": "@jupyter-widgets/controls",
            "_view_module_version": "1.5.0",
            "_view_name": "HTMLView",
            "description": "",
            "description_tooltip": null,
            "layout": "IPY_MODEL_d95bf00893534698bc1c5a78e2f9afe4",
            "placeholder": "​",
            "style": "IPY_MODEL_d8b3df8919974789a7a391c6a154c071",
            "value": " 232k/232k [00:00&lt;00:00, 923kB/s]"
          }
        },
        "198b7a3bd02d40ceb34d4cd381c0fd00": {
          "model_module": "@jupyter-widgets/base",
          "model_name": "LayoutModel",
          "model_module_version": "1.2.0",
          "state": {
            "_model_module": "@jupyter-widgets/base",
            "_model_module_version": "1.2.0",
            "_model_name": "LayoutModel",
            "_view_count": null,
            "_view_module": "@jupyter-widgets/base",
            "_view_module_version": "1.2.0",
            "_view_name": "LayoutView",
            "align_content": null,
            "align_items": null,
            "align_self": null,
            "border": null,
            "bottom": null,
            "display": null,
            "flex": null,
            "flex_flow": null,
            "grid_area": null,
            "grid_auto_columns": null,
            "grid_auto_flow": null,
            "grid_auto_rows": null,
            "grid_column": null,
            "grid_gap": null,
            "grid_row": null,
            "grid_template_areas": null,
            "grid_template_columns": null,
            "grid_template_rows": null,
            "height": null,
            "justify_content": null,
            "justify_items": null,
            "left": null,
            "margin": null,
            "max_height": null,
            "max_width": null,
            "min_height": null,
            "min_width": null,
            "object_fit": null,
            "object_position": null,
            "order": null,
            "overflow": null,
            "overflow_x": null,
            "overflow_y": null,
            "padding": null,
            "right": null,
            "top": null,
            "visibility": null,
            "width": null
          }
        },
        "19457433d9d146cbbc9c9af8c2fcad8f": {
          "model_module": "@jupyter-widgets/base",
          "model_name": "LayoutModel",
          "model_module_version": "1.2.0",
          "state": {
            "_model_module": "@jupyter-widgets/base",
            "_model_module_version": "1.2.0",
            "_model_name": "LayoutModel",
            "_view_count": null,
            "_view_module": "@jupyter-widgets/base",
            "_view_module_version": "1.2.0",
            "_view_name": "LayoutView",
            "align_content": null,
            "align_items": null,
            "align_self": null,
            "border": null,
            "bottom": null,
            "display": null,
            "flex": null,
            "flex_flow": null,
            "grid_area": null,
            "grid_auto_columns": null,
            "grid_auto_flow": null,
            "grid_auto_rows": null,
            "grid_column": null,
            "grid_gap": null,
            "grid_row": null,
            "grid_template_areas": null,
            "grid_template_columns": null,
            "grid_template_rows": null,
            "height": null,
            "justify_content": null,
            "justify_items": null,
            "left": null,
            "margin": null,
            "max_height": null,
            "max_width": null,
            "min_height": null,
            "min_width": null,
            "object_fit": null,
            "object_position": null,
            "order": null,
            "overflow": null,
            "overflow_x": null,
            "overflow_y": null,
            "padding": null,
            "right": null,
            "top": null,
            "visibility": null,
            "width": null
          }
        },
        "b6686d87f52a4c9facfa1a72c1400679": {
          "model_module": "@jupyter-widgets/controls",
          "model_name": "DescriptionStyleModel",
          "model_module_version": "1.5.0",
          "state": {
            "_model_module": "@jupyter-widgets/controls",
            "_model_module_version": "1.5.0",
            "_model_name": "DescriptionStyleModel",
            "_view_count": null,
            "_view_module": "@jupyter-widgets/base",
            "_view_module_version": "1.2.0",
            "_view_name": "StyleView",
            "description_width": ""
          }
        },
        "2d77ae48c0bf469da30795e867203ac9": {
          "model_module": "@jupyter-widgets/base",
          "model_name": "LayoutModel",
          "model_module_version": "1.2.0",
          "state": {
            "_model_module": "@jupyter-widgets/base",
            "_model_module_version": "1.2.0",
            "_model_name": "LayoutModel",
            "_view_count": null,
            "_view_module": "@jupyter-widgets/base",
            "_view_module_version": "1.2.0",
            "_view_name": "LayoutView",
            "align_content": null,
            "align_items": null,
            "align_self": null,
            "border": null,
            "bottom": null,
            "display": null,
            "flex": null,
            "flex_flow": null,
            "grid_area": null,
            "grid_auto_columns": null,
            "grid_auto_flow": null,
            "grid_auto_rows": null,
            "grid_column": null,
            "grid_gap": null,
            "grid_row": null,
            "grid_template_areas": null,
            "grid_template_columns": null,
            "grid_template_rows": null,
            "height": null,
            "justify_content": null,
            "justify_items": null,
            "left": null,
            "margin": null,
            "max_height": null,
            "max_width": null,
            "min_height": null,
            "min_width": null,
            "object_fit": null,
            "object_position": null,
            "order": null,
            "overflow": null,
            "overflow_x": null,
            "overflow_y": null,
            "padding": null,
            "right": null,
            "top": null,
            "visibility": null,
            "width": null
          }
        },
        "4846957442eb4a729286da65ecfd9b39": {
          "model_module": "@jupyter-widgets/controls",
          "model_name": "ProgressStyleModel",
          "model_module_version": "1.5.0",
          "state": {
            "_model_module": "@jupyter-widgets/controls",
            "_model_module_version": "1.5.0",
            "_model_name": "ProgressStyleModel",
            "_view_count": null,
            "_view_module": "@jupyter-widgets/base",
            "_view_module_version": "1.2.0",
            "_view_name": "StyleView",
            "bar_color": null,
            "description_width": ""
          }
        },
        "d95bf00893534698bc1c5a78e2f9afe4": {
          "model_module": "@jupyter-widgets/base",
          "model_name": "LayoutModel",
          "model_module_version": "1.2.0",
          "state": {
            "_model_module": "@jupyter-widgets/base",
            "_model_module_version": "1.2.0",
            "_model_name": "LayoutModel",
            "_view_count": null,
            "_view_module": "@jupyter-widgets/base",
            "_view_module_version": "1.2.0",
            "_view_name": "LayoutView",
            "align_content": null,
            "align_items": null,
            "align_self": null,
            "border": null,
            "bottom": null,
            "display": null,
            "flex": null,
            "flex_flow": null,
            "grid_area": null,
            "grid_auto_columns": null,
            "grid_auto_flow": null,
            "grid_auto_rows": null,
            "grid_column": null,
            "grid_gap": null,
            "grid_row": null,
            "grid_template_areas": null,
            "grid_template_columns": null,
            "grid_template_rows": null,
            "height": null,
            "justify_content": null,
            "justify_items": null,
            "left": null,
            "margin": null,
            "max_height": null,
            "max_width": null,
            "min_height": null,
            "min_width": null,
            "object_fit": null,
            "object_position": null,
            "order": null,
            "overflow": null,
            "overflow_x": null,
            "overflow_y": null,
            "padding": null,
            "right": null,
            "top": null,
            "visibility": null,
            "width": null
          }
        },
        "d8b3df8919974789a7a391c6a154c071": {
          "model_module": "@jupyter-widgets/controls",
          "model_name": "DescriptionStyleModel",
          "model_module_version": "1.5.0",
          "state": {
            "_model_module": "@jupyter-widgets/controls",
            "_model_module_version": "1.5.0",
            "_model_name": "DescriptionStyleModel",
            "_view_count": null,
            "_view_module": "@jupyter-widgets/base",
            "_view_module_version": "1.2.0",
            "_view_name": "StyleView",
            "description_width": ""
          }
        },
        "06fb535c3eb344e29c43917337527abd": {
          "model_module": "@jupyter-widgets/controls",
          "model_name": "HBoxModel",
          "model_module_version": "1.5.0",
          "state": {
            "_dom_classes": [],
            "_model_module": "@jupyter-widgets/controls",
            "_model_module_version": "1.5.0",
            "_model_name": "HBoxModel",
            "_view_count": null,
            "_view_module": "@jupyter-widgets/controls",
            "_view_module_version": "1.5.0",
            "_view_name": "HBoxView",
            "box_style": "",
            "children": [
              "IPY_MODEL_fd88958b64dc4d65b615b21cc0546913",
              "IPY_MODEL_a6bd7e7e9f4b406a966496662524cfb6",
              "IPY_MODEL_99dc46ec412d47e58298804fb80de59c"
            ],
            "layout": "IPY_MODEL_2ba642da822a4c5d834ae5bf13c64005"
          }
        },
        "fd88958b64dc4d65b615b21cc0546913": {
          "model_module": "@jupyter-widgets/controls",
          "model_name": "HTMLModel",
          "model_module_version": "1.5.0",
          "state": {
            "_dom_classes": [],
            "_model_module": "@jupyter-widgets/controls",
            "_model_module_version": "1.5.0",
            "_model_name": "HTMLModel",
            "_view_count": null,
            "_view_module": "@jupyter-widgets/controls",
            "_view_module_version": "1.5.0",
            "_view_name": "HTMLView",
            "description": "",
            "description_tooltip": null,
            "layout": "IPY_MODEL_781eab8b53bb43bbb84d6e54bd7dfc1b",
            "placeholder": "​",
            "style": "IPY_MODEL_04f6aeb067f8415c8a350d5f3e471b49",
            "value": "Downloading (…)okenizer_config.json: 100%"
          }
        },
        "a6bd7e7e9f4b406a966496662524cfb6": {
          "model_module": "@jupyter-widgets/controls",
          "model_name": "FloatProgressModel",
          "model_module_version": "1.5.0",
          "state": {
            "_dom_classes": [],
            "_model_module": "@jupyter-widgets/controls",
            "_model_module_version": "1.5.0",
            "_model_name": "FloatProgressModel",
            "_view_count": null,
            "_view_module": "@jupyter-widgets/controls",
            "_view_module_version": "1.5.0",
            "_view_name": "ProgressView",
            "bar_style": "success",
            "description": "",
            "description_tooltip": null,
            "layout": "IPY_MODEL_62b8841877da43098db88f7b9e390f33",
            "max": 28,
            "min": 0,
            "orientation": "horizontal",
            "style": "IPY_MODEL_179cf14ceb3140c79310810e39ef4fbc",
            "value": 28
          }
        },
        "99dc46ec412d47e58298804fb80de59c": {
          "model_module": "@jupyter-widgets/controls",
          "model_name": "HTMLModel",
          "model_module_version": "1.5.0",
          "state": {
            "_dom_classes": [],
            "_model_module": "@jupyter-widgets/controls",
            "_model_module_version": "1.5.0",
            "_model_name": "HTMLModel",
            "_view_count": null,
            "_view_module": "@jupyter-widgets/controls",
            "_view_module_version": "1.5.0",
            "_view_name": "HTMLView",
            "description": "",
            "description_tooltip": null,
            "layout": "IPY_MODEL_cfa3a9f07a1d4f07a170bd58a74953e0",
            "placeholder": "​",
            "style": "IPY_MODEL_c9cf532a922e4d17bb32f628484ee0f6",
            "value": " 28.0/28.0 [00:00&lt;00:00, 1.02kB/s]"
          }
        },
        "2ba642da822a4c5d834ae5bf13c64005": {
          "model_module": "@jupyter-widgets/base",
          "model_name": "LayoutModel",
          "model_module_version": "1.2.0",
          "state": {
            "_model_module": "@jupyter-widgets/base",
            "_model_module_version": "1.2.0",
            "_model_name": "LayoutModel",
            "_view_count": null,
            "_view_module": "@jupyter-widgets/base",
            "_view_module_version": "1.2.0",
            "_view_name": "LayoutView",
            "align_content": null,
            "align_items": null,
            "align_self": null,
            "border": null,
            "bottom": null,
            "display": null,
            "flex": null,
            "flex_flow": null,
            "grid_area": null,
            "grid_auto_columns": null,
            "grid_auto_flow": null,
            "grid_auto_rows": null,
            "grid_column": null,
            "grid_gap": null,
            "grid_row": null,
            "grid_template_areas": null,
            "grid_template_columns": null,
            "grid_template_rows": null,
            "height": null,
            "justify_content": null,
            "justify_items": null,
            "left": null,
            "margin": null,
            "max_height": null,
            "max_width": null,
            "min_height": null,
            "min_width": null,
            "object_fit": null,
            "object_position": null,
            "order": null,
            "overflow": null,
            "overflow_x": null,
            "overflow_y": null,
            "padding": null,
            "right": null,
            "top": null,
            "visibility": null,
            "width": null
          }
        },
        "781eab8b53bb43bbb84d6e54bd7dfc1b": {
          "model_module": "@jupyter-widgets/base",
          "model_name": "LayoutModel",
          "model_module_version": "1.2.0",
          "state": {
            "_model_module": "@jupyter-widgets/base",
            "_model_module_version": "1.2.0",
            "_model_name": "LayoutModel",
            "_view_count": null,
            "_view_module": "@jupyter-widgets/base",
            "_view_module_version": "1.2.0",
            "_view_name": "LayoutView",
            "align_content": null,
            "align_items": null,
            "align_self": null,
            "border": null,
            "bottom": null,
            "display": null,
            "flex": null,
            "flex_flow": null,
            "grid_area": null,
            "grid_auto_columns": null,
            "grid_auto_flow": null,
            "grid_auto_rows": null,
            "grid_column": null,
            "grid_gap": null,
            "grid_row": null,
            "grid_template_areas": null,
            "grid_template_columns": null,
            "grid_template_rows": null,
            "height": null,
            "justify_content": null,
            "justify_items": null,
            "left": null,
            "margin": null,
            "max_height": null,
            "max_width": null,
            "min_height": null,
            "min_width": null,
            "object_fit": null,
            "object_position": null,
            "order": null,
            "overflow": null,
            "overflow_x": null,
            "overflow_y": null,
            "padding": null,
            "right": null,
            "top": null,
            "visibility": null,
            "width": null
          }
        },
        "04f6aeb067f8415c8a350d5f3e471b49": {
          "model_module": "@jupyter-widgets/controls",
          "model_name": "DescriptionStyleModel",
          "model_module_version": "1.5.0",
          "state": {
            "_model_module": "@jupyter-widgets/controls",
            "_model_module_version": "1.5.0",
            "_model_name": "DescriptionStyleModel",
            "_view_count": null,
            "_view_module": "@jupyter-widgets/base",
            "_view_module_version": "1.2.0",
            "_view_name": "StyleView",
            "description_width": ""
          }
        },
        "62b8841877da43098db88f7b9e390f33": {
          "model_module": "@jupyter-widgets/base",
          "model_name": "LayoutModel",
          "model_module_version": "1.2.0",
          "state": {
            "_model_module": "@jupyter-widgets/base",
            "_model_module_version": "1.2.0",
            "_model_name": "LayoutModel",
            "_view_count": null,
            "_view_module": "@jupyter-widgets/base",
            "_view_module_version": "1.2.0",
            "_view_name": "LayoutView",
            "align_content": null,
            "align_items": null,
            "align_self": null,
            "border": null,
            "bottom": null,
            "display": null,
            "flex": null,
            "flex_flow": null,
            "grid_area": null,
            "grid_auto_columns": null,
            "grid_auto_flow": null,
            "grid_auto_rows": null,
            "grid_column": null,
            "grid_gap": null,
            "grid_row": null,
            "grid_template_areas": null,
            "grid_template_columns": null,
            "grid_template_rows": null,
            "height": null,
            "justify_content": null,
            "justify_items": null,
            "left": null,
            "margin": null,
            "max_height": null,
            "max_width": null,
            "min_height": null,
            "min_width": null,
            "object_fit": null,
            "object_position": null,
            "order": null,
            "overflow": null,
            "overflow_x": null,
            "overflow_y": null,
            "padding": null,
            "right": null,
            "top": null,
            "visibility": null,
            "width": null
          }
        },
        "179cf14ceb3140c79310810e39ef4fbc": {
          "model_module": "@jupyter-widgets/controls",
          "model_name": "ProgressStyleModel",
          "model_module_version": "1.5.0",
          "state": {
            "_model_module": "@jupyter-widgets/controls",
            "_model_module_version": "1.5.0",
            "_model_name": "ProgressStyleModel",
            "_view_count": null,
            "_view_module": "@jupyter-widgets/base",
            "_view_module_version": "1.2.0",
            "_view_name": "StyleView",
            "bar_color": null,
            "description_width": ""
          }
        },
        "cfa3a9f07a1d4f07a170bd58a74953e0": {
          "model_module": "@jupyter-widgets/base",
          "model_name": "LayoutModel",
          "model_module_version": "1.2.0",
          "state": {
            "_model_module": "@jupyter-widgets/base",
            "_model_module_version": "1.2.0",
            "_model_name": "LayoutModel",
            "_view_count": null,
            "_view_module": "@jupyter-widgets/base",
            "_view_module_version": "1.2.0",
            "_view_name": "LayoutView",
            "align_content": null,
            "align_items": null,
            "align_self": null,
            "border": null,
            "bottom": null,
            "display": null,
            "flex": null,
            "flex_flow": null,
            "grid_area": null,
            "grid_auto_columns": null,
            "grid_auto_flow": null,
            "grid_auto_rows": null,
            "grid_column": null,
            "grid_gap": null,
            "grid_row": null,
            "grid_template_areas": null,
            "grid_template_columns": null,
            "grid_template_rows": null,
            "height": null,
            "justify_content": null,
            "justify_items": null,
            "left": null,
            "margin": null,
            "max_height": null,
            "max_width": null,
            "min_height": null,
            "min_width": null,
            "object_fit": null,
            "object_position": null,
            "order": null,
            "overflow": null,
            "overflow_x": null,
            "overflow_y": null,
            "padding": null,
            "right": null,
            "top": null,
            "visibility": null,
            "width": null
          }
        },
        "c9cf532a922e4d17bb32f628484ee0f6": {
          "model_module": "@jupyter-widgets/controls",
          "model_name": "DescriptionStyleModel",
          "model_module_version": "1.5.0",
          "state": {
            "_model_module": "@jupyter-widgets/controls",
            "_model_module_version": "1.5.0",
            "_model_name": "DescriptionStyleModel",
            "_view_count": null,
            "_view_module": "@jupyter-widgets/base",
            "_view_module_version": "1.2.0",
            "_view_name": "StyleView",
            "description_width": ""
          }
        },
        "c5224289006746039a38271440fbea4e": {
          "model_module": "@jupyter-widgets/controls",
          "model_name": "HBoxModel",
          "model_module_version": "1.5.0",
          "state": {
            "_dom_classes": [],
            "_model_module": "@jupyter-widgets/controls",
            "_model_module_version": "1.5.0",
            "_model_name": "HBoxModel",
            "_view_count": null,
            "_view_module": "@jupyter-widgets/controls",
            "_view_module_version": "1.5.0",
            "_view_name": "HBoxView",
            "box_style": "",
            "children": [
              "IPY_MODEL_9d2c75a0fd2f473080baf41bfd67a3d8",
              "IPY_MODEL_9958a401fa1c47eeb9c47a09aff11ff9",
              "IPY_MODEL_9e9066fe260e4f2490135c87146f2941"
            ],
            "layout": "IPY_MODEL_45cc6336a6774c149bdb8904b81cc430"
          }
        },
        "9d2c75a0fd2f473080baf41bfd67a3d8": {
          "model_module": "@jupyter-widgets/controls",
          "model_name": "HTMLModel",
          "model_module_version": "1.5.0",
          "state": {
            "_dom_classes": [],
            "_model_module": "@jupyter-widgets/controls",
            "_model_module_version": "1.5.0",
            "_model_name": "HTMLModel",
            "_view_count": null,
            "_view_module": "@jupyter-widgets/controls",
            "_view_module_version": "1.5.0",
            "_view_name": "HTMLView",
            "description": "",
            "description_tooltip": null,
            "layout": "IPY_MODEL_cd6bee9218ef4f44823cbfdd5df0ffdf",
            "placeholder": "​",
            "style": "IPY_MODEL_d9bedb8b01cd457c885a6e29043f9a36",
            "value": "Downloading (…)lve/main/config.json: 100%"
          }
        },
        "9958a401fa1c47eeb9c47a09aff11ff9": {
          "model_module": "@jupyter-widgets/controls",
          "model_name": "FloatProgressModel",
          "model_module_version": "1.5.0",
          "state": {
            "_dom_classes": [],
            "_model_module": "@jupyter-widgets/controls",
            "_model_module_version": "1.5.0",
            "_model_name": "FloatProgressModel",
            "_view_count": null,
            "_view_module": "@jupyter-widgets/controls",
            "_view_module_version": "1.5.0",
            "_view_name": "ProgressView",
            "bar_style": "success",
            "description": "",
            "description_tooltip": null,
            "layout": "IPY_MODEL_d43a2e5a0f7b4b0ea955c2be29a41a3c",
            "max": 570,
            "min": 0,
            "orientation": "horizontal",
            "style": "IPY_MODEL_8a168bedd918474fa66b9daeedb27f83",
            "value": 570
          }
        },
        "9e9066fe260e4f2490135c87146f2941": {
          "model_module": "@jupyter-widgets/controls",
          "model_name": "HTMLModel",
          "model_module_version": "1.5.0",
          "state": {
            "_dom_classes": [],
            "_model_module": "@jupyter-widgets/controls",
            "_model_module_version": "1.5.0",
            "_model_name": "HTMLModel",
            "_view_count": null,
            "_view_module": "@jupyter-widgets/controls",
            "_view_module_version": "1.5.0",
            "_view_name": "HTMLView",
            "description": "",
            "description_tooltip": null,
            "layout": "IPY_MODEL_26f442e8a5324a3baf4b682f62013fd8",
            "placeholder": "​",
            "style": "IPY_MODEL_e2bb4cc498194b498485f1e78c1cb504",
            "value": " 570/570 [00:00&lt;00:00, 22.0kB/s]"
          }
        },
        "45cc6336a6774c149bdb8904b81cc430": {
          "model_module": "@jupyter-widgets/base",
          "model_name": "LayoutModel",
          "model_module_version": "1.2.0",
          "state": {
            "_model_module": "@jupyter-widgets/base",
            "_model_module_version": "1.2.0",
            "_model_name": "LayoutModel",
            "_view_count": null,
            "_view_module": "@jupyter-widgets/base",
            "_view_module_version": "1.2.0",
            "_view_name": "LayoutView",
            "align_content": null,
            "align_items": null,
            "align_self": null,
            "border": null,
            "bottom": null,
            "display": null,
            "flex": null,
            "flex_flow": null,
            "grid_area": null,
            "grid_auto_columns": null,
            "grid_auto_flow": null,
            "grid_auto_rows": null,
            "grid_column": null,
            "grid_gap": null,
            "grid_row": null,
            "grid_template_areas": null,
            "grid_template_columns": null,
            "grid_template_rows": null,
            "height": null,
            "justify_content": null,
            "justify_items": null,
            "left": null,
            "margin": null,
            "max_height": null,
            "max_width": null,
            "min_height": null,
            "min_width": null,
            "object_fit": null,
            "object_position": null,
            "order": null,
            "overflow": null,
            "overflow_x": null,
            "overflow_y": null,
            "padding": null,
            "right": null,
            "top": null,
            "visibility": null,
            "width": null
          }
        },
        "cd6bee9218ef4f44823cbfdd5df0ffdf": {
          "model_module": "@jupyter-widgets/base",
          "model_name": "LayoutModel",
          "model_module_version": "1.2.0",
          "state": {
            "_model_module": "@jupyter-widgets/base",
            "_model_module_version": "1.2.0",
            "_model_name": "LayoutModel",
            "_view_count": null,
            "_view_module": "@jupyter-widgets/base",
            "_view_module_version": "1.2.0",
            "_view_name": "LayoutView",
            "align_content": null,
            "align_items": null,
            "align_self": null,
            "border": null,
            "bottom": null,
            "display": null,
            "flex": null,
            "flex_flow": null,
            "grid_area": null,
            "grid_auto_columns": null,
            "grid_auto_flow": null,
            "grid_auto_rows": null,
            "grid_column": null,
            "grid_gap": null,
            "grid_row": null,
            "grid_template_areas": null,
            "grid_template_columns": null,
            "grid_template_rows": null,
            "height": null,
            "justify_content": null,
            "justify_items": null,
            "left": null,
            "margin": null,
            "max_height": null,
            "max_width": null,
            "min_height": null,
            "min_width": null,
            "object_fit": null,
            "object_position": null,
            "order": null,
            "overflow": null,
            "overflow_x": null,
            "overflow_y": null,
            "padding": null,
            "right": null,
            "top": null,
            "visibility": null,
            "width": null
          }
        },
        "d9bedb8b01cd457c885a6e29043f9a36": {
          "model_module": "@jupyter-widgets/controls",
          "model_name": "DescriptionStyleModel",
          "model_module_version": "1.5.0",
          "state": {
            "_model_module": "@jupyter-widgets/controls",
            "_model_module_version": "1.5.0",
            "_model_name": "DescriptionStyleModel",
            "_view_count": null,
            "_view_module": "@jupyter-widgets/base",
            "_view_module_version": "1.2.0",
            "_view_name": "StyleView",
            "description_width": ""
          }
        },
        "d43a2e5a0f7b4b0ea955c2be29a41a3c": {
          "model_module": "@jupyter-widgets/base",
          "model_name": "LayoutModel",
          "model_module_version": "1.2.0",
          "state": {
            "_model_module": "@jupyter-widgets/base",
            "_model_module_version": "1.2.0",
            "_model_name": "LayoutModel",
            "_view_count": null,
            "_view_module": "@jupyter-widgets/base",
            "_view_module_version": "1.2.0",
            "_view_name": "LayoutView",
            "align_content": null,
            "align_items": null,
            "align_self": null,
            "border": null,
            "bottom": null,
            "display": null,
            "flex": null,
            "flex_flow": null,
            "grid_area": null,
            "grid_auto_columns": null,
            "grid_auto_flow": null,
            "grid_auto_rows": null,
            "grid_column": null,
            "grid_gap": null,
            "grid_row": null,
            "grid_template_areas": null,
            "grid_template_columns": null,
            "grid_template_rows": null,
            "height": null,
            "justify_content": null,
            "justify_items": null,
            "left": null,
            "margin": null,
            "max_height": null,
            "max_width": null,
            "min_height": null,
            "min_width": null,
            "object_fit": null,
            "object_position": null,
            "order": null,
            "overflow": null,
            "overflow_x": null,
            "overflow_y": null,
            "padding": null,
            "right": null,
            "top": null,
            "visibility": null,
            "width": null
          }
        },
        "8a168bedd918474fa66b9daeedb27f83": {
          "model_module": "@jupyter-widgets/controls",
          "model_name": "ProgressStyleModel",
          "model_module_version": "1.5.0",
          "state": {
            "_model_module": "@jupyter-widgets/controls",
            "_model_module_version": "1.5.0",
            "_model_name": "ProgressStyleModel",
            "_view_count": null,
            "_view_module": "@jupyter-widgets/base",
            "_view_module_version": "1.2.0",
            "_view_name": "StyleView",
            "bar_color": null,
            "description_width": ""
          }
        },
        "26f442e8a5324a3baf4b682f62013fd8": {
          "model_module": "@jupyter-widgets/base",
          "model_name": "LayoutModel",
          "model_module_version": "1.2.0",
          "state": {
            "_model_module": "@jupyter-widgets/base",
            "_model_module_version": "1.2.0",
            "_model_name": "LayoutModel",
            "_view_count": null,
            "_view_module": "@jupyter-widgets/base",
            "_view_module_version": "1.2.0",
            "_view_name": "LayoutView",
            "align_content": null,
            "align_items": null,
            "align_self": null,
            "border": null,
            "bottom": null,
            "display": null,
            "flex": null,
            "flex_flow": null,
            "grid_area": null,
            "grid_auto_columns": null,
            "grid_auto_flow": null,
            "grid_auto_rows": null,
            "grid_column": null,
            "grid_gap": null,
            "grid_row": null,
            "grid_template_areas": null,
            "grid_template_columns": null,
            "grid_template_rows": null,
            "height": null,
            "justify_content": null,
            "justify_items": null,
            "left": null,
            "margin": null,
            "max_height": null,
            "max_width": null,
            "min_height": null,
            "min_width": null,
            "object_fit": null,
            "object_position": null,
            "order": null,
            "overflow": null,
            "overflow_x": null,
            "overflow_y": null,
            "padding": null,
            "right": null,
            "top": null,
            "visibility": null,
            "width": null
          }
        },
        "e2bb4cc498194b498485f1e78c1cb504": {
          "model_module": "@jupyter-widgets/controls",
          "model_name": "DescriptionStyleModel",
          "model_module_version": "1.5.0",
          "state": {
            "_model_module": "@jupyter-widgets/controls",
            "_model_module_version": "1.5.0",
            "_model_name": "DescriptionStyleModel",
            "_view_count": null,
            "_view_module": "@jupyter-widgets/base",
            "_view_module_version": "1.2.0",
            "_view_name": "StyleView",
            "description_width": ""
          }
        }
      }
    }
  },
  "cells": [
    {
      "cell_type": "markdown",
      "metadata": {
        "id": "RX_ZDhicpHkV"
      },
      "source": [
        "# 1. Setup"
      ]
    },
    {
      "cell_type": "code",
      "metadata": {
        "id": "oYsV4H8fCpZ-",
        "colab": {
          "base_uri": "https://localhost:8080/"
        },
        "outputId": "f1b2e7a3-7410-4cf7-81fd-2897841aaec6"
      },
      "source": [
        "import torch\n",
        "\n",
        "# If there's a GPU available...\n",
        "if torch.cuda.is_available():    \n",
        "\n",
        "    # Tell PyTorch to use the GPU.    \n",
        "    device = torch.device(\"cuda\")\n",
        "\n",
        "    print('There are %d GPU(s) available.' % torch.cuda.device_count())\n",
        "\n",
        "    print('We will use the GPU:', torch.cuda.get_device_name(0))\n",
        "\n",
        "# If not...\n",
        "else:\n",
        "    print('No GPU available, using the CPU instead.')\n",
        "    device = torch.device(\"cpu\")"
      ],
      "execution_count": 1,
      "outputs": [
        {
          "output_type": "stream",
          "name": "stdout",
          "text": [
            "There are 1 GPU(s) available.\n",
            "We will use the GPU: Tesla T4\n"
          ]
        }
      ]
    },
    {
      "cell_type": "code",
      "metadata": {
        "id": "0NmMdkZO8R6q",
        "colab": {
          "base_uri": "https://localhost:8080/"
        },
        "outputId": "5773e1ba-7b56-4c22-a987-05c753198cef"
      },
      "source": [
        "!pip install transformers"
      ],
      "execution_count": 2,
      "outputs": [
        {
          "output_type": "stream",
          "name": "stdout",
          "text": [
            "Looking in indexes: https://pypi.org/simple, https://us-python.pkg.dev/colab-wheels/public/simple/\n",
            "Collecting transformers\n",
            "  Downloading transformers-4.27.2-py3-none-any.whl (6.8 MB)\n",
            "\u001b[2K     \u001b[90m━━━━━━━━━━━━━━━━━━━━━━━━━━━━━━━━━━━━━━━━\u001b[0m \u001b[32m6.8/6.8 MB\u001b[0m \u001b[31m85.6 MB/s\u001b[0m eta \u001b[36m0:00:00\u001b[0m\n",
            "\u001b[?25hRequirement already satisfied: numpy>=1.17 in /usr/local/lib/python3.9/dist-packages (from transformers) (1.22.4)\n",
            "Requirement already satisfied: filelock in /usr/local/lib/python3.9/dist-packages (from transformers) (3.10.0)\n",
            "Requirement already satisfied: tqdm>=4.27 in /usr/local/lib/python3.9/dist-packages (from transformers) (4.65.0)\n",
            "Requirement already satisfied: regex!=2019.12.17 in /usr/local/lib/python3.9/dist-packages (from transformers) (2022.10.31)\n",
            "Requirement already satisfied: packaging>=20.0 in /usr/local/lib/python3.9/dist-packages (from transformers) (23.0)\n",
            "Collecting huggingface-hub<1.0,>=0.11.0\n",
            "  Downloading huggingface_hub-0.13.3-py3-none-any.whl (199 kB)\n",
            "\u001b[2K     \u001b[90m━━━━━━━━━━━━━━━━━━━━━━━━━━━━━━━━━━━━━━\u001b[0m \u001b[32m199.8/199.8 KB\u001b[0m \u001b[31m20.8 MB/s\u001b[0m eta \u001b[36m0:00:00\u001b[0m\n",
            "\u001b[?25hRequirement already satisfied: requests in /usr/local/lib/python3.9/dist-packages (from transformers) (2.27.1)\n",
            "Collecting tokenizers!=0.11.3,<0.14,>=0.11.1\n",
            "  Downloading tokenizers-0.13.2-cp39-cp39-manylinux_2_17_x86_64.manylinux2014_x86_64.whl (7.6 MB)\n",
            "\u001b[2K     \u001b[90m━━━━━━━━━━━━━━━━━━━━━━━━━━━━━━━━━━━━━━━━\u001b[0m \u001b[32m7.6/7.6 MB\u001b[0m \u001b[31m102.4 MB/s\u001b[0m eta \u001b[36m0:00:00\u001b[0m\n",
            "\u001b[?25hRequirement already satisfied: pyyaml>=5.1 in /usr/local/lib/python3.9/dist-packages (from transformers) (6.0)\n",
            "Requirement already satisfied: typing-extensions>=3.7.4.3 in /usr/local/lib/python3.9/dist-packages (from huggingface-hub<1.0,>=0.11.0->transformers) (4.5.0)\n",
            "Requirement already satisfied: certifi>=2017.4.17 in /usr/local/lib/python3.9/dist-packages (from requests->transformers) (2022.12.7)\n",
            "Requirement already satisfied: idna<4,>=2.5 in /usr/local/lib/python3.9/dist-packages (from requests->transformers) (3.4)\n",
            "Requirement already satisfied: urllib3<1.27,>=1.21.1 in /usr/local/lib/python3.9/dist-packages (from requests->transformers) (1.26.15)\n",
            "Requirement already satisfied: charset-normalizer~=2.0.0 in /usr/local/lib/python3.9/dist-packages (from requests->transformers) (2.0.12)\n",
            "Installing collected packages: tokenizers, huggingface-hub, transformers\n",
            "Successfully installed huggingface-hub-0.13.3 tokenizers-0.13.2 transformers-4.27.2\n"
          ]
        }
      ]
    },
    {
      "cell_type": "code",
      "source": [
        "from google.colab import drive\n",
        "drive.mount('/content/drive')"
      ],
      "metadata": {
        "colab": {
          "base_uri": "https://localhost:8080/"
        },
        "id": "-BIPJ-LTTjRh",
        "outputId": "1b48bffd-5e69-436a-e0e9-7fefe3b99b91"
      },
      "execution_count": 3,
      "outputs": [
        {
          "output_type": "stream",
          "name": "stdout",
          "text": [
            "Mounted at /content/drive\n"
          ]
        }
      ]
    },
    {
      "cell_type": "markdown",
      "source": [
        "# Loading V-WSD Dataset"
      ],
      "metadata": {
        "id": "EGOvjl9iREkV"
      }
    },
    {
      "cell_type": "markdown",
      "source": [
        "## Read dataframes"
      ],
      "metadata": {
        "id": "T3Xzbu5xRazX"
      }
    },
    {
      "cell_type": "code",
      "source": [
        "import pandas as pd"
      ],
      "metadata": {
        "id": "ff6OZCyLGowz"
      },
      "execution_count": 4,
      "outputs": []
    },
    {
      "cell_type": "code",
      "source": [
        "df = pd.read_csv('/content/drive/MyDrive/UR/NLE Seminar/code/data/preprocessed/train_df.csv',\n",
        "                       index_col=0, sep='\\t')\n",
        "df['gold_image'] = pd.read_csv(\n",
        "    '/content/drive/MyDrive/UR/NLE Seminar/code/data/raw/train.gold.v1.txt', header=None)[0]\n",
        "df['phrase_preprocessed'] = df['target_preprocessed'] + ' ' + df['context_preprocessed']\n",
        "df.head()"
      ],
      "metadata": {
        "colab": {
          "base_uri": "https://localhost:8080/",
          "height": 357
        },
        "id": "IE96_ZmBGr4V",
        "outputId": "b4ccd3d5-95f7-4f54-8f01-dc87810f043d"
      },
      "execution_count": null,
      "outputs": [
        {
          "output_type": "execute_result",
          "data": {
            "text/plain": [
              "  target_word              phrase target_preprocessed context_preprocessed  \\\n",
              "0     moorhen    moorhen swamphen             moorhen             swamphen   \n",
              "1     serinus       serinus genus             serinus                genus   \n",
              "2   pegmatite   pegmatite igneous           pegmatite              igneous   \n",
              "3  bangalores  bangalores torpedo          bangalores              torpedo   \n",
              "4      bonxie         bonxie skua              bonxie                 skua   \n",
              "\n",
              "          img_0         img_1         img_2         img_3         img_4  \\\n",
              "0   image.3.jpg   image.8.jpg   image.4.jpg   image.1.jpg   image.2.jpg   \n",
              "1   image.3.jpg  image.23.jpg   image.4.jpg   image.1.jpg   image.2.jpg   \n",
              "2  image.41.jpg  image.39.jpg  image.42.jpg  image.43.jpg  image.40.jpg   \n",
              "3  image.58.jpg  image.59.jpg  image.64.jpg  image.57.jpg  image.55.jpg   \n",
              "4   image.3.jpg  image.77.jpg  image.78.jpg   image.4.jpg   image.1.jpg   \n",
              "\n",
              "          img_5         img_6         img_7         img_8         img_9  \\\n",
              "0   image.0.jpg   image.5.jpg   image.6.jpg   image.7.jpg   image.9.jpg   \n",
              "1  image.20.jpg   image.5.jpg  image.24.jpg  image.22.jpg  image.21.jpg   \n",
              "2  image.44.jpg  image.37.jpg  image.38.jpg  image.36.jpg  image.35.jpg   \n",
              "3  image.56.jpg  image.62.jpg  image.63.jpg  image.61.jpg  image.60.jpg   \n",
              "4   image.2.jpg   image.5.jpg  image.79.jpg  image.76.jpg  image.75.jpg   \n",
              "\n",
              "   non_eng    gold_image phrase_preprocessed  \n",
              "0        0   image.0.jpg    moorhen swamphen  \n",
              "1        0  image.20.jpg       serinus genus  \n",
              "2        0  image.35.jpg   pegmatite igneous  \n",
              "3        0  image.55.jpg  bangalores torpedo  \n",
              "4        0  image.75.jpg         bonxie skua  "
            ],
            "text/html": [
              "\n",
              "  <div id=\"df-b66614f0-2a63-4987-8ac1-d80dec3976ab\">\n",
              "    <div class=\"colab-df-container\">\n",
              "      <div>\n",
              "<style scoped>\n",
              "    .dataframe tbody tr th:only-of-type {\n",
              "        vertical-align: middle;\n",
              "    }\n",
              "\n",
              "    .dataframe tbody tr th {\n",
              "        vertical-align: top;\n",
              "    }\n",
              "\n",
              "    .dataframe thead th {\n",
              "        text-align: right;\n",
              "    }\n",
              "</style>\n",
              "<table border=\"1\" class=\"dataframe\">\n",
              "  <thead>\n",
              "    <tr style=\"text-align: right;\">\n",
              "      <th></th>\n",
              "      <th>target_word</th>\n",
              "      <th>phrase</th>\n",
              "      <th>target_preprocessed</th>\n",
              "      <th>context_preprocessed</th>\n",
              "      <th>img_0</th>\n",
              "      <th>img_1</th>\n",
              "      <th>img_2</th>\n",
              "      <th>img_3</th>\n",
              "      <th>img_4</th>\n",
              "      <th>img_5</th>\n",
              "      <th>img_6</th>\n",
              "      <th>img_7</th>\n",
              "      <th>img_8</th>\n",
              "      <th>img_9</th>\n",
              "      <th>non_eng</th>\n",
              "      <th>gold_image</th>\n",
              "      <th>phrase_preprocessed</th>\n",
              "    </tr>\n",
              "  </thead>\n",
              "  <tbody>\n",
              "    <tr>\n",
              "      <th>0</th>\n",
              "      <td>moorhen</td>\n",
              "      <td>moorhen swamphen</td>\n",
              "      <td>moorhen</td>\n",
              "      <td>swamphen</td>\n",
              "      <td>image.3.jpg</td>\n",
              "      <td>image.8.jpg</td>\n",
              "      <td>image.4.jpg</td>\n",
              "      <td>image.1.jpg</td>\n",
              "      <td>image.2.jpg</td>\n",
              "      <td>image.0.jpg</td>\n",
              "      <td>image.5.jpg</td>\n",
              "      <td>image.6.jpg</td>\n",
              "      <td>image.7.jpg</td>\n",
              "      <td>image.9.jpg</td>\n",
              "      <td>0</td>\n",
              "      <td>image.0.jpg</td>\n",
              "      <td>moorhen swamphen</td>\n",
              "    </tr>\n",
              "    <tr>\n",
              "      <th>1</th>\n",
              "      <td>serinus</td>\n",
              "      <td>serinus genus</td>\n",
              "      <td>serinus</td>\n",
              "      <td>genus</td>\n",
              "      <td>image.3.jpg</td>\n",
              "      <td>image.23.jpg</td>\n",
              "      <td>image.4.jpg</td>\n",
              "      <td>image.1.jpg</td>\n",
              "      <td>image.2.jpg</td>\n",
              "      <td>image.20.jpg</td>\n",
              "      <td>image.5.jpg</td>\n",
              "      <td>image.24.jpg</td>\n",
              "      <td>image.22.jpg</td>\n",
              "      <td>image.21.jpg</td>\n",
              "      <td>0</td>\n",
              "      <td>image.20.jpg</td>\n",
              "      <td>serinus genus</td>\n",
              "    </tr>\n",
              "    <tr>\n",
              "      <th>2</th>\n",
              "      <td>pegmatite</td>\n",
              "      <td>pegmatite igneous</td>\n",
              "      <td>pegmatite</td>\n",
              "      <td>igneous</td>\n",
              "      <td>image.41.jpg</td>\n",
              "      <td>image.39.jpg</td>\n",
              "      <td>image.42.jpg</td>\n",
              "      <td>image.43.jpg</td>\n",
              "      <td>image.40.jpg</td>\n",
              "      <td>image.44.jpg</td>\n",
              "      <td>image.37.jpg</td>\n",
              "      <td>image.38.jpg</td>\n",
              "      <td>image.36.jpg</td>\n",
              "      <td>image.35.jpg</td>\n",
              "      <td>0</td>\n",
              "      <td>image.35.jpg</td>\n",
              "      <td>pegmatite igneous</td>\n",
              "    </tr>\n",
              "    <tr>\n",
              "      <th>3</th>\n",
              "      <td>bangalores</td>\n",
              "      <td>bangalores torpedo</td>\n",
              "      <td>bangalores</td>\n",
              "      <td>torpedo</td>\n",
              "      <td>image.58.jpg</td>\n",
              "      <td>image.59.jpg</td>\n",
              "      <td>image.64.jpg</td>\n",
              "      <td>image.57.jpg</td>\n",
              "      <td>image.55.jpg</td>\n",
              "      <td>image.56.jpg</td>\n",
              "      <td>image.62.jpg</td>\n",
              "      <td>image.63.jpg</td>\n",
              "      <td>image.61.jpg</td>\n",
              "      <td>image.60.jpg</td>\n",
              "      <td>0</td>\n",
              "      <td>image.55.jpg</td>\n",
              "      <td>bangalores torpedo</td>\n",
              "    </tr>\n",
              "    <tr>\n",
              "      <th>4</th>\n",
              "      <td>bonxie</td>\n",
              "      <td>bonxie skua</td>\n",
              "      <td>bonxie</td>\n",
              "      <td>skua</td>\n",
              "      <td>image.3.jpg</td>\n",
              "      <td>image.77.jpg</td>\n",
              "      <td>image.78.jpg</td>\n",
              "      <td>image.4.jpg</td>\n",
              "      <td>image.1.jpg</td>\n",
              "      <td>image.2.jpg</td>\n",
              "      <td>image.5.jpg</td>\n",
              "      <td>image.79.jpg</td>\n",
              "      <td>image.76.jpg</td>\n",
              "      <td>image.75.jpg</td>\n",
              "      <td>0</td>\n",
              "      <td>image.75.jpg</td>\n",
              "      <td>bonxie skua</td>\n",
              "    </tr>\n",
              "  </tbody>\n",
              "</table>\n",
              "</div>\n",
              "      <button class=\"colab-df-convert\" onclick=\"convertToInteractive('df-b66614f0-2a63-4987-8ac1-d80dec3976ab')\"\n",
              "              title=\"Convert this dataframe to an interactive table.\"\n",
              "              style=\"display:none;\">\n",
              "        \n",
              "  <svg xmlns=\"http://www.w3.org/2000/svg\" height=\"24px\"viewBox=\"0 0 24 24\"\n",
              "       width=\"24px\">\n",
              "    <path d=\"M0 0h24v24H0V0z\" fill=\"none\"/>\n",
              "    <path d=\"M18.56 5.44l.94 2.06.94-2.06 2.06-.94-2.06-.94-.94-2.06-.94 2.06-2.06.94zm-11 1L8.5 8.5l.94-2.06 2.06-.94-2.06-.94L8.5 2.5l-.94 2.06-2.06.94zm10 10l.94 2.06.94-2.06 2.06-.94-2.06-.94-.94-2.06-.94 2.06-2.06.94z\"/><path d=\"M17.41 7.96l-1.37-1.37c-.4-.4-.92-.59-1.43-.59-.52 0-1.04.2-1.43.59L10.3 9.45l-7.72 7.72c-.78.78-.78 2.05 0 2.83L4 21.41c.39.39.9.59 1.41.59.51 0 1.02-.2 1.41-.59l7.78-7.78 2.81-2.81c.8-.78.8-2.07 0-2.86zM5.41 20L4 18.59l7.72-7.72 1.47 1.35L5.41 20z\"/>\n",
              "  </svg>\n",
              "      </button>\n",
              "      \n",
              "  <style>\n",
              "    .colab-df-container {\n",
              "      display:flex;\n",
              "      flex-wrap:wrap;\n",
              "      gap: 12px;\n",
              "    }\n",
              "\n",
              "    .colab-df-convert {\n",
              "      background-color: #E8F0FE;\n",
              "      border: none;\n",
              "      border-radius: 50%;\n",
              "      cursor: pointer;\n",
              "      display: none;\n",
              "      fill: #1967D2;\n",
              "      height: 32px;\n",
              "      padding: 0 0 0 0;\n",
              "      width: 32px;\n",
              "    }\n",
              "\n",
              "    .colab-df-convert:hover {\n",
              "      background-color: #E2EBFA;\n",
              "      box-shadow: 0px 1px 2px rgba(60, 64, 67, 0.3), 0px 1px 3px 1px rgba(60, 64, 67, 0.15);\n",
              "      fill: #174EA6;\n",
              "    }\n",
              "\n",
              "    [theme=dark] .colab-df-convert {\n",
              "      background-color: #3B4455;\n",
              "      fill: #D2E3FC;\n",
              "    }\n",
              "\n",
              "    [theme=dark] .colab-df-convert:hover {\n",
              "      background-color: #434B5C;\n",
              "      box-shadow: 0px 1px 3px 1px rgba(0, 0, 0, 0.15);\n",
              "      filter: drop-shadow(0px 1px 2px rgba(0, 0, 0, 0.3));\n",
              "      fill: #FFFFFF;\n",
              "    }\n",
              "  </style>\n",
              "\n",
              "      <script>\n",
              "        const buttonEl =\n",
              "          document.querySelector('#df-b66614f0-2a63-4987-8ac1-d80dec3976ab button.colab-df-convert');\n",
              "        buttonEl.style.display =\n",
              "          google.colab.kernel.accessAllowed ? 'block' : 'none';\n",
              "\n",
              "        async function convertToInteractive(key) {\n",
              "          const element = document.querySelector('#df-b66614f0-2a63-4987-8ac1-d80dec3976ab');\n",
              "          const dataTable =\n",
              "            await google.colab.kernel.invokeFunction('convertToInteractive',\n",
              "                                                     [key], {});\n",
              "          if (!dataTable) return;\n",
              "\n",
              "          const docLinkHtml = 'Like what you see? Visit the ' +\n",
              "            '<a target=\"_blank\" href=https://colab.research.google.com/notebooks/data_table.ipynb>data table notebook</a>'\n",
              "            + ' to learn more about interactive tables.';\n",
              "          element.innerHTML = '';\n",
              "          dataTable['output_type'] = 'display_data';\n",
              "          await google.colab.output.renderOutput(dataTable, element);\n",
              "          const docLink = document.createElement('div');\n",
              "          docLink.innerHTML = docLinkHtml;\n",
              "          element.appendChild(docLink);\n",
              "        }\n",
              "      </script>\n",
              "    </div>\n",
              "  </div>\n",
              "  "
            ]
          },
          "metadata": {},
          "execution_count": 41
        }
      ]
    },
    {
      "cell_type": "markdown",
      "source": [
        "## Wikipedia summaries"
      ],
      "metadata": {
        "id": "nHaneVRRWm2-"
      }
    },
    {
      "cell_type": "markdown",
      "source": [
        "Read dataframe"
      ],
      "metadata": {
        "id": "HbTQ0oR4ZUHJ"
      }
    },
    {
      "cell_type": "code",
      "source": [
        "df = pd.read_csv('/content/drive/MyDrive/UR/NLE Seminar/Wiki summaries/Wikipedia summaries - DataFrame.csv')\n",
        "df['phrase_preprocessed'] = df['target_preprocessed'] + ' ' + df['context_preprocessed']\n",
        "df['gold_image'] = pd.read_csv(\n",
        "    '/content/drive/MyDrive/UR/NLE Seminar/code/data/raw/train.gold.v1.txt', header=None)[0]\n",
        "df.head()"
      ],
      "metadata": {
        "colab": {
          "base_uri": "https://localhost:8080/",
          "height": 525
        },
        "id": "PELnbIGxWs6i",
        "outputId": "b55fb01d-afac-4338-c47a-f9ad7be9497c"
      },
      "execution_count": null,
      "outputs": [
        {
          "output_type": "execute_result",
          "data": {
            "text/plain": [
              "  target_word              phrase target_preprocessed context_preprocessed  \\\n",
              "0     moorhen    moorhen swamphen             moorhen             swamphen   \n",
              "1     serinus       serinus genus             serinus                genus   \n",
              "2   pegmatite   pegmatite igneous           pegmatite              igneous   \n",
              "3  bangalores  bangalores torpedo          bangalores              torpedo   \n",
              "4      bonxie         bonxie skua              bonxie                 skua   \n",
              "\n",
              "          img_0         img_1         img_2         img_3         img_4  \\\n",
              "0   image.3.jpg   image.8.jpg   image.4.jpg   image.1.jpg   image.2.jpg   \n",
              "1   image.3.jpg  image.23.jpg   image.4.jpg   image.1.jpg   image.2.jpg   \n",
              "2  image.41.jpg  image.39.jpg  image.42.jpg  image.43.jpg  image.40.jpg   \n",
              "3  image.58.jpg  image.59.jpg  image.64.jpg  image.57.jpg  image.55.jpg   \n",
              "4   image.3.jpg  image.77.jpg  image.78.jpg   image.4.jpg   image.1.jpg   \n",
              "\n",
              "          img_5  ...         img_8         img_9 non_eng summary_source  \\\n",
              "0   image.0.jpg  ...   image.7.jpg   image.9.jpg       0         target   \n",
              "1  image.20.jpg  ...  image.22.jpg  image.21.jpg       0         target   \n",
              "2  image.44.jpg  ...  image.36.jpg  image.35.jpg       0         target   \n",
              "3  image.56.jpg  ...  image.61.jpg  image.60.jpg       0         target   \n",
              "4   image.2.jpg  ...  image.76.jpg  image.75.jpg       0         target   \n",
              "\n",
              "      summary_phrase                                    summary_content  \\\n",
              "0            Moorhen  Moorhens—sometimes called marsh hens—are mediu...   \n",
              "1            Serinus  Serinus is a genus of small birds in the finch...   \n",
              "2          Pegmatite  A pegmatite is an igneous rock showing a very ...   \n",
              "3  Bangalore torpedo  A Bangalore torpedo is an explosive charge pla...   \n",
              "4         Great skua  The great skua (Stercorarius skua), sometimes ...   \n",
              "\n",
              "  summary_link notes phrase_preprocessed    gold_image  \n",
              "0          NaN   NaN    moorhen swamphen   image.0.jpg  \n",
              "1          NaN   NaN       serinus genus  image.20.jpg  \n",
              "2          NaN   NaN   pegmatite igneous  image.35.jpg  \n",
              "3          NaN   NaN  bangalores torpedo  image.55.jpg  \n",
              "4          NaN   NaN         bonxie skua  image.75.jpg  \n",
              "\n",
              "[5 rows x 22 columns]"
            ],
            "text/html": [
              "\n",
              "  <div id=\"df-3502ef22-1a35-4e22-94aa-1acdfdd7e50c\">\n",
              "    <div class=\"colab-df-container\">\n",
              "      <div>\n",
              "<style scoped>\n",
              "    .dataframe tbody tr th:only-of-type {\n",
              "        vertical-align: middle;\n",
              "    }\n",
              "\n",
              "    .dataframe tbody tr th {\n",
              "        vertical-align: top;\n",
              "    }\n",
              "\n",
              "    .dataframe thead th {\n",
              "        text-align: right;\n",
              "    }\n",
              "</style>\n",
              "<table border=\"1\" class=\"dataframe\">\n",
              "  <thead>\n",
              "    <tr style=\"text-align: right;\">\n",
              "      <th></th>\n",
              "      <th>target_word</th>\n",
              "      <th>phrase</th>\n",
              "      <th>target_preprocessed</th>\n",
              "      <th>context_preprocessed</th>\n",
              "      <th>img_0</th>\n",
              "      <th>img_1</th>\n",
              "      <th>img_2</th>\n",
              "      <th>img_3</th>\n",
              "      <th>img_4</th>\n",
              "      <th>img_5</th>\n",
              "      <th>...</th>\n",
              "      <th>img_8</th>\n",
              "      <th>img_9</th>\n",
              "      <th>non_eng</th>\n",
              "      <th>summary_source</th>\n",
              "      <th>summary_phrase</th>\n",
              "      <th>summary_content</th>\n",
              "      <th>summary_link</th>\n",
              "      <th>notes</th>\n",
              "      <th>phrase_preprocessed</th>\n",
              "      <th>gold_image</th>\n",
              "    </tr>\n",
              "  </thead>\n",
              "  <tbody>\n",
              "    <tr>\n",
              "      <th>0</th>\n",
              "      <td>moorhen</td>\n",
              "      <td>moorhen swamphen</td>\n",
              "      <td>moorhen</td>\n",
              "      <td>swamphen</td>\n",
              "      <td>image.3.jpg</td>\n",
              "      <td>image.8.jpg</td>\n",
              "      <td>image.4.jpg</td>\n",
              "      <td>image.1.jpg</td>\n",
              "      <td>image.2.jpg</td>\n",
              "      <td>image.0.jpg</td>\n",
              "      <td>...</td>\n",
              "      <td>image.7.jpg</td>\n",
              "      <td>image.9.jpg</td>\n",
              "      <td>0</td>\n",
              "      <td>target</td>\n",
              "      <td>Moorhen</td>\n",
              "      <td>Moorhens—sometimes called marsh hens—are mediu...</td>\n",
              "      <td>NaN</td>\n",
              "      <td>NaN</td>\n",
              "      <td>moorhen swamphen</td>\n",
              "      <td>image.0.jpg</td>\n",
              "    </tr>\n",
              "    <tr>\n",
              "      <th>1</th>\n",
              "      <td>serinus</td>\n",
              "      <td>serinus genus</td>\n",
              "      <td>serinus</td>\n",
              "      <td>genus</td>\n",
              "      <td>image.3.jpg</td>\n",
              "      <td>image.23.jpg</td>\n",
              "      <td>image.4.jpg</td>\n",
              "      <td>image.1.jpg</td>\n",
              "      <td>image.2.jpg</td>\n",
              "      <td>image.20.jpg</td>\n",
              "      <td>...</td>\n",
              "      <td>image.22.jpg</td>\n",
              "      <td>image.21.jpg</td>\n",
              "      <td>0</td>\n",
              "      <td>target</td>\n",
              "      <td>Serinus</td>\n",
              "      <td>Serinus is a genus of small birds in the finch...</td>\n",
              "      <td>NaN</td>\n",
              "      <td>NaN</td>\n",
              "      <td>serinus genus</td>\n",
              "      <td>image.20.jpg</td>\n",
              "    </tr>\n",
              "    <tr>\n",
              "      <th>2</th>\n",
              "      <td>pegmatite</td>\n",
              "      <td>pegmatite igneous</td>\n",
              "      <td>pegmatite</td>\n",
              "      <td>igneous</td>\n",
              "      <td>image.41.jpg</td>\n",
              "      <td>image.39.jpg</td>\n",
              "      <td>image.42.jpg</td>\n",
              "      <td>image.43.jpg</td>\n",
              "      <td>image.40.jpg</td>\n",
              "      <td>image.44.jpg</td>\n",
              "      <td>...</td>\n",
              "      <td>image.36.jpg</td>\n",
              "      <td>image.35.jpg</td>\n",
              "      <td>0</td>\n",
              "      <td>target</td>\n",
              "      <td>Pegmatite</td>\n",
              "      <td>A pegmatite is an igneous rock showing a very ...</td>\n",
              "      <td>NaN</td>\n",
              "      <td>NaN</td>\n",
              "      <td>pegmatite igneous</td>\n",
              "      <td>image.35.jpg</td>\n",
              "    </tr>\n",
              "    <tr>\n",
              "      <th>3</th>\n",
              "      <td>bangalores</td>\n",
              "      <td>bangalores torpedo</td>\n",
              "      <td>bangalores</td>\n",
              "      <td>torpedo</td>\n",
              "      <td>image.58.jpg</td>\n",
              "      <td>image.59.jpg</td>\n",
              "      <td>image.64.jpg</td>\n",
              "      <td>image.57.jpg</td>\n",
              "      <td>image.55.jpg</td>\n",
              "      <td>image.56.jpg</td>\n",
              "      <td>...</td>\n",
              "      <td>image.61.jpg</td>\n",
              "      <td>image.60.jpg</td>\n",
              "      <td>0</td>\n",
              "      <td>target</td>\n",
              "      <td>Bangalore torpedo</td>\n",
              "      <td>A Bangalore torpedo is an explosive charge pla...</td>\n",
              "      <td>NaN</td>\n",
              "      <td>NaN</td>\n",
              "      <td>bangalores torpedo</td>\n",
              "      <td>image.55.jpg</td>\n",
              "    </tr>\n",
              "    <tr>\n",
              "      <th>4</th>\n",
              "      <td>bonxie</td>\n",
              "      <td>bonxie skua</td>\n",
              "      <td>bonxie</td>\n",
              "      <td>skua</td>\n",
              "      <td>image.3.jpg</td>\n",
              "      <td>image.77.jpg</td>\n",
              "      <td>image.78.jpg</td>\n",
              "      <td>image.4.jpg</td>\n",
              "      <td>image.1.jpg</td>\n",
              "      <td>image.2.jpg</td>\n",
              "      <td>...</td>\n",
              "      <td>image.76.jpg</td>\n",
              "      <td>image.75.jpg</td>\n",
              "      <td>0</td>\n",
              "      <td>target</td>\n",
              "      <td>Great skua</td>\n",
              "      <td>The great skua (Stercorarius skua), sometimes ...</td>\n",
              "      <td>NaN</td>\n",
              "      <td>NaN</td>\n",
              "      <td>bonxie skua</td>\n",
              "      <td>image.75.jpg</td>\n",
              "    </tr>\n",
              "  </tbody>\n",
              "</table>\n",
              "<p>5 rows × 22 columns</p>\n",
              "</div>\n",
              "      <button class=\"colab-df-convert\" onclick=\"convertToInteractive('df-3502ef22-1a35-4e22-94aa-1acdfdd7e50c')\"\n",
              "              title=\"Convert this dataframe to an interactive table.\"\n",
              "              style=\"display:none;\">\n",
              "        \n",
              "  <svg xmlns=\"http://www.w3.org/2000/svg\" height=\"24px\"viewBox=\"0 0 24 24\"\n",
              "       width=\"24px\">\n",
              "    <path d=\"M0 0h24v24H0V0z\" fill=\"none\"/>\n",
              "    <path d=\"M18.56 5.44l.94 2.06.94-2.06 2.06-.94-2.06-.94-.94-2.06-.94 2.06-2.06.94zm-11 1L8.5 8.5l.94-2.06 2.06-.94-2.06-.94L8.5 2.5l-.94 2.06-2.06.94zm10 10l.94 2.06.94-2.06 2.06-.94-2.06-.94-.94-2.06-.94 2.06-2.06.94z\"/><path d=\"M17.41 7.96l-1.37-1.37c-.4-.4-.92-.59-1.43-.59-.52 0-1.04.2-1.43.59L10.3 9.45l-7.72 7.72c-.78.78-.78 2.05 0 2.83L4 21.41c.39.39.9.59 1.41.59.51 0 1.02-.2 1.41-.59l7.78-7.78 2.81-2.81c.8-.78.8-2.07 0-2.86zM5.41 20L4 18.59l7.72-7.72 1.47 1.35L5.41 20z\"/>\n",
              "  </svg>\n",
              "      </button>\n",
              "      \n",
              "  <style>\n",
              "    .colab-df-container {\n",
              "      display:flex;\n",
              "      flex-wrap:wrap;\n",
              "      gap: 12px;\n",
              "    }\n",
              "\n",
              "    .colab-df-convert {\n",
              "      background-color: #E8F0FE;\n",
              "      border: none;\n",
              "      border-radius: 50%;\n",
              "      cursor: pointer;\n",
              "      display: none;\n",
              "      fill: #1967D2;\n",
              "      height: 32px;\n",
              "      padding: 0 0 0 0;\n",
              "      width: 32px;\n",
              "    }\n",
              "\n",
              "    .colab-df-convert:hover {\n",
              "      background-color: #E2EBFA;\n",
              "      box-shadow: 0px 1px 2px rgba(60, 64, 67, 0.3), 0px 1px 3px 1px rgba(60, 64, 67, 0.15);\n",
              "      fill: #174EA6;\n",
              "    }\n",
              "\n",
              "    [theme=dark] .colab-df-convert {\n",
              "      background-color: #3B4455;\n",
              "      fill: #D2E3FC;\n",
              "    }\n",
              "\n",
              "    [theme=dark] .colab-df-convert:hover {\n",
              "      background-color: #434B5C;\n",
              "      box-shadow: 0px 1px 3px 1px rgba(0, 0, 0, 0.15);\n",
              "      filter: drop-shadow(0px 1px 2px rgba(0, 0, 0, 0.3));\n",
              "      fill: #FFFFFF;\n",
              "    }\n",
              "  </style>\n",
              "\n",
              "      <script>\n",
              "        const buttonEl =\n",
              "          document.querySelector('#df-3502ef22-1a35-4e22-94aa-1acdfdd7e50c button.colab-df-convert');\n",
              "        buttonEl.style.display =\n",
              "          google.colab.kernel.accessAllowed ? 'block' : 'none';\n",
              "\n",
              "        async function convertToInteractive(key) {\n",
              "          const element = document.querySelector('#df-3502ef22-1a35-4e22-94aa-1acdfdd7e50c');\n",
              "          const dataTable =\n",
              "            await google.colab.kernel.invokeFunction('convertToInteractive',\n",
              "                                                     [key], {});\n",
              "          if (!dataTable) return;\n",
              "\n",
              "          const docLinkHtml = 'Like what you see? Visit the ' +\n",
              "            '<a target=\"_blank\" href=https://colab.research.google.com/notebooks/data_table.ipynb>data table notebook</a>'\n",
              "            + ' to learn more about interactive tables.';\n",
              "          element.innerHTML = '';\n",
              "          dataTable['output_type'] = 'display_data';\n",
              "          await google.colab.output.renderOutput(dataTable, element);\n",
              "          const docLink = document.createElement('div');\n",
              "          docLink.innerHTML = docLinkHtml;\n",
              "          element.appendChild(docLink);\n",
              "        }\n",
              "      </script>\n",
              "    </div>\n",
              "  </div>\n",
              "  "
            ]
          },
          "metadata": {},
          "execution_count": 3
        }
      ]
    },
    {
      "cell_type": "code",
      "source": [
        "df.isna().sum()"
      ],
      "metadata": {
        "colab": {
          "base_uri": "https://localhost:8080/"
        },
        "id": "4N7QBxZ9XFPr",
        "outputId": "f0791f25-f933-4f8f-cd5b-b310afcf50c5"
      },
      "execution_count": null,
      "outputs": [
        {
          "output_type": "execute_result",
          "data": {
            "text/plain": [
              "target_word                 0\n",
              "phrase                      0\n",
              "target_preprocessed         0\n",
              "context_preprocessed        0\n",
              "img_0                       0\n",
              "img_1                       0\n",
              "img_2                       0\n",
              "img_3                       0\n",
              "img_4                       0\n",
              "img_5                       0\n",
              "img_6                       0\n",
              "img_7                       0\n",
              "img_8                       0\n",
              "img_9                       0\n",
              "non_eng                     0\n",
              "summary_source              0\n",
              "summary_phrase              0\n",
              "summary_content            19\n",
              "summary_link            11615\n",
              "notes                   12852\n",
              "phrase_preprocessed         0\n",
              "gold_image                  0\n",
              "dtype: int64"
            ]
          },
          "metadata": {},
          "execution_count": 10
        }
      ]
    },
    {
      "cell_type": "markdown",
      "source": [
        "Check out notes"
      ],
      "metadata": {
        "id": "4X6bY2vpZb90"
      }
    },
    {
      "cell_type": "code",
      "source": [
        "df[~df['notes'].isna()]"
      ],
      "metadata": {
        "colab": {
          "base_uri": "https://localhost:8080/",
          "height": 1000
        },
        "id": "6U_HOGc4XIQi",
        "outputId": "9fa10798-afc0-4e82-9aea-da477017d8ba"
      },
      "execution_count": null,
      "outputs": [
        {
          "output_type": "execute_result",
          "data": {
            "text/plain": [
              "        target_word               phrase target_preprocessed  \\\n",
              "384           palas           palas tree               palas   \n",
              "613           bacne           bacne acne               bacne   \n",
              "6954        western      western feature             western   \n",
              "7092           post         post install                post   \n",
              "7134            dig         dig excavate                 dig   \n",
              "7151        control   control manipulate             control   \n",
              "7374   mademoiselle    mademoiselle drum        mademoiselle   \n",
              "8603           ride            ride move                ride   \n",
              "9180           blow          blow excite                blow   \n",
              "9209           blow        blow displace                blow   \n",
              "10047   electronics  electronics physics         electronics   \n",
              "10755      nightjar        nightjar bird            nightjar   \n",
              "10762        depart          depart exit              depart   \n",
              "10861          beat            beat play                beat   \n",
              "10919         model           model help               model   \n",
              "12341          bear           bear clear                bear   \n",
              "12625       dadcest      dadcest complex             dadcest   \n",
              "\n",
              "      context_preprocessed            img_0            img_1            img_2  \\\n",
              "384                   tree      image.3.jpg   image.5063.jpg   image.5064.jpg   \n",
              "613                   acne    image.786.jpg    image.997.jpg   image.7133.jpg   \n",
              "6954               feature   image.2883.jpg   image.1077.jpg   image.9349.jpg   \n",
              "7092               install   image.2595.jpg    image.575.jpg   image.2846.jpg   \n",
              "7134              excavate   image.8431.jpg   image.2888.jpg   image.5998.jpg   \n",
              "7151            manipulate   image.4363.jpg  image.10389.jpg   image.3797.jpg   \n",
              "7374                  drum      image.3.jpg    image.327.jpg    image.867.jpg   \n",
              "8603                  move   image.3769.jpg  image.13384.jpg   image.8547.jpg   \n",
              "9180                excite   image.9503.jpg    image.345.jpg  image.11052.jpg   \n",
              "9209              displace   image.2493.jpg  image.12684.jpg  image.11179.jpg   \n",
              "10047              physics    image.293.jpg    image.881.jpg   image.2163.jpg   \n",
              "10755                 bird      image.3.jpg   image.2323.jpg   image.2569.jpg   \n",
              "10762                 exit   image.5279.jpg  image.12893.jpg  image.10279.jpg   \n",
              "10861                 play  image.14414.jpg   image.5800.jpg   image.8953.jpg   \n",
              "10919                 help    image.723.jpg    image.106.jpg   image.1465.jpg   \n",
              "12341                clear   image.7755.jpg   image.3210.jpg  image.14385.jpg   \n",
              "12625              complex   image.1527.jpg   image.2870.jpg  image.12850.jpg   \n",
              "\n",
              "                 img_3            img_4            img_5            img_6  \\\n",
              "384      image.984.jpg      image.4.jpg      image.1.jpg      image.2.jpg   \n",
              "613     image.7138.jpg   image.7139.jpg   image.4540.jpg   image.7023.jpg   \n",
              "6954    image.3755.jpg   image.3385.jpg   image.2885.jpg   image.4474.jpg   \n",
              "7092   image.14483.jpg   image.9637.jpg  image.12255.jpg    image.532.jpg   \n",
              "7134    image.4120.jpg   image.4130.jpg   image.5541.jpg   image.3165.jpg   \n",
              "7151      image.93.jpg  image.11194.jpg    image.757.jpg   image.3676.jpg   \n",
              "7374    image.5441.jpg      image.4.jpg      image.1.jpg      image.2.jpg   \n",
              "8603   image.12161.jpg   image.5253.jpg   image.1148.jpg   image.5386.jpg   \n",
              "9180   image.14822.jpg  image.13402.jpg   image.9903.jpg    image.733.jpg   \n",
              "9209   image.12430.jpg  image.11704.jpg   image.5411.jpg   image.4213.jpg   \n",
              "10047    image.292.jpg    image.294.jpg    image.290.jpg   image.1854.jpg   \n",
              "10755      image.4.jpg      image.1.jpg      image.2.jpg  image.13493.jpg   \n",
              "10762   image.8411.jpg   image.7968.jpg   image.1719.jpg  image.10277.jpg   \n",
              "10861   image.4469.jpg  image.13679.jpg   image.4468.jpg   image.4472.jpg   \n",
              "10919    image.726.jpg   image.2543.jpg   image.2554.jpg    image.722.jpg   \n",
              "12341   image.6709.jpg   image.7781.jpg   image.1581.jpg   image.9987.jpg   \n",
              "12625   image.9875.jpg  image.10281.jpg   image.7546.jpg   image.2867.jpg   \n",
              "\n",
              "                 img_7            img_8            img_9  non_eng  \\\n",
              "384        image.5.jpg    image.319.jpg   image.5062.jpg        0   \n",
              "613     image.4524.jpg   image.1579.jpg   image.7140.jpg        0   \n",
              "6954    image.2884.jpg   image.2882.jpg   image.2881.jpg        0   \n",
              "7092   image.10097.jpg   image.1909.jpg   image.8765.jpg        0   \n",
              "7134    image.5379.jpg  image.10395.jpg   image.6777.jpg        0   \n",
              "7151    image.6323.jpg  image.10273.jpg  image.10766.jpg        0   \n",
              "7374       image.5.jpg   image.7803.jpg  image.10805.jpg        0   \n",
              "8603    image.8196.jpg   image.6683.jpg  image.14354.jpg        0   \n",
              "9180   image.10092.jpg   image.6616.jpg  image.10725.jpg        0   \n",
              "9209    image.8591.jpg  image.10445.jpg   image.6990.jpg        0   \n",
              "10047   image.9356.jpg    image.291.jpg   image.5484.jpg        0   \n",
              "10755      image.5.jpg  image.13896.jpg   image.7897.jpg        0   \n",
              "10762   image.9695.jpg  image.10278.jpg  image.10276.jpg        0   \n",
              "10861   image.4682.jpg   image.4470.jpg   image.4471.jpg        0   \n",
              "10919    image.724.jpg    image.725.jpg   image.7804.jpg        0   \n",
              "12341  image.10648.jpg   image.3321.jpg   image.5328.jpg        0   \n",
              "12625    image.284.jpg    image.522.jpg   image.2869.jpg        0   \n",
              "\n",
              "      summary_source      summary_phrase  \\\n",
              "384          Andreas    Butea monosperma   \n",
              "613          Andreas                Acne   \n",
              "6954          Kyuhee             western   \n",
              "7092          Kyuhee                post   \n",
              "7134          Kyuhee                 Dig   \n",
              "7151          Kyuhee             Control   \n",
              "7374          Kyuhee   mademoiselle drum   \n",
              "8603          Kyuhee                ride   \n",
              "9180          Kyuhee                blow   \n",
              "9209          Kyuhee                blow   \n",
              "10047         Kyuhee         Electronics   \n",
              "10755         Kyuhee            Nightjar   \n",
              "10762         Kyuhee              depart   \n",
              "10861         Kyuhee                beat   \n",
              "10919         Kyuhee               Model   \n",
              "12341         Kyuhee  Bear (gay culture)   \n",
              "12625         Kyuhee      Father complex   \n",
              "\n",
              "                                         summary_content  \\\n",
              "384    Butea monosperma is a species of Butea native ...   \n",
              "613    Acne, also known as acne vulgaris, is a long-t...   \n",
              "6954                      in or from the west of a place   \n",
              "7092   to affix to a usual place (such as a wall) for...   \n",
              "7134   the process of carefully removing soil and obj...   \n",
              "7151   the act of controlling something or someone, o...   \n",
              "7374                              Name of song or singer   \n",
              "8603   to sit on something such as a bicycle, motorbi...   \n",
              "9180   to cause something to be destroyed by a bomb, ...   \n",
              "9209         to send forth a current of air or other gas   \n",
              "10047  The field of electronics is a branch of physic...   \n",
              "10755  Nightjars are medium-sized nocturnal or crepus...   \n",
              "10762       to go away or leave, especially on a journey   \n",
              "10861  to be better or more enjoyable than another ac...   \n",
              "10919  a system of postulates, data, and inferences p...   \n",
              "12341  In gay culture, a bear is a larger and often h...   \n",
              "12625  Father complex in psychology is a complex—a gr...   \n",
              "\n",
              "                                            summary_link  \\\n",
              "384       https://en.wikipedia.org/wiki/Butea_monosperma   \n",
              "613                   https://en.wikipedia.org/wiki/Acne   \n",
              "6954   https://dictionary.cambridge.org/dictionary/en...   \n",
              "7092     https://www.merriam-webster.com/dictionary/post   \n",
              "7134   https://dictionary.cambridge.org/dictionary/en...   \n",
              "7151   https://dictionary.cambridge.org/dictionary/en...   \n",
              "7374          https://en.wikipedia.org/wiki/Mademoiselle   \n",
              "8603   https://dictionary.cambridge.org/dictionary/en...   \n",
              "9180   https://dictionary.cambridge.org/dictionary/en...   \n",
              "9209     https://www.merriam-webster.com/dictionary/blow   \n",
              "10047          https://en.wikipedia.org/wiki/Electronics   \n",
              "10755             https://en.wikipedia.org/wiki/Nightjar   \n",
              "10762  https://dictionary.cambridge.org/dictionary/en...   \n",
              "10861    https://www.merriam-webster.com/dictionary/beat   \n",
              "10919   https://www.merriam-webster.com/dictionary/model   \n",
              "12341   https://en.wikipedia.org/wiki/Bear_(gay_culture)   \n",
              "12625       https://en.wikipedia.org/wiki/Father_complex   \n",
              "\n",
              "                               notes  \n",
              "384               is it palash tree?  \n",
              "613       Bacne = Acne on so.'s back  \n",
              "6954               ambiguous meaning  \n",
              "7092               ambiguous meaning  \n",
              "7134                     noun? verb?  \n",
              "7151               ambiguous meaning  \n",
              "7374   No exact search results found  \n",
              "8603                same as nr. 8548  \n",
              "9180               ambiguous meaning  \n",
              "9209               ambiguous meaning  \n",
              "10047             same as  Nr. 10017  \n",
              "10755              same as Nr. 10700  \n",
              "10762              same as Nr. 10748  \n",
              "10861              ambiguous meaning  \n",
              "10919              ambiguous meaning  \n",
              "12341              ambiguous meaning  \n",
              "12625              ambiguous meaning  "
            ],
            "text/html": [
              "\n",
              "  <div id=\"df-77126b2d-e35c-499d-96e2-63a4079460e3\">\n",
              "    <div class=\"colab-df-container\">\n",
              "      <div>\n",
              "<style scoped>\n",
              "    .dataframe tbody tr th:only-of-type {\n",
              "        vertical-align: middle;\n",
              "    }\n",
              "\n",
              "    .dataframe tbody tr th {\n",
              "        vertical-align: top;\n",
              "    }\n",
              "\n",
              "    .dataframe thead th {\n",
              "        text-align: right;\n",
              "    }\n",
              "</style>\n",
              "<table border=\"1\" class=\"dataframe\">\n",
              "  <thead>\n",
              "    <tr style=\"text-align: right;\">\n",
              "      <th></th>\n",
              "      <th>target_word</th>\n",
              "      <th>phrase</th>\n",
              "      <th>target_preprocessed</th>\n",
              "      <th>context_preprocessed</th>\n",
              "      <th>img_0</th>\n",
              "      <th>img_1</th>\n",
              "      <th>img_2</th>\n",
              "      <th>img_3</th>\n",
              "      <th>img_4</th>\n",
              "      <th>img_5</th>\n",
              "      <th>img_6</th>\n",
              "      <th>img_7</th>\n",
              "      <th>img_8</th>\n",
              "      <th>img_9</th>\n",
              "      <th>non_eng</th>\n",
              "      <th>summary_source</th>\n",
              "      <th>summary_phrase</th>\n",
              "      <th>summary_content</th>\n",
              "      <th>summary_link</th>\n",
              "      <th>notes</th>\n",
              "    </tr>\n",
              "  </thead>\n",
              "  <tbody>\n",
              "    <tr>\n",
              "      <th>384</th>\n",
              "      <td>palas</td>\n",
              "      <td>palas tree</td>\n",
              "      <td>palas</td>\n",
              "      <td>tree</td>\n",
              "      <td>image.3.jpg</td>\n",
              "      <td>image.5063.jpg</td>\n",
              "      <td>image.5064.jpg</td>\n",
              "      <td>image.984.jpg</td>\n",
              "      <td>image.4.jpg</td>\n",
              "      <td>image.1.jpg</td>\n",
              "      <td>image.2.jpg</td>\n",
              "      <td>image.5.jpg</td>\n",
              "      <td>image.319.jpg</td>\n",
              "      <td>image.5062.jpg</td>\n",
              "      <td>0</td>\n",
              "      <td>Andreas</td>\n",
              "      <td>Butea monosperma</td>\n",
              "      <td>Butea monosperma is a species of Butea native ...</td>\n",
              "      <td>https://en.wikipedia.org/wiki/Butea_monosperma</td>\n",
              "      <td>is it palash tree?</td>\n",
              "    </tr>\n",
              "    <tr>\n",
              "      <th>613</th>\n",
              "      <td>bacne</td>\n",
              "      <td>bacne acne</td>\n",
              "      <td>bacne</td>\n",
              "      <td>acne</td>\n",
              "      <td>image.786.jpg</td>\n",
              "      <td>image.997.jpg</td>\n",
              "      <td>image.7133.jpg</td>\n",
              "      <td>image.7138.jpg</td>\n",
              "      <td>image.7139.jpg</td>\n",
              "      <td>image.4540.jpg</td>\n",
              "      <td>image.7023.jpg</td>\n",
              "      <td>image.4524.jpg</td>\n",
              "      <td>image.1579.jpg</td>\n",
              "      <td>image.7140.jpg</td>\n",
              "      <td>0</td>\n",
              "      <td>Andreas</td>\n",
              "      <td>Acne</td>\n",
              "      <td>Acne, also known as acne vulgaris, is a long-t...</td>\n",
              "      <td>https://en.wikipedia.org/wiki/Acne</td>\n",
              "      <td>Bacne = Acne on so.'s back</td>\n",
              "    </tr>\n",
              "    <tr>\n",
              "      <th>6954</th>\n",
              "      <td>western</td>\n",
              "      <td>western feature</td>\n",
              "      <td>western</td>\n",
              "      <td>feature</td>\n",
              "      <td>image.2883.jpg</td>\n",
              "      <td>image.1077.jpg</td>\n",
              "      <td>image.9349.jpg</td>\n",
              "      <td>image.3755.jpg</td>\n",
              "      <td>image.3385.jpg</td>\n",
              "      <td>image.2885.jpg</td>\n",
              "      <td>image.4474.jpg</td>\n",
              "      <td>image.2884.jpg</td>\n",
              "      <td>image.2882.jpg</td>\n",
              "      <td>image.2881.jpg</td>\n",
              "      <td>0</td>\n",
              "      <td>Kyuhee</td>\n",
              "      <td>western</td>\n",
              "      <td>in or from the west of a place</td>\n",
              "      <td>https://dictionary.cambridge.org/dictionary/en...</td>\n",
              "      <td>ambiguous meaning</td>\n",
              "    </tr>\n",
              "    <tr>\n",
              "      <th>7092</th>\n",
              "      <td>post</td>\n",
              "      <td>post install</td>\n",
              "      <td>post</td>\n",
              "      <td>install</td>\n",
              "      <td>image.2595.jpg</td>\n",
              "      <td>image.575.jpg</td>\n",
              "      <td>image.2846.jpg</td>\n",
              "      <td>image.14483.jpg</td>\n",
              "      <td>image.9637.jpg</td>\n",
              "      <td>image.12255.jpg</td>\n",
              "      <td>image.532.jpg</td>\n",
              "      <td>image.10097.jpg</td>\n",
              "      <td>image.1909.jpg</td>\n",
              "      <td>image.8765.jpg</td>\n",
              "      <td>0</td>\n",
              "      <td>Kyuhee</td>\n",
              "      <td>post</td>\n",
              "      <td>to affix to a usual place (such as a wall) for...</td>\n",
              "      <td>https://www.merriam-webster.com/dictionary/post</td>\n",
              "      <td>ambiguous meaning</td>\n",
              "    </tr>\n",
              "    <tr>\n",
              "      <th>7134</th>\n",
              "      <td>dig</td>\n",
              "      <td>dig excavate</td>\n",
              "      <td>dig</td>\n",
              "      <td>excavate</td>\n",
              "      <td>image.8431.jpg</td>\n",
              "      <td>image.2888.jpg</td>\n",
              "      <td>image.5998.jpg</td>\n",
              "      <td>image.4120.jpg</td>\n",
              "      <td>image.4130.jpg</td>\n",
              "      <td>image.5541.jpg</td>\n",
              "      <td>image.3165.jpg</td>\n",
              "      <td>image.5379.jpg</td>\n",
              "      <td>image.10395.jpg</td>\n",
              "      <td>image.6777.jpg</td>\n",
              "      <td>0</td>\n",
              "      <td>Kyuhee</td>\n",
              "      <td>Dig</td>\n",
              "      <td>the process of carefully removing soil and obj...</td>\n",
              "      <td>https://dictionary.cambridge.org/dictionary/en...</td>\n",
              "      <td>noun? verb?</td>\n",
              "    </tr>\n",
              "    <tr>\n",
              "      <th>7151</th>\n",
              "      <td>control</td>\n",
              "      <td>control manipulate</td>\n",
              "      <td>control</td>\n",
              "      <td>manipulate</td>\n",
              "      <td>image.4363.jpg</td>\n",
              "      <td>image.10389.jpg</td>\n",
              "      <td>image.3797.jpg</td>\n",
              "      <td>image.93.jpg</td>\n",
              "      <td>image.11194.jpg</td>\n",
              "      <td>image.757.jpg</td>\n",
              "      <td>image.3676.jpg</td>\n",
              "      <td>image.6323.jpg</td>\n",
              "      <td>image.10273.jpg</td>\n",
              "      <td>image.10766.jpg</td>\n",
              "      <td>0</td>\n",
              "      <td>Kyuhee</td>\n",
              "      <td>Control</td>\n",
              "      <td>the act of controlling something or someone, o...</td>\n",
              "      <td>https://dictionary.cambridge.org/dictionary/en...</td>\n",
              "      <td>ambiguous meaning</td>\n",
              "    </tr>\n",
              "    <tr>\n",
              "      <th>7374</th>\n",
              "      <td>mademoiselle</td>\n",
              "      <td>mademoiselle drum</td>\n",
              "      <td>mademoiselle</td>\n",
              "      <td>drum</td>\n",
              "      <td>image.3.jpg</td>\n",
              "      <td>image.327.jpg</td>\n",
              "      <td>image.867.jpg</td>\n",
              "      <td>image.5441.jpg</td>\n",
              "      <td>image.4.jpg</td>\n",
              "      <td>image.1.jpg</td>\n",
              "      <td>image.2.jpg</td>\n",
              "      <td>image.5.jpg</td>\n",
              "      <td>image.7803.jpg</td>\n",
              "      <td>image.10805.jpg</td>\n",
              "      <td>0</td>\n",
              "      <td>Kyuhee</td>\n",
              "      <td>mademoiselle drum</td>\n",
              "      <td>Name of song or singer</td>\n",
              "      <td>https://en.wikipedia.org/wiki/Mademoiselle</td>\n",
              "      <td>No exact search results found</td>\n",
              "    </tr>\n",
              "    <tr>\n",
              "      <th>8603</th>\n",
              "      <td>ride</td>\n",
              "      <td>ride move</td>\n",
              "      <td>ride</td>\n",
              "      <td>move</td>\n",
              "      <td>image.3769.jpg</td>\n",
              "      <td>image.13384.jpg</td>\n",
              "      <td>image.8547.jpg</td>\n",
              "      <td>image.12161.jpg</td>\n",
              "      <td>image.5253.jpg</td>\n",
              "      <td>image.1148.jpg</td>\n",
              "      <td>image.5386.jpg</td>\n",
              "      <td>image.8196.jpg</td>\n",
              "      <td>image.6683.jpg</td>\n",
              "      <td>image.14354.jpg</td>\n",
              "      <td>0</td>\n",
              "      <td>Kyuhee</td>\n",
              "      <td>ride</td>\n",
              "      <td>to sit on something such as a bicycle, motorbi...</td>\n",
              "      <td>https://dictionary.cambridge.org/dictionary/en...</td>\n",
              "      <td>same as nr. 8548</td>\n",
              "    </tr>\n",
              "    <tr>\n",
              "      <th>9180</th>\n",
              "      <td>blow</td>\n",
              "      <td>blow excite</td>\n",
              "      <td>blow</td>\n",
              "      <td>excite</td>\n",
              "      <td>image.9503.jpg</td>\n",
              "      <td>image.345.jpg</td>\n",
              "      <td>image.11052.jpg</td>\n",
              "      <td>image.14822.jpg</td>\n",
              "      <td>image.13402.jpg</td>\n",
              "      <td>image.9903.jpg</td>\n",
              "      <td>image.733.jpg</td>\n",
              "      <td>image.10092.jpg</td>\n",
              "      <td>image.6616.jpg</td>\n",
              "      <td>image.10725.jpg</td>\n",
              "      <td>0</td>\n",
              "      <td>Kyuhee</td>\n",
              "      <td>blow</td>\n",
              "      <td>to cause something to be destroyed by a bomb, ...</td>\n",
              "      <td>https://dictionary.cambridge.org/dictionary/en...</td>\n",
              "      <td>ambiguous meaning</td>\n",
              "    </tr>\n",
              "    <tr>\n",
              "      <th>9209</th>\n",
              "      <td>blow</td>\n",
              "      <td>blow displace</td>\n",
              "      <td>blow</td>\n",
              "      <td>displace</td>\n",
              "      <td>image.2493.jpg</td>\n",
              "      <td>image.12684.jpg</td>\n",
              "      <td>image.11179.jpg</td>\n",
              "      <td>image.12430.jpg</td>\n",
              "      <td>image.11704.jpg</td>\n",
              "      <td>image.5411.jpg</td>\n",
              "      <td>image.4213.jpg</td>\n",
              "      <td>image.8591.jpg</td>\n",
              "      <td>image.10445.jpg</td>\n",
              "      <td>image.6990.jpg</td>\n",
              "      <td>0</td>\n",
              "      <td>Kyuhee</td>\n",
              "      <td>blow</td>\n",
              "      <td>to send forth a current of air or other gas</td>\n",
              "      <td>https://www.merriam-webster.com/dictionary/blow</td>\n",
              "      <td>ambiguous meaning</td>\n",
              "    </tr>\n",
              "    <tr>\n",
              "      <th>10047</th>\n",
              "      <td>electronics</td>\n",
              "      <td>electronics physics</td>\n",
              "      <td>electronics</td>\n",
              "      <td>physics</td>\n",
              "      <td>image.293.jpg</td>\n",
              "      <td>image.881.jpg</td>\n",
              "      <td>image.2163.jpg</td>\n",
              "      <td>image.292.jpg</td>\n",
              "      <td>image.294.jpg</td>\n",
              "      <td>image.290.jpg</td>\n",
              "      <td>image.1854.jpg</td>\n",
              "      <td>image.9356.jpg</td>\n",
              "      <td>image.291.jpg</td>\n",
              "      <td>image.5484.jpg</td>\n",
              "      <td>0</td>\n",
              "      <td>Kyuhee</td>\n",
              "      <td>Electronics</td>\n",
              "      <td>The field of electronics is a branch of physic...</td>\n",
              "      <td>https://en.wikipedia.org/wiki/Electronics</td>\n",
              "      <td>same as  Nr. 10017</td>\n",
              "    </tr>\n",
              "    <tr>\n",
              "      <th>10755</th>\n",
              "      <td>nightjar</td>\n",
              "      <td>nightjar bird</td>\n",
              "      <td>nightjar</td>\n",
              "      <td>bird</td>\n",
              "      <td>image.3.jpg</td>\n",
              "      <td>image.2323.jpg</td>\n",
              "      <td>image.2569.jpg</td>\n",
              "      <td>image.4.jpg</td>\n",
              "      <td>image.1.jpg</td>\n",
              "      <td>image.2.jpg</td>\n",
              "      <td>image.13493.jpg</td>\n",
              "      <td>image.5.jpg</td>\n",
              "      <td>image.13896.jpg</td>\n",
              "      <td>image.7897.jpg</td>\n",
              "      <td>0</td>\n",
              "      <td>Kyuhee</td>\n",
              "      <td>Nightjar</td>\n",
              "      <td>Nightjars are medium-sized nocturnal or crepus...</td>\n",
              "      <td>https://en.wikipedia.org/wiki/Nightjar</td>\n",
              "      <td>same as Nr. 10700</td>\n",
              "    </tr>\n",
              "    <tr>\n",
              "      <th>10762</th>\n",
              "      <td>depart</td>\n",
              "      <td>depart exit</td>\n",
              "      <td>depart</td>\n",
              "      <td>exit</td>\n",
              "      <td>image.5279.jpg</td>\n",
              "      <td>image.12893.jpg</td>\n",
              "      <td>image.10279.jpg</td>\n",
              "      <td>image.8411.jpg</td>\n",
              "      <td>image.7968.jpg</td>\n",
              "      <td>image.1719.jpg</td>\n",
              "      <td>image.10277.jpg</td>\n",
              "      <td>image.9695.jpg</td>\n",
              "      <td>image.10278.jpg</td>\n",
              "      <td>image.10276.jpg</td>\n",
              "      <td>0</td>\n",
              "      <td>Kyuhee</td>\n",
              "      <td>depart</td>\n",
              "      <td>to go away or leave, especially on a journey</td>\n",
              "      <td>https://dictionary.cambridge.org/dictionary/en...</td>\n",
              "      <td>same as Nr. 10748</td>\n",
              "    </tr>\n",
              "    <tr>\n",
              "      <th>10861</th>\n",
              "      <td>beat</td>\n",
              "      <td>beat play</td>\n",
              "      <td>beat</td>\n",
              "      <td>play</td>\n",
              "      <td>image.14414.jpg</td>\n",
              "      <td>image.5800.jpg</td>\n",
              "      <td>image.8953.jpg</td>\n",
              "      <td>image.4469.jpg</td>\n",
              "      <td>image.13679.jpg</td>\n",
              "      <td>image.4468.jpg</td>\n",
              "      <td>image.4472.jpg</td>\n",
              "      <td>image.4682.jpg</td>\n",
              "      <td>image.4470.jpg</td>\n",
              "      <td>image.4471.jpg</td>\n",
              "      <td>0</td>\n",
              "      <td>Kyuhee</td>\n",
              "      <td>beat</td>\n",
              "      <td>to be better or more enjoyable than another ac...</td>\n",
              "      <td>https://www.merriam-webster.com/dictionary/beat</td>\n",
              "      <td>ambiguous meaning</td>\n",
              "    </tr>\n",
              "    <tr>\n",
              "      <th>10919</th>\n",
              "      <td>model</td>\n",
              "      <td>model help</td>\n",
              "      <td>model</td>\n",
              "      <td>help</td>\n",
              "      <td>image.723.jpg</td>\n",
              "      <td>image.106.jpg</td>\n",
              "      <td>image.1465.jpg</td>\n",
              "      <td>image.726.jpg</td>\n",
              "      <td>image.2543.jpg</td>\n",
              "      <td>image.2554.jpg</td>\n",
              "      <td>image.722.jpg</td>\n",
              "      <td>image.724.jpg</td>\n",
              "      <td>image.725.jpg</td>\n",
              "      <td>image.7804.jpg</td>\n",
              "      <td>0</td>\n",
              "      <td>Kyuhee</td>\n",
              "      <td>Model</td>\n",
              "      <td>a system of postulates, data, and inferences p...</td>\n",
              "      <td>https://www.merriam-webster.com/dictionary/model</td>\n",
              "      <td>ambiguous meaning</td>\n",
              "    </tr>\n",
              "    <tr>\n",
              "      <th>12341</th>\n",
              "      <td>bear</td>\n",
              "      <td>bear clear</td>\n",
              "      <td>bear</td>\n",
              "      <td>clear</td>\n",
              "      <td>image.7755.jpg</td>\n",
              "      <td>image.3210.jpg</td>\n",
              "      <td>image.14385.jpg</td>\n",
              "      <td>image.6709.jpg</td>\n",
              "      <td>image.7781.jpg</td>\n",
              "      <td>image.1581.jpg</td>\n",
              "      <td>image.9987.jpg</td>\n",
              "      <td>image.10648.jpg</td>\n",
              "      <td>image.3321.jpg</td>\n",
              "      <td>image.5328.jpg</td>\n",
              "      <td>0</td>\n",
              "      <td>Kyuhee</td>\n",
              "      <td>Bear (gay culture)</td>\n",
              "      <td>In gay culture, a bear is a larger and often h...</td>\n",
              "      <td>https://en.wikipedia.org/wiki/Bear_(gay_culture)</td>\n",
              "      <td>ambiguous meaning</td>\n",
              "    </tr>\n",
              "    <tr>\n",
              "      <th>12625</th>\n",
              "      <td>dadcest</td>\n",
              "      <td>dadcest complex</td>\n",
              "      <td>dadcest</td>\n",
              "      <td>complex</td>\n",
              "      <td>image.1527.jpg</td>\n",
              "      <td>image.2870.jpg</td>\n",
              "      <td>image.12850.jpg</td>\n",
              "      <td>image.9875.jpg</td>\n",
              "      <td>image.10281.jpg</td>\n",
              "      <td>image.7546.jpg</td>\n",
              "      <td>image.2867.jpg</td>\n",
              "      <td>image.284.jpg</td>\n",
              "      <td>image.522.jpg</td>\n",
              "      <td>image.2869.jpg</td>\n",
              "      <td>0</td>\n",
              "      <td>Kyuhee</td>\n",
              "      <td>Father complex</td>\n",
              "      <td>Father complex in psychology is a complex—a gr...</td>\n",
              "      <td>https://en.wikipedia.org/wiki/Father_complex</td>\n",
              "      <td>ambiguous meaning</td>\n",
              "    </tr>\n",
              "  </tbody>\n",
              "</table>\n",
              "</div>\n",
              "      <button class=\"colab-df-convert\" onclick=\"convertToInteractive('df-77126b2d-e35c-499d-96e2-63a4079460e3')\"\n",
              "              title=\"Convert this dataframe to an interactive table.\"\n",
              "              style=\"display:none;\">\n",
              "        \n",
              "  <svg xmlns=\"http://www.w3.org/2000/svg\" height=\"24px\"viewBox=\"0 0 24 24\"\n",
              "       width=\"24px\">\n",
              "    <path d=\"M0 0h24v24H0V0z\" fill=\"none\"/>\n",
              "    <path d=\"M18.56 5.44l.94 2.06.94-2.06 2.06-.94-2.06-.94-.94-2.06-.94 2.06-2.06.94zm-11 1L8.5 8.5l.94-2.06 2.06-.94-2.06-.94L8.5 2.5l-.94 2.06-2.06.94zm10 10l.94 2.06.94-2.06 2.06-.94-2.06-.94-.94-2.06-.94 2.06-2.06.94z\"/><path d=\"M17.41 7.96l-1.37-1.37c-.4-.4-.92-.59-1.43-.59-.52 0-1.04.2-1.43.59L10.3 9.45l-7.72 7.72c-.78.78-.78 2.05 0 2.83L4 21.41c.39.39.9.59 1.41.59.51 0 1.02-.2 1.41-.59l7.78-7.78 2.81-2.81c.8-.78.8-2.07 0-2.86zM5.41 20L4 18.59l7.72-7.72 1.47 1.35L5.41 20z\"/>\n",
              "  </svg>\n",
              "      </button>\n",
              "      \n",
              "  <style>\n",
              "    .colab-df-container {\n",
              "      display:flex;\n",
              "      flex-wrap:wrap;\n",
              "      gap: 12px;\n",
              "    }\n",
              "\n",
              "    .colab-df-convert {\n",
              "      background-color: #E8F0FE;\n",
              "      border: none;\n",
              "      border-radius: 50%;\n",
              "      cursor: pointer;\n",
              "      display: none;\n",
              "      fill: #1967D2;\n",
              "      height: 32px;\n",
              "      padding: 0 0 0 0;\n",
              "      width: 32px;\n",
              "    }\n",
              "\n",
              "    .colab-df-convert:hover {\n",
              "      background-color: #E2EBFA;\n",
              "      box-shadow: 0px 1px 2px rgba(60, 64, 67, 0.3), 0px 1px 3px 1px rgba(60, 64, 67, 0.15);\n",
              "      fill: #174EA6;\n",
              "    }\n",
              "\n",
              "    [theme=dark] .colab-df-convert {\n",
              "      background-color: #3B4455;\n",
              "      fill: #D2E3FC;\n",
              "    }\n",
              "\n",
              "    [theme=dark] .colab-df-convert:hover {\n",
              "      background-color: #434B5C;\n",
              "      box-shadow: 0px 1px 3px 1px rgba(0, 0, 0, 0.15);\n",
              "      filter: drop-shadow(0px 1px 2px rgba(0, 0, 0, 0.3));\n",
              "      fill: #FFFFFF;\n",
              "    }\n",
              "  </style>\n",
              "\n",
              "      <script>\n",
              "        const buttonEl =\n",
              "          document.querySelector('#df-77126b2d-e35c-499d-96e2-63a4079460e3 button.colab-df-convert');\n",
              "        buttonEl.style.display =\n",
              "          google.colab.kernel.accessAllowed ? 'block' : 'none';\n",
              "\n",
              "        async function convertToInteractive(key) {\n",
              "          const element = document.querySelector('#df-77126b2d-e35c-499d-96e2-63a4079460e3');\n",
              "          const dataTable =\n",
              "            await google.colab.kernel.invokeFunction('convertToInteractive',\n",
              "                                                     [key], {});\n",
              "          if (!dataTable) return;\n",
              "\n",
              "          const docLinkHtml = 'Like what you see? Visit the ' +\n",
              "            '<a target=\"_blank\" href=https://colab.research.google.com/notebooks/data_table.ipynb>data table notebook</a>'\n",
              "            + ' to learn more about interactive tables.';\n",
              "          element.innerHTML = '';\n",
              "          dataTable['output_type'] = 'display_data';\n",
              "          await google.colab.output.renderOutput(dataTable, element);\n",
              "          const docLink = document.createElement('div');\n",
              "          docLink.innerHTML = docLinkHtml;\n",
              "          element.appendChild(docLink);\n",
              "        }\n",
              "      </script>\n",
              "    </div>\n",
              "  </div>\n",
              "  "
            ]
          },
          "metadata": {},
          "execution_count": 7
        }
      ]
    },
    {
      "cell_type": "markdown",
      "source": [
        "Remove rows with missing summaries (for now)"
      ],
      "metadata": {
        "id": "jHHMTvGeZWjf"
      }
    },
    {
      "cell_type": "code",
      "source": [
        "df[df['summary_content'].isna()]"
      ],
      "metadata": {
        "colab": {
          "base_uri": "https://localhost:8080/",
          "height": 1000
        },
        "id": "JQYWpw4ZYF04",
        "outputId": "892ab284-4515-4309-b29d-52d1d367bc08"
      },
      "execution_count": null,
      "outputs": [
        {
          "output_type": "execute_result",
          "data": {
            "text/plain": [
              "          target_word                  phrase target_preprocessed  \\\n",
              "977          surprise      surprise amazement            surprise   \n",
              "1324          deparia           deparia genus             deparia   \n",
              "1479        hirsutism     hirsutism hairiness           hirsutism   \n",
              "1512            buxus             buxus genus               buxus   \n",
              "1652        pterygium   pterygium conjunctiva           pterygium   \n",
              "1918          disgust         disgust dislike             disgust   \n",
              "2074           pamper            pamper treat              pamper   \n",
              "3650     chain-letter     chain-letter letter        chain-letter   \n",
              "6892         contempt        contempt dislike            contempt   \n",
              "6926            serve           serve provide               serve   \n",
              "8343           tunnel       tunnel passageway              tunnel   \n",
              "10766    lebensfreude  lebensfreude enjoyment        lebensfreude   \n",
              "10778       perforate        perforate pierce           perforate   \n",
              "11224          depict          depict exposit              depict   \n",
              "11460         dislike         dislike feeling             dislike   \n",
              "11623  sabre-rattling   sabre-rattling action      sabre-rattling   \n",
              "11992       malpighia         malpighia genus           malpighia   \n",
              "12046           latte          latte espresso               latte   \n",
              "12171          ladder           ladder stairs              ladder   \n",
              "\n",
              "      context_preprocessed            img_0            img_1            img_2  \\\n",
              "977              amazement   image.5183.jpg   image.1361.jpg   image.9121.jpg   \n",
              "1324                 genus      image.3.jpg   image.2990.jpg      image.4.jpg   \n",
              "1479             hairiness    image.786.jpg   image.1743.jpg    image.865.jpg   \n",
              "1512                 genus      image.3.jpg   image.7401.jpg      image.4.jpg   \n",
              "1652           conjunctiva   image.1684.jpg    image.550.jpg   image.5517.jpg   \n",
              "1918               dislike    image.639.jpg   image.2348.jpg   image.1361.jpg   \n",
              "2074                 treat   image.1474.jpg   image.1475.jpg    image.404.jpg   \n",
              "3650                letter  image.10237.jpg  image.13407.jpg   image.7065.jpg   \n",
              "6892               dislike   image.1474.jpg   image.9120.jpg   image.1475.jpg   \n",
              "6926               provide   image.4703.jpg  image.14254.jpg  image.11878.jpg   \n",
              "8343            passageway    image.244.jpg    image.207.jpg   image.7064.jpg   \n",
              "10766            enjoyment   image.3692.jpg   image.1361.jpg   image.4029.jpg   \n",
              "10778               pierce   image.1928.jpg   image.4847.jpg   image.5877.jpg   \n",
              "11224              exposit   image.4547.jpg   image.8474.jpg  image.11953.jpg   \n",
              "11460              feeling   image.1474.jpg   image.9781.jpg  image.15410.jpg   \n",
              "11623               action   image.2834.jpg    image.928.jpg   image.9133.jpg   \n",
              "11992                genus   image.8953.jpg      image.3.jpg   image.6231.jpg   \n",
              "12046             espresso   image.2042.jpg    image.436.jpg  image.13705.jpg   \n",
              "12171               stairs  image.12916.jpg    image.293.jpg    image.292.jpg   \n",
              "\n",
              "                 img_3            img_4            img_5            img_6  \\\n",
              "977     image.2736.jpg   image.2739.jpg   image.9523.jpg   image.2738.jpg   \n",
              "1324    image.9332.jpg      image.1.jpg      image.2.jpg   image.3412.jpg   \n",
              "1479    image.1811.jpg   image.1649.jpg  image.11713.jpg   image.1151.jpg   \n",
              "1512   image.11361.jpg      image.1.jpg      image.2.jpg   image.5917.jpg   \n",
              "1652     image.786.jpg  image.11258.jpg   image.7082.jpg   image.5665.jpg   \n",
              "1918   image.12894.jpg   image.2995.jpg   image.2736.jpg   image.2739.jpg   \n",
              "2074    image.1692.jpg   image.1478.jpg  image.10000.jpg   image.1477.jpg   \n",
              "3650    image.4159.jpg  image.11541.jpg   image.9722.jpg   image.8441.jpg   \n",
              "6892    image.5376.jpg   image.7375.jpg   image.1478.jpg  image.12796.jpg   \n",
              "6926   image.13282.jpg   image.6610.jpg   image.8268.jpg  image.11182.jpg   \n",
              "8343     image.243.jpg  image.12494.jpg    image.240.jpg  image.12533.jpg   \n",
              "10766   image.2579.jpg   image.2736.jpg   image.2739.jpg   image.2738.jpg   \n",
              "10778   image.8374.jpg   image.4965.jpg   image.3052.jpg  image.12224.jpg   \n",
              "11224   image.2137.jpg  image.10585.jpg   image.4943.jpg  image.11606.jpg   \n",
              "11460   image.1475.jpg   image.1478.jpg   image.1477.jpg   image.1476.jpg   \n",
              "11623    image.930.jpg   image.2160.jpg   image.2824.jpg    image.931.jpg   \n",
              "11992   image.2887.jpg      image.4.jpg      image.1.jpg      image.2.jpg   \n",
              "12046  image.11150.jpg   image.2148.jpg    image.437.jpg  image.10887.jpg   \n",
              "12171  image.11150.jpg    image.294.jpg    image.290.jpg   image.7686.jpg   \n",
              "\n",
              "                 img_7            img_8            img_9  non_eng  \\\n",
              "977     image.2737.jpg   image.8659.jpg   image.2803.jpg        0   \n",
              "1324    image.2159.jpg      image.5.jpg  image.11143.jpg        0   \n",
              "1479   image.11711.jpg   image.3021.jpg  image.11712.jpg        0   \n",
              "1512   image.11823.jpg   image.8050.jpg      image.5.jpg        0   \n",
              "1652    image.7001.jpg  image.12237.jpg   image.8568.jpg        0   \n",
              "1918    image.2154.jpg   image.2738.jpg   image.2737.jpg        0   \n",
              "2074    image.1476.jpg  image.13238.jpg    image.790.jpg        0   \n",
              "3650   image.11542.jpg   image.7344.jpg  image.14791.jpg        0   \n",
              "6892    image.1477.jpg   image.1476.jpg  image.12926.jpg        0   \n",
              "6926    image.3095.jpg   image.2376.jpg   image.7431.jpg        0   \n",
              "8343     image.241.jpg   image.8517.jpg  image.13694.jpg        0   \n",
              "10766   image.2248.jpg   image.4168.jpg   image.2737.jpg        0   \n",
              "10778  image.10738.jpg  image.14411.jpg  image.14431.jpg        0   \n",
              "11224    image.697.jpg  image.11078.jpg   image.3449.jpg        0   \n",
              "11460  image.12172.jpg  image.10075.jpg   image.1351.jpg        0   \n",
              "11623    image.929.jpg   image.9352.jpg   image.1208.jpg        0   \n",
              "11992      image.5.jpg   image.5117.jpg  image.15830.jpg        0   \n",
              "12046    image.434.jpg  image.10593.jpg    image.433.jpg        0   \n",
              "12171    image.291.jpg   image.4593.jpg   image.2897.jpg        0   \n",
              "\n",
              "      summary_source             summary_phrase summary_content summary_link  \\\n",
              "977          context                  Amazement             NaN          NaN   \n",
              "1324          target         Deparia petersenii             NaN          NaN   \n",
              "1479          target                  Hirsutism             NaN          NaN   \n",
              "1512          target                      Buxus             NaN          NaN   \n",
              "1652          target                  Pterygium             NaN          NaN   \n",
              "1918         context                    Dislike             NaN          NaN   \n",
              "2074          target                     Pamper             NaN          NaN   \n",
              "3650         context                     Letter             NaN          NaN   \n",
              "6892         context                    Dislike             NaN          NaN   \n",
              "6926         context                    Provide             NaN          NaN   \n",
              "8343         context                 Passageway             NaN          NaN   \n",
              "10766         target  Beatrice Egli discography             NaN          NaN   \n",
              "10778         target                 Perforator             NaN          NaN   \n",
              "11224         target                     Depict             NaN          NaN   \n",
              "11460         target                    Dislike             NaN          NaN   \n",
              "11623         target             Saber rattling             NaN          NaN   \n",
              "11992         target       Malpighia emarginata             NaN          NaN   \n",
              "12046         target                      Latte             NaN          NaN   \n",
              "12171         target                     Ladder             NaN          NaN   \n",
              "\n",
              "      notes  \n",
              "977     NaN  \n",
              "1324    NaN  \n",
              "1479    NaN  \n",
              "1512    NaN  \n",
              "1652    NaN  \n",
              "1918    NaN  \n",
              "2074    NaN  \n",
              "3650    NaN  \n",
              "6892    NaN  \n",
              "6926    NaN  \n",
              "8343    NaN  \n",
              "10766   NaN  \n",
              "10778   NaN  \n",
              "11224   NaN  \n",
              "11460   NaN  \n",
              "11623   NaN  \n",
              "11992   NaN  \n",
              "12046   NaN  \n",
              "12171   NaN  "
            ],
            "text/html": [
              "\n",
              "  <div id=\"df-7749dbac-7fea-46ef-a088-5c115724c89e\">\n",
              "    <div class=\"colab-df-container\">\n",
              "      <div>\n",
              "<style scoped>\n",
              "    .dataframe tbody tr th:only-of-type {\n",
              "        vertical-align: middle;\n",
              "    }\n",
              "\n",
              "    .dataframe tbody tr th {\n",
              "        vertical-align: top;\n",
              "    }\n",
              "\n",
              "    .dataframe thead th {\n",
              "        text-align: right;\n",
              "    }\n",
              "</style>\n",
              "<table border=\"1\" class=\"dataframe\">\n",
              "  <thead>\n",
              "    <tr style=\"text-align: right;\">\n",
              "      <th></th>\n",
              "      <th>target_word</th>\n",
              "      <th>phrase</th>\n",
              "      <th>target_preprocessed</th>\n",
              "      <th>context_preprocessed</th>\n",
              "      <th>img_0</th>\n",
              "      <th>img_1</th>\n",
              "      <th>img_2</th>\n",
              "      <th>img_3</th>\n",
              "      <th>img_4</th>\n",
              "      <th>img_5</th>\n",
              "      <th>img_6</th>\n",
              "      <th>img_7</th>\n",
              "      <th>img_8</th>\n",
              "      <th>img_9</th>\n",
              "      <th>non_eng</th>\n",
              "      <th>summary_source</th>\n",
              "      <th>summary_phrase</th>\n",
              "      <th>summary_content</th>\n",
              "      <th>summary_link</th>\n",
              "      <th>notes</th>\n",
              "    </tr>\n",
              "  </thead>\n",
              "  <tbody>\n",
              "    <tr>\n",
              "      <th>977</th>\n",
              "      <td>surprise</td>\n",
              "      <td>surprise amazement</td>\n",
              "      <td>surprise</td>\n",
              "      <td>amazement</td>\n",
              "      <td>image.5183.jpg</td>\n",
              "      <td>image.1361.jpg</td>\n",
              "      <td>image.9121.jpg</td>\n",
              "      <td>image.2736.jpg</td>\n",
              "      <td>image.2739.jpg</td>\n",
              "      <td>image.9523.jpg</td>\n",
              "      <td>image.2738.jpg</td>\n",
              "      <td>image.2737.jpg</td>\n",
              "      <td>image.8659.jpg</td>\n",
              "      <td>image.2803.jpg</td>\n",
              "      <td>0</td>\n",
              "      <td>context</td>\n",
              "      <td>Amazement</td>\n",
              "      <td>NaN</td>\n",
              "      <td>NaN</td>\n",
              "      <td>NaN</td>\n",
              "    </tr>\n",
              "    <tr>\n",
              "      <th>1324</th>\n",
              "      <td>deparia</td>\n",
              "      <td>deparia genus</td>\n",
              "      <td>deparia</td>\n",
              "      <td>genus</td>\n",
              "      <td>image.3.jpg</td>\n",
              "      <td>image.2990.jpg</td>\n",
              "      <td>image.4.jpg</td>\n",
              "      <td>image.9332.jpg</td>\n",
              "      <td>image.1.jpg</td>\n",
              "      <td>image.2.jpg</td>\n",
              "      <td>image.3412.jpg</td>\n",
              "      <td>image.2159.jpg</td>\n",
              "      <td>image.5.jpg</td>\n",
              "      <td>image.11143.jpg</td>\n",
              "      <td>0</td>\n",
              "      <td>target</td>\n",
              "      <td>Deparia petersenii</td>\n",
              "      <td>NaN</td>\n",
              "      <td>NaN</td>\n",
              "      <td>NaN</td>\n",
              "    </tr>\n",
              "    <tr>\n",
              "      <th>1479</th>\n",
              "      <td>hirsutism</td>\n",
              "      <td>hirsutism hairiness</td>\n",
              "      <td>hirsutism</td>\n",
              "      <td>hairiness</td>\n",
              "      <td>image.786.jpg</td>\n",
              "      <td>image.1743.jpg</td>\n",
              "      <td>image.865.jpg</td>\n",
              "      <td>image.1811.jpg</td>\n",
              "      <td>image.1649.jpg</td>\n",
              "      <td>image.11713.jpg</td>\n",
              "      <td>image.1151.jpg</td>\n",
              "      <td>image.11711.jpg</td>\n",
              "      <td>image.3021.jpg</td>\n",
              "      <td>image.11712.jpg</td>\n",
              "      <td>0</td>\n",
              "      <td>target</td>\n",
              "      <td>Hirsutism</td>\n",
              "      <td>NaN</td>\n",
              "      <td>NaN</td>\n",
              "      <td>NaN</td>\n",
              "    </tr>\n",
              "    <tr>\n",
              "      <th>1512</th>\n",
              "      <td>buxus</td>\n",
              "      <td>buxus genus</td>\n",
              "      <td>buxus</td>\n",
              "      <td>genus</td>\n",
              "      <td>image.3.jpg</td>\n",
              "      <td>image.7401.jpg</td>\n",
              "      <td>image.4.jpg</td>\n",
              "      <td>image.11361.jpg</td>\n",
              "      <td>image.1.jpg</td>\n",
              "      <td>image.2.jpg</td>\n",
              "      <td>image.5917.jpg</td>\n",
              "      <td>image.11823.jpg</td>\n",
              "      <td>image.8050.jpg</td>\n",
              "      <td>image.5.jpg</td>\n",
              "      <td>0</td>\n",
              "      <td>target</td>\n",
              "      <td>Buxus</td>\n",
              "      <td>NaN</td>\n",
              "      <td>NaN</td>\n",
              "      <td>NaN</td>\n",
              "    </tr>\n",
              "    <tr>\n",
              "      <th>1652</th>\n",
              "      <td>pterygium</td>\n",
              "      <td>pterygium conjunctiva</td>\n",
              "      <td>pterygium</td>\n",
              "      <td>conjunctiva</td>\n",
              "      <td>image.1684.jpg</td>\n",
              "      <td>image.550.jpg</td>\n",
              "      <td>image.5517.jpg</td>\n",
              "      <td>image.786.jpg</td>\n",
              "      <td>image.11258.jpg</td>\n",
              "      <td>image.7082.jpg</td>\n",
              "      <td>image.5665.jpg</td>\n",
              "      <td>image.7001.jpg</td>\n",
              "      <td>image.12237.jpg</td>\n",
              "      <td>image.8568.jpg</td>\n",
              "      <td>0</td>\n",
              "      <td>target</td>\n",
              "      <td>Pterygium</td>\n",
              "      <td>NaN</td>\n",
              "      <td>NaN</td>\n",
              "      <td>NaN</td>\n",
              "    </tr>\n",
              "    <tr>\n",
              "      <th>1918</th>\n",
              "      <td>disgust</td>\n",
              "      <td>disgust dislike</td>\n",
              "      <td>disgust</td>\n",
              "      <td>dislike</td>\n",
              "      <td>image.639.jpg</td>\n",
              "      <td>image.2348.jpg</td>\n",
              "      <td>image.1361.jpg</td>\n",
              "      <td>image.12894.jpg</td>\n",
              "      <td>image.2995.jpg</td>\n",
              "      <td>image.2736.jpg</td>\n",
              "      <td>image.2739.jpg</td>\n",
              "      <td>image.2154.jpg</td>\n",
              "      <td>image.2738.jpg</td>\n",
              "      <td>image.2737.jpg</td>\n",
              "      <td>0</td>\n",
              "      <td>context</td>\n",
              "      <td>Dislike</td>\n",
              "      <td>NaN</td>\n",
              "      <td>NaN</td>\n",
              "      <td>NaN</td>\n",
              "    </tr>\n",
              "    <tr>\n",
              "      <th>2074</th>\n",
              "      <td>pamper</td>\n",
              "      <td>pamper treat</td>\n",
              "      <td>pamper</td>\n",
              "      <td>treat</td>\n",
              "      <td>image.1474.jpg</td>\n",
              "      <td>image.1475.jpg</td>\n",
              "      <td>image.404.jpg</td>\n",
              "      <td>image.1692.jpg</td>\n",
              "      <td>image.1478.jpg</td>\n",
              "      <td>image.10000.jpg</td>\n",
              "      <td>image.1477.jpg</td>\n",
              "      <td>image.1476.jpg</td>\n",
              "      <td>image.13238.jpg</td>\n",
              "      <td>image.790.jpg</td>\n",
              "      <td>0</td>\n",
              "      <td>target</td>\n",
              "      <td>Pamper</td>\n",
              "      <td>NaN</td>\n",
              "      <td>NaN</td>\n",
              "      <td>NaN</td>\n",
              "    </tr>\n",
              "    <tr>\n",
              "      <th>3650</th>\n",
              "      <td>chain-letter</td>\n",
              "      <td>chain-letter letter</td>\n",
              "      <td>chain-letter</td>\n",
              "      <td>letter</td>\n",
              "      <td>image.10237.jpg</td>\n",
              "      <td>image.13407.jpg</td>\n",
              "      <td>image.7065.jpg</td>\n",
              "      <td>image.4159.jpg</td>\n",
              "      <td>image.11541.jpg</td>\n",
              "      <td>image.9722.jpg</td>\n",
              "      <td>image.8441.jpg</td>\n",
              "      <td>image.11542.jpg</td>\n",
              "      <td>image.7344.jpg</td>\n",
              "      <td>image.14791.jpg</td>\n",
              "      <td>0</td>\n",
              "      <td>context</td>\n",
              "      <td>Letter</td>\n",
              "      <td>NaN</td>\n",
              "      <td>NaN</td>\n",
              "      <td>NaN</td>\n",
              "    </tr>\n",
              "    <tr>\n",
              "      <th>6892</th>\n",
              "      <td>contempt</td>\n",
              "      <td>contempt dislike</td>\n",
              "      <td>contempt</td>\n",
              "      <td>dislike</td>\n",
              "      <td>image.1474.jpg</td>\n",
              "      <td>image.9120.jpg</td>\n",
              "      <td>image.1475.jpg</td>\n",
              "      <td>image.5376.jpg</td>\n",
              "      <td>image.7375.jpg</td>\n",
              "      <td>image.1478.jpg</td>\n",
              "      <td>image.12796.jpg</td>\n",
              "      <td>image.1477.jpg</td>\n",
              "      <td>image.1476.jpg</td>\n",
              "      <td>image.12926.jpg</td>\n",
              "      <td>0</td>\n",
              "      <td>context</td>\n",
              "      <td>Dislike</td>\n",
              "      <td>NaN</td>\n",
              "      <td>NaN</td>\n",
              "      <td>NaN</td>\n",
              "    </tr>\n",
              "    <tr>\n",
              "      <th>6926</th>\n",
              "      <td>serve</td>\n",
              "      <td>serve provide</td>\n",
              "      <td>serve</td>\n",
              "      <td>provide</td>\n",
              "      <td>image.4703.jpg</td>\n",
              "      <td>image.14254.jpg</td>\n",
              "      <td>image.11878.jpg</td>\n",
              "      <td>image.13282.jpg</td>\n",
              "      <td>image.6610.jpg</td>\n",
              "      <td>image.8268.jpg</td>\n",
              "      <td>image.11182.jpg</td>\n",
              "      <td>image.3095.jpg</td>\n",
              "      <td>image.2376.jpg</td>\n",
              "      <td>image.7431.jpg</td>\n",
              "      <td>0</td>\n",
              "      <td>context</td>\n",
              "      <td>Provide</td>\n",
              "      <td>NaN</td>\n",
              "      <td>NaN</td>\n",
              "      <td>NaN</td>\n",
              "    </tr>\n",
              "    <tr>\n",
              "      <th>8343</th>\n",
              "      <td>tunnel</td>\n",
              "      <td>tunnel passageway</td>\n",
              "      <td>tunnel</td>\n",
              "      <td>passageway</td>\n",
              "      <td>image.244.jpg</td>\n",
              "      <td>image.207.jpg</td>\n",
              "      <td>image.7064.jpg</td>\n",
              "      <td>image.243.jpg</td>\n",
              "      <td>image.12494.jpg</td>\n",
              "      <td>image.240.jpg</td>\n",
              "      <td>image.12533.jpg</td>\n",
              "      <td>image.241.jpg</td>\n",
              "      <td>image.8517.jpg</td>\n",
              "      <td>image.13694.jpg</td>\n",
              "      <td>0</td>\n",
              "      <td>context</td>\n",
              "      <td>Passageway</td>\n",
              "      <td>NaN</td>\n",
              "      <td>NaN</td>\n",
              "      <td>NaN</td>\n",
              "    </tr>\n",
              "    <tr>\n",
              "      <th>10766</th>\n",
              "      <td>lebensfreude</td>\n",
              "      <td>lebensfreude enjoyment</td>\n",
              "      <td>lebensfreude</td>\n",
              "      <td>enjoyment</td>\n",
              "      <td>image.3692.jpg</td>\n",
              "      <td>image.1361.jpg</td>\n",
              "      <td>image.4029.jpg</td>\n",
              "      <td>image.2579.jpg</td>\n",
              "      <td>image.2736.jpg</td>\n",
              "      <td>image.2739.jpg</td>\n",
              "      <td>image.2738.jpg</td>\n",
              "      <td>image.2248.jpg</td>\n",
              "      <td>image.4168.jpg</td>\n",
              "      <td>image.2737.jpg</td>\n",
              "      <td>0</td>\n",
              "      <td>target</td>\n",
              "      <td>Beatrice Egli discography</td>\n",
              "      <td>NaN</td>\n",
              "      <td>NaN</td>\n",
              "      <td>NaN</td>\n",
              "    </tr>\n",
              "    <tr>\n",
              "      <th>10778</th>\n",
              "      <td>perforate</td>\n",
              "      <td>perforate pierce</td>\n",
              "      <td>perforate</td>\n",
              "      <td>pierce</td>\n",
              "      <td>image.1928.jpg</td>\n",
              "      <td>image.4847.jpg</td>\n",
              "      <td>image.5877.jpg</td>\n",
              "      <td>image.8374.jpg</td>\n",
              "      <td>image.4965.jpg</td>\n",
              "      <td>image.3052.jpg</td>\n",
              "      <td>image.12224.jpg</td>\n",
              "      <td>image.10738.jpg</td>\n",
              "      <td>image.14411.jpg</td>\n",
              "      <td>image.14431.jpg</td>\n",
              "      <td>0</td>\n",
              "      <td>target</td>\n",
              "      <td>Perforator</td>\n",
              "      <td>NaN</td>\n",
              "      <td>NaN</td>\n",
              "      <td>NaN</td>\n",
              "    </tr>\n",
              "    <tr>\n",
              "      <th>11224</th>\n",
              "      <td>depict</td>\n",
              "      <td>depict exposit</td>\n",
              "      <td>depict</td>\n",
              "      <td>exposit</td>\n",
              "      <td>image.4547.jpg</td>\n",
              "      <td>image.8474.jpg</td>\n",
              "      <td>image.11953.jpg</td>\n",
              "      <td>image.2137.jpg</td>\n",
              "      <td>image.10585.jpg</td>\n",
              "      <td>image.4943.jpg</td>\n",
              "      <td>image.11606.jpg</td>\n",
              "      <td>image.697.jpg</td>\n",
              "      <td>image.11078.jpg</td>\n",
              "      <td>image.3449.jpg</td>\n",
              "      <td>0</td>\n",
              "      <td>target</td>\n",
              "      <td>Depict</td>\n",
              "      <td>NaN</td>\n",
              "      <td>NaN</td>\n",
              "      <td>NaN</td>\n",
              "    </tr>\n",
              "    <tr>\n",
              "      <th>11460</th>\n",
              "      <td>dislike</td>\n",
              "      <td>dislike feeling</td>\n",
              "      <td>dislike</td>\n",
              "      <td>feeling</td>\n",
              "      <td>image.1474.jpg</td>\n",
              "      <td>image.9781.jpg</td>\n",
              "      <td>image.15410.jpg</td>\n",
              "      <td>image.1475.jpg</td>\n",
              "      <td>image.1478.jpg</td>\n",
              "      <td>image.1477.jpg</td>\n",
              "      <td>image.1476.jpg</td>\n",
              "      <td>image.12172.jpg</td>\n",
              "      <td>image.10075.jpg</td>\n",
              "      <td>image.1351.jpg</td>\n",
              "      <td>0</td>\n",
              "      <td>target</td>\n",
              "      <td>Dislike</td>\n",
              "      <td>NaN</td>\n",
              "      <td>NaN</td>\n",
              "      <td>NaN</td>\n",
              "    </tr>\n",
              "    <tr>\n",
              "      <th>11623</th>\n",
              "      <td>sabre-rattling</td>\n",
              "      <td>sabre-rattling action</td>\n",
              "      <td>sabre-rattling</td>\n",
              "      <td>action</td>\n",
              "      <td>image.2834.jpg</td>\n",
              "      <td>image.928.jpg</td>\n",
              "      <td>image.9133.jpg</td>\n",
              "      <td>image.930.jpg</td>\n",
              "      <td>image.2160.jpg</td>\n",
              "      <td>image.2824.jpg</td>\n",
              "      <td>image.931.jpg</td>\n",
              "      <td>image.929.jpg</td>\n",
              "      <td>image.9352.jpg</td>\n",
              "      <td>image.1208.jpg</td>\n",
              "      <td>0</td>\n",
              "      <td>target</td>\n",
              "      <td>Saber rattling</td>\n",
              "      <td>NaN</td>\n",
              "      <td>NaN</td>\n",
              "      <td>NaN</td>\n",
              "    </tr>\n",
              "    <tr>\n",
              "      <th>11992</th>\n",
              "      <td>malpighia</td>\n",
              "      <td>malpighia genus</td>\n",
              "      <td>malpighia</td>\n",
              "      <td>genus</td>\n",
              "      <td>image.8953.jpg</td>\n",
              "      <td>image.3.jpg</td>\n",
              "      <td>image.6231.jpg</td>\n",
              "      <td>image.2887.jpg</td>\n",
              "      <td>image.4.jpg</td>\n",
              "      <td>image.1.jpg</td>\n",
              "      <td>image.2.jpg</td>\n",
              "      <td>image.5.jpg</td>\n",
              "      <td>image.5117.jpg</td>\n",
              "      <td>image.15830.jpg</td>\n",
              "      <td>0</td>\n",
              "      <td>target</td>\n",
              "      <td>Malpighia emarginata</td>\n",
              "      <td>NaN</td>\n",
              "      <td>NaN</td>\n",
              "      <td>NaN</td>\n",
              "    </tr>\n",
              "    <tr>\n",
              "      <th>12046</th>\n",
              "      <td>latte</td>\n",
              "      <td>latte espresso</td>\n",
              "      <td>latte</td>\n",
              "      <td>espresso</td>\n",
              "      <td>image.2042.jpg</td>\n",
              "      <td>image.436.jpg</td>\n",
              "      <td>image.13705.jpg</td>\n",
              "      <td>image.11150.jpg</td>\n",
              "      <td>image.2148.jpg</td>\n",
              "      <td>image.437.jpg</td>\n",
              "      <td>image.10887.jpg</td>\n",
              "      <td>image.434.jpg</td>\n",
              "      <td>image.10593.jpg</td>\n",
              "      <td>image.433.jpg</td>\n",
              "      <td>0</td>\n",
              "      <td>target</td>\n",
              "      <td>Latte</td>\n",
              "      <td>NaN</td>\n",
              "      <td>NaN</td>\n",
              "      <td>NaN</td>\n",
              "    </tr>\n",
              "    <tr>\n",
              "      <th>12171</th>\n",
              "      <td>ladder</td>\n",
              "      <td>ladder stairs</td>\n",
              "      <td>ladder</td>\n",
              "      <td>stairs</td>\n",
              "      <td>image.12916.jpg</td>\n",
              "      <td>image.293.jpg</td>\n",
              "      <td>image.292.jpg</td>\n",
              "      <td>image.11150.jpg</td>\n",
              "      <td>image.294.jpg</td>\n",
              "      <td>image.290.jpg</td>\n",
              "      <td>image.7686.jpg</td>\n",
              "      <td>image.291.jpg</td>\n",
              "      <td>image.4593.jpg</td>\n",
              "      <td>image.2897.jpg</td>\n",
              "      <td>0</td>\n",
              "      <td>target</td>\n",
              "      <td>Ladder</td>\n",
              "      <td>NaN</td>\n",
              "      <td>NaN</td>\n",
              "      <td>NaN</td>\n",
              "    </tr>\n",
              "  </tbody>\n",
              "</table>\n",
              "</div>\n",
              "      <button class=\"colab-df-convert\" onclick=\"convertToInteractive('df-7749dbac-7fea-46ef-a088-5c115724c89e')\"\n",
              "              title=\"Convert this dataframe to an interactive table.\"\n",
              "              style=\"display:none;\">\n",
              "        \n",
              "  <svg xmlns=\"http://www.w3.org/2000/svg\" height=\"24px\"viewBox=\"0 0 24 24\"\n",
              "       width=\"24px\">\n",
              "    <path d=\"M0 0h24v24H0V0z\" fill=\"none\"/>\n",
              "    <path d=\"M18.56 5.44l.94 2.06.94-2.06 2.06-.94-2.06-.94-.94-2.06-.94 2.06-2.06.94zm-11 1L8.5 8.5l.94-2.06 2.06-.94-2.06-.94L8.5 2.5l-.94 2.06-2.06.94zm10 10l.94 2.06.94-2.06 2.06-.94-2.06-.94-.94-2.06-.94 2.06-2.06.94z\"/><path d=\"M17.41 7.96l-1.37-1.37c-.4-.4-.92-.59-1.43-.59-.52 0-1.04.2-1.43.59L10.3 9.45l-7.72 7.72c-.78.78-.78 2.05 0 2.83L4 21.41c.39.39.9.59 1.41.59.51 0 1.02-.2 1.41-.59l7.78-7.78 2.81-2.81c.8-.78.8-2.07 0-2.86zM5.41 20L4 18.59l7.72-7.72 1.47 1.35L5.41 20z\"/>\n",
              "  </svg>\n",
              "      </button>\n",
              "      \n",
              "  <style>\n",
              "    .colab-df-container {\n",
              "      display:flex;\n",
              "      flex-wrap:wrap;\n",
              "      gap: 12px;\n",
              "    }\n",
              "\n",
              "    .colab-df-convert {\n",
              "      background-color: #E8F0FE;\n",
              "      border: none;\n",
              "      border-radius: 50%;\n",
              "      cursor: pointer;\n",
              "      display: none;\n",
              "      fill: #1967D2;\n",
              "      height: 32px;\n",
              "      padding: 0 0 0 0;\n",
              "      width: 32px;\n",
              "    }\n",
              "\n",
              "    .colab-df-convert:hover {\n",
              "      background-color: #E2EBFA;\n",
              "      box-shadow: 0px 1px 2px rgba(60, 64, 67, 0.3), 0px 1px 3px 1px rgba(60, 64, 67, 0.15);\n",
              "      fill: #174EA6;\n",
              "    }\n",
              "\n",
              "    [theme=dark] .colab-df-convert {\n",
              "      background-color: #3B4455;\n",
              "      fill: #D2E3FC;\n",
              "    }\n",
              "\n",
              "    [theme=dark] .colab-df-convert:hover {\n",
              "      background-color: #434B5C;\n",
              "      box-shadow: 0px 1px 3px 1px rgba(0, 0, 0, 0.15);\n",
              "      filter: drop-shadow(0px 1px 2px rgba(0, 0, 0, 0.3));\n",
              "      fill: #FFFFFF;\n",
              "    }\n",
              "  </style>\n",
              "\n",
              "      <script>\n",
              "        const buttonEl =\n",
              "          document.querySelector('#df-7749dbac-7fea-46ef-a088-5c115724c89e button.colab-df-convert');\n",
              "        buttonEl.style.display =\n",
              "          google.colab.kernel.accessAllowed ? 'block' : 'none';\n",
              "\n",
              "        async function convertToInteractive(key) {\n",
              "          const element = document.querySelector('#df-7749dbac-7fea-46ef-a088-5c115724c89e');\n",
              "          const dataTable =\n",
              "            await google.colab.kernel.invokeFunction('convertToInteractive',\n",
              "                                                     [key], {});\n",
              "          if (!dataTable) return;\n",
              "\n",
              "          const docLinkHtml = 'Like what you see? Visit the ' +\n",
              "            '<a target=\"_blank\" href=https://colab.research.google.com/notebooks/data_table.ipynb>data table notebook</a>'\n",
              "            + ' to learn more about interactive tables.';\n",
              "          element.innerHTML = '';\n",
              "          dataTable['output_type'] = 'display_data';\n",
              "          await google.colab.output.renderOutput(dataTable, element);\n",
              "          const docLink = document.createElement('div');\n",
              "          docLink.innerHTML = docLinkHtml;\n",
              "          element.appendChild(docLink);\n",
              "        }\n",
              "      </script>\n",
              "    </div>\n",
              "  </div>\n",
              "  "
            ]
          },
          "metadata": {},
          "execution_count": 8
        }
      ]
    },
    {
      "cell_type": "code",
      "source": [
        "df = df[~df['summary_content'].isna()]\n",
        "df.shape"
      ],
      "metadata": {
        "colab": {
          "base_uri": "https://localhost:8080/"
        },
        "id": "CGe4ohw_Zgxh",
        "outputId": "d1eb2e66-cc3b-4850-ca6a-c67bd149fa61"
      },
      "execution_count": null,
      "outputs": [
        {
          "output_type": "execute_result",
          "data": {
            "text/plain": [
              "(12850, 22)"
            ]
          },
          "metadata": {},
          "execution_count": 4
        }
      ]
    },
    {
      "cell_type": "markdown",
      "source": [
        "Create text input column: preprocessed phrase + summary"
      ],
      "metadata": {
        "id": "EOMxv0XDZ4Fq"
      }
    },
    {
      "cell_type": "code",
      "source": [
        "df['text_input'] = df['phrase_preprocessed'] + ' ' + df['summary_content']"
      ],
      "metadata": {
        "id": "5JCYzvquZ_Z0"
      },
      "execution_count": null,
      "outputs": []
    },
    {
      "cell_type": "markdown",
      "source": [
        "## Create positive and negative examples"
      ],
      "metadata": {
        "id": "gY1JRc4wRwJj"
      }
    },
    {
      "cell_type": "code",
      "source": [
        "train_df = []\n",
        "img_cols = ['img_' + str(i) for i in range(10)]\n",
        "\n",
        "for ind, row in df.iterrows():\n",
        "  for col in img_cols:\n",
        "    label = 1 if row[col] == row['gold_image'] else 0\n",
        "    train_df.append((row['phrase_preprocessed'], row[col], label))\n",
        "    # train_df.append((row['text_input'], row[col], label))\n",
        "\n",
        "train_df = pd.DataFrame(train_df, columns=['text', 'image', 'label'])\n",
        "# train_df['image'] = train_df['image'].apply(lambda x: int(x.split('.')[1]))\n",
        "\n",
        "train_df.head()"
      ],
      "metadata": {
        "colab": {
          "base_uri": "https://localhost:8080/",
          "height": 206
        },
        "id": "LE7PECTJR3At",
        "outputId": "6ccad28c-e367-4d26-d51f-e6145b42a58e"
      },
      "execution_count": null,
      "outputs": [
        {
          "output_type": "execute_result",
          "data": {
            "text/plain": [
              "               text        image  label\n",
              "0  moorhen swamphen  image.3.jpg      0\n",
              "1  moorhen swamphen  image.8.jpg      0\n",
              "2  moorhen swamphen  image.4.jpg      0\n",
              "3  moorhen swamphen  image.1.jpg      0\n",
              "4  moorhen swamphen  image.2.jpg      0"
            ],
            "text/html": [
              "\n",
              "  <div id=\"df-54727529-1376-4cd3-b3dd-4e7c22363580\">\n",
              "    <div class=\"colab-df-container\">\n",
              "      <div>\n",
              "<style scoped>\n",
              "    .dataframe tbody tr th:only-of-type {\n",
              "        vertical-align: middle;\n",
              "    }\n",
              "\n",
              "    .dataframe tbody tr th {\n",
              "        vertical-align: top;\n",
              "    }\n",
              "\n",
              "    .dataframe thead th {\n",
              "        text-align: right;\n",
              "    }\n",
              "</style>\n",
              "<table border=\"1\" class=\"dataframe\">\n",
              "  <thead>\n",
              "    <tr style=\"text-align: right;\">\n",
              "      <th></th>\n",
              "      <th>text</th>\n",
              "      <th>image</th>\n",
              "      <th>label</th>\n",
              "    </tr>\n",
              "  </thead>\n",
              "  <tbody>\n",
              "    <tr>\n",
              "      <th>0</th>\n",
              "      <td>moorhen swamphen</td>\n",
              "      <td>image.3.jpg</td>\n",
              "      <td>0</td>\n",
              "    </tr>\n",
              "    <tr>\n",
              "      <th>1</th>\n",
              "      <td>moorhen swamphen</td>\n",
              "      <td>image.8.jpg</td>\n",
              "      <td>0</td>\n",
              "    </tr>\n",
              "    <tr>\n",
              "      <th>2</th>\n",
              "      <td>moorhen swamphen</td>\n",
              "      <td>image.4.jpg</td>\n",
              "      <td>0</td>\n",
              "    </tr>\n",
              "    <tr>\n",
              "      <th>3</th>\n",
              "      <td>moorhen swamphen</td>\n",
              "      <td>image.1.jpg</td>\n",
              "      <td>0</td>\n",
              "    </tr>\n",
              "    <tr>\n",
              "      <th>4</th>\n",
              "      <td>moorhen swamphen</td>\n",
              "      <td>image.2.jpg</td>\n",
              "      <td>0</td>\n",
              "    </tr>\n",
              "  </tbody>\n",
              "</table>\n",
              "</div>\n",
              "      <button class=\"colab-df-convert\" onclick=\"convertToInteractive('df-54727529-1376-4cd3-b3dd-4e7c22363580')\"\n",
              "              title=\"Convert this dataframe to an interactive table.\"\n",
              "              style=\"display:none;\">\n",
              "        \n",
              "  <svg xmlns=\"http://www.w3.org/2000/svg\" height=\"24px\"viewBox=\"0 0 24 24\"\n",
              "       width=\"24px\">\n",
              "    <path d=\"M0 0h24v24H0V0z\" fill=\"none\"/>\n",
              "    <path d=\"M18.56 5.44l.94 2.06.94-2.06 2.06-.94-2.06-.94-.94-2.06-.94 2.06-2.06.94zm-11 1L8.5 8.5l.94-2.06 2.06-.94-2.06-.94L8.5 2.5l-.94 2.06-2.06.94zm10 10l.94 2.06.94-2.06 2.06-.94-2.06-.94-.94-2.06-.94 2.06-2.06.94z\"/><path d=\"M17.41 7.96l-1.37-1.37c-.4-.4-.92-.59-1.43-.59-.52 0-1.04.2-1.43.59L10.3 9.45l-7.72 7.72c-.78.78-.78 2.05 0 2.83L4 21.41c.39.39.9.59 1.41.59.51 0 1.02-.2 1.41-.59l7.78-7.78 2.81-2.81c.8-.78.8-2.07 0-2.86zM5.41 20L4 18.59l7.72-7.72 1.47 1.35L5.41 20z\"/>\n",
              "  </svg>\n",
              "      </button>\n",
              "      \n",
              "  <style>\n",
              "    .colab-df-container {\n",
              "      display:flex;\n",
              "      flex-wrap:wrap;\n",
              "      gap: 12px;\n",
              "    }\n",
              "\n",
              "    .colab-df-convert {\n",
              "      background-color: #E8F0FE;\n",
              "      border: none;\n",
              "      border-radius: 50%;\n",
              "      cursor: pointer;\n",
              "      display: none;\n",
              "      fill: #1967D2;\n",
              "      height: 32px;\n",
              "      padding: 0 0 0 0;\n",
              "      width: 32px;\n",
              "    }\n",
              "\n",
              "    .colab-df-convert:hover {\n",
              "      background-color: #E2EBFA;\n",
              "      box-shadow: 0px 1px 2px rgba(60, 64, 67, 0.3), 0px 1px 3px 1px rgba(60, 64, 67, 0.15);\n",
              "      fill: #174EA6;\n",
              "    }\n",
              "\n",
              "    [theme=dark] .colab-df-convert {\n",
              "      background-color: #3B4455;\n",
              "      fill: #D2E3FC;\n",
              "    }\n",
              "\n",
              "    [theme=dark] .colab-df-convert:hover {\n",
              "      background-color: #434B5C;\n",
              "      box-shadow: 0px 1px 3px 1px rgba(0, 0, 0, 0.15);\n",
              "      filter: drop-shadow(0px 1px 2px rgba(0, 0, 0, 0.3));\n",
              "      fill: #FFFFFF;\n",
              "    }\n",
              "  </style>\n",
              "\n",
              "      <script>\n",
              "        const buttonEl =\n",
              "          document.querySelector('#df-54727529-1376-4cd3-b3dd-4e7c22363580 button.colab-df-convert');\n",
              "        buttonEl.style.display =\n",
              "          google.colab.kernel.accessAllowed ? 'block' : 'none';\n",
              "\n",
              "        async function convertToInteractive(key) {\n",
              "          const element = document.querySelector('#df-54727529-1376-4cd3-b3dd-4e7c22363580');\n",
              "          const dataTable =\n",
              "            await google.colab.kernel.invokeFunction('convertToInteractive',\n",
              "                                                     [key], {});\n",
              "          if (!dataTable) return;\n",
              "\n",
              "          const docLinkHtml = 'Like what you see? Visit the ' +\n",
              "            '<a target=\"_blank\" href=https://colab.research.google.com/notebooks/data_table.ipynb>data table notebook</a>'\n",
              "            + ' to learn more about interactive tables.';\n",
              "          element.innerHTML = '';\n",
              "          dataTable['output_type'] = 'display_data';\n",
              "          await google.colab.output.renderOutput(dataTable, element);\n",
              "          const docLink = document.createElement('div');\n",
              "          docLink.innerHTML = docLinkHtml;\n",
              "          element.appendChild(docLink);\n",
              "        }\n",
              "      </script>\n",
              "    </div>\n",
              "  </div>\n",
              "  "
            ]
          },
          "metadata": {},
          "execution_count": 47
        }
      ]
    },
    {
      "cell_type": "code",
      "source": [
        "train_df.shape"
      ],
      "metadata": {
        "colab": {
          "base_uri": "https://localhost:8080/"
        },
        "id": "3RTMc74YUJzt",
        "outputId": "a308b857-8a7e-49c5-825f-f1c99130c643"
      },
      "execution_count": null,
      "outputs": [
        {
          "output_type": "execute_result",
          "data": {
            "text/plain": [
              "(128690, 3)"
            ]
          },
          "metadata": {},
          "execution_count": 8
        }
      ]
    },
    {
      "cell_type": "code",
      "source": [
        "train_df.duplicated().sum()"
      ],
      "metadata": {
        "colab": {
          "base_uri": "https://localhost:8080/"
        },
        "id": "9m4TGfLkXKG2",
        "outputId": "c5ea8f7c-15b0-448a-bab9-cd5be06d6176"
      },
      "execution_count": null,
      "outputs": [
        {
          "output_type": "execute_result",
          "data": {
            "text/plain": [
              "68"
            ]
          },
          "metadata": {},
          "execution_count": 9
        }
      ]
    },
    {
      "cell_type": "code",
      "source": [
        "train_df = train_df.drop_duplicates().reset_index().drop('index', axis=1)\n",
        "train_df.shape"
      ],
      "metadata": {
        "colab": {
          "base_uri": "https://localhost:8080/"
        },
        "id": "rZQEWemRYHDG",
        "outputId": "9c0bb7f1-a9a1-41dc-8d44-ce8d9b483748"
      },
      "execution_count": null,
      "outputs": [
        {
          "output_type": "execute_result",
          "data": {
            "text/plain": [
              "(128622, 3)"
            ]
          },
          "metadata": {},
          "execution_count": 48
        }
      ]
    },
    {
      "cell_type": "code",
      "source": [
        "train_df['label'].value_counts()"
      ],
      "metadata": {
        "colab": {
          "base_uri": "https://localhost:8080/"
        },
        "id": "qOqEt2gqUE5-",
        "outputId": "f238b31c-7393-4506-fe67-8c5ba6162ddb"
      },
      "execution_count": null,
      "outputs": [
        {
          "output_type": "execute_result",
          "data": {
            "text/plain": [
              "0    115753\n",
              "1     12869\n",
              "Name: label, dtype: int64"
            ]
          },
          "metadata": {},
          "execution_count": 10
        }
      ]
    },
    {
      "cell_type": "markdown",
      "source": [
        "There's 10 times more negative than positive examples. To balance that out, we'll randomly sample 13000 of the negative examples and only use them "
      ],
      "metadata": {
        "id": "6Rvng4tt3pPb"
      }
    },
    {
      "cell_type": "code",
      "source": [
        "# how many negative examples to use\n",
        "neg_frac = int(train_df[train_df['label'] == 1].shape[0] * 1.5)\n",
        "\n",
        "train_df_neg = train_df[train_df['label'] == 0]\n",
        "train_df_neg = train_df_neg.sample(neg_frac)\n",
        "train_df_neg.shape"
      ],
      "metadata": {
        "colab": {
          "base_uri": "https://localhost:8080/"
        },
        "id": "YpRvU0Ev37iw",
        "outputId": "eccfb42c-0bd4-44ad-eddc-34c6e935532c"
      },
      "execution_count": null,
      "outputs": [
        {
          "output_type": "execute_result",
          "data": {
            "text/plain": [
              "(19303, 3)"
            ]
          },
          "metadata": {},
          "execution_count": 49
        }
      ]
    },
    {
      "cell_type": "code",
      "source": [
        "train_df = pd.concat([train_df_neg, train_df[train_df['label'] == 1]])\n",
        "train_df['label'].value_counts()"
      ],
      "metadata": {
        "colab": {
          "base_uri": "https://localhost:8080/"
        },
        "id": "mHJFqOaR4VTm",
        "outputId": "8ec63a8f-f335-4efb-f227-91bd19f59cb8"
      },
      "execution_count": null,
      "outputs": [
        {
          "output_type": "execute_result",
          "data": {
            "text/plain": [
              "0    19303\n",
              "1    12869\n",
              "Name: label, dtype: int64"
            ]
          },
          "metadata": {},
          "execution_count": 50
        }
      ]
    },
    {
      "cell_type": "markdown",
      "source": [
        "Shuffle rows"
      ],
      "metadata": {
        "id": "MGhY6v6Q44QN"
      }
    },
    {
      "cell_type": "code",
      "source": [
        "train_df = train_df.sample(frac=1).reset_index(drop=True)\n",
        "train_df.head()"
      ],
      "metadata": {
        "colab": {
          "base_uri": "https://localhost:8080/",
          "height": 206
        },
        "id": "VUbimxHE46MA",
        "outputId": "3e521c5e-95a0-452d-d3ac-7b5b87a937b0"
      },
      "execution_count": null,
      "outputs": [
        {
          "output_type": "execute_result",
          "data": {
            "text/plain": [
              "                   text            image  label\n",
              "0  rock-wallaby wallaby   image.2916.jpg      1\n",
              "1            sing utter   image.6618.jpg      0\n",
              "2     bear-lithia water  image.10316.jpg      1\n",
              "3             yo-yo toy   image.5622.jpg      1\n",
              "4            choke coil    image.293.jpg      0"
            ],
            "text/html": [
              "\n",
              "  <div id=\"df-28c36c2a-6a1f-461a-b0c2-3773510517a7\">\n",
              "    <div class=\"colab-df-container\">\n",
              "      <div>\n",
              "<style scoped>\n",
              "    .dataframe tbody tr th:only-of-type {\n",
              "        vertical-align: middle;\n",
              "    }\n",
              "\n",
              "    .dataframe tbody tr th {\n",
              "        vertical-align: top;\n",
              "    }\n",
              "\n",
              "    .dataframe thead th {\n",
              "        text-align: right;\n",
              "    }\n",
              "</style>\n",
              "<table border=\"1\" class=\"dataframe\">\n",
              "  <thead>\n",
              "    <tr style=\"text-align: right;\">\n",
              "      <th></th>\n",
              "      <th>text</th>\n",
              "      <th>image</th>\n",
              "      <th>label</th>\n",
              "    </tr>\n",
              "  </thead>\n",
              "  <tbody>\n",
              "    <tr>\n",
              "      <th>0</th>\n",
              "      <td>rock-wallaby wallaby</td>\n",
              "      <td>image.2916.jpg</td>\n",
              "      <td>1</td>\n",
              "    </tr>\n",
              "    <tr>\n",
              "      <th>1</th>\n",
              "      <td>sing utter</td>\n",
              "      <td>image.6618.jpg</td>\n",
              "      <td>0</td>\n",
              "    </tr>\n",
              "    <tr>\n",
              "      <th>2</th>\n",
              "      <td>bear-lithia water</td>\n",
              "      <td>image.10316.jpg</td>\n",
              "      <td>1</td>\n",
              "    </tr>\n",
              "    <tr>\n",
              "      <th>3</th>\n",
              "      <td>yo-yo toy</td>\n",
              "      <td>image.5622.jpg</td>\n",
              "      <td>1</td>\n",
              "    </tr>\n",
              "    <tr>\n",
              "      <th>4</th>\n",
              "      <td>choke coil</td>\n",
              "      <td>image.293.jpg</td>\n",
              "      <td>0</td>\n",
              "    </tr>\n",
              "  </tbody>\n",
              "</table>\n",
              "</div>\n",
              "      <button class=\"colab-df-convert\" onclick=\"convertToInteractive('df-28c36c2a-6a1f-461a-b0c2-3773510517a7')\"\n",
              "              title=\"Convert this dataframe to an interactive table.\"\n",
              "              style=\"display:none;\">\n",
              "        \n",
              "  <svg xmlns=\"http://www.w3.org/2000/svg\" height=\"24px\"viewBox=\"0 0 24 24\"\n",
              "       width=\"24px\">\n",
              "    <path d=\"M0 0h24v24H0V0z\" fill=\"none\"/>\n",
              "    <path d=\"M18.56 5.44l.94 2.06.94-2.06 2.06-.94-2.06-.94-.94-2.06-.94 2.06-2.06.94zm-11 1L8.5 8.5l.94-2.06 2.06-.94-2.06-.94L8.5 2.5l-.94 2.06-2.06.94zm10 10l.94 2.06.94-2.06 2.06-.94-2.06-.94-.94-2.06-.94 2.06-2.06.94z\"/><path d=\"M17.41 7.96l-1.37-1.37c-.4-.4-.92-.59-1.43-.59-.52 0-1.04.2-1.43.59L10.3 9.45l-7.72 7.72c-.78.78-.78 2.05 0 2.83L4 21.41c.39.39.9.59 1.41.59.51 0 1.02-.2 1.41-.59l7.78-7.78 2.81-2.81c.8-.78.8-2.07 0-2.86zM5.41 20L4 18.59l7.72-7.72 1.47 1.35L5.41 20z\"/>\n",
              "  </svg>\n",
              "      </button>\n",
              "      \n",
              "  <style>\n",
              "    .colab-df-container {\n",
              "      display:flex;\n",
              "      flex-wrap:wrap;\n",
              "      gap: 12px;\n",
              "    }\n",
              "\n",
              "    .colab-df-convert {\n",
              "      background-color: #E8F0FE;\n",
              "      border: none;\n",
              "      border-radius: 50%;\n",
              "      cursor: pointer;\n",
              "      display: none;\n",
              "      fill: #1967D2;\n",
              "      height: 32px;\n",
              "      padding: 0 0 0 0;\n",
              "      width: 32px;\n",
              "    }\n",
              "\n",
              "    .colab-df-convert:hover {\n",
              "      background-color: #E2EBFA;\n",
              "      box-shadow: 0px 1px 2px rgba(60, 64, 67, 0.3), 0px 1px 3px 1px rgba(60, 64, 67, 0.15);\n",
              "      fill: #174EA6;\n",
              "    }\n",
              "\n",
              "    [theme=dark] .colab-df-convert {\n",
              "      background-color: #3B4455;\n",
              "      fill: #D2E3FC;\n",
              "    }\n",
              "\n",
              "    [theme=dark] .colab-df-convert:hover {\n",
              "      background-color: #434B5C;\n",
              "      box-shadow: 0px 1px 3px 1px rgba(0, 0, 0, 0.15);\n",
              "      filter: drop-shadow(0px 1px 2px rgba(0, 0, 0, 0.3));\n",
              "      fill: #FFFFFF;\n",
              "    }\n",
              "  </style>\n",
              "\n",
              "      <script>\n",
              "        const buttonEl =\n",
              "          document.querySelector('#df-28c36c2a-6a1f-461a-b0c2-3773510517a7 button.colab-df-convert');\n",
              "        buttonEl.style.display =\n",
              "          google.colab.kernel.accessAllowed ? 'block' : 'none';\n",
              "\n",
              "        async function convertToInteractive(key) {\n",
              "          const element = document.querySelector('#df-28c36c2a-6a1f-461a-b0c2-3773510517a7');\n",
              "          const dataTable =\n",
              "            await google.colab.kernel.invokeFunction('convertToInteractive',\n",
              "                                                     [key], {});\n",
              "          if (!dataTable) return;\n",
              "\n",
              "          const docLinkHtml = 'Like what you see? Visit the ' +\n",
              "            '<a target=\"_blank\" href=https://colab.research.google.com/notebooks/data_table.ipynb>data table notebook</a>'\n",
              "            + ' to learn more about interactive tables.';\n",
              "          element.innerHTML = '';\n",
              "          dataTable['output_type'] = 'display_data';\n",
              "          await google.colab.output.renderOutput(dataTable, element);\n",
              "          const docLink = document.createElement('div');\n",
              "          docLink.innerHTML = docLinkHtml;\n",
              "          element.appendChild(docLink);\n",
              "        }\n",
              "      </script>\n",
              "    </div>\n",
              "  </div>\n",
              "  "
            ]
          },
          "metadata": {},
          "execution_count": 51
        }
      ]
    },
    {
      "cell_type": "markdown",
      "source": [
        "## Train & val split"
      ],
      "metadata": {
        "id": "uNjzJRwE1Zgk"
      }
    },
    {
      "cell_type": "code",
      "source": [
        "from sklearn.model_selection import train_test_split"
      ],
      "metadata": {
        "id": "HFQG3Z5A1cO5"
      },
      "execution_count": null,
      "outputs": []
    },
    {
      "cell_type": "code",
      "source": [
        "# train_df = train_df.head(6000)\n",
        "train_df, val_df = train_test_split(train_df, test_size=0.3)\n",
        "train_df.shape, val_df.shape"
      ],
      "metadata": {
        "colab": {
          "base_uri": "https://localhost:8080/"
        },
        "id": "HommleDl1gCc",
        "outputId": "de4d72ba-1a45-4976-e7c2-f519774e87f6"
      },
      "execution_count": null,
      "outputs": [
        {
          "output_type": "execute_result",
          "data": {
            "text/plain": [
              "((22520, 3), (9652, 3))"
            ]
          },
          "metadata": {},
          "execution_count": 52
        }
      ]
    },
    {
      "cell_type": "code",
      "source": [
        "train_df.to_csv('/content/drive/MyDrive/UR/NLE Seminar/code/train_val_split/train_df_neg_1_5.csv')\n",
        "val_df.to_csv('/content/drive/MyDrive/UR/NLE Seminar/code/train_val_split/val_df_neg_1_5.csv')"
      ],
      "metadata": {
        "id": "Pa9VfL5HXjJR"
      },
      "execution_count": null,
      "outputs": []
    },
    {
      "cell_type": "markdown",
      "source": [
        "Read old split from disk"
      ],
      "metadata": {
        "id": "DBhSNElnAzn-"
      }
    },
    {
      "cell_type": "code",
      "source": [
        "train_df = pd.read_csv('/content/drive/MyDrive/UR/NLE Seminar/code/train_val_split/train_df_neg_1_5.csv', \n",
        "                     index_col=0)\n",
        "train_df.head()"
      ],
      "metadata": {
        "colab": {
          "base_uri": "https://localhost:8080/",
          "height": 206
        },
        "id": "JxiXn6MJAtI_",
        "outputId": "64757ad6-89cb-4674-e739-0758d2de265c"
      },
      "execution_count": null,
      "outputs": [
        {
          "output_type": "execute_result",
          "data": {
            "text/plain": [
              "                         text           image  label\n",
              "25651        commelina flower  image.1480.jpg      1\n",
              "31403          bust sculpture   image.723.jpg      0\n",
              "26176         eptesicus genus  image.7364.jpg      1\n",
              "12780    zoophilia paraphilia  image.3836.jpg      0\n",
              "2497   thyroidectomy ablation  image.3851.jpg      1"
            ],
            "text/html": [
              "\n",
              "  <div id=\"df-d5016235-a87d-48f9-a5c8-47073d6e0b2e\">\n",
              "    <div class=\"colab-df-container\">\n",
              "      <div>\n",
              "<style scoped>\n",
              "    .dataframe tbody tr th:only-of-type {\n",
              "        vertical-align: middle;\n",
              "    }\n",
              "\n",
              "    .dataframe tbody tr th {\n",
              "        vertical-align: top;\n",
              "    }\n",
              "\n",
              "    .dataframe thead th {\n",
              "        text-align: right;\n",
              "    }\n",
              "</style>\n",
              "<table border=\"1\" class=\"dataframe\">\n",
              "  <thead>\n",
              "    <tr style=\"text-align: right;\">\n",
              "      <th></th>\n",
              "      <th>text</th>\n",
              "      <th>image</th>\n",
              "      <th>label</th>\n",
              "    </tr>\n",
              "  </thead>\n",
              "  <tbody>\n",
              "    <tr>\n",
              "      <th>25651</th>\n",
              "      <td>commelina flower</td>\n",
              "      <td>image.1480.jpg</td>\n",
              "      <td>1</td>\n",
              "    </tr>\n",
              "    <tr>\n",
              "      <th>31403</th>\n",
              "      <td>bust sculpture</td>\n",
              "      <td>image.723.jpg</td>\n",
              "      <td>0</td>\n",
              "    </tr>\n",
              "    <tr>\n",
              "      <th>26176</th>\n",
              "      <td>eptesicus genus</td>\n",
              "      <td>image.7364.jpg</td>\n",
              "      <td>1</td>\n",
              "    </tr>\n",
              "    <tr>\n",
              "      <th>12780</th>\n",
              "      <td>zoophilia paraphilia</td>\n",
              "      <td>image.3836.jpg</td>\n",
              "      <td>0</td>\n",
              "    </tr>\n",
              "    <tr>\n",
              "      <th>2497</th>\n",
              "      <td>thyroidectomy ablation</td>\n",
              "      <td>image.3851.jpg</td>\n",
              "      <td>1</td>\n",
              "    </tr>\n",
              "  </tbody>\n",
              "</table>\n",
              "</div>\n",
              "      <button class=\"colab-df-convert\" onclick=\"convertToInteractive('df-d5016235-a87d-48f9-a5c8-47073d6e0b2e')\"\n",
              "              title=\"Convert this dataframe to an interactive table.\"\n",
              "              style=\"display:none;\">\n",
              "        \n",
              "  <svg xmlns=\"http://www.w3.org/2000/svg\" height=\"24px\"viewBox=\"0 0 24 24\"\n",
              "       width=\"24px\">\n",
              "    <path d=\"M0 0h24v24H0V0z\" fill=\"none\"/>\n",
              "    <path d=\"M18.56 5.44l.94 2.06.94-2.06 2.06-.94-2.06-.94-.94-2.06-.94 2.06-2.06.94zm-11 1L8.5 8.5l.94-2.06 2.06-.94-2.06-.94L8.5 2.5l-.94 2.06-2.06.94zm10 10l.94 2.06.94-2.06 2.06-.94-2.06-.94-.94-2.06-.94 2.06-2.06.94z\"/><path d=\"M17.41 7.96l-1.37-1.37c-.4-.4-.92-.59-1.43-.59-.52 0-1.04.2-1.43.59L10.3 9.45l-7.72 7.72c-.78.78-.78 2.05 0 2.83L4 21.41c.39.39.9.59 1.41.59.51 0 1.02-.2 1.41-.59l7.78-7.78 2.81-2.81c.8-.78.8-2.07 0-2.86zM5.41 20L4 18.59l7.72-7.72 1.47 1.35L5.41 20z\"/>\n",
              "  </svg>\n",
              "      </button>\n",
              "      \n",
              "  <style>\n",
              "    .colab-df-container {\n",
              "      display:flex;\n",
              "      flex-wrap:wrap;\n",
              "      gap: 12px;\n",
              "    }\n",
              "\n",
              "    .colab-df-convert {\n",
              "      background-color: #E8F0FE;\n",
              "      border: none;\n",
              "      border-radius: 50%;\n",
              "      cursor: pointer;\n",
              "      display: none;\n",
              "      fill: #1967D2;\n",
              "      height: 32px;\n",
              "      padding: 0 0 0 0;\n",
              "      width: 32px;\n",
              "    }\n",
              "\n",
              "    .colab-df-convert:hover {\n",
              "      background-color: #E2EBFA;\n",
              "      box-shadow: 0px 1px 2px rgba(60, 64, 67, 0.3), 0px 1px 3px 1px rgba(60, 64, 67, 0.15);\n",
              "      fill: #174EA6;\n",
              "    }\n",
              "\n",
              "    [theme=dark] .colab-df-convert {\n",
              "      background-color: #3B4455;\n",
              "      fill: #D2E3FC;\n",
              "    }\n",
              "\n",
              "    [theme=dark] .colab-df-convert:hover {\n",
              "      background-color: #434B5C;\n",
              "      box-shadow: 0px 1px 3px 1px rgba(0, 0, 0, 0.15);\n",
              "      filter: drop-shadow(0px 1px 2px rgba(0, 0, 0, 0.3));\n",
              "      fill: #FFFFFF;\n",
              "    }\n",
              "  </style>\n",
              "\n",
              "      <script>\n",
              "        const buttonEl =\n",
              "          document.querySelector('#df-d5016235-a87d-48f9-a5c8-47073d6e0b2e button.colab-df-convert');\n",
              "        buttonEl.style.display =\n",
              "          google.colab.kernel.accessAllowed ? 'block' : 'none';\n",
              "\n",
              "        async function convertToInteractive(key) {\n",
              "          const element = document.querySelector('#df-d5016235-a87d-48f9-a5c8-47073d6e0b2e');\n",
              "          const dataTable =\n",
              "            await google.colab.kernel.invokeFunction('convertToInteractive',\n",
              "                                                     [key], {});\n",
              "          if (!dataTable) return;\n",
              "\n",
              "          const docLinkHtml = 'Like what you see? Visit the ' +\n",
              "            '<a target=\"_blank\" href=https://colab.research.google.com/notebooks/data_table.ipynb>data table notebook</a>'\n",
              "            + ' to learn more about interactive tables.';\n",
              "          element.innerHTML = '';\n",
              "          dataTable['output_type'] = 'display_data';\n",
              "          await google.colab.output.renderOutput(dataTable, element);\n",
              "          const docLink = document.createElement('div');\n",
              "          docLink.innerHTML = docLinkHtml;\n",
              "          element.appendChild(docLink);\n",
              "        }\n",
              "      </script>\n",
              "    </div>\n",
              "  </div>\n",
              "  "
            ]
          },
          "metadata": {},
          "execution_count": 5
        }
      ]
    },
    {
      "cell_type": "code",
      "source": [
        "train_df.shape"
      ],
      "metadata": {
        "colab": {
          "base_uri": "https://localhost:8080/"
        },
        "id": "UJwAgU4SpJt6",
        "outputId": "95156447-a903-403a-eb58-56cb7eb30917"
      },
      "execution_count": null,
      "outputs": [
        {
          "output_type": "execute_result",
          "data": {
            "text/plain": [
              "(22520, 3)"
            ]
          },
          "metadata": {},
          "execution_count": 10
        }
      ]
    },
    {
      "cell_type": "code",
      "source": [
        "# train_df = train_df.head(train_df.shape[0] // 2)\n",
        "train_df = train_df.tail(train_df.shape[0] - train_df.shape[0] // 2)"
      ],
      "metadata": {
        "id": "umKoMWyxP35v"
      },
      "execution_count": null,
      "outputs": []
    },
    {
      "cell_type": "code",
      "source": [
        "train_df.shape"
      ],
      "metadata": {
        "colab": {
          "base_uri": "https://localhost:8080/"
        },
        "id": "4hZx5LbYBIN4",
        "outputId": "d3880101-c4cb-48f6-c01e-892fbb7bc70f"
      },
      "execution_count": null,
      "outputs": [
        {
          "output_type": "execute_result",
          "data": {
            "text/plain": [
              "(11260, 3)"
            ]
          },
          "metadata": {},
          "execution_count": 7
        }
      ]
    },
    {
      "cell_type": "code",
      "source": [
        "val_df = pd.read_csv('/content/drive/MyDrive/UR/NLE Seminar/code/train_val_split/val_df.csv', \n",
        "                     index_col=0)\n",
        "# val_df = val_df.head(1000)\n",
        "val_df.head()"
      ],
      "metadata": {
        "colab": {
          "base_uri": "https://localhost:8080/",
          "height": 206
        },
        "id": "Kuv1pAZpsip-",
        "outputId": "051bda51-8de6-470d-b9f6-e0067551c421"
      },
      "execution_count": null,
      "outputs": [
        {
          "output_type": "execute_result",
          "data": {
            "text/plain": [
              "                 phrase           image  label\n",
              "23098   cornu structure  image.4130.jpg      0\n",
              "6134   jimsonweed apple     image.5.jpg      0\n",
              "20549    europol police   image.170.jpg      0\n",
              "2442    eggcup crockery  image.1197.jpg      1\n",
              "18130  phyllodoce genus     image.5.jpg      0"
            ],
            "text/html": [
              "\n",
              "  <div id=\"df-5057485e-0bf0-4c5d-86b4-a7e47b0d5af9\">\n",
              "    <div class=\"colab-df-container\">\n",
              "      <div>\n",
              "<style scoped>\n",
              "    .dataframe tbody tr th:only-of-type {\n",
              "        vertical-align: middle;\n",
              "    }\n",
              "\n",
              "    .dataframe tbody tr th {\n",
              "        vertical-align: top;\n",
              "    }\n",
              "\n",
              "    .dataframe thead th {\n",
              "        text-align: right;\n",
              "    }\n",
              "</style>\n",
              "<table border=\"1\" class=\"dataframe\">\n",
              "  <thead>\n",
              "    <tr style=\"text-align: right;\">\n",
              "      <th></th>\n",
              "      <th>phrase</th>\n",
              "      <th>image</th>\n",
              "      <th>label</th>\n",
              "    </tr>\n",
              "  </thead>\n",
              "  <tbody>\n",
              "    <tr>\n",
              "      <th>23098</th>\n",
              "      <td>cornu structure</td>\n",
              "      <td>image.4130.jpg</td>\n",
              "      <td>0</td>\n",
              "    </tr>\n",
              "    <tr>\n",
              "      <th>6134</th>\n",
              "      <td>jimsonweed apple</td>\n",
              "      <td>image.5.jpg</td>\n",
              "      <td>0</td>\n",
              "    </tr>\n",
              "    <tr>\n",
              "      <th>20549</th>\n",
              "      <td>europol police</td>\n",
              "      <td>image.170.jpg</td>\n",
              "      <td>0</td>\n",
              "    </tr>\n",
              "    <tr>\n",
              "      <th>2442</th>\n",
              "      <td>eggcup crockery</td>\n",
              "      <td>image.1197.jpg</td>\n",
              "      <td>1</td>\n",
              "    </tr>\n",
              "    <tr>\n",
              "      <th>18130</th>\n",
              "      <td>phyllodoce genus</td>\n",
              "      <td>image.5.jpg</td>\n",
              "      <td>0</td>\n",
              "    </tr>\n",
              "  </tbody>\n",
              "</table>\n",
              "</div>\n",
              "      <button class=\"colab-df-convert\" onclick=\"convertToInteractive('df-5057485e-0bf0-4c5d-86b4-a7e47b0d5af9')\"\n",
              "              title=\"Convert this dataframe to an interactive table.\"\n",
              "              style=\"display:none;\">\n",
              "        \n",
              "  <svg xmlns=\"http://www.w3.org/2000/svg\" height=\"24px\"viewBox=\"0 0 24 24\"\n",
              "       width=\"24px\">\n",
              "    <path d=\"M0 0h24v24H0V0z\" fill=\"none\"/>\n",
              "    <path d=\"M18.56 5.44l.94 2.06.94-2.06 2.06-.94-2.06-.94-.94-2.06-.94 2.06-2.06.94zm-11 1L8.5 8.5l.94-2.06 2.06-.94-2.06-.94L8.5 2.5l-.94 2.06-2.06.94zm10 10l.94 2.06.94-2.06 2.06-.94-2.06-.94-.94-2.06-.94 2.06-2.06.94z\"/><path d=\"M17.41 7.96l-1.37-1.37c-.4-.4-.92-.59-1.43-.59-.52 0-1.04.2-1.43.59L10.3 9.45l-7.72 7.72c-.78.78-.78 2.05 0 2.83L4 21.41c.39.39.9.59 1.41.59.51 0 1.02-.2 1.41-.59l7.78-7.78 2.81-2.81c.8-.78.8-2.07 0-2.86zM5.41 20L4 18.59l7.72-7.72 1.47 1.35L5.41 20z\"/>\n",
              "  </svg>\n",
              "      </button>\n",
              "      \n",
              "  <style>\n",
              "    .colab-df-container {\n",
              "      display:flex;\n",
              "      flex-wrap:wrap;\n",
              "      gap: 12px;\n",
              "    }\n",
              "\n",
              "    .colab-df-convert {\n",
              "      background-color: #E8F0FE;\n",
              "      border: none;\n",
              "      border-radius: 50%;\n",
              "      cursor: pointer;\n",
              "      display: none;\n",
              "      fill: #1967D2;\n",
              "      height: 32px;\n",
              "      padding: 0 0 0 0;\n",
              "      width: 32px;\n",
              "    }\n",
              "\n",
              "    .colab-df-convert:hover {\n",
              "      background-color: #E2EBFA;\n",
              "      box-shadow: 0px 1px 2px rgba(60, 64, 67, 0.3), 0px 1px 3px 1px rgba(60, 64, 67, 0.15);\n",
              "      fill: #174EA6;\n",
              "    }\n",
              "\n",
              "    [theme=dark] .colab-df-convert {\n",
              "      background-color: #3B4455;\n",
              "      fill: #D2E3FC;\n",
              "    }\n",
              "\n",
              "    [theme=dark] .colab-df-convert:hover {\n",
              "      background-color: #434B5C;\n",
              "      box-shadow: 0px 1px 3px 1px rgba(0, 0, 0, 0.15);\n",
              "      filter: drop-shadow(0px 1px 2px rgba(0, 0, 0, 0.3));\n",
              "      fill: #FFFFFF;\n",
              "    }\n",
              "  </style>\n",
              "\n",
              "      <script>\n",
              "        const buttonEl =\n",
              "          document.querySelector('#df-5057485e-0bf0-4c5d-86b4-a7e47b0d5af9 button.colab-df-convert');\n",
              "        buttonEl.style.display =\n",
              "          google.colab.kernel.accessAllowed ? 'block' : 'none';\n",
              "\n",
              "        async function convertToInteractive(key) {\n",
              "          const element = document.querySelector('#df-5057485e-0bf0-4c5d-86b4-a7e47b0d5af9');\n",
              "          const dataTable =\n",
              "            await google.colab.kernel.invokeFunction('convertToInteractive',\n",
              "                                                     [key], {});\n",
              "          if (!dataTable) return;\n",
              "\n",
              "          const docLinkHtml = 'Like what you see? Visit the ' +\n",
              "            '<a target=\"_blank\" href=https://colab.research.google.com/notebooks/data_table.ipynb>data table notebook</a>'\n",
              "            + ' to learn more about interactive tables.';\n",
              "          element.innerHTML = '';\n",
              "          dataTable['output_type'] = 'display_data';\n",
              "          await google.colab.output.renderOutput(dataTable, element);\n",
              "          const docLink = document.createElement('div');\n",
              "          docLink.innerHTML = docLinkHtml;\n",
              "          element.appendChild(docLink);\n",
              "        }\n",
              "      </script>\n",
              "    </div>\n",
              "  </div>\n",
              "  "
            ]
          },
          "metadata": {},
          "execution_count": 6
        }
      ]
    },
    {
      "cell_type": "code",
      "source": [
        "val_df.shape"
      ],
      "metadata": {
        "colab": {
          "base_uri": "https://localhost:8080/"
        },
        "id": "1OAEqpyljMwo",
        "outputId": "1e80299d-1e01-4b3b-8caa-5671aa8a81aa"
      },
      "execution_count": null,
      "outputs": [
        {
          "output_type": "execute_result",
          "data": {
            "text/plain": [
              "(7761, 3)"
            ]
          },
          "metadata": {},
          "execution_count": 7
        }
      ]
    },
    {
      "cell_type": "markdown",
      "metadata": {
        "id": "ex5O1eV-Pfct"
      },
      "source": [
        "# Text tokenization\n"
      ]
    },
    {
      "cell_type": "code",
      "metadata": {
        "id": "Z474sSC6oe7A",
        "colab": {
          "base_uri": "https://localhost:8080/",
          "height": 113,
          "referenced_widgets": [
            "d643834c41ca490595ab806eeed4454e",
            "72ffe918a3a8489090ad0d0d09011c66",
            "d417de2eed5e4322a343586d29df865e",
            "467892eb43a74e1d8efb8865607d9c5b",
            "198b7a3bd02d40ceb34d4cd381c0fd00",
            "19457433d9d146cbbc9c9af8c2fcad8f",
            "b6686d87f52a4c9facfa1a72c1400679",
            "2d77ae48c0bf469da30795e867203ac9",
            "4846957442eb4a729286da65ecfd9b39",
            "d95bf00893534698bc1c5a78e2f9afe4",
            "d8b3df8919974789a7a391c6a154c071",
            "06fb535c3eb344e29c43917337527abd",
            "fd88958b64dc4d65b615b21cc0546913",
            "a6bd7e7e9f4b406a966496662524cfb6",
            "99dc46ec412d47e58298804fb80de59c",
            "2ba642da822a4c5d834ae5bf13c64005",
            "781eab8b53bb43bbb84d6e54bd7dfc1b",
            "04f6aeb067f8415c8a350d5f3e471b49",
            "62b8841877da43098db88f7b9e390f33",
            "179cf14ceb3140c79310810e39ef4fbc",
            "cfa3a9f07a1d4f07a170bd58a74953e0",
            "c9cf532a922e4d17bb32f628484ee0f6",
            "c5224289006746039a38271440fbea4e",
            "9d2c75a0fd2f473080baf41bfd67a3d8",
            "9958a401fa1c47eeb9c47a09aff11ff9",
            "9e9066fe260e4f2490135c87146f2941",
            "45cc6336a6774c149bdb8904b81cc430",
            "cd6bee9218ef4f44823cbfdd5df0ffdf",
            "d9bedb8b01cd457c885a6e29043f9a36",
            "d43a2e5a0f7b4b0ea955c2be29a41a3c",
            "8a168bedd918474fa66b9daeedb27f83",
            "26f442e8a5324a3baf4b682f62013fd8",
            "e2bb4cc498194b498485f1e78c1cb504"
          ]
        },
        "outputId": "67c59f68-3ae1-4205-d175-5420e51a351d"
      },
      "source": [
        "from transformers import BertTokenizer\n",
        "tokenizer = BertTokenizer.from_pretrained('bert-base-uncased', do_lower_case=True)"
      ],
      "execution_count": 12,
      "outputs": [
        {
          "output_type": "display_data",
          "data": {
            "text/plain": [
              "Downloading (…)solve/main/vocab.txt:   0%|          | 0.00/232k [00:00<?, ?B/s]"
            ],
            "application/vnd.jupyter.widget-view+json": {
              "version_major": 2,
              "version_minor": 0,
              "model_id": "d643834c41ca490595ab806eeed4454e"
            }
          },
          "metadata": {}
        },
        {
          "output_type": "display_data",
          "data": {
            "text/plain": [
              "Downloading (…)okenizer_config.json:   0%|          | 0.00/28.0 [00:00<?, ?B/s]"
            ],
            "application/vnd.jupyter.widget-view+json": {
              "version_major": 2,
              "version_minor": 0,
              "model_id": "06fb535c3eb344e29c43917337527abd"
            }
          },
          "metadata": {}
        },
        {
          "output_type": "display_data",
          "data": {
            "text/plain": [
              "Downloading (…)lve/main/config.json:   0%|          | 0.00/570 [00:00<?, ?B/s]"
            ],
            "application/vnd.jupyter.widget-view+json": {
              "version_major": 2,
              "version_minor": 0,
              "model_id": "c5224289006746039a38271440fbea4e"
            }
          },
          "metadata": {}
        }
      ]
    },
    {
      "cell_type": "markdown",
      "source": [
        "## Max document length"
      ],
      "metadata": {
        "id": "eIWUJHmCd_oo"
      }
    },
    {
      "cell_type": "code",
      "source": [
        "texts = train_df['text'].to_list()"
      ],
      "metadata": {
        "id": "q4i1GSNvZ5Mw"
      },
      "execution_count": null,
      "outputs": []
    },
    {
      "cell_type": "code",
      "metadata": {
        "id": "cKsH2sU0OCQA"
      },
      "source": [
        "tokens_lens = []\n",
        "\n",
        "for t in tqdm(texts):\n",
        "    input_ids = tokenizer.encode(t, add_special_tokens=True)\n",
        "    tokens_lens.append(len(input_ids))\n",
        "\n",
        "max(tokens_lens)"
      ],
      "execution_count": null,
      "outputs": []
    },
    {
      "cell_type": "code",
      "source": [
        "tokens_lens = pd.Series(tokens_lens)"
      ],
      "metadata": {
        "id": "hVJ9_-hBcPnq"
      },
      "execution_count": null,
      "outputs": []
    },
    {
      "cell_type": "code",
      "source": [
        "import seaborn as sns"
      ],
      "metadata": {
        "id": "TiAGSGVpcVNV"
      },
      "execution_count": null,
      "outputs": []
    },
    {
      "cell_type": "code",
      "source": [
        "sns.displot(tokens_lens, binwidth=50);"
      ],
      "metadata": {
        "colab": {
          "base_uri": "https://localhost:8080/",
          "height": 369
        },
        "id": "KcsfwEOEcXsk",
        "outputId": "bcba3bfe-c93c-4a3b-a58b-06fb1d8d6416"
      },
      "execution_count": null,
      "outputs": [
        {
          "output_type": "display_data",
          "data": {
            "text/plain": [
              "<Figure size 360x360 with 1 Axes>"
            ],
            "image/png": "[encoded data removed]"
          },
          "metadata": {
            "needs_background": "light"
          }
        }
      ]
    },
    {
      "cell_type": "markdown",
      "metadata": {
        "id": "1M296yz577fV"
      },
      "source": [
        "* just phrases: setting `max_length` to 20\n",
        "* with summaries: to 512\n"
      ]
    },
    {
      "cell_type": "markdown",
      "source": [
        "## Bert encoding function"
      ],
      "metadata": {
        "id": "q5b7G9jL3dYu"
      }
    },
    {
      "cell_type": "code",
      "source": [
        "from tqdm import tqdm"
      ],
      "metadata": {
        "id": "otmX6OA9aNAR"
      },
      "execution_count": 13,
      "outputs": []
    },
    {
      "cell_type": "code",
      "metadata": {
        "id": "2bBdb3pt8LuQ"
      },
      "source": [
        "def bert_encode(texts, max_length=512):\n",
        "  input_ids = []\n",
        "  attention_masks = []\n",
        "  token_type_ids = []\n",
        "\n",
        "  for text in tqdm(texts):\n",
        "      encoded_dict = tokenizer.encode_plus(\n",
        "                          text,                      # Sentence to encode.\n",
        "                          add_special_tokens = True, # Add '[CLS]' and '[SEP]'\n",
        "                          max_length = max_length,           # Pad & truncate all sentences.\n",
        "                          padding = 'max_length',\n",
        "                          return_attention_mask = True,   # Construct attn. masks.\n",
        "                          return_tensors = 'pt',     # Return pytorch tensors.\n",
        "                          truncation=True\n",
        "                    )\n",
        "      \n",
        "      input_ids.append(encoded_dict['input_ids'])\n",
        "      attention_masks.append(encoded_dict['attention_mask'])\n",
        "      token_type_ids.append(encoded_dict['token_type_ids'])\n",
        "\n",
        "  input_ids = torch.cat(input_ids, dim=0)\n",
        "  attention_masks = torch.cat(attention_masks, dim=0)\n",
        "  token_type_ids = torch.cat(token_type_ids, dim=0)\n",
        "\n",
        "  return input_ids, attention_masks, token_type_ids"
      ],
      "execution_count": 14,
      "outputs": []
    },
    {
      "cell_type": "markdown",
      "source": [
        "## Encode training data"
      ],
      "metadata": {
        "id": "Wi3kYP553hpi"
      }
    },
    {
      "cell_type": "code",
      "source": [
        "train_input = bert_encode(train_df['text'].to_list(), max_length=200)\n",
        "train_input = {'input_ids': train_input[0], \n",
        "               'attention_masks': train_input[1], \n",
        "               'token_type_ids': train_input[2],\n",
        "               'sentence_image_labels': torch.tensor(train_df['label'].to_list())}"
      ],
      "metadata": {
        "colab": {
          "base_uri": "https://localhost:8080/"
        },
        "id": "NkHLno5M2NgH",
        "outputId": "e2bcfb2b-0edd-430b-f185-e5c80dbef9f5"
      },
      "execution_count": null,
      "outputs": [
        {
          "output_type": "stream",
          "name": "stderr",
          "text": [
            "100%|██████████| 11260/11260 [00:03<00:00, 3445.32it/s]\n"
          ]
        }
      ]
    },
    {
      "cell_type": "markdown",
      "source": [
        "Add image filename lists"
      ],
      "metadata": {
        "id": "6EgoOzaD3mS0"
      }
    },
    {
      "cell_type": "code",
      "source": [
        "train_input.update({'img_filenames': train_df['image'].to_list()})"
      ],
      "metadata": {
        "id": "bH3FC3Md3ozL"
      },
      "execution_count": null,
      "outputs": []
    },
    {
      "cell_type": "markdown",
      "source": [
        "# Datasets & dataloders"
      ],
      "metadata": {
        "id": "pzc4FqHA6TBC"
      }
    },
    {
      "cell_type": "markdown",
      "source": [
        "## Streaming dataset class\n",
        "\n",
        "To load visual embeddings directly from files during training (otherwise RAM runs out almost immediately)"
      ],
      "metadata": {
        "id": "vKKlN8Ww7DW7"
      }
    },
    {
      "cell_type": "code",
      "source": [
        "from torch.utils.data import IterableDataset\n",
        "from torch.utils.data import DataLoader\n",
        "from itertools import cycle, islice, chain"
      ],
      "metadata": {
        "id": "CU9FX3BX8hU6"
      },
      "execution_count": null,
      "outputs": []
    },
    {
      "cell_type": "code",
      "source": [
        "class VWSDDataset(IterableDataset):\n",
        "  def __init__(self, data_input, vis_emb_dir):\n",
        "    self.data_input = data_input\n",
        "    self.data_size = data_input['input_ids'].shape[0]\n",
        "    self.vis_emb_dir = vis_emb_dir\n",
        "\n",
        "  def parse_vis_emb_file(self, file_path):\n",
        "    vis_emb = pd.read_csv(file_path, index_col=0)\n",
        "    vis_emb = torch.tensor(vis_emb.to_numpy()).float()\n",
        "    return vis_emb\n",
        "\n",
        "  def get_vis_emb_filename(self, filename):\n",
        "    filename = filename.split('.jpg')[0]\n",
        "    filename = f'{self.vis_emb_dir}{filename}_visual_emb.csv'\n",
        "    return filename\n",
        "\n",
        "  def process_data(self):\n",
        "    for ind in range(self.data_size):\n",
        "      this_input_ids = self.data_input['input_ids'][ind].detach()\n",
        "      this_attention_mask = self.data_input['attention_masks'][ind].detach()\n",
        "      this_token_type_ids = self.data_input['token_type_ids'][ind].detach()\n",
        "      this_sentence_image_labels = self.data_input['sentence_image_labels'][ind].detach()\n",
        "\n",
        "      vis_emb_filename = self.get_vis_emb_filename(self.data_input['img_filenames'][ind])\n",
        "      visual_emb = self.parse_vis_emb_file(vis_emb_filename)\n",
        "      visual_attention_mask = torch.ones(visual_emb.shape[:-1], dtype=torch.long)\n",
        "      visual_token_type_ids = torch.ones(visual_emb.shape[:-1], dtype=torch.long)\n",
        "\n",
        "      yield this_input_ids, this_attention_mask, this_token_type_ids, \\\n",
        "        visual_emb, visual_attention_mask, visual_token_type_ids, \\\n",
        "        this_sentence_image_labels\n",
        "\n",
        "  def __iter__(self):\n",
        "    return cycle(self.process_data())\n",
        "\n",
        "  def __len__(self):\n",
        "    return self.data_size"
      ],
      "metadata": {
        "id": "b-Q8MM49Fw3K"
      },
      "execution_count": null,
      "outputs": []
    },
    {
      "cell_type": "markdown",
      "metadata": {
        "id": "aRp4O7D295d_"
      },
      "source": [
        "## Initialize datasets & dataloaders"
      ]
    },
    {
      "cell_type": "code",
      "metadata": {
        "id": "XGUqOCtgqGhP"
      },
      "source": [
        "vis_emb_dir = '/content/drive/MyDrive/UR/NLE Seminar/code/visual_embeddings/visual_embeddings_train/'\n",
        "batch_size = 16  # recommended 16 or 32\n",
        "\n",
        "train_dataset = VWSDDataset(train_input, vis_emb_dir=vis_emb_dir)\n",
        "train_dataloader = DataLoader(\n",
        "            train_dataset,  \n",
        "            batch_size = batch_size\n",
        "        )"
      ],
      "execution_count": null,
      "outputs": []
    },
    {
      "cell_type": "markdown",
      "metadata": {
        "id": "8bwa6Rts-02-"
      },
      "source": [
        "# Training"
      ]
    },
    {
      "cell_type": "markdown",
      "metadata": {
        "id": "D6TKgyUzPIQc"
      },
      "source": [
        "## Load BERT"
      ]
    },
    {
      "cell_type": "code",
      "source": [
        "from transformers import VisualBertForPreTraining, BertConfig\n",
        "from torch.optim import AdamW"
      ],
      "metadata": {
        "id": "hMWBU844RNLn"
      },
      "execution_count": null,
      "outputs": []
    },
    {
      "cell_type": "code",
      "metadata": {
        "id": "gFsCTp_mporB"
      },
      "source": [
        "model = VisualBertForPreTraining.from_pretrained(\n",
        "    \"uclanlp/visualbert-nlvr2-coco-pre\", \n",
        "    num_labels = 2, # The number of output labels--2 for binary classification.\n",
        "    output_attentions = False, # Whether the model returns attentions weights.\n",
        "    output_hidden_states = False, # Whether the model returns all hidden-states.\n",
        ")\n",
        "\n",
        "# Tell pytorch to run this model on the GPU.\n",
        "model.to(device);"
      ],
      "execution_count": null,
      "outputs": []
    },
    {
      "cell_type": "markdown",
      "source": [
        "Or load pretrained model from disk"
      ],
      "metadata": {
        "id": "mSOLR-KVBj6b"
      }
    },
    {
      "cell_type": "code",
      "source": [
        "dir_path = '/content/drive/MyDrive/UR/NLE Seminar/code/models/visual_bert_8/'\n",
        "\n",
        "model = VisualBertForPreTraining.from_pretrained(dir_path)\n",
        "model.to(device);"
      ],
      "metadata": {
        "id": "DaA6aosSBY7u"
      },
      "execution_count": null,
      "outputs": []
    },
    {
      "cell_type": "markdown",
      "metadata": {
        "id": "qRWT-D4U_Pvx"
      },
      "source": [
        "## Optimizer & Learning Rate Scheduler"
      ]
    },
    {
      "cell_type": "code",
      "metadata": {
        "id": "GLs72DuMODJO"
      },
      "source": [
        "optimizer = AdamW(model.parameters(),\n",
        "                  lr = 2e-5, # args.learning_rate - default is 5e-5, our notebook had 2e-5\n",
        "                  eps = 1e-8 # args.adam_epsilon  - default is 1e-8.\n",
        "                )\n"
      ],
      "execution_count": null,
      "outputs": []
    },
    {
      "cell_type": "code",
      "metadata": {
        "id": "-p0upAhhRiIx"
      },
      "source": [
        "from transformers import get_linear_schedule_with_warmup\n",
        "\n",
        "epochs = 1\n",
        "\n",
        "total_steps = len(train_dataloader) * epochs\n",
        "\n",
        "scheduler = get_linear_schedule_with_warmup(optimizer, \n",
        "                                            num_warmup_steps = 0, # Default value in run_glue.py\n",
        "                                            num_training_steps = total_steps)"
      ],
      "execution_count": null,
      "outputs": []
    },
    {
      "cell_type": "markdown",
      "metadata": {
        "id": "RqfmWwUR_Sox"
      },
      "source": [
        "## Training Loop"
      ]
    },
    {
      "cell_type": "markdown",
      "metadata": {
        "id": "KNhRtWPXH9C3"
      },
      "source": [
        "Helper function for formatting elapsed times as `hh:mm:ss`\n"
      ]
    },
    {
      "cell_type": "code",
      "metadata": {
        "id": "gpt6tR83keZD"
      },
      "source": [
        "import time\n",
        "import datetime\n",
        "\n",
        "def format_time(elapsed):\n",
        "    '''\n",
        "    Takes a time in seconds and returns a string hh:mm:ss\n",
        "    '''\n",
        "    # Round to the nearest second.\n",
        "    elapsed_rounded = int(round((elapsed)))\n",
        "    \n",
        "    # Format as hh:mm:ss\n",
        "    return str(datetime.timedelta(seconds=elapsed_rounded))\n"
      ],
      "execution_count": null,
      "outputs": []
    },
    {
      "cell_type": "markdown",
      "source": [
        "Clear up RAM"
      ],
      "metadata": {
        "id": "Ju9YjGMW4kwY"
      }
    },
    {
      "cell_type": "code",
      "source": [
        "# del df\n",
        "del train_df\n",
        "del tokenizer\n",
        "del train_input\n",
        "# del train_df_neg\n",
        "# del val_df"
      ],
      "metadata": {
        "id": "HCdd3vuGQV16"
      },
      "execution_count": null,
      "outputs": []
    },
    {
      "cell_type": "markdown",
      "metadata": {
        "id": "cfNIhN19te3N"
      },
      "source": [
        "Training\n",
        "\n",
        "\n"
      ]
    },
    {
      "cell_type": "code",
      "metadata": {
        "id": "6J-FYdx6nFE_",
        "colab": {
          "base_uri": "https://localhost:8080/"
        },
        "outputId": "16cc675e-0929-4c21-c12e-e273ee3d579a"
      },
      "source": [
        "import random\n",
        "import numpy as np\n",
        "\n",
        "seed_val = 42\n",
        "\n",
        "random.seed(seed_val)\n",
        "np.random.seed(seed_val)\n",
        "torch.manual_seed(seed_val)\n",
        "torch.cuda.manual_seed_all(seed_val)\n",
        "\n",
        "training_stats = []\n",
        "total_t0 = time.time()\n",
        "\n",
        "for epoch_i in range(0, epochs):\n",
        "    print(\"\")\n",
        "    print('======== Epoch {:} / {:} ========'.format(epoch_i + 1, epochs))\n",
        "    print('Training...')\n",
        "\n",
        "    t0 = time.time()\n",
        "    total_train_loss = 0\n",
        "    model.train()\n",
        "\n",
        "    for step, batch in enumerate(islice(train_dataloader, len(train_dataloader))):\n",
        "\n",
        "        # Progress update every 40 batches.\n",
        "        if step % 40 == 0 and not step == 0:\n",
        "            elapsed = format_time(time.time() - t0)\n",
        "            print('  Batch {:>5,}  of  {:>5,}.    Elapsed: {:}.'.format(step, len(train_dataloader), elapsed))\n",
        "\n",
        "        # Unpack this training batch from our dataloader. \n",
        "        b_input_ids = batch[0].to(device)\n",
        "        b_attention_mask = batch[1].to(device)\n",
        "        b_token_type_ids = batch[2].to(device)\n",
        "        b_visual_emb = batch[3].to(device)\n",
        "        b_visual_attention_mask = batch[4].to(device)\n",
        "        b_visual_token_type_ids = batch[5].to(device)\n",
        "        b_labels = torch.ones((batch_size, \n",
        "                               b_attention_mask.size(-1) + b_visual_attention_mask.size(-1)), \n",
        "                              dtype=torch.long).to(device)\n",
        "        b_sentence_image_labels = batch[6].to(device)\n",
        "\n",
        "        model.zero_grad()        \n",
        "\n",
        "        result = model(input_ids=b_input_ids, \n",
        "                       token_type_ids=b_token_type_ids, \n",
        "                       attention_mask=b_attention_mask, \n",
        "                       visual_embeds=b_visual_emb, \n",
        "                       visual_attention_mask=b_visual_attention_mask, \n",
        "                       visual_token_type_ids=b_visual_token_type_ids,\n",
        "                       labels=b_labels,\n",
        "                       sentence_image_labels=b_sentence_image_labels,\n",
        "                       return_dict=True)\n",
        "\n",
        "        loss = result.loss\n",
        "        logits = result.prediction_logits\n",
        "        total_train_loss += loss.item()\n",
        "\n",
        "        del result\n",
        "        del b_input_ids\n",
        "        del b_attention_mask\n",
        "        del b_token_type_ids\n",
        "        del b_visual_emb\n",
        "        del b_visual_attention_mask\n",
        "        del b_visual_token_type_ids\n",
        "        del b_labels\n",
        "        del batch\n",
        "\n",
        "        loss.backward()\n",
        "\n",
        "        # Clip the norm of the gradients to 1.0.\n",
        "        # This is to help prevent the \"exploding gradients\" problem.\n",
        "        torch.nn.utils.clip_grad_norm_(model.parameters(), 1.0)\n",
        "\n",
        "        # Update parameters and take a step using the computed gradient.\n",
        "        optimizer.step()\n",
        "        # Update the learning rate.\n",
        "        scheduler.step()\n",
        "\n",
        "    avg_train_loss = total_train_loss / len(train_dataloader)            \n",
        "    training_time = format_time(time.time() - t0)\n",
        "    print(\"\")\n",
        "    print(\"  Average training loss: {0:.2f}\".format(avg_train_loss))\n",
        "    print(\"  Training epoch took: {:}\".format(training_time))\n",
        "        \n",
        "    training_stats.append(\n",
        "        {\n",
        "            'epoch': epoch_i + 1,\n",
        "            'Training Loss': avg_train_loss,\n",
        "            'Training Time': training_time,\n",
        "        }\n",
        "    )\n",
        "\n",
        "print(\"\")\n",
        "print(\"Training complete!\")\n",
        "print(\"Total training took {:} (h:mm:ss)\".format(format_time(time.time()-total_t0)))"
      ],
      "execution_count": null,
      "outputs": [
        {
          "output_type": "stream",
          "name": "stdout",
          "text": [
            "\n",
            "======== Epoch 1 / 1 ========\n",
            "Training...\n",
            "  Batch    40  of    704.    Elapsed: 0:03:23.\n",
            "  Batch    80  of    704.    Elapsed: 0:06:22.\n",
            "  Batch   120  of    704.    Elapsed: 0:09:19.\n",
            "  Batch   160  of    704.    Elapsed: 0:12:08.\n",
            "  Batch   200  of    704.    Elapsed: 0:14:55.\n",
            "  Batch   240  of    704.    Elapsed: 0:17:41.\n",
            "  Batch   280  of    704.    Elapsed: 0:20:23.\n",
            "  Batch   320  of    704.    Elapsed: 0:23:04.\n",
            "  Batch   360  of    704.    Elapsed: 0:25:39.\n",
            "  Batch   400  of    704.    Elapsed: 0:28:13.\n",
            "  Batch   440  of    704.    Elapsed: 0:30:51.\n",
            "  Batch   480  of    704.    Elapsed: 0:33:24.\n",
            "  Batch   520  of    704.    Elapsed: 0:36:02.\n",
            "  Batch   560  of    704.    Elapsed: 0:38:30.\n",
            "  Batch   600  of    704.    Elapsed: 0:41:03.\n",
            "  Batch   640  of    704.    Elapsed: 0:43:33.\n",
            "  Batch   680  of    704.    Elapsed: 0:46:03.\n",
            "\n",
            "  Average training loss: 0.51\n",
            "  Training epoch took: 0:47:30\n",
            "\n",
            "Training complete!\n",
            "Total training took 0:47:30 (h:mm:ss)\n"
          ]
        }
      ]
    },
    {
      "cell_type": "markdown",
      "source": [
        "## Save model"
      ],
      "metadata": {
        "id": "cUpDRozK4tYA"
      }
    },
    {
      "cell_type": "code",
      "source": [
        "import os\n",
        "dir_path = '/content/drive/MyDrive/UR/NLE Seminar/code/models/visual_bert_8/'\n",
        "# os.makedirs(dir_path)\n",
        "model.save_pretrained(dir_path)"
      ],
      "metadata": {
        "id": "TltcyDVdw1CZ"
      },
      "execution_count": null,
      "outputs": []
    },
    {
      "cell_type": "code",
      "source": [
        "tokenizer.save_pretrained(dir_path)"
      ],
      "metadata": {
        "id": "JOOC_hUEfk9Q"
      },
      "execution_count": null,
      "outputs": []
    },
    {
      "cell_type": "code",
      "source": [
        "dir_path = '/content/drive/MyDrive/UR/NLE Seminar/code/train_val_split/'\n",
        "# os.makedirs(dir_path)\n",
        "train_df.to_csv(dir_path + 'train_df_summ.csv')\n",
        "val_df.to_csv(dir_path + 'val_df_summ.csv')"
      ],
      "metadata": {
        "id": "AWxs1xNugEQF"
      },
      "execution_count": null,
      "outputs": []
    },
    {
      "cell_type": "markdown",
      "source": [
        "# Validation"
      ],
      "metadata": {
        "id": "90NwIoG8SJGu"
      }
    },
    {
      "cell_type": "markdown",
      "source": [
        "## Validation plain phrases"
      ],
      "metadata": {
        "id": "jxw-1zP242J8"
      }
    },
    {
      "cell_type": "code",
      "source": [
        "val_df = pd.read_csv('/content/drive/MyDrive/UR/NLE Seminar/code/train_val_split/val_df.csv', \n",
        "                     index_col=0)\n",
        "val_df.head()"
      ],
      "metadata": {
        "colab": {
          "base_uri": "https://localhost:8080/",
          "height": 206
        },
        "id": "FSy8XMHlqQMx",
        "outputId": "ad300872-cd92-4a6b-ab19-40ef2567b1db"
      },
      "execution_count": null,
      "outputs": [
        {
          "output_type": "execute_result",
          "data": {
            "text/plain": [
              "                 phrase           image  label\n",
              "23098   cornu structure  image.4130.jpg      0\n",
              "6134   jimsonweed apple     image.5.jpg      0\n",
              "20549    europol police   image.170.jpg      0\n",
              "2442    eggcup crockery  image.1197.jpg      1\n",
              "18130  phyllodoce genus     image.5.jpg      0"
            ],
            "text/html": [
              "\n",
              "  <div id=\"df-86d11365-2cf7-4c72-adb7-b1df03a7238e\">\n",
              "    <div class=\"colab-df-container\">\n",
              "      <div>\n",
              "<style scoped>\n",
              "    .dataframe tbody tr th:only-of-type {\n",
              "        vertical-align: middle;\n",
              "    }\n",
              "\n",
              "    .dataframe tbody tr th {\n",
              "        vertical-align: top;\n",
              "    }\n",
              "\n",
              "    .dataframe thead th {\n",
              "        text-align: right;\n",
              "    }\n",
              "</style>\n",
              "<table border=\"1\" class=\"dataframe\">\n",
              "  <thead>\n",
              "    <tr style=\"text-align: right;\">\n",
              "      <th></th>\n",
              "      <th>phrase</th>\n",
              "      <th>image</th>\n",
              "      <th>label</th>\n",
              "    </tr>\n",
              "  </thead>\n",
              "  <tbody>\n",
              "    <tr>\n",
              "      <th>23098</th>\n",
              "      <td>cornu structure</td>\n",
              "      <td>image.4130.jpg</td>\n",
              "      <td>0</td>\n",
              "    </tr>\n",
              "    <tr>\n",
              "      <th>6134</th>\n",
              "      <td>jimsonweed apple</td>\n",
              "      <td>image.5.jpg</td>\n",
              "      <td>0</td>\n",
              "    </tr>\n",
              "    <tr>\n",
              "      <th>20549</th>\n",
              "      <td>europol police</td>\n",
              "      <td>image.170.jpg</td>\n",
              "      <td>0</td>\n",
              "    </tr>\n",
              "    <tr>\n",
              "      <th>2442</th>\n",
              "      <td>eggcup crockery</td>\n",
              "      <td>image.1197.jpg</td>\n",
              "      <td>1</td>\n",
              "    </tr>\n",
              "    <tr>\n",
              "      <th>18130</th>\n",
              "      <td>phyllodoce genus</td>\n",
              "      <td>image.5.jpg</td>\n",
              "      <td>0</td>\n",
              "    </tr>\n",
              "  </tbody>\n",
              "</table>\n",
              "</div>\n",
              "      <button class=\"colab-df-convert\" onclick=\"convertToInteractive('df-86d11365-2cf7-4c72-adb7-b1df03a7238e')\"\n",
              "              title=\"Convert this dataframe to an interactive table.\"\n",
              "              style=\"display:none;\">\n",
              "        \n",
              "  <svg xmlns=\"http://www.w3.org/2000/svg\" height=\"24px\"viewBox=\"0 0 24 24\"\n",
              "       width=\"24px\">\n",
              "    <path d=\"M0 0h24v24H0V0z\" fill=\"none\"/>\n",
              "    <path d=\"M18.56 5.44l.94 2.06.94-2.06 2.06-.94-2.06-.94-.94-2.06-.94 2.06-2.06.94zm-11 1L8.5 8.5l.94-2.06 2.06-.94-2.06-.94L8.5 2.5l-.94 2.06-2.06.94zm10 10l.94 2.06.94-2.06 2.06-.94-2.06-.94-.94-2.06-.94 2.06-2.06.94z\"/><path d=\"M17.41 7.96l-1.37-1.37c-.4-.4-.92-.59-1.43-.59-.52 0-1.04.2-1.43.59L10.3 9.45l-7.72 7.72c-.78.78-.78 2.05 0 2.83L4 21.41c.39.39.9.59 1.41.59.51 0 1.02-.2 1.41-.59l7.78-7.78 2.81-2.81c.8-.78.8-2.07 0-2.86zM5.41 20L4 18.59l7.72-7.72 1.47 1.35L5.41 20z\"/>\n",
              "  </svg>\n",
              "      </button>\n",
              "      \n",
              "  <style>\n",
              "    .colab-df-container {\n",
              "      display:flex;\n",
              "      flex-wrap:wrap;\n",
              "      gap: 12px;\n",
              "    }\n",
              "\n",
              "    .colab-df-convert {\n",
              "      background-color: #E8F0FE;\n",
              "      border: none;\n",
              "      border-radius: 50%;\n",
              "      cursor: pointer;\n",
              "      display: none;\n",
              "      fill: #1967D2;\n",
              "      height: 32px;\n",
              "      padding: 0 0 0 0;\n",
              "      width: 32px;\n",
              "    }\n",
              "\n",
              "    .colab-df-convert:hover {\n",
              "      background-color: #E2EBFA;\n",
              "      box-shadow: 0px 1px 2px rgba(60, 64, 67, 0.3), 0px 1px 3px 1px rgba(60, 64, 67, 0.15);\n",
              "      fill: #174EA6;\n",
              "    }\n",
              "\n",
              "    [theme=dark] .colab-df-convert {\n",
              "      background-color: #3B4455;\n",
              "      fill: #D2E3FC;\n",
              "    }\n",
              "\n",
              "    [theme=dark] .colab-df-convert:hover {\n",
              "      background-color: #434B5C;\n",
              "      box-shadow: 0px 1px 3px 1px rgba(0, 0, 0, 0.15);\n",
              "      filter: drop-shadow(0px 1px 2px rgba(0, 0, 0, 0.3));\n",
              "      fill: #FFFFFF;\n",
              "    }\n",
              "  </style>\n",
              "\n",
              "      <script>\n",
              "        const buttonEl =\n",
              "          document.querySelector('#df-86d11365-2cf7-4c72-adb7-b1df03a7238e button.colab-df-convert');\n",
              "        buttonEl.style.display =\n",
              "          google.colab.kernel.accessAllowed ? 'block' : 'none';\n",
              "\n",
              "        async function convertToInteractive(key) {\n",
              "          const element = document.querySelector('#df-86d11365-2cf7-4c72-adb7-b1df03a7238e');\n",
              "          const dataTable =\n",
              "            await google.colab.kernel.invokeFunction('convertToInteractive',\n",
              "                                                     [key], {});\n",
              "          if (!dataTable) return;\n",
              "\n",
              "          const docLinkHtml = 'Like what you see? Visit the ' +\n",
              "            '<a target=\"_blank\" href=https://colab.research.google.com/notebooks/data_table.ipynb>data table notebook</a>'\n",
              "            + ' to learn more about interactive tables.';\n",
              "          element.innerHTML = '';\n",
              "          dataTable['output_type'] = 'display_data';\n",
              "          await google.colab.output.renderOutput(dataTable, element);\n",
              "          const docLink = document.createElement('div');\n",
              "          docLink.innerHTML = docLinkHtml;\n",
              "          element.appendChild(docLink);\n",
              "        }\n",
              "      </script>\n",
              "    </div>\n",
              "  </div>\n",
              "  "
            ]
          },
          "metadata": {},
          "execution_count": 7
        }
      ]
    },
    {
      "cell_type": "code",
      "source": [
        "val_df.shape"
      ],
      "metadata": {
        "colab": {
          "base_uri": "https://localhost:8080/"
        },
        "id": "bl_IPPsPqR2d",
        "outputId": "a904cf22-fd2b-46eb-fd39-5f93c563d42b"
      },
      "execution_count": null,
      "outputs": [
        {
          "output_type": "execute_result",
          "data": {
            "text/plain": [
              "(7761, 3)"
            ]
          },
          "metadata": {},
          "execution_count": 39
        }
      ]
    },
    {
      "cell_type": "code",
      "source": [
        "val_input = bert_encode(val_df['phrase'].to_list())\n",
        "val_input = {'input_ids': val_input[0], \n",
        "             'attention_masks': val_input[1], \n",
        "             'token_type_ids': val_input[2],\n",
        "             'sentence_image_labels': torch.tensor(val_df['label'].to_list())}\n",
        "val_input.update({'img_filenames': val_df['image'].to_list()})"
      ],
      "metadata": {
        "colab": {
          "base_uri": "https://localhost:8080/"
        },
        "id": "m5m2G1b1qboH",
        "outputId": "1e2aa276-032c-41d6-b809-531f240df460"
      },
      "execution_count": null,
      "outputs": [
        {
          "output_type": "stream",
          "name": "stderr",
          "text": [
            "100%|██████████| 7761/7761 [00:06<00:00, 1280.96it/s]\n"
          ]
        }
      ]
    },
    {
      "cell_type": "code",
      "source": [
        "vis_emb_dir = '/content/drive/MyDrive/UR/NLE Seminar/code/visual_embeddings/visual_embeddings_train/'\n",
        "batch_size = 64  # recommended 16 or 32\n",
        "\n",
        "val_dataset = VWSDDataset(val_input, vis_emb_dir=vis_emb_dir)\n",
        "validation_dataloader = DataLoader(\n",
        "            val_dataset,\n",
        "            # sampler = SequentialSampler(val_dataset),\n",
        "            batch_size = batch_size\n",
        "        )"
      ],
      "metadata": {
        "id": "kAJ1jCiGqboL"
      },
      "execution_count": null,
      "outputs": []
    },
    {
      "cell_type": "code",
      "source": [
        "dir_path = '/content/drive/MyDrive/UR/NLE Seminar/code/models/visual_bert_5/'\n",
        "\n",
        "model = VisualBertForPreTraining.from_pretrained(dir_path)\n",
        "# tokenizer = BertTokenizer.from_pretrained(dir_path)\n",
        "\n",
        "model.to(device);"
      ],
      "metadata": {
        "id": "nmDn4b2EpxtI"
      },
      "execution_count": null,
      "outputs": []
    },
    {
      "cell_type": "code",
      "source": [
        "del val_df\n",
        "del tokenizer"
      ],
      "metadata": {
        "id": "wztJ1rlyjimK"
      },
      "execution_count": null,
      "outputs": []
    },
    {
      "cell_type": "code",
      "source": [
        "model.eval()\n",
        "\n",
        "predictions, true_labels = [], []\n",
        "\n",
        "for batch in tqdm(islice(validation_dataloader, len(validation_dataloader)), \n",
        "                  total=len(validation_dataloader)):\n",
        "  batch = tuple(t.to(device) for t in batch)\n",
        "  \n",
        "  b_input_ids = batch[0].to(device)\n",
        "  b_attention_mask = batch[1].to(device)\n",
        "  b_token_type_ids = batch[2].to(device)\n",
        "  b_visual_emb = batch[3].to(device)\n",
        "  b_visual_attention_mask = batch[4].to(device)\n",
        "  b_visual_token_type_ids = batch[5].to(device)\n",
        "  b_labels = torch.ones((batch_size, \n",
        "                         b_attention_mask.size(-1) + b_visual_attention_mask.size(-1)), \n",
        "                         dtype=torch.long).to(device)\n",
        "  b_sentence_image_labels = batch[6].to(device)\n",
        "\n",
        "  with torch.no_grad():\n",
        "    result = model(input_ids=b_input_ids, \n",
        "                       token_type_ids=b_token_type_ids, \n",
        "                       attention_mask=b_attention_mask, \n",
        "                       visual_embeds=b_visual_emb, \n",
        "                       visual_attention_mask=b_visual_attention_mask, \n",
        "                       visual_token_type_ids=b_visual_token_type_ids,\n",
        "                       labels=b_labels,\n",
        "                       sentence_image_labels=b_sentence_image_labels,\n",
        "                       return_dict=True)\n",
        "\n",
        "    logits = result.seq_relationship_logits\n",
        "    logits = logits.detach().cpu().numpy()\n",
        "    # print('logits:', logits.shape, logits)\n",
        "    label_ids = b_sentence_image_labels.to('cpu').numpy()\n",
        "    # print('label_ids:', label_ids.shape, label_ids)\n",
        "    \n",
        "    # Store predictions and true labels\n",
        "    predictions.append(logits)\n",
        "    true_labels.append(label_ids)\n",
        "\n",
        "    del result\n",
        "    del b_input_ids\n",
        "    del b_attention_mask\n",
        "    del b_token_type_ids\n",
        "    del b_visual_emb\n",
        "    del b_visual_attention_mask\n",
        "    del b_visual_token_type_ids\n",
        "    del b_labels\n",
        "    del batch\n",
        "\n",
        "  # break"
      ],
      "metadata": {
        "colab": {
          "base_uri": "https://localhost:8080/"
        },
        "id": "o1tCPXRxSOog",
        "outputId": "2b2c92ac-16fb-4276-c704-afb2779c1c84"
      },
      "execution_count": null,
      "outputs": [
        {
          "output_type": "stream",
          "name": "stderr",
          "text": [
            "100%|██████████| 122/122 [32:47<00:00, 16.13s/it]\n"
          ]
        }
      ]
    },
    {
      "cell_type": "code",
      "source": [
        "import numpy as np"
      ],
      "metadata": {
        "id": "pEvCxrr4zgHo"
      },
      "execution_count": null,
      "outputs": []
    },
    {
      "cell_type": "code",
      "source": [
        "predictions = np.array(predictions)\n",
        "predictions.shape"
      ],
      "metadata": {
        "colab": {
          "base_uri": "https://localhost:8080/"
        },
        "outputId": "0bfc44ce-7897-4488-b554-1654ec6a007c",
        "id": "XZACEqXUtRYP"
      },
      "execution_count": null,
      "outputs": [
        {
          "output_type": "execute_result",
          "data": {
            "text/plain": [
              "(122, 64, 2)"
            ]
          },
          "metadata": {},
          "execution_count": 21
        }
      ]
    },
    {
      "cell_type": "code",
      "source": [
        "predictions = predictions.reshape(predictions.shape[0] * 64, 2)\n",
        "predictions.shape"
      ],
      "metadata": {
        "colab": {
          "base_uri": "https://localhost:8080/"
        },
        "outputId": "4e2d6ea6-db4b-4fdd-962e-b17bbdd976aa",
        "id": "ecltbXiNtRYQ"
      },
      "execution_count": null,
      "outputs": [
        {
          "output_type": "execute_result",
          "data": {
            "text/plain": [
              "(7808, 2)"
            ]
          },
          "metadata": {},
          "execution_count": 22
        }
      ]
    },
    {
      "cell_type": "code",
      "source": [
        "true_labels = np.array(true_labels)\n",
        "true_labels = true_labels.reshape(true_labels.shape[0] * 64)\n",
        "true_labels.shape"
      ],
      "metadata": {
        "colab": {
          "base_uri": "https://localhost:8080/"
        },
        "id": "FQMwzksOw7-J",
        "outputId": "8a85b24b-2bd5-464a-a874-ec642142c6e5"
      },
      "execution_count": null,
      "outputs": [
        {
          "output_type": "execute_result",
          "data": {
            "text/plain": [
              "(7808,)"
            ]
          },
          "metadata": {},
          "execution_count": 23
        }
      ]
    },
    {
      "cell_type": "code",
      "source": [
        "predictions_df = pd.DataFrame(predictions, columns=['pred_true', 'pred_false'])\n",
        "predictions_df['real_label'] = pd.Series(true_labels)\n",
        "predictions_df.head()"
      ],
      "metadata": {
        "colab": {
          "base_uri": "https://localhost:8080/",
          "height": 206
        },
        "outputId": "1b26082d-c015-4fee-80d7-fe44970aeb90",
        "id": "cYCUjB-1tRYQ"
      },
      "execution_count": null,
      "outputs": [
        {
          "output_type": "execute_result",
          "data": {
            "text/plain": [
              "   pred_true  pred_false  real_label\n",
              "0  -0.330886    0.442226           0\n",
              "1   3.431724   -4.862715           0\n",
              "2   2.611861   -4.051740           0\n",
              "3  -0.073379    0.041858           1\n",
              "4   3.395190   -4.895686           0"
            ],
            "text/html": [
              "\n",
              "  <div id=\"df-7c91f3c0-3305-40c5-abed-2a00aefa3b3a\">\n",
              "    <div class=\"colab-df-container\">\n",
              "      <div>\n",
              "<style scoped>\n",
              "    .dataframe tbody tr th:only-of-type {\n",
              "        vertical-align: middle;\n",
              "    }\n",
              "\n",
              "    .dataframe tbody tr th {\n",
              "        vertical-align: top;\n",
              "    }\n",
              "\n",
              "    .dataframe thead th {\n",
              "        text-align: right;\n",
              "    }\n",
              "</style>\n",
              "<table border=\"1\" class=\"dataframe\">\n",
              "  <thead>\n",
              "    <tr style=\"text-align: right;\">\n",
              "      <th></th>\n",
              "      <th>pred_true</th>\n",
              "      <th>pred_false</th>\n",
              "      <th>real_label</th>\n",
              "    </tr>\n",
              "  </thead>\n",
              "  <tbody>\n",
              "    <tr>\n",
              "      <th>0</th>\n",
              "      <td>-0.330886</td>\n",
              "      <td>0.442226</td>\n",
              "      <td>0</td>\n",
              "    </tr>\n",
              "    <tr>\n",
              "      <th>1</th>\n",
              "      <td>3.431724</td>\n",
              "      <td>-4.862715</td>\n",
              "      <td>0</td>\n",
              "    </tr>\n",
              "    <tr>\n",
              "      <th>2</th>\n",
              "      <td>2.611861</td>\n",
              "      <td>-4.051740</td>\n",
              "      <td>0</td>\n",
              "    </tr>\n",
              "    <tr>\n",
              "      <th>3</th>\n",
              "      <td>-0.073379</td>\n",
              "      <td>0.041858</td>\n",
              "      <td>1</td>\n",
              "    </tr>\n",
              "    <tr>\n",
              "      <th>4</th>\n",
              "      <td>3.395190</td>\n",
              "      <td>-4.895686</td>\n",
              "      <td>0</td>\n",
              "    </tr>\n",
              "  </tbody>\n",
              "</table>\n",
              "</div>\n",
              "      <button class=\"colab-df-convert\" onclick=\"convertToInteractive('df-7c91f3c0-3305-40c5-abed-2a00aefa3b3a')\"\n",
              "              title=\"Convert this dataframe to an interactive table.\"\n",
              "              style=\"display:none;\">\n",
              "        \n",
              "  <svg xmlns=\"http://www.w3.org/2000/svg\" height=\"24px\"viewBox=\"0 0 24 24\"\n",
              "       width=\"24px\">\n",
              "    <path d=\"M0 0h24v24H0V0z\" fill=\"none\"/>\n",
              "    <path d=\"M18.56 5.44l.94 2.06.94-2.06 2.06-.94-2.06-.94-.94-2.06-.94 2.06-2.06.94zm-11 1L8.5 8.5l.94-2.06 2.06-.94-2.06-.94L8.5 2.5l-.94 2.06-2.06.94zm10 10l.94 2.06.94-2.06 2.06-.94-2.06-.94-.94-2.06-.94 2.06-2.06.94z\"/><path d=\"M17.41 7.96l-1.37-1.37c-.4-.4-.92-.59-1.43-.59-.52 0-1.04.2-1.43.59L10.3 9.45l-7.72 7.72c-.78.78-.78 2.05 0 2.83L4 21.41c.39.39.9.59 1.41.59.51 0 1.02-.2 1.41-.59l7.78-7.78 2.81-2.81c.8-.78.8-2.07 0-2.86zM5.41 20L4 18.59l7.72-7.72 1.47 1.35L5.41 20z\"/>\n",
              "  </svg>\n",
              "      </button>\n",
              "      \n",
              "  <style>\n",
              "    .colab-df-container {\n",
              "      display:flex;\n",
              "      flex-wrap:wrap;\n",
              "      gap: 12px;\n",
              "    }\n",
              "\n",
              "    .colab-df-convert {\n",
              "      background-color: #E8F0FE;\n",
              "      border: none;\n",
              "      border-radius: 50%;\n",
              "      cursor: pointer;\n",
              "      display: none;\n",
              "      fill: #1967D2;\n",
              "      height: 32px;\n",
              "      padding: 0 0 0 0;\n",
              "      width: 32px;\n",
              "    }\n",
              "\n",
              "    .colab-df-convert:hover {\n",
              "      background-color: #E2EBFA;\n",
              "      box-shadow: 0px 1px 2px rgba(60, 64, 67, 0.3), 0px 1px 3px 1px rgba(60, 64, 67, 0.15);\n",
              "      fill: #174EA6;\n",
              "    }\n",
              "\n",
              "    [theme=dark] .colab-df-convert {\n",
              "      background-color: #3B4455;\n",
              "      fill: #D2E3FC;\n",
              "    }\n",
              "\n",
              "    [theme=dark] .colab-df-convert:hover {\n",
              "      background-color: #434B5C;\n",
              "      box-shadow: 0px 1px 3px 1px rgba(0, 0, 0, 0.15);\n",
              "      filter: drop-shadow(0px 1px 2px rgba(0, 0, 0, 0.3));\n",
              "      fill: #FFFFFF;\n",
              "    }\n",
              "  </style>\n",
              "\n",
              "      <script>\n",
              "        const buttonEl =\n",
              "          document.querySelector('#df-7c91f3c0-3305-40c5-abed-2a00aefa3b3a button.colab-df-convert');\n",
              "        buttonEl.style.display =\n",
              "          google.colab.kernel.accessAllowed ? 'block' : 'none';\n",
              "\n",
              "        async function convertToInteractive(key) {\n",
              "          const element = document.querySelector('#df-7c91f3c0-3305-40c5-abed-2a00aefa3b3a');\n",
              "          const dataTable =\n",
              "            await google.colab.kernel.invokeFunction('convertToInteractive',\n",
              "                                                     [key], {});\n",
              "          if (!dataTable) return;\n",
              "\n",
              "          const docLinkHtml = 'Like what you see? Visit the ' +\n",
              "            '<a target=\"_blank\" href=https://colab.research.google.com/notebooks/data_table.ipynb>data table notebook</a>'\n",
              "            + ' to learn more about interactive tables.';\n",
              "          element.innerHTML = '';\n",
              "          dataTable['output_type'] = 'display_data';\n",
              "          await google.colab.output.renderOutput(dataTable, element);\n",
              "          const docLink = document.createElement('div');\n",
              "          docLink.innerHTML = docLinkHtml;\n",
              "          element.appendChild(docLink);\n",
              "        }\n",
              "      </script>\n",
              "    </div>\n",
              "  </div>\n",
              "  "
            ]
          },
          "metadata": {},
          "execution_count": 24
        }
      ]
    },
    {
      "cell_type": "code",
      "source": [
        "predictions_df.isna().sum()"
      ],
      "metadata": {
        "colab": {
          "base_uri": "https://localhost:8080/"
        },
        "outputId": "2fa2f30e-25e7-4715-ce19-ea80c68c2728",
        "id": "qkybBdfctRYR"
      },
      "execution_count": null,
      "outputs": [
        {
          "output_type": "execute_result",
          "data": {
            "text/plain": [
              "pred_true     0\n",
              "pred_false    0\n",
              "real_label    0\n",
              "dtype: int64"
            ]
          },
          "metadata": {},
          "execution_count": 25
        }
      ]
    },
    {
      "cell_type": "code",
      "source": [
        "import os\n",
        "os.mkdir('/content/drive/MyDrive/UR/NLE Seminar/code/predictions/visual_bert_5/')\n",
        "predictions_df.to_csv(\n",
        "    '/content/drive/MyDrive/UR/NLE Seminar/code/predictions/visual_bert_5/validation.csv'\n",
        "    )"
      ],
      "metadata": {
        "id": "kk24Dfz8tRYR"
      },
      "execution_count": null,
      "outputs": []
    },
    {
      "cell_type": "code",
      "source": [
        "predictions_df = pd.read_csv(\n",
        "    '/content/drive/MyDrive/UR/NLE Seminar/code/predictions/visual_bert_5/validation.csv', index_col=0)"
      ],
      "metadata": {
        "id": "WNQzMUAM7HLF"
      },
      "execution_count": null,
      "outputs": []
    },
    {
      "cell_type": "code",
      "source": [
        "predictions_df['pred_label'] = predictions_df.apply(\n",
        "    lambda row: 1 if row['pred_true'] > row['pred_false'] else 0,  \n",
        "    # lambda row: 1 if row['pred_true'] > 0.5 else 0,\n",
        "    # lambda row: 1 if row['pred_true'] - row['pred_false'] > 0.3 else 0,\n",
        "    axis=1\n",
        ")\n",
        "predictions_df.head()"
      ],
      "metadata": {
        "colab": {
          "base_uri": "https://localhost:8080/",
          "height": 206
        },
        "id": "_UU64hqMtNFa",
        "outputId": "121304aa-1990-47ca-ae76-29063ab10049"
      },
      "execution_count": null,
      "outputs": [
        {
          "output_type": "execute_result",
          "data": {
            "text/plain": [
              "   pred_true  pred_false  real_label  pred_label\n",
              "0  -0.330886    0.442226           0           0\n",
              "1   3.431724   -4.862715           0           1\n",
              "2   2.611861   -4.051740           0           1\n",
              "3  -0.073379    0.041858           1           0\n",
              "4   3.395190   -4.895686           0           1"
            ],
            "text/html": [
              "\n",
              "  <div id=\"df-be98bbe6-f5de-4a3b-8cbc-ae1829018296\">\n",
              "    <div class=\"colab-df-container\">\n",
              "      <div>\n",
              "<style scoped>\n",
              "    .dataframe tbody tr th:only-of-type {\n",
              "        vertical-align: middle;\n",
              "    }\n",
              "\n",
              "    .dataframe tbody tr th {\n",
              "        vertical-align: top;\n",
              "    }\n",
              "\n",
              "    .dataframe thead th {\n",
              "        text-align: right;\n",
              "    }\n",
              "</style>\n",
              "<table border=\"1\" class=\"dataframe\">\n",
              "  <thead>\n",
              "    <tr style=\"text-align: right;\">\n",
              "      <th></th>\n",
              "      <th>pred_true</th>\n",
              "      <th>pred_false</th>\n",
              "      <th>real_label</th>\n",
              "      <th>pred_label</th>\n",
              "    </tr>\n",
              "  </thead>\n",
              "  <tbody>\n",
              "    <tr>\n",
              "      <th>0</th>\n",
              "      <td>-0.330886</td>\n",
              "      <td>0.442226</td>\n",
              "      <td>0</td>\n",
              "      <td>0</td>\n",
              "    </tr>\n",
              "    <tr>\n",
              "      <th>1</th>\n",
              "      <td>3.431724</td>\n",
              "      <td>-4.862715</td>\n",
              "      <td>0</td>\n",
              "      <td>1</td>\n",
              "    </tr>\n",
              "    <tr>\n",
              "      <th>2</th>\n",
              "      <td>2.611861</td>\n",
              "      <td>-4.051740</td>\n",
              "      <td>0</td>\n",
              "      <td>1</td>\n",
              "    </tr>\n",
              "    <tr>\n",
              "      <th>3</th>\n",
              "      <td>-0.073379</td>\n",
              "      <td>0.041858</td>\n",
              "      <td>1</td>\n",
              "      <td>0</td>\n",
              "    </tr>\n",
              "    <tr>\n",
              "      <th>4</th>\n",
              "      <td>3.395190</td>\n",
              "      <td>-4.895686</td>\n",
              "      <td>0</td>\n",
              "      <td>1</td>\n",
              "    </tr>\n",
              "  </tbody>\n",
              "</table>\n",
              "</div>\n",
              "      <button class=\"colab-df-convert\" onclick=\"convertToInteractive('df-be98bbe6-f5de-4a3b-8cbc-ae1829018296')\"\n",
              "              title=\"Convert this dataframe to an interactive table.\"\n",
              "              style=\"display:none;\">\n",
              "        \n",
              "  <svg xmlns=\"http://www.w3.org/2000/svg\" height=\"24px\"viewBox=\"0 0 24 24\"\n",
              "       width=\"24px\">\n",
              "    <path d=\"M0 0h24v24H0V0z\" fill=\"none\"/>\n",
              "    <path d=\"M18.56 5.44l.94 2.06.94-2.06 2.06-.94-2.06-.94-.94-2.06-.94 2.06-2.06.94zm-11 1L8.5 8.5l.94-2.06 2.06-.94-2.06-.94L8.5 2.5l-.94 2.06-2.06.94zm10 10l.94 2.06.94-2.06 2.06-.94-2.06-.94-.94-2.06-.94 2.06-2.06.94z\"/><path d=\"M17.41 7.96l-1.37-1.37c-.4-.4-.92-.59-1.43-.59-.52 0-1.04.2-1.43.59L10.3 9.45l-7.72 7.72c-.78.78-.78 2.05 0 2.83L4 21.41c.39.39.9.59 1.41.59.51 0 1.02-.2 1.41-.59l7.78-7.78 2.81-2.81c.8-.78.8-2.07 0-2.86zM5.41 20L4 18.59l7.72-7.72 1.47 1.35L5.41 20z\"/>\n",
              "  </svg>\n",
              "      </button>\n",
              "      \n",
              "  <style>\n",
              "    .colab-df-container {\n",
              "      display:flex;\n",
              "      flex-wrap:wrap;\n",
              "      gap: 12px;\n",
              "    }\n",
              "\n",
              "    .colab-df-convert {\n",
              "      background-color: #E8F0FE;\n",
              "      border: none;\n",
              "      border-radius: 50%;\n",
              "      cursor: pointer;\n",
              "      display: none;\n",
              "      fill: #1967D2;\n",
              "      height: 32px;\n",
              "      padding: 0 0 0 0;\n",
              "      width: 32px;\n",
              "    }\n",
              "\n",
              "    .colab-df-convert:hover {\n",
              "      background-color: #E2EBFA;\n",
              "      box-shadow: 0px 1px 2px rgba(60, 64, 67, 0.3), 0px 1px 3px 1px rgba(60, 64, 67, 0.15);\n",
              "      fill: #174EA6;\n",
              "    }\n",
              "\n",
              "    [theme=dark] .colab-df-convert {\n",
              "      background-color: #3B4455;\n",
              "      fill: #D2E3FC;\n",
              "    }\n",
              "\n",
              "    [theme=dark] .colab-df-convert:hover {\n",
              "      background-color: #434B5C;\n",
              "      box-shadow: 0px 1px 3px 1px rgba(0, 0, 0, 0.15);\n",
              "      filter: drop-shadow(0px 1px 2px rgba(0, 0, 0, 0.3));\n",
              "      fill: #FFFFFF;\n",
              "    }\n",
              "  </style>\n",
              "\n",
              "      <script>\n",
              "        const buttonEl =\n",
              "          document.querySelector('#df-be98bbe6-f5de-4a3b-8cbc-ae1829018296 button.colab-df-convert');\n",
              "        buttonEl.style.display =\n",
              "          google.colab.kernel.accessAllowed ? 'block' : 'none';\n",
              "\n",
              "        async function convertToInteractive(key) {\n",
              "          const element = document.querySelector('#df-be98bbe6-f5de-4a3b-8cbc-ae1829018296');\n",
              "          const dataTable =\n",
              "            await google.colab.kernel.invokeFunction('convertToInteractive',\n",
              "                                                     [key], {});\n",
              "          if (!dataTable) return;\n",
              "\n",
              "          const docLinkHtml = 'Like what you see? Visit the ' +\n",
              "            '<a target=\"_blank\" href=https://colab.research.google.com/notebooks/data_table.ipynb>data table notebook</a>'\n",
              "            + ' to learn more about interactive tables.';\n",
              "          element.innerHTML = '';\n",
              "          dataTable['output_type'] = 'display_data';\n",
              "          await google.colab.output.renderOutput(dataTable, element);\n",
              "          const docLink = document.createElement('div');\n",
              "          docLink.innerHTML = docLinkHtml;\n",
              "          element.appendChild(docLink);\n",
              "        }\n",
              "      </script>\n",
              "    </div>\n",
              "  </div>\n",
              "  "
            ]
          },
          "metadata": {},
          "execution_count": 28
        }
      ]
    },
    {
      "cell_type": "code",
      "source": [
        "from sklearn.metrics import accuracy_score, classification_report"
      ],
      "metadata": {
        "id": "-LTHtMtjcT-b"
      },
      "execution_count": null,
      "outputs": []
    },
    {
      "cell_type": "code",
      "source": [
        "print(classification_report(predictions_df['pred_label'], predictions_df['real_label']))"
      ],
      "metadata": {
        "colab": {
          "base_uri": "https://localhost:8080/"
        },
        "id": "z3nWEp8PeWHP",
        "outputId": "8817986d-b3f4-4fe9-ecf7-6f7889ffc1f5"
      },
      "execution_count": null,
      "outputs": [
        {
          "output_type": "stream",
          "name": "stdout",
          "text": [
            "              precision    recall  f1-score   support\n",
            "\n",
            "           0       0.46      0.35      0.40      5204\n",
            "           1       0.13      0.19      0.15      2604\n",
            "\n",
            "    accuracy                           0.30      7808\n",
            "   macro avg       0.30      0.27      0.28      7808\n",
            "weighted avg       0.35      0.30      0.32      7808\n",
            "\n"
          ]
        }
      ]
    },
    {
      "cell_type": "code",
      "source": [
        "accuracy_score(predictions_df['pred_label'], predictions_df['real_label'])"
      ],
      "metadata": {
        "colab": {
          "base_uri": "https://localhost:8080/"
        },
        "id": "Gyjlf2CWx-j-",
        "outputId": "6aa2733e-a8f1-4275-ff12-c2d55ec5ef02"
      },
      "execution_count": null,
      "outputs": [
        {
          "output_type": "execute_result",
          "data": {
            "text/plain": [
              "0.3241547131147541"
            ]
          },
          "metadata": {},
          "execution_count": 26
        }
      ]
    },
    {
      "cell_type": "markdown",
      "source": [
        "## Validation summaries"
      ],
      "metadata": {
        "id": "wRWc-ubPc8su"
      }
    },
    {
      "cell_type": "code",
      "source": [
        "import pandas as pd"
      ],
      "metadata": {
        "id": "4u-El6YAdkfw"
      },
      "execution_count": null,
      "outputs": []
    },
    {
      "cell_type": "code",
      "source": [
        "val_df = pd.read_csv('/content/drive/MyDrive/UR/NLE Seminar/code/train_val_split/val_df_summ.csv', \n",
        "                     index_col=0)\n",
        "val_df.head()"
      ],
      "metadata": {
        "colab": {
          "base_uri": "https://localhost:8080/",
          "height": 206
        },
        "id": "zbqZDrLMdltt",
        "outputId": "2bddd220-5c56-4ebd-8d50-5cca5c7f773a"
      },
      "execution_count": null,
      "outputs": [
        {
          "output_type": "execute_result",
          "data": {
            "text/plain": [
              "                                                    text            image  \\\n",
              "4846   agama agamid The common agama, red-headed rock...  image.13049.jpg   \n",
              "20727  albugo genus Albugo is a genus of plant-parasi...   image.9123.jpg   \n",
              "7811   accipitridae family The Accipitridae is one of...      image.3.jpg   \n",
              "23774  killifish cyprinodont A killifish is any of va...    image.696.jpg   \n",
              "21221  emilia genus Genre (from French  genre 'kind, ...   image.1612.jpg   \n",
              "\n",
              "       label  \n",
              "4846       1  \n",
              "20727      0  \n",
              "7811       0  \n",
              "23774      1  \n",
              "21221      0  "
            ],
            "text/html": [
              "\n",
              "  <div id=\"df-e602a208-e026-4191-b437-be7905124180\">\n",
              "    <div class=\"colab-df-container\">\n",
              "      <div>\n",
              "<style scoped>\n",
              "    .dataframe tbody tr th:only-of-type {\n",
              "        vertical-align: middle;\n",
              "    }\n",
              "\n",
              "    .dataframe tbody tr th {\n",
              "        vertical-align: top;\n",
              "    }\n",
              "\n",
              "    .dataframe thead th {\n",
              "        text-align: right;\n",
              "    }\n",
              "</style>\n",
              "<table border=\"1\" class=\"dataframe\">\n",
              "  <thead>\n",
              "    <tr style=\"text-align: right;\">\n",
              "      <th></th>\n",
              "      <th>text</th>\n",
              "      <th>image</th>\n",
              "      <th>label</th>\n",
              "    </tr>\n",
              "  </thead>\n",
              "  <tbody>\n",
              "    <tr>\n",
              "      <th>4846</th>\n",
              "      <td>agama agamid The common agama, red-headed rock...</td>\n",
              "      <td>image.13049.jpg</td>\n",
              "      <td>1</td>\n",
              "    </tr>\n",
              "    <tr>\n",
              "      <th>20727</th>\n",
              "      <td>albugo genus Albugo is a genus of plant-parasi...</td>\n",
              "      <td>image.9123.jpg</td>\n",
              "      <td>0</td>\n",
              "    </tr>\n",
              "    <tr>\n",
              "      <th>7811</th>\n",
              "      <td>accipitridae family The Accipitridae is one of...</td>\n",
              "      <td>image.3.jpg</td>\n",
              "      <td>0</td>\n",
              "    </tr>\n",
              "    <tr>\n",
              "      <th>23774</th>\n",
              "      <td>killifish cyprinodont A killifish is any of va...</td>\n",
              "      <td>image.696.jpg</td>\n",
              "      <td>1</td>\n",
              "    </tr>\n",
              "    <tr>\n",
              "      <th>21221</th>\n",
              "      <td>emilia genus Genre (from French  genre 'kind, ...</td>\n",
              "      <td>image.1612.jpg</td>\n",
              "      <td>0</td>\n",
              "    </tr>\n",
              "  </tbody>\n",
              "</table>\n",
              "</div>\n",
              "      <button class=\"colab-df-convert\" onclick=\"convertToInteractive('df-e602a208-e026-4191-b437-be7905124180')\"\n",
              "              title=\"Convert this dataframe to an interactive table.\"\n",
              "              style=\"display:none;\">\n",
              "        \n",
              "  <svg xmlns=\"http://www.w3.org/2000/svg\" height=\"24px\"viewBox=\"0 0 24 24\"\n",
              "       width=\"24px\">\n",
              "    <path d=\"M0 0h24v24H0V0z\" fill=\"none\"/>\n",
              "    <path d=\"M18.56 5.44l.94 2.06.94-2.06 2.06-.94-2.06-.94-.94-2.06-.94 2.06-2.06.94zm-11 1L8.5 8.5l.94-2.06 2.06-.94-2.06-.94L8.5 2.5l-.94 2.06-2.06.94zm10 10l.94 2.06.94-2.06 2.06-.94-2.06-.94-.94-2.06-.94 2.06-2.06.94z\"/><path d=\"M17.41 7.96l-1.37-1.37c-.4-.4-.92-.59-1.43-.59-.52 0-1.04.2-1.43.59L10.3 9.45l-7.72 7.72c-.78.78-.78 2.05 0 2.83L4 21.41c.39.39.9.59 1.41.59.51 0 1.02-.2 1.41-.59l7.78-7.78 2.81-2.81c.8-.78.8-2.07 0-2.86zM5.41 20L4 18.59l7.72-7.72 1.47 1.35L5.41 20z\"/>\n",
              "  </svg>\n",
              "      </button>\n",
              "      \n",
              "  <style>\n",
              "    .colab-df-container {\n",
              "      display:flex;\n",
              "      flex-wrap:wrap;\n",
              "      gap: 12px;\n",
              "    }\n",
              "\n",
              "    .colab-df-convert {\n",
              "      background-color: #E8F0FE;\n",
              "      border: none;\n",
              "      border-radius: 50%;\n",
              "      cursor: pointer;\n",
              "      display: none;\n",
              "      fill: #1967D2;\n",
              "      height: 32px;\n",
              "      padding: 0 0 0 0;\n",
              "      width: 32px;\n",
              "    }\n",
              "\n",
              "    .colab-df-convert:hover {\n",
              "      background-color: #E2EBFA;\n",
              "      box-shadow: 0px 1px 2px rgba(60, 64, 67, 0.3), 0px 1px 3px 1px rgba(60, 64, 67, 0.15);\n",
              "      fill: #174EA6;\n",
              "    }\n",
              "\n",
              "    [theme=dark] .colab-df-convert {\n",
              "      background-color: #3B4455;\n",
              "      fill: #D2E3FC;\n",
              "    }\n",
              "\n",
              "    [theme=dark] .colab-df-convert:hover {\n",
              "      background-color: #434B5C;\n",
              "      box-shadow: 0px 1px 3px 1px rgba(0, 0, 0, 0.15);\n",
              "      filter: drop-shadow(0px 1px 2px rgba(0, 0, 0, 0.3));\n",
              "      fill: #FFFFFF;\n",
              "    }\n",
              "  </style>\n",
              "\n",
              "      <script>\n",
              "        const buttonEl =\n",
              "          document.querySelector('#df-e602a208-e026-4191-b437-be7905124180 button.colab-df-convert');\n",
              "        buttonEl.style.display =\n",
              "          google.colab.kernel.accessAllowed ? 'block' : 'none';\n",
              "\n",
              "        async function convertToInteractive(key) {\n",
              "          const element = document.querySelector('#df-e602a208-e026-4191-b437-be7905124180');\n",
              "          const dataTable =\n",
              "            await google.colab.kernel.invokeFunction('convertToInteractive',\n",
              "                                                     [key], {});\n",
              "          if (!dataTable) return;\n",
              "\n",
              "          const docLinkHtml = 'Like what you see? Visit the ' +\n",
              "            '<a target=\"_blank\" href=https://colab.research.google.com/notebooks/data_table.ipynb>data table notebook</a>'\n",
              "            + ' to learn more about interactive tables.';\n",
              "          element.innerHTML = '';\n",
              "          dataTable['output_type'] = 'display_data';\n",
              "          await google.colab.output.renderOutput(dataTable, element);\n",
              "          const docLink = document.createElement('div');\n",
              "          docLink.innerHTML = docLinkHtml;\n",
              "          element.appendChild(docLink);\n",
              "        }\n",
              "      </script>\n",
              "    </div>\n",
              "  </div>\n",
              "  "
            ]
          },
          "metadata": {},
          "execution_count": 4
        }
      ]
    },
    {
      "cell_type": "code",
      "source": [
        "val_input = bert_encode(val_df['text'].to_list())\n",
        "val_input = {'input_ids': val_input[0], \n",
        "             'attention_masks': val_input[1], \n",
        "             'token_type_ids': val_input[2],\n",
        "             'sentence_image_labels': torch.tensor(val_df['label'].to_list())}\n",
        "val_input.update({'img_filenames': val_df['image'].to_list()})"
      ],
      "metadata": {
        "id": "6-Uuhfl3eTuJ",
        "colab": {
          "base_uri": "https://localhost:8080/"
        },
        "outputId": "45c201b6-9b7f-46e6-d4ad-9d9cb304c62b"
      },
      "execution_count": null,
      "outputs": [
        {
          "output_type": "stream",
          "name": "stderr",
          "text": [
            "100%|██████████| 7710/7710 [01:27<00:00, 88.30it/s]\n"
          ]
        }
      ]
    },
    {
      "cell_type": "code",
      "source": [
        "from transformers import VisualBertForPreTraining"
      ],
      "metadata": {
        "id": "dIe0Talyd7kB"
      },
      "execution_count": null,
      "outputs": []
    },
    {
      "cell_type": "code",
      "source": [
        "dir_path = '/content/drive/MyDrive/UR/NLE Seminar/code/models/visual_bert_7/'\n",
        "\n",
        "model = VisualBertForPreTraining.from_pretrained(dir_path)\n",
        "# tokenizer = BertTokenizer.from_pretrained(dir_path)\n",
        "\n",
        "model.to(device);"
      ],
      "metadata": {
        "id": "x62v1DaLd7kC"
      },
      "execution_count": null,
      "outputs": []
    },
    {
      "cell_type": "code",
      "source": [
        "vis_emb_dir = '/content/drive/MyDrive/UR/NLE Seminar/code/visual_embeddings/visual_embeddings_train/'\n",
        "batch_size = 16  # recommended 16 or 32\n",
        "\n",
        "val_dataset = VWSDDataset(val_input, vis_emb_dir=vis_emb_dir)\n",
        "validation_dataloader = DataLoader(\n",
        "            val_dataset,\n",
        "            batch_size = batch_size\n",
        "        )"
      ],
      "metadata": {
        "id": "ElBe7FJ_dzSp"
      },
      "execution_count": null,
      "outputs": []
    },
    {
      "cell_type": "code",
      "source": [
        "model.eval()\n",
        "\n",
        "predictions, true_labels = [], []\n",
        "\n",
        "for batch in tqdm(islice(validation_dataloader, len(validation_dataloader)), \n",
        "                  total=len(validation_dataloader)):\n",
        "  batch = tuple(t.to(device) for t in batch)\n",
        "  \n",
        "  b_input_ids = batch[0].to(device)\n",
        "  b_attention_mask = batch[1].to(device)\n",
        "  b_token_type_ids = batch[2].to(device)\n",
        "  b_visual_emb = batch[3].to(device)\n",
        "  b_visual_attention_mask = batch[4].to(device)\n",
        "  b_visual_token_type_ids = batch[5].to(device)\n",
        "  b_labels = torch.ones((batch_size, \n",
        "                         b_attention_mask.size(-1) + b_visual_attention_mask.size(-1)), \n",
        "                         dtype=torch.long).to(device)\n",
        "  b_sentence_image_labels = batch[6].to(device)\n",
        "\n",
        "  with torch.no_grad():\n",
        "    result = model(input_ids=b_input_ids, \n",
        "                       token_type_ids=b_token_type_ids, \n",
        "                       attention_mask=b_attention_mask, \n",
        "                       visual_embeds=b_visual_emb, \n",
        "                       visual_attention_mask=b_visual_attention_mask, \n",
        "                       visual_token_type_ids=b_visual_token_type_ids,\n",
        "                       labels=b_labels,\n",
        "                       sentence_image_labels=b_sentence_image_labels,\n",
        "                       return_dict=True)\n",
        "\n",
        "    logits = result.seq_relationship_logits\n",
        "    logits = logits.detach().cpu().numpy()\n",
        "    # print('logits:', logits.shape, logits)\n",
        "    label_ids = b_sentence_image_labels.to('cpu').numpy()\n",
        "    # print('label_ids:', label_ids.shape, label_ids)\n",
        "    \n",
        "    # Store predictions and true labels\n",
        "    predictions.append(logits)\n",
        "    true_labels.append(label_ids)\n",
        "\n",
        "    del result\n",
        "    del b_input_ids\n",
        "    del b_attention_mask\n",
        "    del b_token_type_ids\n",
        "    del b_visual_emb\n",
        "    del b_visual_attention_mask\n",
        "    del b_visual_token_type_ids\n",
        "    del b_labels\n",
        "    del batch\n",
        "\n",
        "  # break"
      ],
      "metadata": {
        "colab": {
          "base_uri": "https://localhost:8080/"
        },
        "outputId": "587e3117-09e3-46de-b8d0-35d83e2fe5f0",
        "id": "myYrxFhVc8sv"
      },
      "execution_count": null,
      "outputs": [
        {
          "output_type": "stream",
          "name": "stderr",
          "text": [
            "100%|██████████| 482/482 [1:27:26<00:00, 10.88s/it]\n"
          ]
        }
      ]
    },
    {
      "cell_type": "code",
      "source": [
        "import numpy as np"
      ],
      "metadata": {
        "id": "D5S15dPwoeR6"
      },
      "execution_count": null,
      "outputs": []
    },
    {
      "cell_type": "code",
      "source": [
        "predictions = np.array(predictions)\n",
        "predictions.shape"
      ],
      "metadata": {
        "colab": {
          "base_uri": "https://localhost:8080/"
        },
        "outputId": "fe857d9c-1aae-4c77-aa5a-27512b0d65fb",
        "id": "kV23qWUvc8sv"
      },
      "execution_count": null,
      "outputs": [
        {
          "output_type": "execute_result",
          "data": {
            "text/plain": [
              "(482, 16, 2)"
            ]
          },
          "metadata": {},
          "execution_count": 19
        }
      ]
    },
    {
      "cell_type": "code",
      "source": [
        "predictions = predictions.reshape(predictions.shape[0] * batch_size, 2)\n",
        "predictions.shape"
      ],
      "metadata": {
        "colab": {
          "base_uri": "https://localhost:8080/"
        },
        "outputId": "3af4330b-3839-459c-d66d-865632954d81",
        "id": "u4PvG-0Bc8sw"
      },
      "execution_count": null,
      "outputs": [
        {
          "output_type": "execute_result",
          "data": {
            "text/plain": [
              "(7712, 2)"
            ]
          },
          "metadata": {},
          "execution_count": 20
        }
      ]
    },
    {
      "cell_type": "code",
      "source": [
        "true_labels = np.array(true_labels)\n",
        "true_labels = true_labels.reshape(true_labels.shape[0] * batch_size)\n",
        "true_labels.shape"
      ],
      "metadata": {
        "colab": {
          "base_uri": "https://localhost:8080/"
        },
        "outputId": "9cde1b0b-6231-44b6-9319-c3affdd23420",
        "id": "tDR-JYNWc8sx"
      },
      "execution_count": null,
      "outputs": [
        {
          "output_type": "execute_result",
          "data": {
            "text/plain": [
              "(7712,)"
            ]
          },
          "metadata": {},
          "execution_count": 21
        }
      ]
    },
    {
      "cell_type": "code",
      "source": [
        "predictions_df = pd.DataFrame(predictions, columns=['pred_true', 'pred_false'])\n",
        "predictions_df['real_label'] = pd.Series(true_labels)\n",
        "predictions_df.head()"
      ],
      "metadata": {
        "colab": {
          "base_uri": "https://localhost:8080/",
          "height": 206
        },
        "outputId": "422c6251-4c36-4cd7-9057-3748a72c24f4",
        "id": "eS6JiJlKc8sy"
      },
      "execution_count": null,
      "outputs": [
        {
          "output_type": "execute_result",
          "data": {
            "text/plain": [
              "   pred_true  pred_false  real_label\n",
              "0  -0.762195    0.617359           1\n",
              "1  -0.807919    0.779342           0\n",
              "2   2.952086   -4.558843           0\n",
              "3   0.523355   -1.095356           1\n",
              "4   1.386477   -2.630606           0"
            ],
            "text/html": [
              "\n",
              "  <div id=\"df-a26f56d8-3d66-4f25-a2cc-c4e0937f6e55\">\n",
              "    <div class=\"colab-df-container\">\n",
              "      <div>\n",
              "<style scoped>\n",
              "    .dataframe tbody tr th:only-of-type {\n",
              "        vertical-align: middle;\n",
              "    }\n",
              "\n",
              "    .dataframe tbody tr th {\n",
              "        vertical-align: top;\n",
              "    }\n",
              "\n",
              "    .dataframe thead th {\n",
              "        text-align: right;\n",
              "    }\n",
              "</style>\n",
              "<table border=\"1\" class=\"dataframe\">\n",
              "  <thead>\n",
              "    <tr style=\"text-align: right;\">\n",
              "      <th></th>\n",
              "      <th>pred_true</th>\n",
              "      <th>pred_false</th>\n",
              "      <th>real_label</th>\n",
              "    </tr>\n",
              "  </thead>\n",
              "  <tbody>\n",
              "    <tr>\n",
              "      <th>0</th>\n",
              "      <td>-0.762195</td>\n",
              "      <td>0.617359</td>\n",
              "      <td>1</td>\n",
              "    </tr>\n",
              "    <tr>\n",
              "      <th>1</th>\n",
              "      <td>-0.807919</td>\n",
              "      <td>0.779342</td>\n",
              "      <td>0</td>\n",
              "    </tr>\n",
              "    <tr>\n",
              "      <th>2</th>\n",
              "      <td>2.952086</td>\n",
              "      <td>-4.558843</td>\n",
              "      <td>0</td>\n",
              "    </tr>\n",
              "    <tr>\n",
              "      <th>3</th>\n",
              "      <td>0.523355</td>\n",
              "      <td>-1.095356</td>\n",
              "      <td>1</td>\n",
              "    </tr>\n",
              "    <tr>\n",
              "      <th>4</th>\n",
              "      <td>1.386477</td>\n",
              "      <td>-2.630606</td>\n",
              "      <td>0</td>\n",
              "    </tr>\n",
              "  </tbody>\n",
              "</table>\n",
              "</div>\n",
              "      <button class=\"colab-df-convert\" onclick=\"convertToInteractive('df-a26f56d8-3d66-4f25-a2cc-c4e0937f6e55')\"\n",
              "              title=\"Convert this dataframe to an interactive table.\"\n",
              "              style=\"display:none;\">\n",
              "        \n",
              "  <svg xmlns=\"http://www.w3.org/2000/svg\" height=\"24px\"viewBox=\"0 0 24 24\"\n",
              "       width=\"24px\">\n",
              "    <path d=\"M0 0h24v24H0V0z\" fill=\"none\"/>\n",
              "    <path d=\"M18.56 5.44l.94 2.06.94-2.06 2.06-.94-2.06-.94-.94-2.06-.94 2.06-2.06.94zm-11 1L8.5 8.5l.94-2.06 2.06-.94-2.06-.94L8.5 2.5l-.94 2.06-2.06.94zm10 10l.94 2.06.94-2.06 2.06-.94-2.06-.94-.94-2.06-.94 2.06-2.06.94z\"/><path d=\"M17.41 7.96l-1.37-1.37c-.4-.4-.92-.59-1.43-.59-.52 0-1.04.2-1.43.59L10.3 9.45l-7.72 7.72c-.78.78-.78 2.05 0 2.83L4 21.41c.39.39.9.59 1.41.59.51 0 1.02-.2 1.41-.59l7.78-7.78 2.81-2.81c.8-.78.8-2.07 0-2.86zM5.41 20L4 18.59l7.72-7.72 1.47 1.35L5.41 20z\"/>\n",
              "  </svg>\n",
              "      </button>\n",
              "      \n",
              "  <style>\n",
              "    .colab-df-container {\n",
              "      display:flex;\n",
              "      flex-wrap:wrap;\n",
              "      gap: 12px;\n",
              "    }\n",
              "\n",
              "    .colab-df-convert {\n",
              "      background-color: #E8F0FE;\n",
              "      border: none;\n",
              "      border-radius: 50%;\n",
              "      cursor: pointer;\n",
              "      display: none;\n",
              "      fill: #1967D2;\n",
              "      height: 32px;\n",
              "      padding: 0 0 0 0;\n",
              "      width: 32px;\n",
              "    }\n",
              "\n",
              "    .colab-df-convert:hover {\n",
              "      background-color: #E2EBFA;\n",
              "      box-shadow: 0px 1px 2px rgba(60, 64, 67, 0.3), 0px 1px 3px 1px rgba(60, 64, 67, 0.15);\n",
              "      fill: #174EA6;\n",
              "    }\n",
              "\n",
              "    [theme=dark] .colab-df-convert {\n",
              "      background-color: #3B4455;\n",
              "      fill: #D2E3FC;\n",
              "    }\n",
              "\n",
              "    [theme=dark] .colab-df-convert:hover {\n",
              "      background-color: #434B5C;\n",
              "      box-shadow: 0px 1px 3px 1px rgba(0, 0, 0, 0.15);\n",
              "      filter: drop-shadow(0px 1px 2px rgba(0, 0, 0, 0.3));\n",
              "      fill: #FFFFFF;\n",
              "    }\n",
              "  </style>\n",
              "\n",
              "      <script>\n",
              "        const buttonEl =\n",
              "          document.querySelector('#df-a26f56d8-3d66-4f25-a2cc-c4e0937f6e55 button.colab-df-convert');\n",
              "        buttonEl.style.display =\n",
              "          google.colab.kernel.accessAllowed ? 'block' : 'none';\n",
              "\n",
              "        async function convertToInteractive(key) {\n",
              "          const element = document.querySelector('#df-a26f56d8-3d66-4f25-a2cc-c4e0937f6e55');\n",
              "          const dataTable =\n",
              "            await google.colab.kernel.invokeFunction('convertToInteractive',\n",
              "                                                     [key], {});\n",
              "          if (!dataTable) return;\n",
              "\n",
              "          const docLinkHtml = 'Like what you see? Visit the ' +\n",
              "            '<a target=\"_blank\" href=https://colab.research.google.com/notebooks/data_table.ipynb>data table notebook</a>'\n",
              "            + ' to learn more about interactive tables.';\n",
              "          element.innerHTML = '';\n",
              "          dataTable['output_type'] = 'display_data';\n",
              "          await google.colab.output.renderOutput(dataTable, element);\n",
              "          const docLink = document.createElement('div');\n",
              "          docLink.innerHTML = docLinkHtml;\n",
              "          element.appendChild(docLink);\n",
              "        }\n",
              "      </script>\n",
              "    </div>\n",
              "  </div>\n",
              "  "
            ]
          },
          "metadata": {},
          "execution_count": 22
        }
      ]
    },
    {
      "cell_type": "code",
      "source": [
        "predictions_df.isna().sum()"
      ],
      "metadata": {
        "colab": {
          "base_uri": "https://localhost:8080/"
        },
        "outputId": "9c90616f-af3f-4a9b-949f-62b3aa125b91",
        "id": "1o8R9Z5fc8sy"
      },
      "execution_count": null,
      "outputs": [
        {
          "output_type": "execute_result",
          "data": {
            "text/plain": [
              "pred_true     0\n",
              "pred_false    0\n",
              "real_label    0\n",
              "dtype: int64"
            ]
          },
          "metadata": {},
          "execution_count": 23
        }
      ]
    },
    {
      "cell_type": "code",
      "source": [
        "import os\n",
        "os.mkdir('/content/drive/MyDrive/UR/NLE Seminar/code/predictions/visual_bert_7')\n",
        "predictions_df.to_csv(\n",
        "    '/content/drive/MyDrive/UR/NLE Seminar/code/predictions/visual_bert_7/validation.csv'\n",
        "    )"
      ],
      "metadata": {
        "id": "Y52P2b3yc8sz"
      },
      "execution_count": null,
      "outputs": []
    },
    {
      "cell_type": "code",
      "source": [
        "predictions_df['pred_label'] = predictions_df.apply(\n",
        "    lambda row: 1 if row['pred_true'] > row['pred_false'] else 0,  \n",
        "    # lambda row: 1 if row['pred_true'] > 0.5 else 0,\n",
        "    # lambda row: 1 if row['pred_true'] - row['pred_false'] > 0.3 else 0,\n",
        "    axis=1\n",
        ")\n",
        "predictions_df.head()"
      ],
      "metadata": {
        "colab": {
          "base_uri": "https://localhost:8080/",
          "height": 206
        },
        "outputId": "fa257a8b-7b20-4886-c540-6dba14d62076",
        "id": "TYz70PLYc8sz"
      },
      "execution_count": null,
      "outputs": [
        {
          "output_type": "execute_result",
          "data": {
            "text/plain": [
              "   pred_true  pred_false  real_label  pred_label\n",
              "0  -0.762195    0.617359           1           0\n",
              "1  -0.807919    0.779342           0           0\n",
              "2   2.952086   -4.558843           0           1\n",
              "3   0.523355   -1.095356           1           1\n",
              "4   1.386477   -2.630606           0           1"
            ],
            "text/html": [
              "\n",
              "  <div id=\"df-c251ba0b-c6e0-43b5-9b84-21c5eae6d32b\">\n",
              "    <div class=\"colab-df-container\">\n",
              "      <div>\n",
              "<style scoped>\n",
              "    .dataframe tbody tr th:only-of-type {\n",
              "        vertical-align: middle;\n",
              "    }\n",
              "\n",
              "    .dataframe tbody tr th {\n",
              "        vertical-align: top;\n",
              "    }\n",
              "\n",
              "    .dataframe thead th {\n",
              "        text-align: right;\n",
              "    }\n",
              "</style>\n",
              "<table border=\"1\" class=\"dataframe\">\n",
              "  <thead>\n",
              "    <tr style=\"text-align: right;\">\n",
              "      <th></th>\n",
              "      <th>pred_true</th>\n",
              "      <th>pred_false</th>\n",
              "      <th>real_label</th>\n",
              "      <th>pred_label</th>\n",
              "    </tr>\n",
              "  </thead>\n",
              "  <tbody>\n",
              "    <tr>\n",
              "      <th>0</th>\n",
              "      <td>-0.762195</td>\n",
              "      <td>0.617359</td>\n",
              "      <td>1</td>\n",
              "      <td>0</td>\n",
              "    </tr>\n",
              "    <tr>\n",
              "      <th>1</th>\n",
              "      <td>-0.807919</td>\n",
              "      <td>0.779342</td>\n",
              "      <td>0</td>\n",
              "      <td>0</td>\n",
              "    </tr>\n",
              "    <tr>\n",
              "      <th>2</th>\n",
              "      <td>2.952086</td>\n",
              "      <td>-4.558843</td>\n",
              "      <td>0</td>\n",
              "      <td>1</td>\n",
              "    </tr>\n",
              "    <tr>\n",
              "      <th>3</th>\n",
              "      <td>0.523355</td>\n",
              "      <td>-1.095356</td>\n",
              "      <td>1</td>\n",
              "      <td>1</td>\n",
              "    </tr>\n",
              "    <tr>\n",
              "      <th>4</th>\n",
              "      <td>1.386477</td>\n",
              "      <td>-2.630606</td>\n",
              "      <td>0</td>\n",
              "      <td>1</td>\n",
              "    </tr>\n",
              "  </tbody>\n",
              "</table>\n",
              "</div>\n",
              "      <button class=\"colab-df-convert\" onclick=\"convertToInteractive('df-c251ba0b-c6e0-43b5-9b84-21c5eae6d32b')\"\n",
              "              title=\"Convert this dataframe to an interactive table.\"\n",
              "              style=\"display:none;\">\n",
              "        \n",
              "  <svg xmlns=\"http://www.w3.org/2000/svg\" height=\"24px\"viewBox=\"0 0 24 24\"\n",
              "       width=\"24px\">\n",
              "    <path d=\"M0 0h24v24H0V0z\" fill=\"none\"/>\n",
              "    <path d=\"M18.56 5.44l.94 2.06.94-2.06 2.06-.94-2.06-.94-.94-2.06-.94 2.06-2.06.94zm-11 1L8.5 8.5l.94-2.06 2.06-.94-2.06-.94L8.5 2.5l-.94 2.06-2.06.94zm10 10l.94 2.06.94-2.06 2.06-.94-2.06-.94-.94-2.06-.94 2.06-2.06.94z\"/><path d=\"M17.41 7.96l-1.37-1.37c-.4-.4-.92-.59-1.43-.59-.52 0-1.04.2-1.43.59L10.3 9.45l-7.72 7.72c-.78.78-.78 2.05 0 2.83L4 21.41c.39.39.9.59 1.41.59.51 0 1.02-.2 1.41-.59l7.78-7.78 2.81-2.81c.8-.78.8-2.07 0-2.86zM5.41 20L4 18.59l7.72-7.72 1.47 1.35L5.41 20z\"/>\n",
              "  </svg>\n",
              "      </button>\n",
              "      \n",
              "  <style>\n",
              "    .colab-df-container {\n",
              "      display:flex;\n",
              "      flex-wrap:wrap;\n",
              "      gap: 12px;\n",
              "    }\n",
              "\n",
              "    .colab-df-convert {\n",
              "      background-color: #E8F0FE;\n",
              "      border: none;\n",
              "      border-radius: 50%;\n",
              "      cursor: pointer;\n",
              "      display: none;\n",
              "      fill: #1967D2;\n",
              "      height: 32px;\n",
              "      padding: 0 0 0 0;\n",
              "      width: 32px;\n",
              "    }\n",
              "\n",
              "    .colab-df-convert:hover {\n",
              "      background-color: #E2EBFA;\n",
              "      box-shadow: 0px 1px 2px rgba(60, 64, 67, 0.3), 0px 1px 3px 1px rgba(60, 64, 67, 0.15);\n",
              "      fill: #174EA6;\n",
              "    }\n",
              "\n",
              "    [theme=dark] .colab-df-convert {\n",
              "      background-color: #3B4455;\n",
              "      fill: #D2E3FC;\n",
              "    }\n",
              "\n",
              "    [theme=dark] .colab-df-convert:hover {\n",
              "      background-color: #434B5C;\n",
              "      box-shadow: 0px 1px 3px 1px rgba(0, 0, 0, 0.15);\n",
              "      filter: drop-shadow(0px 1px 2px rgba(0, 0, 0, 0.3));\n",
              "      fill: #FFFFFF;\n",
              "    }\n",
              "  </style>\n",
              "\n",
              "      <script>\n",
              "        const buttonEl =\n",
              "          document.querySelector('#df-c251ba0b-c6e0-43b5-9b84-21c5eae6d32b button.colab-df-convert');\n",
              "        buttonEl.style.display =\n",
              "          google.colab.kernel.accessAllowed ? 'block' : 'none';\n",
              "\n",
              "        async function convertToInteractive(key) {\n",
              "          const element = document.querySelector('#df-c251ba0b-c6e0-43b5-9b84-21c5eae6d32b');\n",
              "          const dataTable =\n",
              "            await google.colab.kernel.invokeFunction('convertToInteractive',\n",
              "                                                     [key], {});\n",
              "          if (!dataTable) return;\n",
              "\n",
              "          const docLinkHtml = 'Like what you see? Visit the ' +\n",
              "            '<a target=\"_blank\" href=https://colab.research.google.com/notebooks/data_table.ipynb>data table notebook</a>'\n",
              "            + ' to learn more about interactive tables.';\n",
              "          element.innerHTML = '';\n",
              "          dataTable['output_type'] = 'display_data';\n",
              "          await google.colab.output.renderOutput(dataTable, element);\n",
              "          const docLink = document.createElement('div');\n",
              "          docLink.innerHTML = docLinkHtml;\n",
              "          element.appendChild(docLink);\n",
              "        }\n",
              "      </script>\n",
              "    </div>\n",
              "  </div>\n",
              "  "
            ]
          },
          "metadata": {},
          "execution_count": 25
        }
      ]
    },
    {
      "cell_type": "code",
      "source": [
        "from sklearn.metrics import accuracy_score, classification_report"
      ],
      "metadata": {
        "id": "SCzEl_BTc8sz"
      },
      "execution_count": null,
      "outputs": []
    },
    {
      "cell_type": "code",
      "source": [
        "print(classification_report(predictions_df['pred_label'], predictions_df['real_label']))"
      ],
      "metadata": {
        "colab": {
          "base_uri": "https://localhost:8080/"
        },
        "outputId": "be19c3e9-b365-4ef5-88bb-6aaaca264aec",
        "id": "fr5GPD3vc8s0"
      },
      "execution_count": null,
      "outputs": [
        {
          "output_type": "stream",
          "name": "stdout",
          "text": [
            "              precision    recall  f1-score   support\n",
            "\n",
            "           0       0.22      0.21      0.21      4025\n",
            "           1       0.18      0.19      0.19      3687\n",
            "\n",
            "    accuracy                           0.20      7712\n",
            "   macro avg       0.20      0.20      0.20      7712\n",
            "weighted avg       0.20      0.20      0.20      7712\n",
            "\n"
          ]
        }
      ]
    },
    {
      "cell_type": "code",
      "source": [
        "accuracy_score(predictions_df['pred_label'], predictions_df['real_label'])"
      ],
      "metadata": {
        "colab": {
          "base_uri": "https://localhost:8080/"
        },
        "outputId": "0fd03f5a-f674-45ba-c3ca-4ea9ea474323",
        "id": "ysCQZqn9c8s0"
      },
      "execution_count": null,
      "outputs": [
        {
          "output_type": "execute_result",
          "data": {
            "text/plain": [
              "0.24572095435684646"
            ]
          },
          "metadata": {},
          "execution_count": 49
        }
      ]
    },
    {
      "cell_type": "code",
      "source": [],
      "metadata": {
        "id": "iKQeUAqcpg3g"
      },
      "execution_count": null,
      "outputs": []
    },
    {
      "cell_type": "markdown",
      "source": [
        "# Testing"
      ],
      "metadata": {
        "id": "HRb41k5bpjT2"
      }
    },
    {
      "cell_type": "markdown",
      "source": [
        "## Load test data"
      ],
      "metadata": {
        "id": "jWNwPOZ0Bjro"
      }
    },
    {
      "cell_type": "code",
      "source": [
        "import pandas as pd"
      ],
      "metadata": {
        "id": "9KgbkhNdm370"
      },
      "execution_count": 4,
      "outputs": []
    },
    {
      "cell_type": "markdown",
      "source": [
        "### English"
      ],
      "metadata": {
        "id": "Vy7uco1qb7gn"
      }
    },
    {
      "cell_type": "code",
      "source": [
        "lang = 'en'\n",
        "# df = pd.read_csv(\n",
        "    # '/content/drive/MyDrive/UR/NLE Seminar/code/data/test.data/preprocessed/test_en.csv', \n",
        "    # sep='\\t', index_col=0)\n",
        "df = pd.read_csv(\n",
        "    '/content/drive/MyDrive/UR/NLE Seminar/code/data/test.data/preprocessed/test_en_with_summaries_full.csv',\n",
        "    )\n",
        "df.head()"
      ],
      "metadata": {
        "colab": {
          "base_uri": "https://localhost:8080/",
          "height": 478
        },
        "id": "mevFawmIBxA_",
        "outputId": "4329d9c7-6a8f-466a-ccbb-db17fc055358"
      },
      "execution_count": 18,
      "outputs": [
        {
          "output_type": "execute_result",
          "data": {
            "text/plain": [
              "  target_word             phrase target_preprocessed context_preprocessed  \\\n",
              "0        goal      football goal            football                 goal   \n",
              "1     mustard       mustard seed             mustard                 seed   \n",
              "2        seat        eating seat              eating                 seat   \n",
              "3    navigate   navigate the web            navigate              the web   \n",
              "4  butterball  butterball person          butterball               person   \n",
              "\n",
              "            img_0           img_1           img_2           img_3  \\\n",
              "0  image.4418.jpg  image.4416.jpg  image.4417.jpg  image.4413.jpg   \n",
              "1  image.4429.png  image.4422.jpg  image.4423.jpg  image.4424.jpg   \n",
              "2  image.4435.jpg  image.4436.jpg  image.1166.jpg  image.4430.jpg   \n",
              "3  image.4439.jpg  image.4440.jpg  image.4441.jpg  image.4442.jpg   \n",
              "4  image.4454.jpg  image.4450.jpg  image.4455.jpg  image.4453.jpg   \n",
              "\n",
              "            img_4           img_5           img_6           img_7  \\\n",
              "0  image.4412.jpg  image.4415.jpg  image.4419.jpg  image.4414.jpg   \n",
              "1  image.4421.jpg  image.4427.jpg  image.4426.jpg  image.4420.jpg   \n",
              "2  image.4433.jpg  image.4432.jpg  image.4438.jpg  image.4434.jpg   \n",
              "3  image.4444.jpg  image.4445.jpg  image.1435.jpg  image.4446.png   \n",
              "4  image.4448.jpg  image.1253.jpg  image.4451.jpg  image.4452.jpg   \n",
              "\n",
              "            img_8           img_9  non_eng  \\\n",
              "0  image.2166.jpg  image.1150.jpg        0   \n",
              "1  image.4425.jpg  image.4428.jpg        0   \n",
              "2  image.4431.jpg  image.4437.jpg        0   \n",
              "3  image.1434.jpg  image.4443.jpg        0   \n",
              "4  image.4447.jpg  image.4449.jpg        0   \n",
              "\n",
              "                               summary_source wiki_title  \\\n",
              "0                                      target   Football   \n",
              "1  https://en.wikipedia.org/wiki/Mustard_seed        NaN   \n",
              "2                                      Eating        NaN   \n",
              "3                                  Navigation        NaN   \n",
              "4                                  Butterball        NaN   \n",
              "\n",
              "                                     summary_content  \n",
              "0  Football is a family of team sports that invol...  \n",
              "1  Mustard seeds are the small round seeds of var...  \n",
              "2  Eating (also known as consuming) is the ingest...  \n",
              "3  Navigation is a field of study that focuses on...  \n",
              "4  Butterball is a brand of turkey and other poul...  "
            ],
            "text/html": [
              "\n",
              "  <div id=\"df-79cdc9d0-700e-4089-9e9f-337cad543634\">\n",
              "    <div class=\"colab-df-container\">\n",
              "      <div>\n",
              "<style scoped>\n",
              "    .dataframe tbody tr th:only-of-type {\n",
              "        vertical-align: middle;\n",
              "    }\n",
              "\n",
              "    .dataframe tbody tr th {\n",
              "        vertical-align: top;\n",
              "    }\n",
              "\n",
              "    .dataframe thead th {\n",
              "        text-align: right;\n",
              "    }\n",
              "</style>\n",
              "<table border=\"1\" class=\"dataframe\">\n",
              "  <thead>\n",
              "    <tr style=\"text-align: right;\">\n",
              "      <th></th>\n",
              "      <th>target_word</th>\n",
              "      <th>phrase</th>\n",
              "      <th>target_preprocessed</th>\n",
              "      <th>context_preprocessed</th>\n",
              "      <th>img_0</th>\n",
              "      <th>img_1</th>\n",
              "      <th>img_2</th>\n",
              "      <th>img_3</th>\n",
              "      <th>img_4</th>\n",
              "      <th>img_5</th>\n",
              "      <th>img_6</th>\n",
              "      <th>img_7</th>\n",
              "      <th>img_8</th>\n",
              "      <th>img_9</th>\n",
              "      <th>non_eng</th>\n",
              "      <th>summary_source</th>\n",
              "      <th>wiki_title</th>\n",
              "      <th>summary_content</th>\n",
              "    </tr>\n",
              "  </thead>\n",
              "  <tbody>\n",
              "    <tr>\n",
              "      <th>0</th>\n",
              "      <td>goal</td>\n",
              "      <td>football goal</td>\n",
              "      <td>football</td>\n",
              "      <td>goal</td>\n",
              "      <td>image.4418.jpg</td>\n",
              "      <td>image.4416.jpg</td>\n",
              "      <td>image.4417.jpg</td>\n",
              "      <td>image.4413.jpg</td>\n",
              "      <td>image.4412.jpg</td>\n",
              "      <td>image.4415.jpg</td>\n",
              "      <td>image.4419.jpg</td>\n",
              "      <td>image.4414.jpg</td>\n",
              "      <td>image.2166.jpg</td>\n",
              "      <td>image.1150.jpg</td>\n",
              "      <td>0</td>\n",
              "      <td>target</td>\n",
              "      <td>Football</td>\n",
              "      <td>Football is a family of team sports that invol...</td>\n",
              "    </tr>\n",
              "    <tr>\n",
              "      <th>1</th>\n",
              "      <td>mustard</td>\n",
              "      <td>mustard seed</td>\n",
              "      <td>mustard</td>\n",
              "      <td>seed</td>\n",
              "      <td>image.4429.png</td>\n",
              "      <td>image.4422.jpg</td>\n",
              "      <td>image.4423.jpg</td>\n",
              "      <td>image.4424.jpg</td>\n",
              "      <td>image.4421.jpg</td>\n",
              "      <td>image.4427.jpg</td>\n",
              "      <td>image.4426.jpg</td>\n",
              "      <td>image.4420.jpg</td>\n",
              "      <td>image.4425.jpg</td>\n",
              "      <td>image.4428.jpg</td>\n",
              "      <td>0</td>\n",
              "      <td>https://en.wikipedia.org/wiki/Mustard_seed</td>\n",
              "      <td>NaN</td>\n",
              "      <td>Mustard seeds are the small round seeds of var...</td>\n",
              "    </tr>\n",
              "    <tr>\n",
              "      <th>2</th>\n",
              "      <td>seat</td>\n",
              "      <td>eating seat</td>\n",
              "      <td>eating</td>\n",
              "      <td>seat</td>\n",
              "      <td>image.4435.jpg</td>\n",
              "      <td>image.4436.jpg</td>\n",
              "      <td>image.1166.jpg</td>\n",
              "      <td>image.4430.jpg</td>\n",
              "      <td>image.4433.jpg</td>\n",
              "      <td>image.4432.jpg</td>\n",
              "      <td>image.4438.jpg</td>\n",
              "      <td>image.4434.jpg</td>\n",
              "      <td>image.4431.jpg</td>\n",
              "      <td>image.4437.jpg</td>\n",
              "      <td>0</td>\n",
              "      <td>Eating</td>\n",
              "      <td>NaN</td>\n",
              "      <td>Eating (also known as consuming) is the ingest...</td>\n",
              "    </tr>\n",
              "    <tr>\n",
              "      <th>3</th>\n",
              "      <td>navigate</td>\n",
              "      <td>navigate the web</td>\n",
              "      <td>navigate</td>\n",
              "      <td>the web</td>\n",
              "      <td>image.4439.jpg</td>\n",
              "      <td>image.4440.jpg</td>\n",
              "      <td>image.4441.jpg</td>\n",
              "      <td>image.4442.jpg</td>\n",
              "      <td>image.4444.jpg</td>\n",
              "      <td>image.4445.jpg</td>\n",
              "      <td>image.1435.jpg</td>\n",
              "      <td>image.4446.png</td>\n",
              "      <td>image.1434.jpg</td>\n",
              "      <td>image.4443.jpg</td>\n",
              "      <td>0</td>\n",
              "      <td>Navigation</td>\n",
              "      <td>NaN</td>\n",
              "      <td>Navigation is a field of study that focuses on...</td>\n",
              "    </tr>\n",
              "    <tr>\n",
              "      <th>4</th>\n",
              "      <td>butterball</td>\n",
              "      <td>butterball person</td>\n",
              "      <td>butterball</td>\n",
              "      <td>person</td>\n",
              "      <td>image.4454.jpg</td>\n",
              "      <td>image.4450.jpg</td>\n",
              "      <td>image.4455.jpg</td>\n",
              "      <td>image.4453.jpg</td>\n",
              "      <td>image.4448.jpg</td>\n",
              "      <td>image.1253.jpg</td>\n",
              "      <td>image.4451.jpg</td>\n",
              "      <td>image.4452.jpg</td>\n",
              "      <td>image.4447.jpg</td>\n",
              "      <td>image.4449.jpg</td>\n",
              "      <td>0</td>\n",
              "      <td>Butterball</td>\n",
              "      <td>NaN</td>\n",
              "      <td>Butterball is a brand of turkey and other poul...</td>\n",
              "    </tr>\n",
              "  </tbody>\n",
              "</table>\n",
              "</div>\n",
              "      <button class=\"colab-df-convert\" onclick=\"convertToInteractive('df-79cdc9d0-700e-4089-9e9f-337cad543634')\"\n",
              "              title=\"Convert this dataframe to an interactive table.\"\n",
              "              style=\"display:none;\">\n",
              "        \n",
              "  <svg xmlns=\"http://www.w3.org/2000/svg\" height=\"24px\"viewBox=\"0 0 24 24\"\n",
              "       width=\"24px\">\n",
              "    <path d=\"M0 0h24v24H0V0z\" fill=\"none\"/>\n",
              "    <path d=\"M18.56 5.44l.94 2.06.94-2.06 2.06-.94-2.06-.94-.94-2.06-.94 2.06-2.06.94zm-11 1L8.5 8.5l.94-2.06 2.06-.94-2.06-.94L8.5 2.5l-.94 2.06-2.06.94zm10 10l.94 2.06.94-2.06 2.06-.94-2.06-.94-.94-2.06-.94 2.06-2.06.94z\"/><path d=\"M17.41 7.96l-1.37-1.37c-.4-.4-.92-.59-1.43-.59-.52 0-1.04.2-1.43.59L10.3 9.45l-7.72 7.72c-.78.78-.78 2.05 0 2.83L4 21.41c.39.39.9.59 1.41.59.51 0 1.02-.2 1.41-.59l7.78-7.78 2.81-2.81c.8-.78.8-2.07 0-2.86zM5.41 20L4 18.59l7.72-7.72 1.47 1.35L5.41 20z\"/>\n",
              "  </svg>\n",
              "      </button>\n",
              "      \n",
              "  <style>\n",
              "    .colab-df-container {\n",
              "      display:flex;\n",
              "      flex-wrap:wrap;\n",
              "      gap: 12px;\n",
              "    }\n",
              "\n",
              "    .colab-df-convert {\n",
              "      background-color: #E8F0FE;\n",
              "      border: none;\n",
              "      border-radius: 50%;\n",
              "      cursor: pointer;\n",
              "      display: none;\n",
              "      fill: #1967D2;\n",
              "      height: 32px;\n",
              "      padding: 0 0 0 0;\n",
              "      width: 32px;\n",
              "    }\n",
              "\n",
              "    .colab-df-convert:hover {\n",
              "      background-color: #E2EBFA;\n",
              "      box-shadow: 0px 1px 2px rgba(60, 64, 67, 0.3), 0px 1px 3px 1px rgba(60, 64, 67, 0.15);\n",
              "      fill: #174EA6;\n",
              "    }\n",
              "\n",
              "    [theme=dark] .colab-df-convert {\n",
              "      background-color: #3B4455;\n",
              "      fill: #D2E3FC;\n",
              "    }\n",
              "\n",
              "    [theme=dark] .colab-df-convert:hover {\n",
              "      background-color: #434B5C;\n",
              "      box-shadow: 0px 1px 3px 1px rgba(0, 0, 0, 0.15);\n",
              "      filter: drop-shadow(0px 1px 2px rgba(0, 0, 0, 0.3));\n",
              "      fill: #FFFFFF;\n",
              "    }\n",
              "  </style>\n",
              "\n",
              "      <script>\n",
              "        const buttonEl =\n",
              "          document.querySelector('#df-79cdc9d0-700e-4089-9e9f-337cad543634 button.colab-df-convert');\n",
              "        buttonEl.style.display =\n",
              "          google.colab.kernel.accessAllowed ? 'block' : 'none';\n",
              "\n",
              "        async function convertToInteractive(key) {\n",
              "          const element = document.querySelector('#df-79cdc9d0-700e-4089-9e9f-337cad543634');\n",
              "          const dataTable =\n",
              "            await google.colab.kernel.invokeFunction('convertToInteractive',\n",
              "                                                     [key], {});\n",
              "          if (!dataTable) return;\n",
              "\n",
              "          const docLinkHtml = 'Like what you see? Visit the ' +\n",
              "            '<a target=\"_blank\" href=https://colab.research.google.com/notebooks/data_table.ipynb>data table notebook</a>'\n",
              "            + ' to learn more about interactive tables.';\n",
              "          element.innerHTML = '';\n",
              "          dataTable['output_type'] = 'display_data';\n",
              "          await google.colab.output.renderOutput(dataTable, element);\n",
              "          const docLink = document.createElement('div');\n",
              "          docLink.innerHTML = docLinkHtml;\n",
              "          element.appendChild(docLink);\n",
              "        }\n",
              "      </script>\n",
              "    </div>\n",
              "  </div>\n",
              "  "
            ]
          },
          "metadata": {},
          "execution_count": 18
        }
      ]
    },
    {
      "cell_type": "code",
      "source": [
        "df.shape"
      ],
      "metadata": {
        "colab": {
          "base_uri": "https://localhost:8080/"
        },
        "id": "FkOJOfmOB4bP",
        "outputId": "00ec1763-4f70-46c0-86e5-c8650f00d34f"
      },
      "execution_count": null,
      "outputs": [
        {
          "output_type": "execute_result",
          "data": {
            "text/plain": [
              "(463, 15)"
            ]
          },
          "metadata": {},
          "execution_count": 9
        }
      ]
    },
    {
      "cell_type": "code",
      "source": [
        "df.at[40, 'context_preprocessed'] = ''\n",
        "df.at[367, 'context_preprocessed'] = ''"
      ],
      "metadata": {
        "id": "TjxY4_ry3S_l"
      },
      "execution_count": 19,
      "outputs": []
    },
    {
      "cell_type": "code",
      "source": [
        "# plain phrases\n",
        "df['text_input'] = df['target_preprocessed'] + ' ' + df['context_preprocessed']"
      ],
      "metadata": {
        "id": "_43Yf3Z5oTDa"
      },
      "execution_count": null,
      "outputs": []
    },
    {
      "cell_type": "code",
      "source": [
        "# summaries\n",
        "df['text_input'] = df['target_preprocessed'] + ' ' \\\n",
        "  + df['context_preprocessed'] + ' ' + df['summary_content']"
      ],
      "metadata": {
        "id": "MF_62RKkrw7J"
      },
      "execution_count": 20,
      "outputs": []
    },
    {
      "cell_type": "code",
      "source": [
        "df.isna().sum()"
      ],
      "metadata": {
        "colab": {
          "base_uri": "https://localhost:8080/"
        },
        "id": "FSU-PKZanrmL",
        "outputId": "f2769f35-2920-4baf-9cce-defa4a7560fe"
      },
      "execution_count": 21,
      "outputs": [
        {
          "output_type": "execute_result",
          "data": {
            "text/plain": [
              "target_word               0\n",
              "phrase                    0\n",
              "target_preprocessed       0\n",
              "context_preprocessed      0\n",
              "img_0                     0\n",
              "img_1                     0\n",
              "img_2                     0\n",
              "img_3                     0\n",
              "img_4                     0\n",
              "img_5                     0\n",
              "img_6                     0\n",
              "img_7                     0\n",
              "img_8                     0\n",
              "img_9                     0\n",
              "non_eng                   0\n",
              "summary_source            0\n",
              "wiki_title              347\n",
              "summary_content           0\n",
              "text_input                0\n",
              "dtype: int64"
            ]
          },
          "metadata": {},
          "execution_count": 21
        }
      ]
    },
    {
      "cell_type": "markdown",
      "source": [
        "### Farsi"
      ],
      "metadata": {
        "id": "5kPSQYZtcEKE"
      }
    },
    {
      "cell_type": "code",
      "source": [
        "lang = 'fa'\n",
        "df = pd.read_csv(\n",
        "    # '/content/drive/MyDrive/UR/NLE Seminar/code/data/test.data/preprocessed/test_fa_translated.csv', index_col=0\n",
        "    '/content/drive/MyDrive/UR/NLE Seminar/code/data/test.data/preprocessed/test_fa_with_summaries_full.csv',\n",
        "     )\n",
        "df.head()"
      ],
      "metadata": {
        "colab": {
          "base_uri": "https://localhost:8080/",
          "height": 444
        },
        "outputId": "b6d0f4e7-85e3-4880-e851-a65febb68738",
        "id": "jgwaYtjBcIpc"
      },
      "execution_count": 5,
      "outputs": [
        {
          "output_type": "execute_result",
          "data": {
            "text/plain": [
              "  target_word      phrase           img_0           img_1           img_2  \\\n",
              "0       برنج‎    فلز برنج  image.2732.jpg  image.2734.jpg  image.2727.jpg   \n",
              "1         ملخ    ملخ بادی  image.2743.jpg  image.2741.jpg  image.2740.jpg   \n",
              "2         شام  سرزمین شام  image.2747.jpg  image.2749.jpg  image.2745.jpg   \n",
              "3        عدسی    عدسی نور  image.2761.jpg  image.2300.jpg  image.2758.jpg   \n",
              "4         توپ   توپ نظامی  image.2769.jpg  image.2766.jpg  image.2765.jpg   \n",
              "\n",
              "            img_3           img_4           img_5           img_6  \\\n",
              "0  image.2731.jpg  image.2735.jpg  image.2726.jpg  image.2729.jpg   \n",
              "1   image.921.jpg  image.2736.jpg  image.2744.jpg  image.2737.png   \n",
              "2  image.2753.jpg  image.2748.jpg  image.2754.jpg  image.2751.png   \n",
              "3  image.2762.jpg  image.2760.jpg  image.2756.jpg  image.2759.jpg   \n",
              "4  image.2763.jpg  image.2764.jpg  image.2770.jpg  image.2772.jpg   \n",
              "\n",
              "            img_7           img_8           img_9   target_eng  \\\n",
              "0  image.2733.jpg  image.2730.jpg  image.2728.jpg         Rice   \n",
              "1  image.2742.jpg  image.2738.jpg  image.2739.jpg  Grasshopper   \n",
              "2  image.2746.jpg  image.2750.jpg  image.2752.jpg  the evening   \n",
              "3  image.2755.jpg  image.2757.jpg    image.95.jpg       Lenses   \n",
              "4  image.2767.jpg  image.2768.jpg  image.2771.png         Ball   \n",
              "\n",
              "                phrase_eng                                     summary_source  \\\n",
              "0                    brass                                             target   \n",
              "1              Wind locust                                             target   \n",
              "2  The land of the evening                                             target   \n",
              "3               Light lens  https://en.wikipedia.org/wiki/Lens_(vertebrate...   \n",
              "4            Military ball                                             target   \n",
              "\n",
              "                  wiki_title  \\\n",
              "0                       Rice   \n",
              "1                Grasshopper   \n",
              "2                    Evening   \n",
              "3  Lens (vertebrate anatomy)   \n",
              "4                       Ball   \n",
              "\n",
              "                                     summary_content  \n",
              "0  Ice is water frozen into a solid state, typica...  \n",
              "1  Grasshoppers are a group of insects belonging ...  \n",
              "2  Eventing (also known as three day eventing or ...  \n",
              "3  The lens, or crystalline lens, is a transparen...  \n",
              "4  A bell is a directly struck idiophone percussi...  "
            ],
            "text/html": [
              "\n",
              "  <div id=\"df-8d6aef2e-f57b-4c97-bef7-fd44dc6f82ca\">\n",
              "    <div class=\"colab-df-container\">\n",
              "      <div>\n",
              "<style scoped>\n",
              "    .dataframe tbody tr th:only-of-type {\n",
              "        vertical-align: middle;\n",
              "    }\n",
              "\n",
              "    .dataframe tbody tr th {\n",
              "        vertical-align: top;\n",
              "    }\n",
              "\n",
              "    .dataframe thead th {\n",
              "        text-align: right;\n",
              "    }\n",
              "</style>\n",
              "<table border=\"1\" class=\"dataframe\">\n",
              "  <thead>\n",
              "    <tr style=\"text-align: right;\">\n",
              "      <th></th>\n",
              "      <th>target_word</th>\n",
              "      <th>phrase</th>\n",
              "      <th>img_0</th>\n",
              "      <th>img_1</th>\n",
              "      <th>img_2</th>\n",
              "      <th>img_3</th>\n",
              "      <th>img_4</th>\n",
              "      <th>img_5</th>\n",
              "      <th>img_6</th>\n",
              "      <th>img_7</th>\n",
              "      <th>img_8</th>\n",
              "      <th>img_9</th>\n",
              "      <th>target_eng</th>\n",
              "      <th>phrase_eng</th>\n",
              "      <th>summary_source</th>\n",
              "      <th>wiki_title</th>\n",
              "      <th>summary_content</th>\n",
              "    </tr>\n",
              "  </thead>\n",
              "  <tbody>\n",
              "    <tr>\n",
              "      <th>0</th>\n",
              "      <td>برنج‎</td>\n",
              "      <td>فلز برنج</td>\n",
              "      <td>image.2732.jpg</td>\n",
              "      <td>image.2734.jpg</td>\n",
              "      <td>image.2727.jpg</td>\n",
              "      <td>image.2731.jpg</td>\n",
              "      <td>image.2735.jpg</td>\n",
              "      <td>image.2726.jpg</td>\n",
              "      <td>image.2729.jpg</td>\n",
              "      <td>image.2733.jpg</td>\n",
              "      <td>image.2730.jpg</td>\n",
              "      <td>image.2728.jpg</td>\n",
              "      <td>Rice</td>\n",
              "      <td>brass</td>\n",
              "      <td>target</td>\n",
              "      <td>Rice</td>\n",
              "      <td>Ice is water frozen into a solid state, typica...</td>\n",
              "    </tr>\n",
              "    <tr>\n",
              "      <th>1</th>\n",
              "      <td>ملخ</td>\n",
              "      <td>ملخ بادی</td>\n",
              "      <td>image.2743.jpg</td>\n",
              "      <td>image.2741.jpg</td>\n",
              "      <td>image.2740.jpg</td>\n",
              "      <td>image.921.jpg</td>\n",
              "      <td>image.2736.jpg</td>\n",
              "      <td>image.2744.jpg</td>\n",
              "      <td>image.2737.png</td>\n",
              "      <td>image.2742.jpg</td>\n",
              "      <td>image.2738.jpg</td>\n",
              "      <td>image.2739.jpg</td>\n",
              "      <td>Grasshopper</td>\n",
              "      <td>Wind locust</td>\n",
              "      <td>target</td>\n",
              "      <td>Grasshopper</td>\n",
              "      <td>Grasshoppers are a group of insects belonging ...</td>\n",
              "    </tr>\n",
              "    <tr>\n",
              "      <th>2</th>\n",
              "      <td>شام</td>\n",
              "      <td>سرزمین شام</td>\n",
              "      <td>image.2747.jpg</td>\n",
              "      <td>image.2749.jpg</td>\n",
              "      <td>image.2745.jpg</td>\n",
              "      <td>image.2753.jpg</td>\n",
              "      <td>image.2748.jpg</td>\n",
              "      <td>image.2754.jpg</td>\n",
              "      <td>image.2751.png</td>\n",
              "      <td>image.2746.jpg</td>\n",
              "      <td>image.2750.jpg</td>\n",
              "      <td>image.2752.jpg</td>\n",
              "      <td>the evening</td>\n",
              "      <td>The land of the evening</td>\n",
              "      <td>target</td>\n",
              "      <td>Evening</td>\n",
              "      <td>Eventing (also known as three day eventing or ...</td>\n",
              "    </tr>\n",
              "    <tr>\n",
              "      <th>3</th>\n",
              "      <td>عدسی</td>\n",
              "      <td>عدسی نور</td>\n",
              "      <td>image.2761.jpg</td>\n",
              "      <td>image.2300.jpg</td>\n",
              "      <td>image.2758.jpg</td>\n",
              "      <td>image.2762.jpg</td>\n",
              "      <td>image.2760.jpg</td>\n",
              "      <td>image.2756.jpg</td>\n",
              "      <td>image.2759.jpg</td>\n",
              "      <td>image.2755.jpg</td>\n",
              "      <td>image.2757.jpg</td>\n",
              "      <td>image.95.jpg</td>\n",
              "      <td>Lenses</td>\n",
              "      <td>Light lens</td>\n",
              "      <td>https://en.wikipedia.org/wiki/Lens_(vertebrate...</td>\n",
              "      <td>Lens (vertebrate anatomy)</td>\n",
              "      <td>The lens, or crystalline lens, is a transparen...</td>\n",
              "    </tr>\n",
              "    <tr>\n",
              "      <th>4</th>\n",
              "      <td>توپ</td>\n",
              "      <td>توپ نظامی</td>\n",
              "      <td>image.2769.jpg</td>\n",
              "      <td>image.2766.jpg</td>\n",
              "      <td>image.2765.jpg</td>\n",
              "      <td>image.2763.jpg</td>\n",
              "      <td>image.2764.jpg</td>\n",
              "      <td>image.2770.jpg</td>\n",
              "      <td>image.2772.jpg</td>\n",
              "      <td>image.2767.jpg</td>\n",
              "      <td>image.2768.jpg</td>\n",
              "      <td>image.2771.png</td>\n",
              "      <td>Ball</td>\n",
              "      <td>Military ball</td>\n",
              "      <td>target</td>\n",
              "      <td>Ball</td>\n",
              "      <td>A bell is a directly struck idiophone percussi...</td>\n",
              "    </tr>\n",
              "  </tbody>\n",
              "</table>\n",
              "</div>\n",
              "      <button class=\"colab-df-convert\" onclick=\"convertToInteractive('df-8d6aef2e-f57b-4c97-bef7-fd44dc6f82ca')\"\n",
              "              title=\"Convert this dataframe to an interactive table.\"\n",
              "              style=\"display:none;\">\n",
              "        \n",
              "  <svg xmlns=\"http://www.w3.org/2000/svg\" height=\"24px\"viewBox=\"0 0 24 24\"\n",
              "       width=\"24px\">\n",
              "    <path d=\"M0 0h24v24H0V0z\" fill=\"none\"/>\n",
              "    <path d=\"M18.56 5.44l.94 2.06.94-2.06 2.06-.94-2.06-.94-.94-2.06-.94 2.06-2.06.94zm-11 1L8.5 8.5l.94-2.06 2.06-.94-2.06-.94L8.5 2.5l-.94 2.06-2.06.94zm10 10l.94 2.06.94-2.06 2.06-.94-2.06-.94-.94-2.06-.94 2.06-2.06.94z\"/><path d=\"M17.41 7.96l-1.37-1.37c-.4-.4-.92-.59-1.43-.59-.52 0-1.04.2-1.43.59L10.3 9.45l-7.72 7.72c-.78.78-.78 2.05 0 2.83L4 21.41c.39.39.9.59 1.41.59.51 0 1.02-.2 1.41-.59l7.78-7.78 2.81-2.81c.8-.78.8-2.07 0-2.86zM5.41 20L4 18.59l7.72-7.72 1.47 1.35L5.41 20z\"/>\n",
              "  </svg>\n",
              "      </button>\n",
              "      \n",
              "  <style>\n",
              "    .colab-df-container {\n",
              "      display:flex;\n",
              "      flex-wrap:wrap;\n",
              "      gap: 12px;\n",
              "    }\n",
              "\n",
              "    .colab-df-convert {\n",
              "      background-color: #E8F0FE;\n",
              "      border: none;\n",
              "      border-radius: 50%;\n",
              "      cursor: pointer;\n",
              "      display: none;\n",
              "      fill: #1967D2;\n",
              "      height: 32px;\n",
              "      padding: 0 0 0 0;\n",
              "      width: 32px;\n",
              "    }\n",
              "\n",
              "    .colab-df-convert:hover {\n",
              "      background-color: #E2EBFA;\n",
              "      box-shadow: 0px 1px 2px rgba(60, 64, 67, 0.3), 0px 1px 3px 1px rgba(60, 64, 67, 0.15);\n",
              "      fill: #174EA6;\n",
              "    }\n",
              "\n",
              "    [theme=dark] .colab-df-convert {\n",
              "      background-color: #3B4455;\n",
              "      fill: #D2E3FC;\n",
              "    }\n",
              "\n",
              "    [theme=dark] .colab-df-convert:hover {\n",
              "      background-color: #434B5C;\n",
              "      box-shadow: 0px 1px 3px 1px rgba(0, 0, 0, 0.15);\n",
              "      filter: drop-shadow(0px 1px 2px rgba(0, 0, 0, 0.3));\n",
              "      fill: #FFFFFF;\n",
              "    }\n",
              "  </style>\n",
              "\n",
              "      <script>\n",
              "        const buttonEl =\n",
              "          document.querySelector('#df-8d6aef2e-f57b-4c97-bef7-fd44dc6f82ca button.colab-df-convert');\n",
              "        buttonEl.style.display =\n",
              "          google.colab.kernel.accessAllowed ? 'block' : 'none';\n",
              "\n",
              "        async function convertToInteractive(key) {\n",
              "          const element = document.querySelector('#df-8d6aef2e-f57b-4c97-bef7-fd44dc6f82ca');\n",
              "          const dataTable =\n",
              "            await google.colab.kernel.invokeFunction('convertToInteractive',\n",
              "                                                     [key], {});\n",
              "          if (!dataTable) return;\n",
              "\n",
              "          const docLinkHtml = 'Like what you see? Visit the ' +\n",
              "            '<a target=\"_blank\" href=https://colab.research.google.com/notebooks/data_table.ipynb>data table notebook</a>'\n",
              "            + ' to learn more about interactive tables.';\n",
              "          element.innerHTML = '';\n",
              "          dataTable['output_type'] = 'display_data';\n",
              "          await google.colab.output.renderOutput(dataTable, element);\n",
              "          const docLink = document.createElement('div');\n",
              "          docLink.innerHTML = docLinkHtml;\n",
              "          element.appendChild(docLink);\n",
              "        }\n",
              "      </script>\n",
              "    </div>\n",
              "  </div>\n",
              "  "
            ]
          },
          "metadata": {},
          "execution_count": 5
        }
      ]
    },
    {
      "cell_type": "code",
      "source": [
        "!ls '/content/drive/MyDrive/UR/NLE Seminar/code/data/test.data/preprocessed'"
      ],
      "metadata": {
        "colab": {
          "base_uri": "https://localhost:8080/"
        },
        "id": "LxAnN1EIAUTk",
        "outputId": "9bc893e0-bbf9-4885-b015-41632f285675"
      },
      "execution_count": null,
      "outputs": [
        {
          "output_type": "stream",
          "name": "stdout",
          "text": [
            "test_en.csv\t\t\t test_fa_with_summaries_full.csv\n",
            "test_en_with_summaries.csv\t test_fa_with_summaries.gsheet\n",
            "test_en_with_summaries_full.csv  test_it_translated.csv\n",
            "test_en_with_summaries.gsheet\t test_it_with_summaries.csv\n",
            "test_fa_translated.csv\t\t test_it_with_summaries_full.csv\n",
            "test_fa_with_summaries.csv\t test_it_with_summaries.gsheet\n"
          ]
        }
      ]
    },
    {
      "cell_type": "code",
      "source": [
        "df.shape"
      ],
      "metadata": {
        "colab": {
          "base_uri": "https://localhost:8080/"
        },
        "outputId": "f0e39721-c4a8-467b-86d3-7f509270775b",
        "id": "eIPdyInscIpd"
      },
      "execution_count": null,
      "outputs": [
        {
          "output_type": "execute_result",
          "data": {
            "text/plain": [
              "(200, 15)"
            ]
          },
          "metadata": {},
          "execution_count": 128
        }
      ]
    },
    {
      "cell_type": "code",
      "source": [
        "# plain phrases\n",
        "df['text_input'] = df['phrase_eng']"
      ],
      "metadata": {
        "id": "GO2AYzPlcIpg"
      },
      "execution_count": null,
      "outputs": []
    },
    {
      "cell_type": "code",
      "source": [
        "# summaries\n",
        "df['summary_content'] = df['summary_content'].fillna('')\n",
        "df['text_input'] = df['phrase_eng'] + ' ' + df['summary_content']"
      ],
      "metadata": {
        "id": "EpjpfWN0cIpf"
      },
      "execution_count": 6,
      "outputs": []
    },
    {
      "cell_type": "code",
      "source": [
        "df.isna().sum()"
      ],
      "metadata": {
        "colab": {
          "base_uri": "https://localhost:8080/"
        },
        "outputId": "539161f8-de23-41bb-9e75-37bec545db8e",
        "id": "pIGgbeoJcIph"
      },
      "execution_count": 58,
      "outputs": [
        {
          "output_type": "execute_result",
          "data": {
            "text/plain": [
              "target_word         0\n",
              "phrase              0\n",
              "img_0               0\n",
              "img_1               0\n",
              "img_2               0\n",
              "img_3               0\n",
              "img_4               0\n",
              "img_5               0\n",
              "img_6               0\n",
              "img_7               0\n",
              "img_8               0\n",
              "img_9               0\n",
              "target_eng          0\n",
              "phrase_eng          0\n",
              "summary_source      9\n",
              "wiki_title         10\n",
              "summary_content     0\n",
              "text_input          0\n",
              "dtype: int64"
            ]
          },
          "metadata": {},
          "execution_count": 58
        }
      ]
    },
    {
      "cell_type": "markdown",
      "source": [
        "### Italian"
      ],
      "metadata": {
        "id": "bgjiEYNn5z9p"
      }
    },
    {
      "cell_type": "code",
      "source": [
        "lang = 'it'\n",
        "df = pd.read_csv(\n",
        "    # '/content/drive/MyDrive/UR/NLE Seminar/code/data/test.data/preprocessed/test_it_translated.csv', index_col=0\n",
        "    '/content/drive/MyDrive/UR/NLE Seminar/code/data/test.data/preprocessed/test_it_with_summaries_full.csv',\n",
        "     )\n",
        "df.head()"
      ],
      "metadata": {
        "colab": {
          "base_uri": "https://localhost:8080/",
          "height": 513
        },
        "outputId": "caef92cc-be3a-4ef3-9409-cdb570ab3cce",
        "id": "whIfvzdY5z9q"
      },
      "execution_count": 35,
      "outputs": [
        {
          "output_type": "execute_result",
          "data": {
            "text/plain": [
              "  target_word                phrase         img_0         img_1         img_2  \\\n",
              "0       gomma  gomma per smacchiare   image.3.jpg   image.7.jpg   image.8.jpg   \n",
              "1       asino  asino gioco di carte  image.18.jpg  image.17.jpg  image.11.jpg   \n",
              "2     colonna      colonna missione  image.22.jpg  image.24.jpg  image.28.jpg   \n",
              "3         box       box per infanti  image.33.jpg  image.32.jpg  image.37.jpg   \n",
              "4       bolla  bolla di misurazione  image.48.jpg  image.44.jpg  image.41.jpg   \n",
              "\n",
              "          img_3         img_4         img_5         img_6         img_7  \\\n",
              "0   image.1.jpg   image.9.jpg   image.5.jpg   image.6.jpg   image.4.jpg   \n",
              "1  image.10.jpg  image.15.jpg  image.16.png  image.14.jpg  image.12.jpg   \n",
              "2  image.27.jpg  image.25.jpg  image.26.jpg  image.20.jpg  image.21.jpg   \n",
              "3  image.38.jpg  image.35.jpg  image.34.jpg  image.31.jpg  image.39.jpg   \n",
              "4  image.46.jpg  image.47.jpg  image.42.jpg  image.40.jpg  image.45.jpg   \n",
              "\n",
              "          img_8         img_9 target_eng          phrase_eng summary_source  \\\n",
              "0   image.0.jpg   image.2.jpg     eraser    rubber to remove         phrase   \n",
              "1  image.13.jpg  image.19.jpg     donkey    donkey card game         target   \n",
              "2  image.23.jpg  image.29.jpg    colonna      mission column         target   \n",
              "3  image.30.jpg  image.36.jpg        box     Box for infants         target   \n",
              "4  image.43.PNG  image.49.jpg     bubble  measurement bubble         target   \n",
              "\n",
              "       wiki_title                                    summary_content  \n",
              "0  Natural rubber  In mathematics, the natural numbers are those ...  \n",
              "1          Donkey  Monkey is a common name that may refer to most...  \n",
              "2  Colonna family  The House of Colonna, also known as Sciarrillo...  \n",
              "3             Box  A box (plural: boxes) is a container used for ...  \n",
              "4          Bubble  The Bible (from Koine Greek τὰ βιβλία, tà bibl...  "
            ],
            "text/html": [
              "\n",
              "  <div id=\"df-467e6b81-3ce0-4b77-94e9-4f132e09a3f2\">\n",
              "    <div class=\"colab-df-container\">\n",
              "      <div>\n",
              "<style scoped>\n",
              "    .dataframe tbody tr th:only-of-type {\n",
              "        vertical-align: middle;\n",
              "    }\n",
              "\n",
              "    .dataframe tbody tr th {\n",
              "        vertical-align: top;\n",
              "    }\n",
              "\n",
              "    .dataframe thead th {\n",
              "        text-align: right;\n",
              "    }\n",
              "</style>\n",
              "<table border=\"1\" class=\"dataframe\">\n",
              "  <thead>\n",
              "    <tr style=\"text-align: right;\">\n",
              "      <th></th>\n",
              "      <th>target_word</th>\n",
              "      <th>phrase</th>\n",
              "      <th>img_0</th>\n",
              "      <th>img_1</th>\n",
              "      <th>img_2</th>\n",
              "      <th>img_3</th>\n",
              "      <th>img_4</th>\n",
              "      <th>img_5</th>\n",
              "      <th>img_6</th>\n",
              "      <th>img_7</th>\n",
              "      <th>img_8</th>\n",
              "      <th>img_9</th>\n",
              "      <th>target_eng</th>\n",
              "      <th>phrase_eng</th>\n",
              "      <th>summary_source</th>\n",
              "      <th>wiki_title</th>\n",
              "      <th>summary_content</th>\n",
              "    </tr>\n",
              "  </thead>\n",
              "  <tbody>\n",
              "    <tr>\n",
              "      <th>0</th>\n",
              "      <td>gomma</td>\n",
              "      <td>gomma per smacchiare</td>\n",
              "      <td>image.3.jpg</td>\n",
              "      <td>image.7.jpg</td>\n",
              "      <td>image.8.jpg</td>\n",
              "      <td>image.1.jpg</td>\n",
              "      <td>image.9.jpg</td>\n",
              "      <td>image.5.jpg</td>\n",
              "      <td>image.6.jpg</td>\n",
              "      <td>image.4.jpg</td>\n",
              "      <td>image.0.jpg</td>\n",
              "      <td>image.2.jpg</td>\n",
              "      <td>eraser</td>\n",
              "      <td>rubber to remove</td>\n",
              "      <td>phrase</td>\n",
              "      <td>Natural rubber</td>\n",
              "      <td>In mathematics, the natural numbers are those ...</td>\n",
              "    </tr>\n",
              "    <tr>\n",
              "      <th>1</th>\n",
              "      <td>asino</td>\n",
              "      <td>asino gioco di carte</td>\n",
              "      <td>image.18.jpg</td>\n",
              "      <td>image.17.jpg</td>\n",
              "      <td>image.11.jpg</td>\n",
              "      <td>image.10.jpg</td>\n",
              "      <td>image.15.jpg</td>\n",
              "      <td>image.16.png</td>\n",
              "      <td>image.14.jpg</td>\n",
              "      <td>image.12.jpg</td>\n",
              "      <td>image.13.jpg</td>\n",
              "      <td>image.19.jpg</td>\n",
              "      <td>donkey</td>\n",
              "      <td>donkey card game</td>\n",
              "      <td>target</td>\n",
              "      <td>Donkey</td>\n",
              "      <td>Monkey is a common name that may refer to most...</td>\n",
              "    </tr>\n",
              "    <tr>\n",
              "      <th>2</th>\n",
              "      <td>colonna</td>\n",
              "      <td>colonna missione</td>\n",
              "      <td>image.22.jpg</td>\n",
              "      <td>image.24.jpg</td>\n",
              "      <td>image.28.jpg</td>\n",
              "      <td>image.27.jpg</td>\n",
              "      <td>image.25.jpg</td>\n",
              "      <td>image.26.jpg</td>\n",
              "      <td>image.20.jpg</td>\n",
              "      <td>image.21.jpg</td>\n",
              "      <td>image.23.jpg</td>\n",
              "      <td>image.29.jpg</td>\n",
              "      <td>colonna</td>\n",
              "      <td>mission column</td>\n",
              "      <td>target</td>\n",
              "      <td>Colonna family</td>\n",
              "      <td>The House of Colonna, also known as Sciarrillo...</td>\n",
              "    </tr>\n",
              "    <tr>\n",
              "      <th>3</th>\n",
              "      <td>box</td>\n",
              "      <td>box per infanti</td>\n",
              "      <td>image.33.jpg</td>\n",
              "      <td>image.32.jpg</td>\n",
              "      <td>image.37.jpg</td>\n",
              "      <td>image.38.jpg</td>\n",
              "      <td>image.35.jpg</td>\n",
              "      <td>image.34.jpg</td>\n",
              "      <td>image.31.jpg</td>\n",
              "      <td>image.39.jpg</td>\n",
              "      <td>image.30.jpg</td>\n",
              "      <td>image.36.jpg</td>\n",
              "      <td>box</td>\n",
              "      <td>Box for infants</td>\n",
              "      <td>target</td>\n",
              "      <td>Box</td>\n",
              "      <td>A box (plural: boxes) is a container used for ...</td>\n",
              "    </tr>\n",
              "    <tr>\n",
              "      <th>4</th>\n",
              "      <td>bolla</td>\n",
              "      <td>bolla di misurazione</td>\n",
              "      <td>image.48.jpg</td>\n",
              "      <td>image.44.jpg</td>\n",
              "      <td>image.41.jpg</td>\n",
              "      <td>image.46.jpg</td>\n",
              "      <td>image.47.jpg</td>\n",
              "      <td>image.42.jpg</td>\n",
              "      <td>image.40.jpg</td>\n",
              "      <td>image.45.jpg</td>\n",
              "      <td>image.43.PNG</td>\n",
              "      <td>image.49.jpg</td>\n",
              "      <td>bubble</td>\n",
              "      <td>measurement bubble</td>\n",
              "      <td>target</td>\n",
              "      <td>Bubble</td>\n",
              "      <td>The Bible (from Koine Greek τὰ βιβλία, tà bibl...</td>\n",
              "    </tr>\n",
              "  </tbody>\n",
              "</table>\n",
              "</div>\n",
              "      <button class=\"colab-df-convert\" onclick=\"convertToInteractive('df-467e6b81-3ce0-4b77-94e9-4f132e09a3f2')\"\n",
              "              title=\"Convert this dataframe to an interactive table.\"\n",
              "              style=\"display:none;\">\n",
              "        \n",
              "  <svg xmlns=\"http://www.w3.org/2000/svg\" height=\"24px\"viewBox=\"0 0 24 24\"\n",
              "       width=\"24px\">\n",
              "    <path d=\"M0 0h24v24H0V0z\" fill=\"none\"/>\n",
              "    <path d=\"M18.56 5.44l.94 2.06.94-2.06 2.06-.94-2.06-.94-.94-2.06-.94 2.06-2.06.94zm-11 1L8.5 8.5l.94-2.06 2.06-.94-2.06-.94L8.5 2.5l-.94 2.06-2.06.94zm10 10l.94 2.06.94-2.06 2.06-.94-2.06-.94-.94-2.06-.94 2.06-2.06.94z\"/><path d=\"M17.41 7.96l-1.37-1.37c-.4-.4-.92-.59-1.43-.59-.52 0-1.04.2-1.43.59L10.3 9.45l-7.72 7.72c-.78.78-.78 2.05 0 2.83L4 21.41c.39.39.9.59 1.41.59.51 0 1.02-.2 1.41-.59l7.78-7.78 2.81-2.81c.8-.78.8-2.07 0-2.86zM5.41 20L4 18.59l7.72-7.72 1.47 1.35L5.41 20z\"/>\n",
              "  </svg>\n",
              "      </button>\n",
              "      \n",
              "  <style>\n",
              "    .colab-df-container {\n",
              "      display:flex;\n",
              "      flex-wrap:wrap;\n",
              "      gap: 12px;\n",
              "    }\n",
              "\n",
              "    .colab-df-convert {\n",
              "      background-color: #E8F0FE;\n",
              "      border: none;\n",
              "      border-radius: 50%;\n",
              "      cursor: pointer;\n",
              "      display: none;\n",
              "      fill: #1967D2;\n",
              "      height: 32px;\n",
              "      padding: 0 0 0 0;\n",
              "      width: 32px;\n",
              "    }\n",
              "\n",
              "    .colab-df-convert:hover {\n",
              "      background-color: #E2EBFA;\n",
              "      box-shadow: 0px 1px 2px rgba(60, 64, 67, 0.3), 0px 1px 3px 1px rgba(60, 64, 67, 0.15);\n",
              "      fill: #174EA6;\n",
              "    }\n",
              "\n",
              "    [theme=dark] .colab-df-convert {\n",
              "      background-color: #3B4455;\n",
              "      fill: #D2E3FC;\n",
              "    }\n",
              "\n",
              "    [theme=dark] .colab-df-convert:hover {\n",
              "      background-color: #434B5C;\n",
              "      box-shadow: 0px 1px 3px 1px rgba(0, 0, 0, 0.15);\n",
              "      filter: drop-shadow(0px 1px 2px rgba(0, 0, 0, 0.3));\n",
              "      fill: #FFFFFF;\n",
              "    }\n",
              "  </style>\n",
              "\n",
              "      <script>\n",
              "        const buttonEl =\n",
              "          document.querySelector('#df-467e6b81-3ce0-4b77-94e9-4f132e09a3f2 button.colab-df-convert');\n",
              "        buttonEl.style.display =\n",
              "          google.colab.kernel.accessAllowed ? 'block' : 'none';\n",
              "\n",
              "        async function convertToInteractive(key) {\n",
              "          const element = document.querySelector('#df-467e6b81-3ce0-4b77-94e9-4f132e09a3f2');\n",
              "          const dataTable =\n",
              "            await google.colab.kernel.invokeFunction('convertToInteractive',\n",
              "                                                     [key], {});\n",
              "          if (!dataTable) return;\n",
              "\n",
              "          const docLinkHtml = 'Like what you see? Visit the ' +\n",
              "            '<a target=\"_blank\" href=https://colab.research.google.com/notebooks/data_table.ipynb>data table notebook</a>'\n",
              "            + ' to learn more about interactive tables.';\n",
              "          element.innerHTML = '';\n",
              "          dataTable['output_type'] = 'display_data';\n",
              "          await google.colab.output.renderOutput(dataTable, element);\n",
              "          const docLink = document.createElement('div');\n",
              "          docLink.innerHTML = docLinkHtml;\n",
              "          element.appendChild(docLink);\n",
              "        }\n",
              "      </script>\n",
              "    </div>\n",
              "  </div>\n",
              "  "
            ]
          },
          "metadata": {},
          "execution_count": 35
        }
      ]
    },
    {
      "cell_type": "code",
      "source": [
        "df.shape"
      ],
      "metadata": {
        "colab": {
          "base_uri": "https://localhost:8080/"
        },
        "outputId": "9b781164-36a4-400c-8d1e-0c6bcf70d6d1",
        "id": "U2v1__j_5z9r"
      },
      "execution_count": null,
      "outputs": [
        {
          "output_type": "execute_result",
          "data": {
            "text/plain": [
              "(305, 14)"
            ]
          },
          "metadata": {},
          "execution_count": 145
        }
      ]
    },
    {
      "cell_type": "code",
      "source": [
        "# plain phrases\n",
        "df['text_input'] = df['phrase_eng']"
      ],
      "metadata": {
        "id": "ZoXDSgzY5z9s"
      },
      "execution_count": null,
      "outputs": []
    },
    {
      "cell_type": "code",
      "source": [
        "# summaries\n",
        "df['summary_content'] = df['summary_content'].fillna('')\n",
        "df['text_input'] = df['phrase_eng'] + ' ' + df['summary_content']"
      ],
      "metadata": {
        "id": "H1bXbkkI5z9t"
      },
      "execution_count": 36,
      "outputs": []
    },
    {
      "cell_type": "code",
      "source": [
        "df.isna().sum()"
      ],
      "metadata": {
        "colab": {
          "base_uri": "https://localhost:8080/"
        },
        "outputId": "8d95e0d9-83b5-4fa3-c76a-187e0e2faf0d",
        "id": "mh8GUod95z9t"
      },
      "execution_count": 37,
      "outputs": [
        {
          "output_type": "execute_result",
          "data": {
            "text/plain": [
              "target_word        0\n",
              "phrase             0\n",
              "img_0              0\n",
              "img_1              0\n",
              "img_2              0\n",
              "img_3              0\n",
              "img_4              0\n",
              "img_5              0\n",
              "img_6              0\n",
              "img_7              0\n",
              "img_8              0\n",
              "img_9              0\n",
              "target_eng         0\n",
              "phrase_eng         0\n",
              "summary_source     0\n",
              "wiki_title         0\n",
              "summary_content    0\n",
              "text_input         0\n",
              "dtype: int64"
            ]
          },
          "metadata": {},
          "execution_count": 37
        }
      ]
    },
    {
      "cell_type": "markdown",
      "source": [
        "## Load model"
      ],
      "metadata": {
        "id": "c2SEdAxRpmJ6"
      }
    },
    {
      "cell_type": "code",
      "source": [
        "from transformers import BertTokenizer, VisualBertForPreTraining"
      ],
      "metadata": {
        "id": "Ft3EOnl6pyUM"
      },
      "execution_count": 7,
      "outputs": []
    },
    {
      "cell_type": "code",
      "source": [
        "model_name = 'visual_bert_6'"
      ],
      "metadata": {
        "id": "yVWmOtbN8rFN"
      },
      "execution_count": 8,
      "outputs": []
    },
    {
      "cell_type": "code",
      "source": [
        "del model"
      ],
      "metadata": {
        "id": "qUX-AV2sOdRM"
      },
      "execution_count": null,
      "outputs": []
    },
    {
      "cell_type": "code",
      "source": [
        "dir_path = f'/content/drive/MyDrive/UR/NLE Seminar/code/models/{model_name}/'\n",
        "model = VisualBertForPreTraining.from_pretrained(dir_path)\n",
        "model.to(device);"
      ],
      "metadata": {
        "id": "enGPPfaAplth"
      },
      "execution_count": 9,
      "outputs": []
    },
    {
      "cell_type": "markdown",
      "source": [
        "## Preprocess data"
      ],
      "metadata": {
        "id": "4Tux9Y5Eqz2P"
      }
    },
    {
      "cell_type": "markdown",
      "source": [
        "Get phrase - image pairs"
      ],
      "metadata": {
        "id": "GeB9qRUVs7n6"
      }
    },
    {
      "cell_type": "code",
      "source": [
        "test_df = []\n",
        "img_cols = ['img_' + str(i) for i in range(10)]\n",
        "\n",
        "for ind, row in df.iterrows():\n",
        "  for col in img_cols:\n",
        "    test_df.append((row['text_input'], \n",
        "                    row['phrase'], \n",
        "                    row[col]))\n",
        "test_df = pd.DataFrame(test_df, columns=['text', \n",
        "                                         'orig_phrase',\n",
        "                                         'image'])\n",
        "\n",
        "test_df.head()"
      ],
      "metadata": {
        "colab": {
          "base_uri": "https://localhost:8080/",
          "height": 206
        },
        "id": "p8zxwWCarFlj",
        "outputId": "57cfe86d-d764-41f9-fa82-39b37a952f73"
      },
      "execution_count": 38,
      "outputs": [
        {
          "output_type": "execute_result",
          "data": {
            "text/plain": [
              "                                                text           orig_phrase  \\\n",
              "0  rubber to remove In mathematics, the natural n...  gomma per smacchiare   \n",
              "1  rubber to remove In mathematics, the natural n...  gomma per smacchiare   \n",
              "2  rubber to remove In mathematics, the natural n...  gomma per smacchiare   \n",
              "3  rubber to remove In mathematics, the natural n...  gomma per smacchiare   \n",
              "4  rubber to remove In mathematics, the natural n...  gomma per smacchiare   \n",
              "\n",
              "         image  \n",
              "0  image.3.jpg  \n",
              "1  image.7.jpg  \n",
              "2  image.8.jpg  \n",
              "3  image.1.jpg  \n",
              "4  image.9.jpg  "
            ],
            "text/html": [
              "\n",
              "  <div id=\"df-f3d040aa-4203-444b-853d-882f616c48b8\">\n",
              "    <div class=\"colab-df-container\">\n",
              "      <div>\n",
              "<style scoped>\n",
              "    .dataframe tbody tr th:only-of-type {\n",
              "        vertical-align: middle;\n",
              "    }\n",
              "\n",
              "    .dataframe tbody tr th {\n",
              "        vertical-align: top;\n",
              "    }\n",
              "\n",
              "    .dataframe thead th {\n",
              "        text-align: right;\n",
              "    }\n",
              "</style>\n",
              "<table border=\"1\" class=\"dataframe\">\n",
              "  <thead>\n",
              "    <tr style=\"text-align: right;\">\n",
              "      <th></th>\n",
              "      <th>text</th>\n",
              "      <th>orig_phrase</th>\n",
              "      <th>image</th>\n",
              "    </tr>\n",
              "  </thead>\n",
              "  <tbody>\n",
              "    <tr>\n",
              "      <th>0</th>\n",
              "      <td>rubber to remove In mathematics, the natural n...</td>\n",
              "      <td>gomma per smacchiare</td>\n",
              "      <td>image.3.jpg</td>\n",
              "    </tr>\n",
              "    <tr>\n",
              "      <th>1</th>\n",
              "      <td>rubber to remove In mathematics, the natural n...</td>\n",
              "      <td>gomma per smacchiare</td>\n",
              "      <td>image.7.jpg</td>\n",
              "    </tr>\n",
              "    <tr>\n",
              "      <th>2</th>\n",
              "      <td>rubber to remove In mathematics, the natural n...</td>\n",
              "      <td>gomma per smacchiare</td>\n",
              "      <td>image.8.jpg</td>\n",
              "    </tr>\n",
              "    <tr>\n",
              "      <th>3</th>\n",
              "      <td>rubber to remove In mathematics, the natural n...</td>\n",
              "      <td>gomma per smacchiare</td>\n",
              "      <td>image.1.jpg</td>\n",
              "    </tr>\n",
              "    <tr>\n",
              "      <th>4</th>\n",
              "      <td>rubber to remove In mathematics, the natural n...</td>\n",
              "      <td>gomma per smacchiare</td>\n",
              "      <td>image.9.jpg</td>\n",
              "    </tr>\n",
              "  </tbody>\n",
              "</table>\n",
              "</div>\n",
              "      <button class=\"colab-df-convert\" onclick=\"convertToInteractive('df-f3d040aa-4203-444b-853d-882f616c48b8')\"\n",
              "              title=\"Convert this dataframe to an interactive table.\"\n",
              "              style=\"display:none;\">\n",
              "        \n",
              "  <svg xmlns=\"http://www.w3.org/2000/svg\" height=\"24px\"viewBox=\"0 0 24 24\"\n",
              "       width=\"24px\">\n",
              "    <path d=\"M0 0h24v24H0V0z\" fill=\"none\"/>\n",
              "    <path d=\"M18.56 5.44l.94 2.06.94-2.06 2.06-.94-2.06-.94-.94-2.06-.94 2.06-2.06.94zm-11 1L8.5 8.5l.94-2.06 2.06-.94-2.06-.94L8.5 2.5l-.94 2.06-2.06.94zm10 10l.94 2.06.94-2.06 2.06-.94-2.06-.94-.94-2.06-.94 2.06-2.06.94z\"/><path d=\"M17.41 7.96l-1.37-1.37c-.4-.4-.92-.59-1.43-.59-.52 0-1.04.2-1.43.59L10.3 9.45l-7.72 7.72c-.78.78-.78 2.05 0 2.83L4 21.41c.39.39.9.59 1.41.59.51 0 1.02-.2 1.41-.59l7.78-7.78 2.81-2.81c.8-.78.8-2.07 0-2.86zM5.41 20L4 18.59l7.72-7.72 1.47 1.35L5.41 20z\"/>\n",
              "  </svg>\n",
              "      </button>\n",
              "      \n",
              "  <style>\n",
              "    .colab-df-container {\n",
              "      display:flex;\n",
              "      flex-wrap:wrap;\n",
              "      gap: 12px;\n",
              "    }\n",
              "\n",
              "    .colab-df-convert {\n",
              "      background-color: #E8F0FE;\n",
              "      border: none;\n",
              "      border-radius: 50%;\n",
              "      cursor: pointer;\n",
              "      display: none;\n",
              "      fill: #1967D2;\n",
              "      height: 32px;\n",
              "      padding: 0 0 0 0;\n",
              "      width: 32px;\n",
              "    }\n",
              "\n",
              "    .colab-df-convert:hover {\n",
              "      background-color: #E2EBFA;\n",
              "      box-shadow: 0px 1px 2px rgba(60, 64, 67, 0.3), 0px 1px 3px 1px rgba(60, 64, 67, 0.15);\n",
              "      fill: #174EA6;\n",
              "    }\n",
              "\n",
              "    [theme=dark] .colab-df-convert {\n",
              "      background-color: #3B4455;\n",
              "      fill: #D2E3FC;\n",
              "    }\n",
              "\n",
              "    [theme=dark] .colab-df-convert:hover {\n",
              "      background-color: #434B5C;\n",
              "      box-shadow: 0px 1px 3px 1px rgba(0, 0, 0, 0.15);\n",
              "      filter: drop-shadow(0px 1px 2px rgba(0, 0, 0, 0.3));\n",
              "      fill: #FFFFFF;\n",
              "    }\n",
              "  </style>\n",
              "\n",
              "      <script>\n",
              "        const buttonEl =\n",
              "          document.querySelector('#df-f3d040aa-4203-444b-853d-882f616c48b8 button.colab-df-convert');\n",
              "        buttonEl.style.display =\n",
              "          google.colab.kernel.accessAllowed ? 'block' : 'none';\n",
              "\n",
              "        async function convertToInteractive(key) {\n",
              "          const element = document.querySelector('#df-f3d040aa-4203-444b-853d-882f616c48b8');\n",
              "          const dataTable =\n",
              "            await google.colab.kernel.invokeFunction('convertToInteractive',\n",
              "                                                     [key], {});\n",
              "          if (!dataTable) return;\n",
              "\n",
              "          const docLinkHtml = 'Like what you see? Visit the ' +\n",
              "            '<a target=\"_blank\" href=https://colab.research.google.com/notebooks/data_table.ipynb>data table notebook</a>'\n",
              "            + ' to learn more about interactive tables.';\n",
              "          element.innerHTML = '';\n",
              "          dataTable['output_type'] = 'display_data';\n",
              "          await google.colab.output.renderOutput(dataTable, element);\n",
              "          const docLink = document.createElement('div');\n",
              "          docLink.innerHTML = docLinkHtml;\n",
              "          element.appendChild(docLink);\n",
              "        }\n",
              "      </script>\n",
              "    </div>\n",
              "  </div>\n",
              "  "
            ]
          },
          "metadata": {},
          "execution_count": 38
        }
      ]
    },
    {
      "cell_type": "code",
      "source": [
        "test_df.shape"
      ],
      "metadata": {
        "colab": {
          "base_uri": "https://localhost:8080/"
        },
        "id": "dYowL1OsEttS",
        "outputId": "af243722-1927-40c9-9266-0de7d7aaa717"
      },
      "execution_count": 31,
      "outputs": [
        {
          "output_type": "execute_result",
          "data": {
            "text/plain": [
              "(4630, 3)"
            ]
          },
          "metadata": {},
          "execution_count": 31
        }
      ]
    },
    {
      "cell_type": "markdown",
      "source": [
        "Do BERT encoding"
      ],
      "metadata": {
        "id": "IOjNYcZAs_-H"
      }
    },
    {
      "cell_type": "code",
      "source": [
        "test_input = bert_encode(test_df['text'].to_list(), max_length=200)\n",
        "test_input = {'input_ids': test_input[0], \n",
        "               'attention_masks': test_input[1], \n",
        "               'token_type_ids': test_input[2]\n",
        "               }\n",
        "test_input.update({'img_filenames': test_df['image'].to_list()})"
      ],
      "metadata": {
        "colab": {
          "base_uri": "https://localhost:8080/"
        },
        "id": "06F41tPNfAPc",
        "outputId": "85c1ef2a-d73e-439f-8063-96d51b762e63"
      },
      "execution_count": 39,
      "outputs": [
        {
          "output_type": "stream",
          "name": "stderr",
          "text": [
            "100%|██████████| 3050/3050 [00:16<00:00, 190.30it/s]\n"
          ]
        }
      ]
    },
    {
      "cell_type": "markdown",
      "source": [
        "Define dataset class without sentence-image labels"
      ],
      "metadata": {
        "id": "FissvvXEtCHp"
      }
    },
    {
      "cell_type": "code",
      "source": [
        "from torch.utils.data import IterableDataset\n",
        "from torch.utils.data import DataLoader\n",
        "from itertools import cycle, islice, chain"
      ],
      "metadata": {
        "id": "kCP-iiIYs2R0"
      },
      "execution_count": 16,
      "outputs": []
    },
    {
      "cell_type": "code",
      "source": [
        "class VWSDDataset(IterableDataset):\n",
        "  def __init__(self, data_input, vis_emb_dir):\n",
        "    self.data_input = data_input\n",
        "    self.data_size = data_input['input_ids'].shape[0]\n",
        "    self.vis_emb_dir = vis_emb_dir\n",
        "\n",
        "  def parse_vis_emb_file(self, file_path):\n",
        "    vis_emb = pd.read_csv(file_path, index_col=0)\n",
        "    vis_emb = torch.tensor(vis_emb.to_numpy()).float()\n",
        "    return vis_emb\n",
        "\n",
        "  def get_vis_emb_filename(self, filename):\n",
        "    filename = filename.split('.')\n",
        "    filename = '.'.join(filename[:len(filename) - 1])\n",
        "    filename = f'{self.vis_emb_dir}{filename}_visual_emb.csv'\n",
        "    return filename\n",
        "\n",
        "  def process_data(self):\n",
        "    for ind in range(self.data_size):\n",
        "      this_input_ids = self.data_input['input_ids'][ind].detach()\n",
        "      this_attention_mask = self.data_input['attention_masks'][ind].detach()\n",
        "      this_token_type_ids = self.data_input['token_type_ids'][ind].detach()\n",
        "\n",
        "      vis_emb_filename = self.get_vis_emb_filename(self.data_input['img_filenames'][ind])\n",
        "      visual_emb = self.parse_vis_emb_file(vis_emb_filename)\n",
        "      visual_attention_mask = torch.ones(visual_emb.shape[:-1], dtype=torch.long)\n",
        "      visual_token_type_ids = torch.ones(visual_emb.shape[:-1], dtype=torch.long)\n",
        "\n",
        "      yield this_input_ids, this_attention_mask, this_token_type_ids, \\\n",
        "        visual_emb, visual_attention_mask, visual_token_type_ids\n",
        "\n",
        "  def __iter__(self):\n",
        "    return cycle(self.process_data())\n",
        "\n",
        "  def __len__(self):\n",
        "    return self.data_size"
      ],
      "metadata": {
        "id": "JvyU8UIXs2R1"
      },
      "execution_count": 17,
      "outputs": []
    },
    {
      "cell_type": "markdown",
      "source": [
        "Initialize dataset and dataloader"
      ],
      "metadata": {
        "id": "Y_rqsefOtIRu"
      }
    },
    {
      "cell_type": "code",
      "source": [
        "vis_emb_dir = '/content/drive/MyDrive/UR/NLE Seminar/code/visual_embeddings/visual_embeddings_test/'\n",
        "batch_size = 32  # recommended 16 or 32\n",
        "\n",
        "test_dataset = VWSDDataset(test_input, vis_emb_dir=vis_emb_dir)\n",
        "test_dataloader = DataLoader(\n",
        "            test_dataset,  \n",
        "            batch_size = batch_size\n",
        "        )"
      ],
      "metadata": {
        "id": "dn1R_Z4_qkmr"
      },
      "execution_count": 40,
      "outputs": []
    },
    {
      "cell_type": "markdown",
      "source": [
        "## Get predictions"
      ],
      "metadata": {
        "id": "LhT9zQ21qaL0"
      }
    },
    {
      "cell_type": "code",
      "source": [
        "# del b_sentence_image_labels\n",
        "del df\n",
        "# del label_ids\n",
        "del predictions\n",
        "del predictions_df\n",
        "del gold_ranking, texts\n",
        "del row\n",
        "del test_input\n",
        "# del tokenizer\n",
        "# del true_labels\n",
        "# del val_dataset, val_df, val_input, validation_dataloader\n",
        "# del train_dataset, train_dataloader"
      ],
      "metadata": {
        "id": "vEhV679MZFm5"
      },
      "execution_count": null,
      "outputs": []
    },
    {
      "cell_type": "code",
      "source": [
        "model.eval()\n",
        "\n",
        "predictions = []\n",
        "\n",
        "for ind, batch in tqdm(enumerate(islice(test_dataloader, len(test_dataloader))), \n",
        "                       total=len(test_dataloader)):\n",
        "  batch = tuple(t.to(device) for t in batch)\n",
        "  \n",
        "  b_input_ids = batch[0].to(device)\n",
        "  b_attention_mask = batch[1].to(device)\n",
        "  b_token_type_ids = batch[2].to(device)\n",
        "  b_visual_emb = batch[3].to(device)\n",
        "  b_visual_attention_mask = batch[4].to(device)\n",
        "  b_visual_token_type_ids = batch[5].to(device)\n",
        "  b_labels = torch.ones((batch_size, \n",
        "                         b_attention_mask.size(-1) + b_visual_attention_mask.size(-1)), \n",
        "                         dtype=torch.long).to(device)\n",
        "\n",
        "  with torch.no_grad():\n",
        "    result = model(input_ids=b_input_ids, \n",
        "                       token_type_ids=b_token_type_ids, \n",
        "                       attention_mask=b_attention_mask, \n",
        "                       visual_embeds=b_visual_emb, \n",
        "                       visual_attention_mask=b_visual_attention_mask, \n",
        "                       visual_token_type_ids=b_visual_token_type_ids,\n",
        "                       labels=b_labels,\n",
        "                       return_dict=True)\n",
        "\n",
        "    logits = result.seq_relationship_logits\n",
        "    logits = logits.detach().cpu().numpy()\n",
        "    predictions.append(logits)\n",
        "\n",
        "    del result\n",
        "    del b_input_ids\n",
        "    del b_attention_mask\n",
        "    del b_token_type_ids\n",
        "    del b_visual_emb\n",
        "    del b_visual_attention_mask\n",
        "    del b_visual_token_type_ids\n",
        "    del b_labels\n",
        "    del batch\n",
        "\n",
        "  # break"
      ],
      "metadata": {
        "colab": {
          "base_uri": "https://localhost:8080/"
        },
        "id": "g0ZGMyyiqiCd",
        "outputId": "9d43c9e8-f907-4b83-9528-936af4820c0d"
      },
      "execution_count": 41,
      "outputs": [
        {
          "output_type": "stream",
          "name": "stderr",
          "text": [
            "100%|██████████| 96/96 [20:27<00:00, 12.79s/it]\n"
          ]
        }
      ]
    },
    {
      "cell_type": "code",
      "source": [
        "len(predictions)"
      ],
      "metadata": {
        "colab": {
          "base_uri": "https://localhost:8080/"
        },
        "id": "4Yvj488idJ4j",
        "outputId": "9b931011-4896-4284-bfdb-0e489f6b9b75"
      },
      "execution_count": null,
      "outputs": [
        {
          "output_type": "execute_result",
          "data": {
            "text/plain": [
              "2016"
            ]
          },
          "metadata": {},
          "execution_count": 88
        }
      ]
    },
    {
      "cell_type": "code",
      "source": [
        "import numpy as np"
      ],
      "metadata": {
        "id": "I-Yf0aVhnukB"
      },
      "execution_count": 20,
      "outputs": []
    },
    {
      "cell_type": "code",
      "source": [
        "predictions = np.array(predictions)\n",
        "predictions.shape"
      ],
      "metadata": {
        "colab": {
          "base_uri": "https://localhost:8080/"
        },
        "id": "ADMcF1BkfXwp",
        "outputId": "6be5fee3-f382-4539-a3e8-ab0b8eabbba9"
      },
      "execution_count": 42,
      "outputs": [
        {
          "output_type": "execute_result",
          "data": {
            "text/plain": [
              "(96, 32, 2)"
            ]
          },
          "metadata": {},
          "execution_count": 42
        }
      ]
    },
    {
      "cell_type": "code",
      "source": [
        "predictions = predictions.reshape(predictions.shape[0] * batch_size, 2)\n",
        "predictions.shape"
      ],
      "metadata": {
        "colab": {
          "base_uri": "https://localhost:8080/"
        },
        "id": "-_sXJjKLfUnp",
        "outputId": "1fc98e6d-1879-49e6-99e9-a79dfefb89ce"
      },
      "execution_count": 43,
      "outputs": [
        {
          "output_type": "execute_result",
          "data": {
            "text/plain": [
              "(3072, 2)"
            ]
          },
          "metadata": {},
          "execution_count": 43
        }
      ]
    },
    {
      "cell_type": "code",
      "source": [
        "predictions_df = pd.DataFrame(predictions, columns=['True', 'False'])\n",
        "predictions_df.head()"
      ],
      "metadata": {
        "colab": {
          "base_uri": "https://localhost:8080/",
          "height": 206
        },
        "id": "gSNRYOoWfgPM",
        "outputId": "eceb0b94-dd4a-41b6-ce3e-fb3258bb8d14"
      },
      "execution_count": 44,
      "outputs": [
        {
          "output_type": "execute_result",
          "data": {
            "text/plain": [
              "       True     False\n",
              "0 -0.393628 -0.122322\n",
              "1 -0.845465  0.871807\n",
              "2 -0.773296  0.536349\n",
              "3 -0.828886  0.842006\n",
              "4 -0.601288  0.200237"
            ],
            "text/html": [
              "\n",
              "  <div id=\"df-96f8fcc4-782f-4de8-b309-45e936e7fba3\">\n",
              "    <div class=\"colab-df-container\">\n",
              "      <div>\n",
              "<style scoped>\n",
              "    .dataframe tbody tr th:only-of-type {\n",
              "        vertical-align: middle;\n",
              "    }\n",
              "\n",
              "    .dataframe tbody tr th {\n",
              "        vertical-align: top;\n",
              "    }\n",
              "\n",
              "    .dataframe thead th {\n",
              "        text-align: right;\n",
              "    }\n",
              "</style>\n",
              "<table border=\"1\" class=\"dataframe\">\n",
              "  <thead>\n",
              "    <tr style=\"text-align: right;\">\n",
              "      <th></th>\n",
              "      <th>True</th>\n",
              "      <th>False</th>\n",
              "    </tr>\n",
              "  </thead>\n",
              "  <tbody>\n",
              "    <tr>\n",
              "      <th>0</th>\n",
              "      <td>-0.393628</td>\n",
              "      <td>-0.122322</td>\n",
              "    </tr>\n",
              "    <tr>\n",
              "      <th>1</th>\n",
              "      <td>-0.845465</td>\n",
              "      <td>0.871807</td>\n",
              "    </tr>\n",
              "    <tr>\n",
              "      <th>2</th>\n",
              "      <td>-0.773296</td>\n",
              "      <td>0.536349</td>\n",
              "    </tr>\n",
              "    <tr>\n",
              "      <th>3</th>\n",
              "      <td>-0.828886</td>\n",
              "      <td>0.842006</td>\n",
              "    </tr>\n",
              "    <tr>\n",
              "      <th>4</th>\n",
              "      <td>-0.601288</td>\n",
              "      <td>0.200237</td>\n",
              "    </tr>\n",
              "  </tbody>\n",
              "</table>\n",
              "</div>\n",
              "      <button class=\"colab-df-convert\" onclick=\"convertToInteractive('df-96f8fcc4-782f-4de8-b309-45e936e7fba3')\"\n",
              "              title=\"Convert this dataframe to an interactive table.\"\n",
              "              style=\"display:none;\">\n",
              "        \n",
              "  <svg xmlns=\"http://www.w3.org/2000/svg\" height=\"24px\"viewBox=\"0 0 24 24\"\n",
              "       width=\"24px\">\n",
              "    <path d=\"M0 0h24v24H0V0z\" fill=\"none\"/>\n",
              "    <path d=\"M18.56 5.44l.94 2.06.94-2.06 2.06-.94-2.06-.94-.94-2.06-.94 2.06-2.06.94zm-11 1L8.5 8.5l.94-2.06 2.06-.94-2.06-.94L8.5 2.5l-.94 2.06-2.06.94zm10 10l.94 2.06.94-2.06 2.06-.94-2.06-.94-.94-2.06-.94 2.06-2.06.94z\"/><path d=\"M17.41 7.96l-1.37-1.37c-.4-.4-.92-.59-1.43-.59-.52 0-1.04.2-1.43.59L10.3 9.45l-7.72 7.72c-.78.78-.78 2.05 0 2.83L4 21.41c.39.39.9.59 1.41.59.51 0 1.02-.2 1.41-.59l7.78-7.78 2.81-2.81c.8-.78.8-2.07 0-2.86zM5.41 20L4 18.59l7.72-7.72 1.47 1.35L5.41 20z\"/>\n",
              "  </svg>\n",
              "      </button>\n",
              "      \n",
              "  <style>\n",
              "    .colab-df-container {\n",
              "      display:flex;\n",
              "      flex-wrap:wrap;\n",
              "      gap: 12px;\n",
              "    }\n",
              "\n",
              "    .colab-df-convert {\n",
              "      background-color: #E8F0FE;\n",
              "      border: none;\n",
              "      border-radius: 50%;\n",
              "      cursor: pointer;\n",
              "      display: none;\n",
              "      fill: #1967D2;\n",
              "      height: 32px;\n",
              "      padding: 0 0 0 0;\n",
              "      width: 32px;\n",
              "    }\n",
              "\n",
              "    .colab-df-convert:hover {\n",
              "      background-color: #E2EBFA;\n",
              "      box-shadow: 0px 1px 2px rgba(60, 64, 67, 0.3), 0px 1px 3px 1px rgba(60, 64, 67, 0.15);\n",
              "      fill: #174EA6;\n",
              "    }\n",
              "\n",
              "    [theme=dark] .colab-df-convert {\n",
              "      background-color: #3B4455;\n",
              "      fill: #D2E3FC;\n",
              "    }\n",
              "\n",
              "    [theme=dark] .colab-df-convert:hover {\n",
              "      background-color: #434B5C;\n",
              "      box-shadow: 0px 1px 3px 1px rgba(0, 0, 0, 0.15);\n",
              "      filter: drop-shadow(0px 1px 2px rgba(0, 0, 0, 0.3));\n",
              "      fill: #FFFFFF;\n",
              "    }\n",
              "  </style>\n",
              "\n",
              "      <script>\n",
              "        const buttonEl =\n",
              "          document.querySelector('#df-96f8fcc4-782f-4de8-b309-45e936e7fba3 button.colab-df-convert');\n",
              "        buttonEl.style.display =\n",
              "          google.colab.kernel.accessAllowed ? 'block' : 'none';\n",
              "\n",
              "        async function convertToInteractive(key) {\n",
              "          const element = document.querySelector('#df-96f8fcc4-782f-4de8-b309-45e936e7fba3');\n",
              "          const dataTable =\n",
              "            await google.colab.kernel.invokeFunction('convertToInteractive',\n",
              "                                                     [key], {});\n",
              "          if (!dataTable) return;\n",
              "\n",
              "          const docLinkHtml = 'Like what you see? Visit the ' +\n",
              "            '<a target=\"_blank\" href=https://colab.research.google.com/notebooks/data_table.ipynb>data table notebook</a>'\n",
              "            + ' to learn more about interactive tables.';\n",
              "          element.innerHTML = '';\n",
              "          dataTable['output_type'] = 'display_data';\n",
              "          await google.colab.output.renderOutput(dataTable, element);\n",
              "          const docLink = document.createElement('div');\n",
              "          docLink.innerHTML = docLinkHtml;\n",
              "          element.appendChild(docLink);\n",
              "        }\n",
              "      </script>\n",
              "    </div>\n",
              "  </div>\n",
              "  "
            ]
          },
          "metadata": {},
          "execution_count": 44
        }
      ]
    },
    {
      "cell_type": "code",
      "source": [
        "predictions_df.isna().sum()"
      ],
      "metadata": {
        "colab": {
          "base_uri": "https://localhost:8080/"
        },
        "id": "u9BjlDpioUQq",
        "outputId": "baaa3138-79c4-4546-bcf0-599d5c90dbad"
      },
      "execution_count": null,
      "outputs": [
        {
          "output_type": "execute_result",
          "data": {
            "text/plain": [
              "True     0\n",
              "False    0\n",
              "dtype: int64"
            ]
          },
          "metadata": {},
          "execution_count": 49
        }
      ]
    },
    {
      "cell_type": "code",
      "source": [
        "import os\n",
        "os.makedirs(f'/content/drive/MyDrive/UR/NLE Seminar/code/predictions/{model_name}', exist_ok=True)\n",
        "predictions_df.to_csv(\n",
        "    f'/content/drive/MyDrive/UR/NLE Seminar/code/predictions/{model_name}/predictions_df_{lang}.csv'\n",
        "    )"
      ],
      "metadata": {
        "id": "Lsf0y492oBHE"
      },
      "execution_count": 45,
      "outputs": []
    },
    {
      "cell_type": "markdown",
      "source": [
        "## Format predictions for submitting"
      ],
      "metadata": {
        "id": "KUKR7PJEzXkA"
      }
    },
    {
      "cell_type": "code",
      "source": [
        "import pandas as pd"
      ],
      "metadata": {
        "id": "wTUvZPxScAOy"
      },
      "execution_count": 43,
      "outputs": []
    },
    {
      "cell_type": "code",
      "source": [
        "predictions_df = pd.read_csv(\n",
        "    f'/content/drive/MyDrive/UR/NLE Seminar/code/predictions/{model_name}/predictions_df_{lang}.csv',\n",
        "    index_col=0)\n",
        "predictions_df = predictions_df.head(test_df.shape[0])  # because of dataloader cycling\n",
        "predictions_df.head()"
      ],
      "metadata": {
        "colab": {
          "base_uri": "https://localhost:8080/",
          "height": 206
        },
        "id": "TsVr-uyyzavR",
        "outputId": "d7745e03-55a7-4078-dc4c-680ee013bfa3"
      },
      "execution_count": 46,
      "outputs": [
        {
          "output_type": "execute_result",
          "data": {
            "text/plain": [
              "       True     False\n",
              "0 -0.393628 -0.122322\n",
              "1 -0.845465  0.871807\n",
              "2 -0.773296  0.536349\n",
              "3 -0.828886  0.842006\n",
              "4 -0.601288  0.200237"
            ],
            "text/html": [
              "\n",
              "  <div id=\"df-0a84edf6-42d4-435e-8be9-1bdacd8ada4d\">\n",
              "    <div class=\"colab-df-container\">\n",
              "      <div>\n",
              "<style scoped>\n",
              "    .dataframe tbody tr th:only-of-type {\n",
              "        vertical-align: middle;\n",
              "    }\n",
              "\n",
              "    .dataframe tbody tr th {\n",
              "        vertical-align: top;\n",
              "    }\n",
              "\n",
              "    .dataframe thead th {\n",
              "        text-align: right;\n",
              "    }\n",
              "</style>\n",
              "<table border=\"1\" class=\"dataframe\">\n",
              "  <thead>\n",
              "    <tr style=\"text-align: right;\">\n",
              "      <th></th>\n",
              "      <th>True</th>\n",
              "      <th>False</th>\n",
              "    </tr>\n",
              "  </thead>\n",
              "  <tbody>\n",
              "    <tr>\n",
              "      <th>0</th>\n",
              "      <td>-0.393628</td>\n",
              "      <td>-0.122322</td>\n",
              "    </tr>\n",
              "    <tr>\n",
              "      <th>1</th>\n",
              "      <td>-0.845465</td>\n",
              "      <td>0.871807</td>\n",
              "    </tr>\n",
              "    <tr>\n",
              "      <th>2</th>\n",
              "      <td>-0.773296</td>\n",
              "      <td>0.536349</td>\n",
              "    </tr>\n",
              "    <tr>\n",
              "      <th>3</th>\n",
              "      <td>-0.828886</td>\n",
              "      <td>0.842006</td>\n",
              "    </tr>\n",
              "    <tr>\n",
              "      <th>4</th>\n",
              "      <td>-0.601288</td>\n",
              "      <td>0.200237</td>\n",
              "    </tr>\n",
              "  </tbody>\n",
              "</table>\n",
              "</div>\n",
              "      <button class=\"colab-df-convert\" onclick=\"convertToInteractive('df-0a84edf6-42d4-435e-8be9-1bdacd8ada4d')\"\n",
              "              title=\"Convert this dataframe to an interactive table.\"\n",
              "              style=\"display:none;\">\n",
              "        \n",
              "  <svg xmlns=\"http://www.w3.org/2000/svg\" height=\"24px\"viewBox=\"0 0 24 24\"\n",
              "       width=\"24px\">\n",
              "    <path d=\"M0 0h24v24H0V0z\" fill=\"none\"/>\n",
              "    <path d=\"M18.56 5.44l.94 2.06.94-2.06 2.06-.94-2.06-.94-.94-2.06-.94 2.06-2.06.94zm-11 1L8.5 8.5l.94-2.06 2.06-.94-2.06-.94L8.5 2.5l-.94 2.06-2.06.94zm10 10l.94 2.06.94-2.06 2.06-.94-2.06-.94-.94-2.06-.94 2.06-2.06.94z\"/><path d=\"M17.41 7.96l-1.37-1.37c-.4-.4-.92-.59-1.43-.59-.52 0-1.04.2-1.43.59L10.3 9.45l-7.72 7.72c-.78.78-.78 2.05 0 2.83L4 21.41c.39.39.9.59 1.41.59.51 0 1.02-.2 1.41-.59l7.78-7.78 2.81-2.81c.8-.78.8-2.07 0-2.86zM5.41 20L4 18.59l7.72-7.72 1.47 1.35L5.41 20z\"/>\n",
              "  </svg>\n",
              "      </button>\n",
              "      \n",
              "  <style>\n",
              "    .colab-df-container {\n",
              "      display:flex;\n",
              "      flex-wrap:wrap;\n",
              "      gap: 12px;\n",
              "    }\n",
              "\n",
              "    .colab-df-convert {\n",
              "      background-color: #E8F0FE;\n",
              "      border: none;\n",
              "      border-radius: 50%;\n",
              "      cursor: pointer;\n",
              "      display: none;\n",
              "      fill: #1967D2;\n",
              "      height: 32px;\n",
              "      padding: 0 0 0 0;\n",
              "      width: 32px;\n",
              "    }\n",
              "\n",
              "    .colab-df-convert:hover {\n",
              "      background-color: #E2EBFA;\n",
              "      box-shadow: 0px 1px 2px rgba(60, 64, 67, 0.3), 0px 1px 3px 1px rgba(60, 64, 67, 0.15);\n",
              "      fill: #174EA6;\n",
              "    }\n",
              "\n",
              "    [theme=dark] .colab-df-convert {\n",
              "      background-color: #3B4455;\n",
              "      fill: #D2E3FC;\n",
              "    }\n",
              "\n",
              "    [theme=dark] .colab-df-convert:hover {\n",
              "      background-color: #434B5C;\n",
              "      box-shadow: 0px 1px 3px 1px rgba(0, 0, 0, 0.15);\n",
              "      filter: drop-shadow(0px 1px 2px rgba(0, 0, 0, 0.3));\n",
              "      fill: #FFFFFF;\n",
              "    }\n",
              "  </style>\n",
              "\n",
              "      <script>\n",
              "        const buttonEl =\n",
              "          document.querySelector('#df-0a84edf6-42d4-435e-8be9-1bdacd8ada4d button.colab-df-convert');\n",
              "        buttonEl.style.display =\n",
              "          google.colab.kernel.accessAllowed ? 'block' : 'none';\n",
              "\n",
              "        async function convertToInteractive(key) {\n",
              "          const element = document.querySelector('#df-0a84edf6-42d4-435e-8be9-1bdacd8ada4d');\n",
              "          const dataTable =\n",
              "            await google.colab.kernel.invokeFunction('convertToInteractive',\n",
              "                                                     [key], {});\n",
              "          if (!dataTable) return;\n",
              "\n",
              "          const docLinkHtml = 'Like what you see? Visit the ' +\n",
              "            '<a target=\"_blank\" href=https://colab.research.google.com/notebooks/data_table.ipynb>data table notebook</a>'\n",
              "            + ' to learn more about interactive tables.';\n",
              "          element.innerHTML = '';\n",
              "          dataTable['output_type'] = 'display_data';\n",
              "          await google.colab.output.renderOutput(dataTable, element);\n",
              "          const docLink = document.createElement('div');\n",
              "          docLink.innerHTML = docLinkHtml;\n",
              "          element.appendChild(docLink);\n",
              "        }\n",
              "      </script>\n",
              "    </div>\n",
              "  </div>\n",
              "  "
            ]
          },
          "metadata": {},
          "execution_count": 46
        }
      ]
    },
    {
      "cell_type": "code",
      "source": [
        "predictions_df.shape"
      ],
      "metadata": {
        "colab": {
          "base_uri": "https://localhost:8080/"
        },
        "id": "1FInOeL_zqyr",
        "outputId": "08854993-9386-4fc1-fe5c-6f2be8aeb887"
      },
      "execution_count": null,
      "outputs": [
        {
          "output_type": "execute_result",
          "data": {
            "text/plain": [
              "(2000, 2)"
            ]
          },
          "metadata": {},
          "execution_count": 92
        }
      ]
    },
    {
      "cell_type": "code",
      "source": [
        "test_df['pred_true'] = pd.Series(predictions_df['True'].to_list())\n",
        "test_df['pred_false'] = pd.Series(predictions_df['False'].to_list())\n",
        "test_df['certainty'] = test_df['pred_true'] - test_df['pred_false']\n",
        "test_df.head()"
      ],
      "metadata": {
        "colab": {
          "base_uri": "https://localhost:8080/",
          "height": 250
        },
        "id": "6emYm83r0iwD",
        "outputId": "ef94525d-58a5-4835-861b-af7754a21fcf"
      },
      "execution_count": 47,
      "outputs": [
        {
          "output_type": "execute_result",
          "data": {
            "text/plain": [
              "                                                text           orig_phrase  \\\n",
              "0  rubber to remove In mathematics, the natural n...  gomma per smacchiare   \n",
              "1  rubber to remove In mathematics, the natural n...  gomma per smacchiare   \n",
              "2  rubber to remove In mathematics, the natural n...  gomma per smacchiare   \n",
              "3  rubber to remove In mathematics, the natural n...  gomma per smacchiare   \n",
              "4  rubber to remove In mathematics, the natural n...  gomma per smacchiare   \n",
              "\n",
              "         image  pred_true  pred_false  certainty  \n",
              "0  image.3.jpg  -0.393628   -0.122322  -0.271306  \n",
              "1  image.7.jpg  -0.845465    0.871807  -1.717272  \n",
              "2  image.8.jpg  -0.773296    0.536349  -1.309645  \n",
              "3  image.1.jpg  -0.828886    0.842006  -1.670892  \n",
              "4  image.9.jpg  -0.601288    0.200237  -0.801525  "
            ],
            "text/html": [
              "\n",
              "  <div id=\"df-ebb77022-6455-4a07-80b1-dde10911fc89\">\n",
              "    <div class=\"colab-df-container\">\n",
              "      <div>\n",
              "<style scoped>\n",
              "    .dataframe tbody tr th:only-of-type {\n",
              "        vertical-align: middle;\n",
              "    }\n",
              "\n",
              "    .dataframe tbody tr th {\n",
              "        vertical-align: top;\n",
              "    }\n",
              "\n",
              "    .dataframe thead th {\n",
              "        text-align: right;\n",
              "    }\n",
              "</style>\n",
              "<table border=\"1\" class=\"dataframe\">\n",
              "  <thead>\n",
              "    <tr style=\"text-align: right;\">\n",
              "      <th></th>\n",
              "      <th>text</th>\n",
              "      <th>orig_phrase</th>\n",
              "      <th>image</th>\n",
              "      <th>pred_true</th>\n",
              "      <th>pred_false</th>\n",
              "      <th>certainty</th>\n",
              "    </tr>\n",
              "  </thead>\n",
              "  <tbody>\n",
              "    <tr>\n",
              "      <th>0</th>\n",
              "      <td>rubber to remove In mathematics, the natural n...</td>\n",
              "      <td>gomma per smacchiare</td>\n",
              "      <td>image.3.jpg</td>\n",
              "      <td>-0.393628</td>\n",
              "      <td>-0.122322</td>\n",
              "      <td>-0.271306</td>\n",
              "    </tr>\n",
              "    <tr>\n",
              "      <th>1</th>\n",
              "      <td>rubber to remove In mathematics, the natural n...</td>\n",
              "      <td>gomma per smacchiare</td>\n",
              "      <td>image.7.jpg</td>\n",
              "      <td>-0.845465</td>\n",
              "      <td>0.871807</td>\n",
              "      <td>-1.717272</td>\n",
              "    </tr>\n",
              "    <tr>\n",
              "      <th>2</th>\n",
              "      <td>rubber to remove In mathematics, the natural n...</td>\n",
              "      <td>gomma per smacchiare</td>\n",
              "      <td>image.8.jpg</td>\n",
              "      <td>-0.773296</td>\n",
              "      <td>0.536349</td>\n",
              "      <td>-1.309645</td>\n",
              "    </tr>\n",
              "    <tr>\n",
              "      <th>3</th>\n",
              "      <td>rubber to remove In mathematics, the natural n...</td>\n",
              "      <td>gomma per smacchiare</td>\n",
              "      <td>image.1.jpg</td>\n",
              "      <td>-0.828886</td>\n",
              "      <td>0.842006</td>\n",
              "      <td>-1.670892</td>\n",
              "    </tr>\n",
              "    <tr>\n",
              "      <th>4</th>\n",
              "      <td>rubber to remove In mathematics, the natural n...</td>\n",
              "      <td>gomma per smacchiare</td>\n",
              "      <td>image.9.jpg</td>\n",
              "      <td>-0.601288</td>\n",
              "      <td>0.200237</td>\n",
              "      <td>-0.801525</td>\n",
              "    </tr>\n",
              "  </tbody>\n",
              "</table>\n",
              "</div>\n",
              "      <button class=\"colab-df-convert\" onclick=\"convertToInteractive('df-ebb77022-6455-4a07-80b1-dde10911fc89')\"\n",
              "              title=\"Convert this dataframe to an interactive table.\"\n",
              "              style=\"display:none;\">\n",
              "        \n",
              "  <svg xmlns=\"http://www.w3.org/2000/svg\" height=\"24px\"viewBox=\"0 0 24 24\"\n",
              "       width=\"24px\">\n",
              "    <path d=\"M0 0h24v24H0V0z\" fill=\"none\"/>\n",
              "    <path d=\"M18.56 5.44l.94 2.06.94-2.06 2.06-.94-2.06-.94-.94-2.06-.94 2.06-2.06.94zm-11 1L8.5 8.5l.94-2.06 2.06-.94-2.06-.94L8.5 2.5l-.94 2.06-2.06.94zm10 10l.94 2.06.94-2.06 2.06-.94-2.06-.94-.94-2.06-.94 2.06-2.06.94z\"/><path d=\"M17.41 7.96l-1.37-1.37c-.4-.4-.92-.59-1.43-.59-.52 0-1.04.2-1.43.59L10.3 9.45l-7.72 7.72c-.78.78-.78 2.05 0 2.83L4 21.41c.39.39.9.59 1.41.59.51 0 1.02-.2 1.41-.59l7.78-7.78 2.81-2.81c.8-.78.8-2.07 0-2.86zM5.41 20L4 18.59l7.72-7.72 1.47 1.35L5.41 20z\"/>\n",
              "  </svg>\n",
              "      </button>\n",
              "      \n",
              "  <style>\n",
              "    .colab-df-container {\n",
              "      display:flex;\n",
              "      flex-wrap:wrap;\n",
              "      gap: 12px;\n",
              "    }\n",
              "\n",
              "    .colab-df-convert {\n",
              "      background-color: #E8F0FE;\n",
              "      border: none;\n",
              "      border-radius: 50%;\n",
              "      cursor: pointer;\n",
              "      display: none;\n",
              "      fill: #1967D2;\n",
              "      height: 32px;\n",
              "      padding: 0 0 0 0;\n",
              "      width: 32px;\n",
              "    }\n",
              "\n",
              "    .colab-df-convert:hover {\n",
              "      background-color: #E2EBFA;\n",
              "      box-shadow: 0px 1px 2px rgba(60, 64, 67, 0.3), 0px 1px 3px 1px rgba(60, 64, 67, 0.15);\n",
              "      fill: #174EA6;\n",
              "    }\n",
              "\n",
              "    [theme=dark] .colab-df-convert {\n",
              "      background-color: #3B4455;\n",
              "      fill: #D2E3FC;\n",
              "    }\n",
              "\n",
              "    [theme=dark] .colab-df-convert:hover {\n",
              "      background-color: #434B5C;\n",
              "      box-shadow: 0px 1px 3px 1px rgba(0, 0, 0, 0.15);\n",
              "      filter: drop-shadow(0px 1px 2px rgba(0, 0, 0, 0.3));\n",
              "      fill: #FFFFFF;\n",
              "    }\n",
              "  </style>\n",
              "\n",
              "      <script>\n",
              "        const buttonEl =\n",
              "          document.querySelector('#df-ebb77022-6455-4a07-80b1-dde10911fc89 button.colab-df-convert');\n",
              "        buttonEl.style.display =\n",
              "          google.colab.kernel.accessAllowed ? 'block' : 'none';\n",
              "\n",
              "        async function convertToInteractive(key) {\n",
              "          const element = document.querySelector('#df-ebb77022-6455-4a07-80b1-dde10911fc89');\n",
              "          const dataTable =\n",
              "            await google.colab.kernel.invokeFunction('convertToInteractive',\n",
              "                                                     [key], {});\n",
              "          if (!dataTable) return;\n",
              "\n",
              "          const docLinkHtml = 'Like what you see? Visit the ' +\n",
              "            '<a target=\"_blank\" href=https://colab.research.google.com/notebooks/data_table.ipynb>data table notebook</a>'\n",
              "            + ' to learn more about interactive tables.';\n",
              "          element.innerHTML = '';\n",
              "          dataTable['output_type'] = 'display_data';\n",
              "          await google.colab.output.renderOutput(dataTable, element);\n",
              "          const docLink = document.createElement('div');\n",
              "          docLink.innerHTML = docLinkHtml;\n",
              "          element.appendChild(docLink);\n",
              "        }\n",
              "      </script>\n",
              "    </div>\n",
              "  </div>\n",
              "  "
            ]
          },
          "metadata": {},
          "execution_count": 47
        }
      ]
    },
    {
      "cell_type": "code",
      "source": [
        "test_df.isna().sum()"
      ],
      "metadata": {
        "colab": {
          "base_uri": "https://localhost:8080/"
        },
        "id": "WaNtAFXk1FVn",
        "outputId": "fa75a7e7-3bb3-41ba-8728-17886621cdd4"
      },
      "execution_count": null,
      "outputs": [
        {
          "output_type": "execute_result",
          "data": {
            "text/plain": [
              "text          0\n",
              "image         0\n",
              "pred_true     0\n",
              "pred_false    0\n",
              "certainty     0\n",
              "dtype: int64"
            ]
          },
          "metadata": {},
          "execution_count": 165
        }
      ]
    },
    {
      "cell_type": "code",
      "source": [
        "texts = list(test_df['orig_phrase'].unique())\n",
        "file_path = f'/content/drive/MyDrive/UR/NLE Seminar/code/predictions/{model_name}/prediction_{lang}.txt'\n",
        "\n",
        "with open(file_path, 'a') as fout:\n",
        "  for text in texts:\n",
        "    img_list = test_df[\n",
        "        test_df['orig_phrase'] == text\n",
        "        ].sort_values(\n",
        "        by='certainty', ascending=False)['image'].to_list()\n",
        "    if len(img_list) != 10:\n",
        "      print(img_list)\n",
        "    fout.write('\\t'.join(img_list) + '\\n')"
      ],
      "metadata": {
        "id": "c_6c2DQe3QEc"
      },
      "execution_count": 48,
      "outputs": []
    },
    {
      "cell_type": "markdown",
      "source": [
        "## Evaluate predictions\n",
        "Visual-WSD organizers' official evaluation function"
      ],
      "metadata": {
        "id": "TLuffvksRfFP"
      }
    },
    {
      "cell_type": "code",
      "source": [
        "from statistics import mean"
      ],
      "metadata": {
        "id": "IQ4e0wCRRh7R"
      },
      "execution_count": 28,
      "outputs": []
    },
    {
      "cell_type": "code",
      "source": [
        "def get_metric(prediction, gold_ranking):\n",
        "    \"\"\" Get MRR and HIT Rate\n",
        "    >>> p = [['a', 'b', 'c'], ['a', 'b', 'c'], ['a', 'b', 'c', 'd']]\n",
        "    >>> r = ['a', 'b', 'c']\n",
        "    >>> mrr_score, hit_score = get_metric(p, r)\n",
        "    >>> mrr_score\n",
        "    0.611\n",
        "    >>> hit_score\n",
        "    0.333\n",
        "    \"\"\"\n",
        "    assert all(len(set(p)) == len(p) for p in prediction), prediction\n",
        "    assert all(r in p for p, r in zip(prediction, gold_ranking)), list(zip(prediction, gold_ranking))\n",
        "    mrr = mean(1/(p.index(r) + 1) for p, r in zip(prediction, gold_ranking))\n",
        "    hit = mean(p.index(r) == 0 for p, r in zip(prediction, gold_ranking))\n",
        "    return mrr, hit"
      ],
      "metadata": {
        "id": "5JfzkXT0Rg3M"
      },
      "execution_count": 29,
      "outputs": []
    },
    {
      "cell_type": "code",
      "source": [
        "r = ['a', 'b', 'c']\n",
        "p = [['a', 'b', 'c'], ['a', 'b', 'c'], ['a', 'b', 'c', 'd']]\n",
        "mrr_score, hit_score = get_metric(p, r)\n",
        "mrr_score, hit_score"
      ],
      "metadata": {
        "colab": {
          "base_uri": "https://localhost:8080/"
        },
        "id": "65ZXgBMyT6de",
        "outputId": "ee4fe9b4-857c-4ba0-a273-581434e7ef50"
      },
      "execution_count": null,
      "outputs": [
        {
          "output_type": "execute_result",
          "data": {
            "text/plain": [
              "(0.6111111111111112, 0.3333333333333333)"
            ]
          },
          "metadata": {},
          "execution_count": 47
        }
      ]
    },
    {
      "cell_type": "markdown",
      "source": [
        "Read predictions and gold ranking"
      ],
      "metadata": {
        "id": "Ri8hffqhY_4Q"
      }
    },
    {
      "cell_type": "code",
      "source": [
        "predictions = pd.read_csv(\n",
        "    f'/content/drive/MyDrive/UR/NLE Seminar/code/predictions/{model_name}/prediction_{lang}.txt',\n",
        "    sep='\\t', header=None)\n",
        "predictions = predictions.to_numpy().tolist()"
      ],
      "metadata": {
        "id": "K2cqWbPtXdyb"
      },
      "execution_count": 49,
      "outputs": []
    },
    {
      "cell_type": "code",
      "source": [
        "gold_ranking = pd.read_csv(\n",
        "    '/content/drive/MyDrive/UR/NLE Seminar/code/data/test.data/gold labels/it.test.gold.v1.1.txt',\n",
        "     header=None)\n",
        "gold_ranking = gold_ranking[0].to_list()"
      ],
      "metadata": {
        "id": "vTP2KefcYH_K"
      },
      "execution_count": 51,
      "outputs": []
    },
    {
      "cell_type": "code",
      "source": [
        "!ls '/content/drive/MyDrive/UR/NLE Seminar/code/data/test.data/gold labels'"
      ],
      "metadata": {
        "colab": {
          "base_uri": "https://localhost:8080/"
        },
        "id": "dCsDmXCE-lcm",
        "outputId": "93b0a8a2-5863-4cd3-d142-81f5929064af"
      },
      "execution_count": null,
      "outputs": [
        {
          "output_type": "stream",
          "name": "stdout",
          "text": [
            "en.test.gold.v1.1.txt  fa.test.gold.txt  it.test.gold.v1.1.txt\n"
          ]
        }
      ]
    },
    {
      "cell_type": "markdown",
      "source": [
        "Compute scores"
      ],
      "metadata": {
        "id": "EwsuoUX6aH0w"
      }
    },
    {
      "cell_type": "code",
      "source": [
        "mrr_score, hit_rate_at_1 = get_metric(predictions, gold_ranking)\n",
        "print(f'MRR: {mrr_score * 100}\\nHit rate @ 1: {hit_rate_at_1 * 100}')"
      ],
      "metadata": {
        "colab": {
          "base_uri": "https://localhost:8080/"
        },
        "id": "68ctj5KJZFpN",
        "outputId": "dcf22b01-a400-4244-f678-9c24135c1d7b"
      },
      "execution_count": 52,
      "outputs": [
        {
          "output_type": "stream",
          "name": "stdout",
          "text": [
            "MRR: 22.695290137913087\n",
            "Hit rate @ 1: 3.934426229508197\n"
          ]
        }
      ]
    },
    {
      "cell_type": "code",
      "source": [
        "lang"
      ],
      "metadata": {
        "colab": {
          "base_uri": "https://localhost:8080/",
          "height": 35
        },
        "id": "cIxRswizxfeV",
        "outputId": "c6acac8f-0d4b-4515-b07f-0ff9dfa73144"
      },
      "execution_count": null,
      "outputs": [
        {
          "output_type": "execute_result",
          "data": {
            "text/plain": [
              "'fa'"
            ],
            "application/vnd.google.colaboratory.intrinsic+json": {
              "type": "string"
            }
          },
          "metadata": {},
          "execution_count": 99
        }
      ]
    }
  ]
}